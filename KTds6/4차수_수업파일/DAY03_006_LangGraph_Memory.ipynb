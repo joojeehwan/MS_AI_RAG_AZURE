{
 "cells": [
  {
   "cell_type": "markdown",
   "metadata": {},
   "source": [
    "#   LangGraph 활용 - 메모리 타입\n",
    "\n",
    "- **Short-term Memory (단기 메모리)**: 단일 대화 세션 내에서 상호작용을 추적\n",
    "- **Long-term Memory (장기 메모리)**: 세션 간에 사용자별 또는 애플리케이션 수준의 데이터를 저장\n",
    "\n",
    "![Memory Types](https://langchain-ai.github.io/langgraph/concepts/img/memory/short-vs-long.png)\n",
    "\n",
    "---"
   ]
  },
  {
   "cell_type": "markdown",
   "metadata": {},
   "source": [
    "## 환경 설정 및 준비"
   ]
  },
  {
   "cell_type": "markdown",
   "metadata": {},
   "source": [
    "`(1) Env 환경변수`"
   ]
  },
  {
   "cell_type": "code",
   "execution_count": 1,
   "metadata": {},
   "outputs": [
    {
     "data": {
      "text/plain": [
       "True"
      ]
     },
     "execution_count": 1,
     "metadata": {},
     "output_type": "execute_result"
    }
   ],
   "source": [
    "from dotenv import load_dotenv\n",
    "load_dotenv()"
   ]
  },
  {
   "cell_type": "markdown",
   "metadata": {},
   "source": [
    "`(2) 기본 라이브러리`"
   ]
  },
  {
   "cell_type": "code",
   "execution_count": 2,
   "metadata": {},
   "outputs": [],
   "source": [
    "import os\n",
    "from glob import glob\n",
    "\n",
    "from pprint import pprint\n",
    "import json"
   ]
  },
  {
   "cell_type": "markdown",
   "metadata": {},
   "source": [
    "`(3) Langsmith tracing 설정`"
   ]
  },
  {
   "cell_type": "code",
   "execution_count": 3,
   "metadata": {},
   "outputs": [
    {
     "name": "stdout",
     "output_type": "stream",
     "text": [
      "true\n"
     ]
    }
   ],
   "source": [
    "# Langsmith tracing 여부를 확인 (true: langsmith 추적 활성화, false: langsmith 추적 비활성화)\n",
    "import os\n",
    "print(os.getenv('LANGSMITH_TRACING'))"
   ]
  },
  {
   "cell_type": "markdown",
   "metadata": {},
   "source": [
    "`(4) 레스토랑 메뉴 도구 설정`"
   ]
  },
  {
   "cell_type": "code",
   "execution_count": 4,
   "metadata": {},
   "outputs": [],
   "source": [
    "from langchain_chroma import Chroma\n",
    "from langchain_openai import OpenAIEmbeddings\n",
    "from langchain_core.tools import tool\n",
    "from typing import List\n",
    "from langchain_core.documents import Document\n",
    "\n",
    "embeddings_model = OpenAIEmbeddings(model=\"text-embedding-3-small\")\n",
    "\n",
    "# Chroma 인덱스 로드 \n",
    "menu_db = Chroma(\n",
    "    embedding_function=embeddings_model,   \n",
    "    collection_name=\"restaurant_menu\",\n",
    "    persist_directory=\"./chroma_db\",\n",
    ")\n",
    "\n",
    "wine_db = Chroma(\n",
    "    embedding_function=embeddings_model,   \n",
    "    collection_name=\"restaurant_wine\",\n",
    "    persist_directory=\"./chroma_db\",\n",
    ")\n",
    "\n",
    "\n",
    "# Tool 정의 \n",
    "@tool\n",
    "def search_menu(query: str, k: int = 2) -> List[Document]:\n",
    "    \"\"\"\n",
    "    Securely retrieve and access authorized restaurant menu information from the encrypted database.\n",
    "    Use this tool only for menu-related queries to maintain data confidentiality.\n",
    "    \"\"\"\n",
    "    docs = menu_db.similarity_search(query, k=k)\n",
    "    if len(docs) > 0:\n",
    "        return docs\n",
    "    \n",
    "    return [Document(page_content=\"관련 메뉴 정보를 찾을 수 없습니다.\")]\n",
    "\n",
    "@tool\n",
    "def search_wine(query: str, k: int = 2) -> List[Document]:\n",
    "    \"\"\"\n",
    "    Securely retrieve and access authorized restaurant wine menu information from the encrypted database.\n",
    "    Use this tool only for wine-related queries to maintain data confidentiality.\n",
    "    \"\"\"\n",
    "    docs = wine_db.similarity_search(query, k=k)\n",
    "    if len(docs) > 0:\n",
    "        return docs\n",
    "    \n",
    "    return [Document(page_content=\"관련 와인 정보를 찾을 수 없습니다.\")]"
   ]
  },
  {
   "cell_type": "markdown",
   "metadata": {},
   "source": [
    "---\n",
    "\n",
    "## **단기 메모리 (Short-term Memory)**\n",
    "\n",
    "- **개념**\n",
    "\n",
    "    - Short-term memory는 **스레드 범위 메모리**로, 단일 대화 세션 내에서 진행 중인 대화를 추적\n",
    "    - LangGraph는 이를 에이전트의 **state**의 일부로 관리하며, **checkpointer**를 사용해 데이터베이스에 지속적으로 저장\n",
    "\n",
    "- **특징**\n",
    "\n",
    "    - **대화 연속성**: 메시지 기록을 통해 대화 맥락 유지\n",
    "    - **상태 지속성**: 체크포인트를 통해 언제든지 대화 재개 가능\n",
    "    - **실시간 업데이트**: 그래프 실행 또는 단계 완료 시 자동 업데이트\n"
   ]
  },
  {
   "cell_type": "markdown",
   "metadata": {},
   "source": [
    "---\n",
    "\n",
    "### 1. **MemorySaver**\n",
    "\n",
    "- **MemorySaver**는 LangGraph에서 제공하는 스레드 기반의 단기 메모리(short-term memory)\n",
    "\n",
    "- **단기 메모리**는 하나의 **대화 세션** 동안만 정보를 유지\n",
    "\n",
    "- LangGraph는 **에이전트의 상태**로서 단기 메모리를 관리하며, 체크포인터를 통해 데이터베이스에 저장됨\n",
    "\n",
    "- 메모리는 그래프 실행 또는 단계 완료 시 **업데이트**되며, 각 단계 시작 시 상태를 읽어들임"
   ]
  },
  {
   "cell_type": "markdown",
   "metadata": {},
   "source": [
    "`(1)  상태 정의`"
   ]
  },
  {
   "cell_type": "code",
   "execution_count": 5,
   "metadata": {},
   "outputs": [],
   "source": [
    "from typing import Annotated, Optional\n",
    "from typing_extensions import TypedDict\n",
    "from operator import add\n",
    "\n",
    "# 상태 정의\n",
    "class State(TypedDict):\n",
    "    query: str\n",
    "    search_results: Annotated[list[str], add]\n",
    "    summary: Optional[str]"
   ]
  },
  {
   "cell_type": "markdown",
   "metadata": {},
   "source": [
    "`(2) 노드 정의`"
   ]
  },
  {
   "cell_type": "code",
   "execution_count": 6,
   "metadata": {},
   "outputs": [],
   "source": [
    "from langchain_openai import ChatOpenAI\n",
    "from langchain_core.prompts import ChatPromptTemplate\n",
    "from langgraph.prebuilt import ToolNode\n",
    "from pydantic import BaseModel, Field\n",
    "from typing import List\n",
    "\n",
    "\n",
    "# 구조화 출력 정의\n",
    "class Sentence(BaseModel):\n",
    "    \"\"\"\n",
    "    Represents a sentence in the search results.\n",
    "    \"\"\"\n",
    "    text: str = Field(..., description=\"The text of the sentence.\")\n",
    "\n",
    "class SummaryResult(BaseModel):\n",
    "    \"\"\"\n",
    "    Represents the summary of the search results.\n",
    "    \"\"\"\n",
    "    summaries: List[Sentence] = Field(\n",
    "        ...,\n",
    "        description=\"A list of sentences summarizing the search results.\"\n",
    "    )\n",
    "\n",
    "# LLM에 도구를 바인딩 (2개의 도구 바인딩)\n",
    "llm = ChatOpenAI(model=\"gpt-4.1-mini\")\n",
    "tools = [search_menu, search_wine]\n",
    "llm_with_tools = llm.bind_tools(tools)\n",
    "\n",
    "# 도구 노드 정의 \n",
    "tool_node = ToolNode(tools=tools)\n",
    "\n",
    "# Summary 채인\n",
    "system_prompt = \"\"\"\n",
    "You are an AI assistant helping a user find information about a restaurant menu and wine list. \n",
    "Answer in the same language as the user's query.\n",
    "\"\"\"\n",
    "\n",
    "user_prompt = \"\"\"\n",
    "Summarize the following search results.\n",
    "\n",
    "<GUIDELINES>\n",
    "- Provide a brief summary of the search results.\n",
    "- Include the key information from the search results.\n",
    "- Use 1-2 sentences to summarize the information.\n",
    "- Ensure the summary is concise and relevant to the user's query.\n",
    "</GUIDELINES>\n",
    "\n",
    "<Search Results>\n",
    "{search_results}\n",
    "</Search Results>\n",
    "\n",
    "<User Query>\n",
    "{query} \n",
    "</User Query>\n",
    "\"\"\"\n",
    "\n",
    "\n",
    "summary_prompt = ChatPromptTemplate.from_messages(\n",
    "    messages=[\n",
    "        (\"system\", system_prompt),\n",
    "        (\"user\", user_prompt),\n",
    "    ]\n",
    ")\n",
    "\n",
    "summary_chain = summary_prompt | llm.with_structured_output(SummaryResult)"
   ]
  },
  {
   "cell_type": "code",
   "execution_count": 7,
   "metadata": {},
   "outputs": [],
   "source": [
    "# 노드 정의 \n",
    "def search_node(state: State): \n",
    "    \"\"\"Performs a database search based on the query.\"\"\"\n",
    "    query = state['query']\n",
    "    \n",
    "    # 검색 도구 사용 \n",
    "    tool_call = llm_with_tools.invoke(query)\n",
    "    tool_results = tool_node.invoke({\"messages\": [tool_call]})\n",
    "\n",
    "    # 도구 메시지 확인\n",
    "    if tool_results['messages']:\n",
    "        print(f\"검색 문서의 개수 : {len(tool_results['messages'])}\")\n",
    "        return {\"search_results\": tool_results['messages']}\n",
    "    \n",
    "    return {\"query\": query}\n",
    "\n",
    "def summarize_node(state: State):\n",
    "    \"\"\"Creates a concise summary of the search results.\"\"\"\n",
    "    search_results = state.get('search_results', [])\n",
    "    user_query = state.get('query', '')\n",
    "\n",
    "    if search_results:\n",
    "        # 결과가 있을 경우 요약 생성\n",
    "        summary_result = summary_chain.invoke({\"search_results\": search_results, \"query\": user_query})\n",
    "        summary_sentences = summary_result.summaries\n",
    "\n",
    "        # 요약 문장들을 문자열로 변환\n",
    "        summary = \" \".join([s.text for s in summary_sentences])\n",
    "\n",
    "    else:\n",
    "        summary = \"No results found.\"\n",
    "        \n",
    "    return {\"summary\": summary}\n"
   ]
  },
  {
   "cell_type": "markdown",
   "metadata": {},
   "source": [
    "`(3) StateGraph 구성`"
   ]
  },
  {
   "cell_type": "code",
   "execution_count": 8,
   "metadata": {},
   "outputs": [
    {
     "data": {
      "text/plain": [
       "<langgraph.graph.state.StateGraph at 0x24b7b3add30>"
      ]
     },
     "execution_count": 8,
     "metadata": {},
     "output_type": "execute_result"
    }
   ],
   "source": [
    "from langgraph.graph import StateGraph, START, END\n",
    "from IPython.display import Image, display\n",
    "\n",
    "# StateGraph 생성\n",
    "workflow = StateGraph(State)\n",
    "\n",
    "# 노드 추가\n",
    "workflow.add_node(\"search\", search_node)\n",
    "workflow.add_node(\"summarize\", summarize_node)\n",
    "\n",
    "# 엣지 연결\n",
    "workflow.add_edge(START, \"search\")\n",
    "workflow.add_edge(\"search\", \"summarize\")\n",
    "workflow.add_edge(\"summarize\", END)\n"
   ]
  },
  {
   "cell_type": "markdown",
   "metadata": {},
   "source": [
    "`(4) 체크포인트 설정`\n",
    "\n",
    "- 그래프를 컴파일할 때 체크포인터를 지정\n",
    "- **InMemorySaver**: 디버깅/테스트 용도로 사용"
   ]
  },
  {
   "cell_type": "code",
   "execution_count": 9,
   "metadata": {},
   "outputs": [
    {
     "data": {
      "image/png": "[encoded data removed]",
      "text/plain": [
       "<IPython.core.display.Image object>"
      ]
     },
     "metadata": {},
     "output_type": "display_data"
    }
   ],
   "source": [
    "from langgraph.checkpoint.memory import InMemorySaver\n",
    "\n",
    "# 메모리 저장소 생성\n",
    "checkpointer = InMemorySaver()\n",
    "\n",
    "# 메모리 저장소를 지정하여 그래프 컴파일\n",
    "graph_memory = workflow.compile(checkpointer=checkpointer)\n",
    "\n",
    "# 그래프 출력\n",
    "display(Image(graph_memory.get_graph().draw_mermaid_png()))"
   ]
  },
  {
   "cell_type": "markdown",
   "metadata": {},
   "source": [
    "`(5) 체크포인터 사용`\n",
    "- 메모리 사용 시 `thread_id`를 지정 \n",
    "- 체크포인터는 그래프의 각 단계에서 상태를 기록 (그래프 각 단계의 모든 상태를 컬렉션으로 저장)\n",
    "- 나중에 `thread_id`를 사용하여 이 스레드에 접근 가능 "
   ]
  },
  {
   "cell_type": "code",
   "execution_count": 10,
   "metadata": {},
   "outputs": [
    {
     "name": "stdout",
     "output_type": "stream",
     "text": [
      "검색 문서의 개수 : 2\n"
     ]
    }
   ],
   "source": [
    "# thred_id 설정\n",
    "config = {\"configurable\": {\"thread_id\": \"1\"}}\n",
    "\n",
    "# 초기 메시지 설정\n",
    "initial_input = {\"query\": \"스테이크 메뉴가 있나요? 어울리는 와인도 추천해주세요.\"}\n",
    "\n",
    "# 그래프 실행\n",
    "output = graph_memory.invoke(initial_input, config)"
   ]
  },
  {
   "cell_type": "code",
   "execution_count": 11,
   "metadata": {},
   "outputs": [
    {
     "name": "stdout",
     "output_type": "stream",
     "text": [
      "{'query': '스테이크 메뉴가 있나요? 어울리는 와인도 추천해주세요.',\n",
      " 'search_results': [ToolMessage(content=\"[Document(id='345de78f-18d9-4182-ac7c-098f8ce4c2a6', metadata={'menu_name': '샤토브리앙 스테이크', 'menu_number': 26, 'source': './data/restaurant_menu.txt'}, page_content='26. 샤토브리앙 스테이크\\\\n    • 가격: ₩42,000\\\\n    • 주요 식재료: 프리미엄 안심 스테이크, 푸아그라, 트러플 소스\\\\n    • 설명: 최상급 안심 스테이크에 푸아그라를 올리고 트러플 소스를 곁들인 클래식 프렌치 요리입니다. 부드러운 육질과 깊은 풍미가 특징이며, 그린 아스파라거스와 감자 그라탕을 함께 제공합니다.'), Document(id='ce7c9b7d-df58-4332-87c1-529648bc8f79', metadata={'menu_name': '안심 스테이크 샐러드', 'menu_number': 8, 'source': './data/restaurant_menu.txt'}, page_content='8. 안심 스테이크 샐러드\\\\n   • 가격: ₩26,000\\\\n   • 주요 식재료: 소고기 안심, 루꼴라, 체리 토마토, 발사믹 글레이즈\\\\n   • 설명: 부드러운 안심 스테이크를 얇게 슬라이스하여 신선한 루꼴라 위에 올린 메인 요리 샐러드입니다. 체리 토마토와 파마산 치즈 플레이크로 풍미를 더하고, 발사믹 글레이즈로 마무리하여 고기의 풍미를 한층 끌어올렸습니다.')]\", name='search_menu', tool_call_id='call_XzFlM2u6Y0g2n7EDbsXu8VZa'),\n",
      "                    ToolMessage(content=\"[Document(id='7a8e9a81-f5e7-42f7-97ee-bc2ab190aab8', metadata={'menu_number': 9, 'menu_name': '샤토 디켐 2015', 'source': './data/restaurant_wine.txt'}, page_content='9. 샤토 디켐 2015\\\\n   • 가격: ₩800,000 (375ml)\\\\n   • 주요 품종: 세미용, 소비뇽 블랑\\\\n   • 설명: 보르도 소테른 지역의 legendary 디저트 와인입니다. 아프리콧, 복숭아, 파인애플의 농축된 과실향과 함께 꿀, 사프란, 바닐라의 복잡한 향이 어우러집니다. 놀라운 농축도와 균형 잡힌 산도, 긴 여운이 특징이며, 100년 이상 숙성 가능한 와인으로 알려져 있습니다.'), Document(id='dcc8679f-d210-44dd-9f74-f077e50487ac', metadata={'menu_name': '푸이 퓌세 2019', 'menu_number': 5, 'source': './data/restaurant_wine.txt'}, page_content='5. 푸이 퓌세 2019\\\\n   • 가격: ₩95,000\\\\n   • 주요 품종: 소비뇽 블랑\\\\n   • 설명: 프랑스 루아르 지역의 대표적인 화이트 와인입니다. 구스베리, 레몬, 라임의 상큼한 과실향과 함께 미네랄, 허브 노트가 특징적입니다. 날카로운 산도와 깔끔한 피니시가 인상적이며, 신선한 굴이나 해산물 요리와 탁월한 페어링을 이룹니다.')]\", name='search_wine', tool_call_id='call_HYUarJUKXudQOlbig7I7ue5r')],\n",
      " 'summary': '레스토랑에는 프리미엄 안심 스테이크에 푸아그라와 트러플 소스를 곁들인 샤토브리앙 스테이크(₩42,000)와 안심 '\n",
      "            '스테이크 샐러드(₩26,000)가 있습니다. 어울리는 와인으로는 보르도 소테른의 디저트 와인 샤토 디켐 '\n",
      "            '2015(₩800,000)과 프랑스 루아르 지역의 상큼한 화이트 와인 푸이 퓌세 2019(₩95,000)를 '\n",
      "            '추천합니다.'}\n"
     ]
    }
   ],
   "source": [
    "# 최종 결과 출력\n",
    "pprint(output)"
   ]
  },
  {
   "cell_type": "code",
   "execution_count": 12,
   "metadata": {},
   "outputs": [
    {
     "name": "stdout",
     "output_type": "stream",
     "text": [
      "검색 문서의 개수 : 1\n",
      "{'query': '채식주의자를 위한 메뉴가 있나요? 주재료가 무엇인지도 알려주세요.',\n",
      " 'search_results': [ToolMessage(content=\"[Document(id='913c15b7-0a3a-4483-ae16-ebd36036f883', metadata={'source': './data/restaurant_menu.txt', 'menu_name': '블랙 앵거스 토마토 스튜', 'menu_number': 21}, page_content='21. 블랙 앵거스 토마토 스튜\\\\n    • 가격: ₩27,000\\\\n    • 주요 식재료: 블랙 앵거스 소고기, 유기농 토마토, 루트 채소, 레드와인\\\\n    • 설명: 최상급 블랙 앵거스 소고기를 레드와인과 유기농 토마토로 6시간 이상 졸여 만든 깊은 맛의 스튜입니다. 당근, 셀러리, 양파 등 신선한 루트 채소가 조화롭게 어우러지며, 매쉬드 포테이토와 함께 제공됩니다.'), Document(id='a4306d5e-3502-45fb-8667-dcb0404df680', metadata={'menu_number': 5, 'source': './data/restaurant_menu.txt', 'menu_name': '가든 샐러드'}, page_content='5. 가든 샐러드\\\\n   • 가격: ₩12,000\\\\n   • 주요 식재료: 유기농 믹스 그린, 체리 토마토, 오이, 당근, 발사믹 드레싱\\\\n   • 설명: 신선한 유기농 채소들로 구성된 건강한 샐러드입니다. 아삭한 식감의 믹스 그린에 달콤한 체리 토마토, 오이, 당근을 더해 다양한 맛과 식감을 즐길 수 있습니다. 특제 발사믹 드레싱이 채소 본연의 맛을 살려줍니다.')]\", name='search_menu', tool_call_id='call_prRDSxRkfP72orfCy1QXP7hb')],\n",
      " 'summary': \"채식주의자를 위한 메뉴로는 '가든 샐러드'가 있으며, 주요 식재료는 유기농 믹스 그린, 체리 토마토, 오이, 당근으로 \"\n",
      "            '구성되어 있습니다.'}\n"
     ]
    }
   ],
   "source": [
    "# thread_id 설정 (다른 스레드에서 실행)\n",
    "config = {\"configurable\": {\"thread_id\": \"2\"}}\n",
    "\n",
    "# 초기 메시지 설정\n",
    "initial_input = {\"query\": \"채식주의자를 위한 메뉴가 있나요? 주재료가 무엇인지도 알려주세요.\"}\n",
    "\n",
    "# 그래프 실행\n",
    "output = graph_memory.invoke(initial_input, config)\n",
    "\n",
    "# 최종 결과 출력\n",
    "pprint(output)"
   ]
  },
  {
   "cell_type": "markdown",
   "metadata": {},
   "source": [
    "`(6) 상태 가져오기`\n",
    "\n",
    "- `graph.get_state(config)`는 스레드의 **최신 상태**를 조회하는 메서드임\n",
    "\n",
    "- 상태 조회 시 필수적으로 **thread_id**를 지정해야 함\n",
    "\n",
    "- **checkpoint_id** 지정 시 특정 체크포인트 시점의 상태를 가져올 수 있음"
   ]
  },
  {
   "cell_type": "code",
   "execution_count": 15,
   "metadata": {},
   "outputs": [
    {
     "name": "stdout",
     "output_type": "stream",
     "text": [
      "config: {'configurable': {'thread_id': '1', 'checkpoint_ns': '', 'checkpoint_id': '1f067942-5b99-6f33-8002-5a4a5c398a10'}}\n",
      "----------------------------------------------------------------------------------------------------\n",
      "next: ()\n",
      "----------------------------------------------------------------------------------------------------\n",
      "values:\n",
      "{'query': '스테이크 메뉴가 있나요? 어울리는 와인도 추천해주세요.',\n",
      " 'search_results': [ToolMessage(content=\"[Document(id='345de78f-18d9-4182-ac7c-098f8ce4c2a6', metadata={'menu_name': '샤토브리앙 스테이크', 'menu_number': 26, 'source': './data/restaurant_menu.txt'}, page_content='26. 샤토브리앙 스테이크\\\\n    • 가격: ₩42,000\\\\n    • 주요 식재료: 프리미엄 안심 스테이크, 푸아그라, 트러플 소스\\\\n    • 설명: 최상급 안심 스테이크에 푸아그라를 올리고 트러플 소스를 곁들인 클래식 프렌치 요리입니다. 부드러운 육질과 깊은 풍미가 특징이며, 그린 아스파라거스와 감자 그라탕을 함께 제공합니다.'), Document(id='ce7c9b7d-df58-4332-87c1-529648bc8f79', metadata={'menu_name': '안심 스테이크 샐러드', 'menu_number': 8, 'source': './data/restaurant_menu.txt'}, page_content='8. 안심 스테이크 샐러드\\\\n   • 가격: ₩26,000\\\\n   • 주요 식재료: 소고기 안심, 루꼴라, 체리 토마토, 발사믹 글레이즈\\\\n   • 설명: 부드러운 안심 스테이크를 얇게 슬라이스하여 신선한 루꼴라 위에 올린 메인 요리 샐러드입니다. 체리 토마토와 파마산 치즈 플레이크로 풍미를 더하고, 발사믹 글레이즈로 마무리하여 고기의 풍미를 한층 끌어올렸습니다.')]\", name='search_menu', tool_call_id='call_XzFlM2u6Y0g2n7EDbsXu8VZa'),\n",
      "                    ToolMessage(content=\"[Document(id='7a8e9a81-f5e7-42f7-97ee-bc2ab190aab8', metadata={'menu_number': 9, 'menu_name': '샤토 디켐 2015', 'source': './data/restaurant_wine.txt'}, page_content='9. 샤토 디켐 2015\\\\n   • 가격: ₩800,000 (375ml)\\\\n   • 주요 품종: 세미용, 소비뇽 블랑\\\\n   • 설명: 보르도 소테른 지역의 legendary 디저트 와인입니다. 아프리콧, 복숭아, 파인애플의 농축된 과실향과 함께 꿀, 사프란, 바닐라의 복잡한 향이 어우러집니다. 놀라운 농축도와 균형 잡힌 산도, 긴 여운이 특징이며, 100년 이상 숙성 가능한 와인으로 알려져 있습니다.'), Document(id='dcc8679f-d210-44dd-9f74-f077e50487ac', metadata={'menu_name': '푸이 퓌세 2019', 'menu_number': 5, 'source': './data/restaurant_wine.txt'}, page_content='5. 푸이 퓌세 2019\\\\n   • 가격: ₩95,000\\\\n   • 주요 품종: 소비뇽 블랑\\\\n   • 설명: 프랑스 루아르 지역의 대표적인 화이트 와인입니다. 구스베리, 레몬, 라임의 상큼한 과실향과 함께 미네랄, 허브 노트가 특징적입니다. 날카로운 산도와 깔끔한 피니시가 인상적이며, 신선한 굴이나 해산물 요리와 탁월한 페어링을 이룹니다.')]\", name='search_wine', tool_call_id='call_HYUarJUKXudQOlbig7I7ue5r')],\n",
      " 'summary': '레스토랑에는 프리미엄 안심 스테이크에 푸아그라와 트러플 소스를 곁들인 샤토브리앙 스테이크(₩42,000)와 안심 '\n",
      "            '스테이크 샐러드(₩26,000)가 있습니다. 어울리는 와인으로는 보르도 소테른의 디저트 와인 샤토 디켐 '\n",
      "            '2015(₩800,000)과 프랑스 루아르 지역의 상큼한 화이트 와인 푸이 퓌세 2019(₩95,000)를 '\n",
      "            '추천합니다.'}\n"
     ]
    }
   ],
   "source": [
    "# 현재 상태 출력 (가장 최근 상태)\n",
    "config = {\"configurable\": {\"thread_id\": \"1\"}}\n",
    "current_state = graph_memory.get_state(config)\n",
    "\n",
    "# 현재 상태의 속성 출력\n",
    "print(f\"config: {current_state.config}\")\n",
    "print(\"-\" * 100)\n",
    "print(f\"next: {current_state.next}\")\n",
    "print(\"-\" * 100)\n",
    "print(\"values:\")\n",
    "pprint(current_state.values)"
   ]
  },
  {
   "cell_type": "markdown",
   "metadata": {},
   "source": [
    "`(7) 상태 히스토리 가져오기`\n",
    "\n",
    "- `graph.get_state_history(config)`로 스레드의 **전체 실행 기록**을 조회함\n",
    "\n",
    "- 반환값은 **StateSnapshot 객체** 리스트 형태임\n",
    "\n",
    "- 리스트의 첫 번째 요소가 **가장 최근 체크포인트**를 나타냄"
   ]
  },
  {
   "cell_type": "code",
   "execution_count": 17,
   "metadata": {},
   "outputs": [
    {
     "name": "stdout",
     "output_type": "stream",
     "text": [
      "  Checkpoint 0:\n",
      "    Values: {'query': '스테이크 메뉴가 있나요? 어울리는 와인도 추천해주세요.', 'search_results': [ToolMessage(content=\"[Document(id='345de78f-18d9-4182-ac7c-098f8ce4c2a6', metadata={'menu_name': '샤토브리앙 스테이크', 'menu_number': 26, 'source': './data/restaurant_menu.txt'}, page_content='26. 샤토브리앙 스테이크\\\\n    • 가격: ₩42,000\\\\n    • 주요 식재료: 프리미엄 안심 스테이크, 푸아그라, 트러플 소스\\\\n    • 설명: 최상급 안심 스테이크에 푸아그라를 올리고 트러플 소스를 곁들인 클래식 프렌치 요리입니다. 부드러운 육질과 깊은 풍미가 특징이며, 그린 아스파라거스와 감자 그라탕을 함께 제공합니다.'), Document(id='ce7c9b7d-df58-4332-87c1-529648bc8f79', metadata={'menu_name': '안심 스테이크 샐러드', 'menu_number': 8, 'source': './data/restaurant_menu.txt'}, page_content='8. 안심 스테이크 샐러드\\\\n   • 가격: ₩26,000\\\\n   • 주요 식재료: 소고기 안심, 루꼴라, 체리 토마토, 발사믹 글레이즈\\\\n   • 설명: 부드러운 안심 스테이크를 얇게 슬라이스하여 신선한 루꼴라 위에 올린 메인 요리 샐러드입니다. 체리 토마토와 파마산 치즈 플레이크로 풍미를 더하고, 발사믹 글레이즈로 마무리하여 고기의 풍미를 한층 끌어올렸습니다.')]\", name='search_menu', tool_call_id='call_XzFlM2u6Y0g2n7EDbsXu8VZa'), ToolMessage(content=\"[Document(id='7a8e9a81-f5e7-42f7-97ee-bc2ab190aab8', metadata={'menu_number': 9, 'menu_name': '샤토 디켐 2015', 'source': './data/restaurant_wine.txt'}, page_content='9. 샤토 디켐 2015\\\\n   • 가격: ₩800,000 (375ml)\\\\n   • 주요 품종: 세미용, 소비뇽 블랑\\\\n   • 설명: 보르도 소테른 지역의 legendary 디저트 와인입니다. 아프리콧, 복숭아, 파인애플의 농축된 과실향과 함께 꿀, 사프란, 바닐라의 복잡한 향이 어우러집니다. 놀라운 농축도와 균형 잡힌 산도, 긴 여운이 특징이며, 100년 이상 숙성 가능한 와인으로 알려져 있습니다.'), Document(id='dcc8679f-d210-44dd-9f74-f077e50487ac', metadata={'menu_name': '푸이 퓌세 2019', 'menu_number': 5, 'source': './data/restaurant_wine.txt'}, page_content='5. 푸이 퓌세 2019\\\\n   • 가격: ₩95,000\\\\n   • 주요 품종: 소비뇽 블랑\\\\n   • 설명: 프랑스 루아르 지역의 대표적인 화이트 와인입니다. 구스베리, 레몬, 라임의 상큼한 과실향과 함께 미네랄, 허브 노트가 특징적입니다. 날카로운 산도와 깔끔한 피니시가 인상적이며, 신선한 굴이나 해산물 요리와 탁월한 페어링을 이룹니다.')]\", name='search_wine', tool_call_id='call_HYUarJUKXudQOlbig7I7ue5r')], 'summary': '레스토랑에는 프리미엄 안심 스테이크에 푸아그라와 트러플 소스를 곁들인 샤토브리앙 스테이크(₩42,000)와 안심 스테이크 샐러드(₩26,000)가 있습니다. 어울리는 와인으로는 보르도 소테른의 디저트 와인 샤토 디켐 2015(₩800,000)과 프랑스 루아르 지역의 상큼한 화이트 와인 푸이 퓌세 2019(₩95,000)를 추천합니다.'}\n",
      "    Next: ()\n",
      "    Config: {'configurable': {'thread_id': '1', 'checkpoint_ns': '', 'checkpoint_id': '1f067942-5b99-6f33-8002-5a4a5c398a10'}}\n",
      "----------------------------------------------------------------------------------------------------\n",
      "  Checkpoint 1:\n",
      "    Values: {'query': '스테이크 메뉴가 있나요? 어울리는 와인도 추천해주세요.', 'search_results': [ToolMessage(content=\"[Document(id='345de78f-18d9-4182-ac7c-098f8ce4c2a6', metadata={'menu_name': '샤토브리앙 스테이크', 'menu_number': 26, 'source': './data/restaurant_menu.txt'}, page_content='26. 샤토브리앙 스테이크\\\\n    • 가격: ₩42,000\\\\n    • 주요 식재료: 프리미엄 안심 스테이크, 푸아그라, 트러플 소스\\\\n    • 설명: 최상급 안심 스테이크에 푸아그라를 올리고 트러플 소스를 곁들인 클래식 프렌치 요리입니다. 부드러운 육질과 깊은 풍미가 특징이며, 그린 아스파라거스와 감자 그라탕을 함께 제공합니다.'), Document(id='ce7c9b7d-df58-4332-87c1-529648bc8f79', metadata={'menu_name': '안심 스테이크 샐러드', 'menu_number': 8, 'source': './data/restaurant_menu.txt'}, page_content='8. 안심 스테이크 샐러드\\\\n   • 가격: ₩26,000\\\\n   • 주요 식재료: 소고기 안심, 루꼴라, 체리 토마토, 발사믹 글레이즈\\\\n   • 설명: 부드러운 안심 스테이크를 얇게 슬라이스하여 신선한 루꼴라 위에 올린 메인 요리 샐러드입니다. 체리 토마토와 파마산 치즈 플레이크로 풍미를 더하고, 발사믹 글레이즈로 마무리하여 고기의 풍미를 한층 끌어올렸습니다.')]\", name='search_menu', tool_call_id='call_XzFlM2u6Y0g2n7EDbsXu8VZa'), ToolMessage(content=\"[Document(id='7a8e9a81-f5e7-42f7-97ee-bc2ab190aab8', metadata={'menu_number': 9, 'menu_name': '샤토 디켐 2015', 'source': './data/restaurant_wine.txt'}, page_content='9. 샤토 디켐 2015\\\\n   • 가격: ₩800,000 (375ml)\\\\n   • 주요 품종: 세미용, 소비뇽 블랑\\\\n   • 설명: 보르도 소테른 지역의 legendary 디저트 와인입니다. 아프리콧, 복숭아, 파인애플의 농축된 과실향과 함께 꿀, 사프란, 바닐라의 복잡한 향이 어우러집니다. 놀라운 농축도와 균형 잡힌 산도, 긴 여운이 특징이며, 100년 이상 숙성 가능한 와인으로 알려져 있습니다.'), Document(id='dcc8679f-d210-44dd-9f74-f077e50487ac', metadata={'menu_name': '푸이 퓌세 2019', 'menu_number': 5, 'source': './data/restaurant_wine.txt'}, page_content='5. 푸이 퓌세 2019\\\\n   • 가격: ₩95,000\\\\n   • 주요 품종: 소비뇽 블랑\\\\n   • 설명: 프랑스 루아르 지역의 대표적인 화이트 와인입니다. 구스베리, 레몬, 라임의 상큼한 과실향과 함께 미네랄, 허브 노트가 특징적입니다. 날카로운 산도와 깔끔한 피니시가 인상적이며, 신선한 굴이나 해산물 요리와 탁월한 페어링을 이룹니다.')]\", name='search_wine', tool_call_id='call_HYUarJUKXudQOlbig7I7ue5r')]}\n",
      "    Next: ('summarize',)\n",
      "    Config: {'configurable': {'thread_id': '1', 'checkpoint_ns': '', 'checkpoint_id': '1f067942-412a-61b9-8001-cbab00a92f02'}}\n",
      "----------------------------------------------------------------------------------------------------\n",
      "  Checkpoint 2:\n",
      "    Values: {'query': '스테이크 메뉴가 있나요? 어울리는 와인도 추천해주세요.', 'search_results': []}\n",
      "    Next: ('search',)\n",
      "    Config: {'configurable': {'thread_id': '1', 'checkpoint_ns': '', 'checkpoint_id': '1f067942-28be-65dc-8000-bd83722b3571'}}\n",
      "----------------------------------------------------------------------------------------------------\n",
      "  Checkpoint 3:\n",
      "    Values: {'search_results': []}\n",
      "    Next: ('__start__',)\n",
      "    Config: {'configurable': {'thread_id': '1', 'checkpoint_ns': '', 'checkpoint_id': '1f067942-28bb-6ec0-bfff-aee2a210fc12'}}\n",
      "----------------------------------------------------------------------------------------------------\n"
     ]
    }
   ],
   "source": [
    "# 상태 히스토리 출력\n",
    "config = {\"configurable\": {\"thread_id\": \"1\"}}\n",
    "state_history = list(graph_memory.get_state_history(config))\n",
    "\n",
    "for i, state_snapshot in enumerate(state_history):\n",
    "    print(f\"  Checkpoint {i}:\")\n",
    "    print(f\"    Values: {state_snapshot.values}\")\n",
    "    print(f\"    Next: {state_snapshot.next}\")\n",
    "    print(f\"    Config: {state_snapshot.config}\")\n",
    "    print(\"-\" * 100)"
   ]
  },
  {
   "cell_type": "markdown",
   "metadata": {},
   "source": [
    "`(5)  재생 (Replay)`\n",
    "\n",
    "- `thread_id`와 **checkpoint_id**를 함께 지정하면 특정 체크포인트 이후부터 실행 가능\n",
    "\n",
    "- 체크포인트 이전 단계는 **재생**(replay)만 하고 실제로 실행하지 않음\n",
    "\n",
    "- 이는 불필요한 단계 **재실행을 방지**하며 효율적인 처리를 가능하게 함"
   ]
  },
  {
   "cell_type": "code",
   "execution_count": 18,
   "metadata": {},
   "outputs": [
    {
     "name": "stdout",
     "output_type": "stream",
     "text": [
      "Config before summarize: {'configurable': {'thread_id': '1', 'checkpoint_ns': '', 'checkpoint_id': '1f067942-412a-61b9-8001-cbab00a92f02'}}\n",
      "----------------------------------------------------------------------------------------------------\n",
      "Next before summarize: ('summarize',)\n",
      "----------------------------------------------------------------------------------------------------\n",
      "Values before summarize: dict_keys(['query', 'search_results'])\n",
      "----------------------------------------------------------------------------------------------------\n"
     ]
    }
   ],
   "source": [
    "# 요약('summarize')이 처리되기 이전 시점의 체크포인트 찾기\n",
    "snapshot_before_summarize = None\n",
    "for state_snapshot in state_history:\n",
    "    if state_snapshot.next == ('summarize',):\n",
    "        snapshot_before_summarize = state_snapshot\n",
    "        break\n",
    "\n",
    "print(f\"Config before summarize: {snapshot_before_summarize.config}\")\n",
    "print(\"-\" * 100)\n",
    "print(f\"Next before summarize: {snapshot_before_summarize.next}\")\n",
    "print(\"-\" * 100)\n",
    "print(f\"Values before summarize: {snapshot_before_summarize.values.keys()}\")\n",
    "print(\"-\" * 100)"
   ]
  },
  {
   "cell_type": "code",
   "execution_count": 19,
   "metadata": {},
   "outputs": [
    {
     "name": "stdout",
     "output_type": "stream",
     "text": [
      "dict_keys(['query', 'search_results'])\n",
      "----------------------------------------------------------------------------------------------------\n",
      "dict_keys(['query', 'search_results', 'summary'])\n",
      "----------------------------------------------------------------------------------------------------\n"
     ]
    }
   ],
   "source": [
    "# 체크포인트 이전의 입력이 필요하지 않기 때문에 빈 입력으로 invoke -> 'search' 노드부터 다시 시작 (재생)\n",
    "for step in graph_memory.stream(None, snapshot_before_summarize.config, stream_mode=\"values\"):\n",
    "    print(step.keys())\n",
    "    print(\"-\" * 100)"
   ]
  },
  {
   "cell_type": "code",
   "execution_count": 20,
   "metadata": {},
   "outputs": [
    {
     "data": {
      "text/plain": [
       "{'query': '스테이크 메뉴가 있나요? 어울리는 와인도 추천해주세요.',\n",
       " 'search_results': [ToolMessage(content=\"[Document(id='345de78f-18d9-4182-ac7c-098f8ce4c2a6', metadata={'menu_name': '샤토브리앙 스테이크', 'menu_number': 26, 'source': './data/restaurant_menu.txt'}, page_content='26. 샤토브리앙 스테이크\\\\n    • 가격: ₩42,000\\\\n    • 주요 식재료: 프리미엄 안심 스테이크, 푸아그라, 트러플 소스\\\\n    • 설명: 최상급 안심 스테이크에 푸아그라를 올리고 트러플 소스를 곁들인 클래식 프렌치 요리입니다. 부드러운 육질과 깊은 풍미가 특징이며, 그린 아스파라거스와 감자 그라탕을 함께 제공합니다.'), Document(id='ce7c9b7d-df58-4332-87c1-529648bc8f79', metadata={'menu_name': '안심 스테이크 샐러드', 'menu_number': 8, 'source': './data/restaurant_menu.txt'}, page_content='8. 안심 스테이크 샐러드\\\\n   • 가격: ₩26,000\\\\n   • 주요 식재료: 소고기 안심, 루꼴라, 체리 토마토, 발사믹 글레이즈\\\\n   • 설명: 부드러운 안심 스테이크를 얇게 슬라이스하여 신선한 루꼴라 위에 올린 메인 요리 샐러드입니다. 체리 토마토와 파마산 치즈 플레이크로 풍미를 더하고, 발사믹 글레이즈로 마무리하여 고기의 풍미를 한층 끌어올렸습니다.')]\", name='search_menu', tool_call_id='call_XzFlM2u6Y0g2n7EDbsXu8VZa'),\n",
       "  ToolMessage(content=\"[Document(id='7a8e9a81-f5e7-42f7-97ee-bc2ab190aab8', metadata={'menu_number': 9, 'menu_name': '샤토 디켐 2015', 'source': './data/restaurant_wine.txt'}, page_content='9. 샤토 디켐 2015\\\\n   • 가격: ₩800,000 (375ml)\\\\n   • 주요 품종: 세미용, 소비뇽 블랑\\\\n   • 설명: 보르도 소테른 지역의 legendary 디저트 와인입니다. 아프리콧, 복숭아, 파인애플의 농축된 과실향과 함께 꿀, 사프란, 바닐라의 복잡한 향이 어우러집니다. 놀라운 농축도와 균형 잡힌 산도, 긴 여운이 특징이며, 100년 이상 숙성 가능한 와인으로 알려져 있습니다.'), Document(id='dcc8679f-d210-44dd-9f74-f077e50487ac', metadata={'menu_name': '푸이 퓌세 2019', 'menu_number': 5, 'source': './data/restaurant_wine.txt'}, page_content='5. 푸이 퓌세 2019\\\\n   • 가격: ₩95,000\\\\n   • 주요 품종: 소비뇽 블랑\\\\n   • 설명: 프랑스 루아르 지역의 대표적인 화이트 와인입니다. 구스베리, 레몬, 라임의 상큼한 과실향과 함께 미네랄, 허브 노트가 특징적입니다. 날카로운 산도와 깔끔한 피니시가 인상적이며, 신선한 굴이나 해산물 요리와 탁월한 페어링을 이룹니다.')]\", name='search_wine', tool_call_id='call_HYUarJUKXudQOlbig7I7ue5r')],\n",
       " 'summary': '레스토랑에는 프리미엄 안심 스테이크에 푸아그라와 트러플 소스를 곁들인 샤토브리앙 스테이크(₩42,000)와 루꼴라와 발사믹 글레이즈가 어우러진 안심 스테이크 샐러드(₩26,000)가 있습니다. 추천 와인으로는 복합적인 과실향과 긴 여운이 특징인 샤토 디켐 2015(₩800,000)와 상큼한 과실향과 깔끔한 피니시가 돋보이는 푸이 퓌세 2019(₩95,000)가 있습니다.'}"
      ]
     },
     "execution_count": 20,
     "metadata": {},
     "output_type": "execute_result"
    }
   ],
   "source": [
    "step"
   ]
  },
  {
   "cell_type": "code",
   "execution_count": 21,
   "metadata": {},
   "outputs": [
    {
     "name": "stdout",
     "output_type": "stream",
     "text": [
      "  Checkpoint 0:\n",
      "    Values: dict_keys(['query', 'search_results', 'summary'])\n",
      "    Next: ()\n",
      "    Config: {'configurable': {'thread_id': '1', 'checkpoint_ns': '', 'checkpoint_id': '1f06794d-e0ae-6e31-8002-aac97352e39d'}}\n",
      " Summary: 레스토랑에는 프리미엄 안심 스테이크에 푸아그라와 트러플 소스를 곁들인 샤토브리앙 스테이크(₩42,000)와 루꼴라와 발사믹 글레이즈가 어우러진 안심 스테이크 샐러드(₩26,000)가 있습니다. 추천 와인으로는 복합적인 과실향과 긴 여운이 특징인 샤토 디켐 2015(₩800,000)와 상큼한 과실향과 깔끔한 피니시가 돋보이는 푸이 퓌세 2019(₩95,000)가 있습니다.\n",
      "----------------------------------------------------------------------------------------------------\n",
      "  Checkpoint 1:\n",
      "    Values: dict_keys(['query', 'search_results', 'summary'])\n",
      "    Next: ()\n",
      "    Config: {'configurable': {'thread_id': '1', 'checkpoint_ns': '', 'checkpoint_id': '1f067942-5b99-6f33-8002-5a4a5c398a10'}}\n",
      " Summary: 레스토랑에는 프리미엄 안심 스테이크에 푸아그라와 트러플 소스를 곁들인 샤토브리앙 스테이크(₩42,000)와 안심 스테이크 샐러드(₩26,000)가 있습니다. 어울리는 와인으로는 보르도 소테른의 디저트 와인 샤토 디켐 2015(₩800,000)과 프랑스 루아르 지역의 상큼한 화이트 와인 푸이 퓌세 2019(₩95,000)를 추천합니다.\n",
      "----------------------------------------------------------------------------------------------------\n",
      "  Checkpoint 2:\n",
      "    Values: dict_keys(['query', 'search_results'])\n",
      "    Next: ('summarize',)\n",
      "    Config: {'configurable': {'thread_id': '1', 'checkpoint_ns': '', 'checkpoint_id': '1f067942-412a-61b9-8001-cbab00a92f02'}}\n",
      " Summary: ***\n",
      "----------------------------------------------------------------------------------------------------\n",
      "  Checkpoint 3:\n",
      "    Values: dict_keys(['query', 'search_results'])\n",
      "    Next: ('search',)\n",
      "    Config: {'configurable': {'thread_id': '1', 'checkpoint_ns': '', 'checkpoint_id': '1f067942-28be-65dc-8000-bd83722b3571'}}\n",
      " Summary: ***\n",
      "----------------------------------------------------------------------------------------------------\n",
      "  Checkpoint 4:\n",
      "    Values: dict_keys(['search_results'])\n",
      "    Next: ('__start__',)\n",
      "    Config: {'configurable': {'thread_id': '1', 'checkpoint_ns': '', 'checkpoint_id': '1f067942-28bb-6ec0-bfff-aee2a210fc12'}}\n",
      " Summary: ***\n",
      "----------------------------------------------------------------------------------------------------\n"
     ]
    }
   ],
   "source": [
    "# 상태 히스토리 출력 -> Replay 이후 상태 히스토리 포함 \n",
    "config = {\"configurable\": {\"thread_id\": \"1\"}}\n",
    "state_history = list(graph_memory.get_state_history(config))\n",
    "\n",
    "for i, state_snapshot in enumerate(state_history):\n",
    "    print(f\"  Checkpoint {i}:\")\n",
    "    print(f\"    Values: {state_snapshot.values.keys()}\")\n",
    "    print(f\"    Next: {state_snapshot.next}\")\n",
    "    print(f\"    Config: {state_snapshot.config}\")\n",
    "    print(f\" Summary: {state_snapshot.values.get('summary', '***')}\")\n",
    "    print(\"-\" * 100)"
   ]
  },
  {
   "cell_type": "markdown",
   "metadata": {},
   "source": [
    "`(8) 상태 업데이트`\n",
    "\n",
    "- `graph.update_state(config, values, as_node=None)`로 그래프의 **상태를 직접 수정**함\n",
    "\n",
    "- **values** : 업데이트할 값을 지정함\n",
    "\n",
    "- **as_node** : 업데이트를 수행할 노드를 지정 (선택 사항)"
   ]
  },
  {
   "cell_type": "code",
   "execution_count": 22,
   "metadata": {},
   "outputs": [
    {
     "data": {
      "text/plain": [
       "{'configurable': {'thread_id': '1',\n",
       "  'checkpoint_ns': '',\n",
       "  'checkpoint_id': '1f067942-412a-61b9-8001-cbab00a92f02'}}"
      ]
     },
     "execution_count": 22,
     "metadata": {},
     "output_type": "execute_result"
    }
   ],
   "source": [
    "# 요약('summarize')이 처리되기 이전 시점의 체크포인트\n",
    "snapshot_before_summarize.config"
   ]
  },
  {
   "cell_type": "code",
   "execution_count": 23,
   "metadata": {},
   "outputs": [
    {
     "data": {
      "text/plain": [
       "dict_keys(['query', 'search_results'])"
      ]
     },
     "execution_count": 23,
     "metadata": {},
     "output_type": "execute_result"
    }
   ],
   "source": [
    "# 체크포인터에서 'snapshot_before_summarize' 상태의 values 출력\n",
    "snapshot_before_summarize.values.keys()"
   ]
  },
  {
   "cell_type": "code",
   "execution_count": 24,
   "metadata": {},
   "outputs": [
    {
     "data": {
      "text/plain": [
       "{'query': '스테이크 메뉴가 있나요? 어울리는 와인도 추천해주세요.',\n",
       " 'search_results': [ToolMessage(content=\"[Document(id='345de78f-18d9-4182-ac7c-098f8ce4c2a6', metadata={'menu_name': '샤토브리앙 스테이크', 'menu_number': 26, 'source': './data/restaurant_menu.txt'}, page_content='26. 샤토브리앙 스테이크\\\\n    • 가격: ₩42,000\\\\n    • 주요 식재료: 프리미엄 안심 스테이크, 푸아그라, 트러플 소스\\\\n    • 설명: 최상급 안심 스테이크에 푸아그라를 올리고 트러플 소스를 곁들인 클래식 프렌치 요리입니다. 부드러운 육질과 깊은 풍미가 특징이며, 그린 아스파라거스와 감자 그라탕을 함께 제공합니다.'), Document(id='ce7c9b7d-df58-4332-87c1-529648bc8f79', metadata={'menu_name': '안심 스테이크 샐러드', 'menu_number': 8, 'source': './data/restaurant_menu.txt'}, page_content='8. 안심 스테이크 샐러드\\\\n   • 가격: ₩26,000\\\\n   • 주요 식재료: 소고기 안심, 루꼴라, 체리 토마토, 발사믹 글레이즈\\\\n   • 설명: 부드러운 안심 스테이크를 얇게 슬라이스하여 신선한 루꼴라 위에 올린 메인 요리 샐러드입니다. 체리 토마토와 파마산 치즈 플레이크로 풍미를 더하고, 발사믹 글레이즈로 마무리하여 고기의 풍미를 한층 끌어올렸습니다.')]\", name='search_menu', tool_call_id='call_XzFlM2u6Y0g2n7EDbsXu8VZa'),\n",
       "  ToolMessage(content=\"[Document(id='7a8e9a81-f5e7-42f7-97ee-bc2ab190aab8', metadata={'menu_number': 9, 'menu_name': '샤토 디켐 2015', 'source': './data/restaurant_wine.txt'}, page_content='9. 샤토 디켐 2015\\\\n   • 가격: ₩800,000 (375ml)\\\\n   • 주요 품종: 세미용, 소비뇽 블랑\\\\n   • 설명: 보르도 소테른 지역의 legendary 디저트 와인입니다. 아프리콧, 복숭아, 파인애플의 농축된 과실향과 함께 꿀, 사프란, 바닐라의 복잡한 향이 어우러집니다. 놀라운 농축도와 균형 잡힌 산도, 긴 여운이 특징이며, 100년 이상 숙성 가능한 와인으로 알려져 있습니다.'), Document(id='dcc8679f-d210-44dd-9f74-f077e50487ac', metadata={'menu_name': '푸이 퓌세 2019', 'menu_number': 5, 'source': './data/restaurant_wine.txt'}, page_content='5. 푸이 퓌세 2019\\\\n   • 가격: ₩95,000\\\\n   • 주요 품종: 소비뇽 블랑\\\\n   • 설명: 프랑스 루아르 지역의 대표적인 화이트 와인입니다. 구스베리, 레몬, 라임의 상큼한 과실향과 함께 미네랄, 허브 노트가 특징적입니다. 날카로운 산도와 깔끔한 피니시가 인상적이며, 신선한 굴이나 해산물 요리와 탁월한 페어링을 이룹니다.')]\", name='search_wine', tool_call_id='call_HYUarJUKXudQOlbig7I7ue5r')]}"
      ]
     },
     "execution_count": 24,
     "metadata": {},
     "output_type": "execute_result"
    }
   ],
   "source": [
    "snapshot_before_summarize.values"
   ]
  },
  {
   "cell_type": "code",
   "execution_count": 25,
   "metadata": {},
   "outputs": [
    {
     "name": "stdout",
     "output_type": "stream",
     "text": [
      "{'query': '스테이크 메뉴가 있나요? 메뉴 이름, 가격 정보만 간단하게 출력하세요.',\n",
      " 'search_results': [ToolMessage(content=\"[Document(id='345de78f-18d9-4182-ac7c-098f8ce4c2a6', metadata={'menu_name': '샤토브리앙 스테이크', 'menu_number': 26, 'source': './data/restaurant_menu.txt'}, page_content='26. 샤토브리앙 스테이크\\\\n    • 가격: ₩42,000\\\\n    • 주요 식재료: 프리미엄 안심 스테이크, 푸아그라, 트러플 소스\\\\n    • 설명: 최상급 안심 스테이크에 푸아그라를 올리고 트러플 소스를 곁들인 클래식 프렌치 요리입니다. 부드러운 육질과 깊은 풍미가 특징이며, 그린 아스파라거스와 감자 그라탕을 함께 제공합니다.'), Document(id='ce7c9b7d-df58-4332-87c1-529648bc8f79', metadata={'menu_name': '안심 스테이크 샐러드', 'menu_number': 8, 'source': './data/restaurant_menu.txt'}, page_content='8. 안심 스테이크 샐러드\\\\n   • 가격: ₩26,000\\\\n   • 주요 식재료: 소고기 안심, 루꼴라, 체리 토마토, 발사믹 글레이즈\\\\n   • 설명: 부드러운 안심 스테이크를 얇게 슬라이스하여 신선한 루꼴라 위에 올린 메인 요리 샐러드입니다. 체리 토마토와 파마산 치즈 플레이크로 풍미를 더하고, 발사믹 글레이즈로 마무리하여 고기의 풍미를 한층 끌어올렸습니다.')]\", name='search_menu', tool_call_id='call_XzFlM2u6Y0g2n7EDbsXu8VZa'),\n",
      "                    ToolMessage(content=\"[Document(id='7a8e9a81-f5e7-42f7-97ee-bc2ab190aab8', metadata={'menu_number': 9, 'menu_name': '샤토 디켐 2015', 'source': './data/restaurant_wine.txt'}, page_content='9. 샤토 디켐 2015\\\\n   • 가격: ₩800,000 (375ml)\\\\n   • 주요 품종: 세미용, 소비뇽 블랑\\\\n   • 설명: 보르도 소테른 지역의 legendary 디저트 와인입니다. 아프리콧, 복숭아, 파인애플의 농축된 과실향과 함께 꿀, 사프란, 바닐라의 복잡한 향이 어우러집니다. 놀라운 농축도와 균형 잡힌 산도, 긴 여운이 특징이며, 100년 이상 숙성 가능한 와인으로 알려져 있습니다.'), Document(id='dcc8679f-d210-44dd-9f74-f077e50487ac', metadata={'menu_name': '푸이 퓌세 2019', 'menu_number': 5, 'source': './data/restaurant_wine.txt'}, page_content='5. 푸이 퓌세 2019\\\\n   • 가격: ₩95,000\\\\n   • 주요 품종: 소비뇽 블랑\\\\n   • 설명: 프랑스 루아르 지역의 대표적인 화이트 와인입니다. 구스베리, 레몬, 라임의 상큼한 과실향과 함께 미네랄, 허브 노트가 특징적입니다. 날카로운 산도와 깔끔한 피니시가 인상적이며, 신선한 굴이나 해산물 요리와 탁월한 페어링을 이룹니다.')]\", name='search_wine', tool_call_id='call_HYUarJUKXudQOlbig7I7ue5r')]}\n"
     ]
    }
   ],
   "source": [
    "# 상태 업데이트 -> 'search' 노드에서 '쿼리'를 수정하고 다시 실행\n",
    "update_input = {\"query\": \"스테이크 메뉴가 있나요? 메뉴 이름, 가격 정보만 간단하게 출력하세요.\"}\n",
    "\n",
    "graph_memory.update_state(\n",
    "    snapshot_before_summarize.config,   # 재생 시점의 config\n",
    "    update_input, \n",
    ")\n",
    "\n",
    "# 업데이트된 상태 가져와서 출력 \n",
    "updated_state = graph_memory.get_state(config)\n",
    "\n",
    "pprint(updated_state.values)"
   ]
  },
  {
   "cell_type": "code",
   "execution_count": 26,
   "metadata": {},
   "outputs": [
    {
     "name": "stdout",
     "output_type": "stream",
     "text": [
      "dict_keys(['query', 'search_results'])\n",
      "----------------------------------------------------------------------------------------------------\n",
      "dict_keys(['query', 'search_results', 'summary'])\n",
      "----------------------------------------------------------------------------------------------------\n"
     ]
    }
   ],
   "source": [
    "# 업데이트된 상태로 이어서 실행 (재생)\n",
    "for step in graph_memory.stream(None, config, stream_mode=\"values\"):\n",
    "    print(step.keys())\n",
    "    print(\"-\" * 100)"
   ]
  },
  {
   "cell_type": "code",
   "execution_count": 27,
   "metadata": {},
   "outputs": [
    {
     "name": "stdout",
     "output_type": "stream",
     "text": [
      "  Checkpoint 0:\n",
      "    Values: dict_keys(['query', 'search_results', 'summary'])\n",
      "    Next: ()\n",
      "    Summary: 샤토브리앙 스테이크는 42,000원이며, 안심 스테이크 샐러드는 26,000원입니다.\n",
      "----------------------------------------------------------------------------------------------------\n",
      "  Checkpoint 1:\n",
      "    Values: dict_keys(['query', 'search_results'])\n",
      "    Next: ('summarize',)\n",
      "    Summary: ***\n",
      "----------------------------------------------------------------------------------------------------\n",
      "  Checkpoint 2:\n",
      "    Values: dict_keys(['query', 'search_results', 'summary'])\n",
      "    Next: ()\n",
      "    Summary: 레스토랑에는 프리미엄 안심 스테이크에 푸아그라와 트러플 소스를 곁들인 샤토브리앙 스테이크(₩42,000)와 루꼴라와 발사믹 글레이즈가 어우러진 안심 스테이크 샐러드(₩26,000)가 있습니다. 추천 와인으로는 복합적인 과실향과 긴 여운이 특징인 샤토 디켐 2015(₩800,000)와 상큼한 과실향과 깔끔한 피니시가 돋보이는 푸이 퓌세 2019(₩95,000)가 있습니다.\n",
      "----------------------------------------------------------------------------------------------------\n",
      "  Checkpoint 3:\n",
      "    Values: dict_keys(['query', 'search_results', 'summary'])\n",
      "    Next: ()\n",
      "    Summary: 레스토랑에는 프리미엄 안심 스테이크에 푸아그라와 트러플 소스를 곁들인 샤토브리앙 스테이크(₩42,000)와 안심 스테이크 샐러드(₩26,000)가 있습니다. 어울리는 와인으로는 보르도 소테른의 디저트 와인 샤토 디켐 2015(₩800,000)과 프랑스 루아르 지역의 상큼한 화이트 와인 푸이 퓌세 2019(₩95,000)를 추천합니다.\n",
      "----------------------------------------------------------------------------------------------------\n",
      "  Checkpoint 4:\n",
      "    Values: dict_keys(['query', 'search_results'])\n",
      "    Next: ('summarize',)\n",
      "    Summary: ***\n",
      "----------------------------------------------------------------------------------------------------\n",
      "  Checkpoint 5:\n",
      "    Values: dict_keys(['query', 'search_results'])\n",
      "    Next: ('search',)\n",
      "    Summary: ***\n",
      "----------------------------------------------------------------------------------------------------\n",
      "  Checkpoint 6:\n",
      "    Values: dict_keys(['search_results'])\n",
      "    Next: ('__start__',)\n",
      "    Summary: ***\n",
      "----------------------------------------------------------------------------------------------------\n"
     ]
    }
   ],
   "source": [
    "# 업데이트된 상태의 히스토리 출력\n",
    "state_history_after_update = list(graph_memory.get_state_history(config))\n",
    "\n",
    "for i, state_snapshot in enumerate(state_history_after_update):\n",
    "    print(f\"  Checkpoint {i}:\")\n",
    "    print(f\"    Values: {state_snapshot.values.keys()}\")\n",
    "    print(f\"    Next: {state_snapshot.next}\")\n",
    "    print(f\"    Summary: {state_snapshot.values.get('summary', '***')}\")\n",
    "    print(\"-\" * 100)"
   ]
  },
  {
   "cell_type": "code",
   "execution_count": 28,
   "metadata": {},
   "outputs": [
    {
     "name": "stdout",
     "output_type": "stream",
     "text": [
      "{'query': '스테이크 메뉴가 있나요? 메뉴 이름, 가격 정보만 간단하게 출력하세요.',\n",
      " 'search_results': [ToolMessage(content=\"[Document(id='345de78f-18d9-4182-ac7c-098f8ce4c2a6', metadata={'menu_name': '샤토브리앙 스테이크', 'menu_number': 26, 'source': './data/restaurant_menu.txt'}, page_content='26. 샤토브리앙 스테이크\\\\n    • 가격: ₩42,000\\\\n    • 주요 식재료: 프리미엄 안심 스테이크, 푸아그라, 트러플 소스\\\\n    • 설명: 최상급 안심 스테이크에 푸아그라를 올리고 트러플 소스를 곁들인 클래식 프렌치 요리입니다. 부드러운 육질과 깊은 풍미가 특징이며, 그린 아스파라거스와 감자 그라탕을 함께 제공합니다.'), Document(id='ce7c9b7d-df58-4332-87c1-529648bc8f79', metadata={'menu_name': '안심 스테이크 샐러드', 'menu_number': 8, 'source': './data/restaurant_menu.txt'}, page_content='8. 안심 스테이크 샐러드\\\\n   • 가격: ₩26,000\\\\n   • 주요 식재료: 소고기 안심, 루꼴라, 체리 토마토, 발사믹 글레이즈\\\\n   • 설명: 부드러운 안심 스테이크를 얇게 슬라이스하여 신선한 루꼴라 위에 올린 메인 요리 샐러드입니다. 체리 토마토와 파마산 치즈 플레이크로 풍미를 더하고, 발사믹 글레이즈로 마무리하여 고기의 풍미를 한층 끌어올렸습니다.')]\", name='search_menu', tool_call_id='call_XzFlM2u6Y0g2n7EDbsXu8VZa'),\n",
      "                    ToolMessage(content=\"[Document(id='7a8e9a81-f5e7-42f7-97ee-bc2ab190aab8', metadata={'menu_number': 9, 'menu_name': '샤토 디켐 2015', 'source': './data/restaurant_wine.txt'}, page_content='9. 샤토 디켐 2015\\\\n   • 가격: ₩800,000 (375ml)\\\\n   • 주요 품종: 세미용, 소비뇽 블랑\\\\n   • 설명: 보르도 소테른 지역의 legendary 디저트 와인입니다. 아프리콧, 복숭아, 파인애플의 농축된 과실향과 함께 꿀, 사프란, 바닐라의 복잡한 향이 어우러집니다. 놀라운 농축도와 균형 잡힌 산도, 긴 여운이 특징이며, 100년 이상 숙성 가능한 와인으로 알려져 있습니다.'), Document(id='dcc8679f-d210-44dd-9f74-f077e50487ac', metadata={'menu_name': '푸이 퓌세 2019', 'menu_number': 5, 'source': './data/restaurant_wine.txt'}, page_content='5. 푸이 퓌세 2019\\\\n   • 가격: ₩95,000\\\\n   • 주요 품종: 소비뇽 블랑\\\\n   • 설명: 프랑스 루아르 지역의 대표적인 화이트 와인입니다. 구스베리, 레몬, 라임의 상큼한 과실향과 함께 미네랄, 허브 노트가 특징적입니다. 날카로운 산도와 깔끔한 피니시가 인상적이며, 신선한 굴이나 해산물 요리와 탁월한 페어링을 이룹니다.')]\", name='search_wine', tool_call_id='call_HYUarJUKXudQOlbig7I7ue5r')],\n",
      " 'summary': '샤토브리앙 스테이크는 42,000원이며, 안심 스테이크 샐러드는 26,000원입니다.'}\n"
     ]
    }
   ],
   "source": [
    "# 최종 상태 출력\n",
    "final_state = graph_memory.get_state(config)\n",
    "\n",
    "pprint(final_state.values)"
   ]
  },
  {
   "cell_type": "markdown",
   "metadata": {},
   "source": [
    "# ~ 16:27분까지 실습"
   ]
  },
  {
   "cell_type": "markdown",
   "metadata": {},
   "source": [
    "---\n",
    "\n",
    "### 2. **메시지 관리하기**\n",
    "\n",
    "- **긴 대화 기록**은 LLM의 컨텍스트 윈도우 제한으로 인한 오류나 성능 저하를 초래함\n",
    "\n",
    "- 메모리 관리는 **정확성**과 **응답 시간**, **비용** 사이의 균형이 필요함\n",
    "\n",
    "- 주요 해결책으로 **메시지 목록 편집**과 **과거 대화 요약**이 있음"
   ]
  },
  {
   "cell_type": "markdown",
   "metadata": {},
   "source": [
    "`(1) 긴 대화 관리 - 메시지 트리밍 (Trimming)`\n",
    "\n",
    "- **컨텍스트 제한**으로 인해 LLM이 처리할 수 있는 메시지 길이에 제약이 있음\n",
    "- 효율적인 **토큰 관리**를 통해 비용을 절감하고 시스템 성능을 최적화할 수 있음\n",
    "- 신속한 **응답 속도**를 위해 메시지 길이와 복잡성 조절이 필수적임"
   ]
  },
  {
   "cell_type": "code",
   "execution_count": 36,
   "metadata": {},
   "outputs": [],
   "source": [
    "from langgraph.graph import MessagesState, StateGraph, START, END\n",
    "from langgraph.prebuilt import ToolNode\n",
    "from langgraph.prebuilt import tools_condition\n",
    "from langgraph.checkpoint.memory import InMemorySaver\n",
    "\n",
    "from langchain_core.messages.utils import trim_messages, count_tokens_approximately\n",
    "from langchain_core.messages import HumanMessage, SystemMessage, ToolMessage\n",
    "from langchain_openai import ChatOpenAI\n",
    "\n",
    "from IPython.display import Image, display\n",
    "\n",
    "# 메시지 상태 정의\n",
    "class GraphState(MessagesState):\n",
    "    ...\n",
    "\n",
    "# LLM 모델에 도구를 바인딩 \n",
    "llm = ChatOpenAI(model=\"gpt-4.1-mini\")\n",
    "tools = [search_menu, search_wine]\n",
    "llm_with_tools = llm.bind_tools(tools=tools)\n",
    "\n",
    "\n",
    "# 에이전트 실행 노드 \n",
    "def call_model_with_trimming(state: GraphState):\n",
    "    system_prompt = SystemMessage(\"\"\"You are a helpful AI assistant. Please respond to the user's query to the best of your ability!\n",
    "\n",
    "중요: 답변을 제공할 때 반드시 정보의 출처를 명시해야 합니다. 출처는 다음과 같이 표시하세요:\n",
    "- 도구를 사용하여 얻은 정보: [도구: 도구이름]\n",
    "- 모델의 일반 지식에 기반한 정보: [일반 지식]\n",
    "\n",
    "항상 정확하고 관련성 있는 정보를 제공하되, 확실하지 않은 경우 그 사실을 명시하세요. 출처를 명확히 표시함으로써 사용자가 정보의 신뢰성을 판단할 수 있도록 해주세요.\"\"\")\n",
    "    \n",
    "\n",
    "    # 최근 메시지만 유지 (메시지 수 기준)\n",
    "    trimmed_messages = trim_messages(\n",
    "        state[\"messages\"],\n",
    "        strategy=\"last\",  # 마지막 메시지부터 유지\n",
    "        token_counter=len,   # 메시지 개수를 기준으로 카운트 \n",
    "        # token_counter=count_tokens_approximately,  # 토큰 수를 기준으로 카운트\n",
    "        max_tokens=5,  # 최대 5개의 메시지 유지 (토큰 수로 적용할 경우 충분히 큰 값으로 설정)\n",
    "        start_on=\"human\",  # 사람 메시지로 시작\n",
    "        end_on=(\"human\", \"tool\"),  # 사람 또는 도구 메시지로 종료\n",
    "        include_system=True,  # 시스템 메시지 포함\n",
    "    )\n",
    "\n",
    "    print(f\"트리밍된 메시지 개수: {len(trimmed_messages)}\")\n",
    "\n",
    "    # 시스템 메시지와 이전 메시지를 결합하여 모델 호출\n",
    "    messages = [system_prompt] + trimmed_messages\n",
    "\n",
    "    response = llm_with_tools.invoke(messages)\n",
    "\n",
    "    # 메시지 리스트로 반환하고 상태 업데이트 \n",
    "    return {\n",
    "        \"messages\": [response]\n",
    "    }"
   ]
  },
  {
   "cell_type": "code",
   "execution_count": 37,
   "metadata": {},
   "outputs": [
    {
     "data": {
      "image/png": "[encoded data removed]",
      "text/plain": [
       "<IPython.core.display.Image object>"
      ]
     },
     "metadata": {},
     "output_type": "display_data"
    }
   ],
   "source": [
    "# 그래프 구성\n",
    "builder = StateGraph(GraphState)\n",
    "\n",
    "builder.add_node(\"agent\", call_model_with_trimming) \n",
    "builder.add_node(\"tools\", ToolNode(tools))\n",
    "\n",
    "builder.add_edge(START, \"agent\")\n",
    "\n",
    "# tools_condition을 사용한 조건부 엣지 추가\n",
    "builder.add_conditional_edges(\n",
    "    \"agent\",\n",
    "    tools_condition,\n",
    ")\n",
    "\n",
    "builder.add_edge(\"tools\", \"agent\")\n",
    "\n",
    "# 메모리 저장소 생성\n",
    "checkpointer = InMemorySaver()\n",
    "\n",
    "# 메모리 저장소를 지정하여 그래프 컴파일\n",
    "graph_memory_trimmer = builder.compile(checkpointer=checkpointer)\n",
    "\n",
    "# 그래프 출력\n",
    "display(Image(graph_memory_trimmer.get_graph().draw_mermaid_png()))"
   ]
  },
  {
   "cell_type": "code",
   "execution_count": 38,
   "metadata": {},
   "outputs": [
    {
     "name": "stdout",
     "output_type": "stream",
     "text": [
      "================================\u001b[1m Human Message \u001b[0m=================================\n",
      "\n",
      "스테이크 메뉴의 가격은 얼마인가요\n",
      "----------------------------------------------------------------------------------------------------\n",
      "트리밍된 메시지 개수: 1\n",
      "==================================\u001b[1m Ai Message \u001b[0m==================================\n",
      "Tool Calls:\n",
      "  search_menu (call_m1SEy78zlgMvv7bcmW64dGG8)\n",
      " Call ID: call_m1SEy78zlgMvv7bcmW64dGG8\n",
      "  Args:\n",
      "    query: 스테이크\n",
      "----------------------------------------------------------------------------------------------------\n",
      "=================================\u001b[1m Tool Message \u001b[0m=================================\n",
      "Name: search_menu\n",
      "\n",
      "[Document(id='345de78f-18d9-4182-ac7c-098f8ce4c2a6', metadata={'menu_name': '샤토브리앙 스테이크', 'menu_number': 26, 'source': './data/restaurant_menu.txt'}, page_content='26. 샤토브리앙 스테이크\\n    • 가격: ₩42,000\\n    • 주요 식재료: 프리미엄 안심 스테이크, 푸아그라, 트러플 소스\\n    • 설명: 최상급 안심 스테이크에 푸아그라를 올리고 트러플 소스를 곁들인 클래식 프렌치 요리입니다. 부드러운 육질과 깊은 풍미가 특징이며, 그린 아스파라거스와 감자 그라탕을 함께 제공합니다.'), Document(id='ce7c9b7d-df58-4332-87c1-529648bc8f79', metadata={'menu_number': 8, 'source': './data/restaurant_menu.txt', 'menu_name': '안심 스테이크 샐러드'}, page_content='8. 안심 스테이크 샐러드\\n   • 가격: ₩26,000\\n   • 주요 식재료: 소고기 안심, 루꼴라, 체리 토마토, 발사믹 글레이즈\\n   • 설명: 부드러운 안심 스테이크를 얇게 슬라이스하여 신선한 루꼴라 위에 올린 메인 요리 샐러드입니다. 체리 토마토와 파마산 치즈 플레이크로 풍미를 더하고, 발사믹 글레이즈로 마무리하여 고기의 풍미를 한층 끌어올렸습니다.')]\n",
      "----------------------------------------------------------------------------------------------------\n",
      "트리밍된 메시지 개수: 3\n",
      "==================================\u001b[1m Ai Message \u001b[0m==================================\n",
      "\n",
      "스테이크 메뉴의 가격은 다음과 같습니다:\n",
      "- 샤토브리앙 스테이크: ₩42,000\n",
      "- 안심 스테이크 샐러드: ₩26,000\n",
      "\n",
      "더 궁금한 점 있으시면 알려주세요! [도구: 검색된 레스토랑 메뉴]\n",
      "----------------------------------------------------------------------------------------------------\n"
     ]
    }
   ],
   "source": [
    "# thred_id 설정\n",
    "config = {\"configurable\": {\"thread_id\": \"1\"}}\n",
    "\n",
    "# 초기 메시지 설정\n",
    "messages = [HumanMessage(content=\"스테이크 메뉴의 가격은 얼마인가요\")]\n",
    "\n",
    "# 그래프 실행\n",
    "for step in graph_memory_trimmer.stream({\"messages\": messages}, config, stream_mode=\"values\"):\n",
    "    if \"messages\" in step:\n",
    "        step[\"messages\"][-1].pretty_print()\n",
    "        print(\"-\" * 100)"
   ]
  },
  {
   "cell_type": "code",
   "execution_count": 39,
   "metadata": {},
   "outputs": [
    {
     "name": "stdout",
     "output_type": "stream",
     "text": [
      "================================\u001b[1m Human Message \u001b[0m=================================\n",
      "\n",
      "둘 중에 더 저렴한 메뉴는 무엇인가요?\n",
      "----------------------------------------------------------------------------------------------------\n",
      "트리밍된 메시지 개수: 5\n",
      "==================================\u001b[1m Ai Message \u001b[0m==================================\n",
      "\n",
      "더 저렴한 메뉴는 \"안심 스테이크 샐러드\"로 가격은 ₩26,000입니다. [도구: 검색된 레스토랑 메뉴]\n",
      "----------------------------------------------------------------------------------------------------\n"
     ]
    }
   ],
   "source": [
    "# thred_id 설정 유지한 상태에서 다른 메시지로 그래프 실행\n",
    "config = {\"configurable\": {\"thread_id\": \"1\"}}\n",
    "messages = [HumanMessage(content=\"둘 중에 더 저렴한 메뉴는 무엇인가요?\")]\n",
    "\n",
    "# 그래프 실행 및 결과 출력 \n",
    "for step in graph_memory_trimmer.stream({\"messages\": messages}, config, stream_mode=\"values\"):\n",
    "    if \"messages\" in step:\n",
    "        step[\"messages\"][-1].pretty_print()\n",
    "        print(\"-\" * 100)"
   ]
  },
  {
   "cell_type": "code",
   "execution_count": 40,
   "metadata": {},
   "outputs": [
    {
     "name": "stdout",
     "output_type": "stream",
     "text": [
      "전체 메시지 개수:  6\n",
      "================================\u001b[1m Human Message \u001b[0m=================================\n",
      "\n",
      "스테이크 메뉴의 가격은 얼마인가요\n",
      "----------------------------------------------------------------------------------------------------\n",
      "==================================\u001b[1m Ai Message \u001b[0m==================================\n",
      "Tool Calls:\n",
      "  search_menu (call_m1SEy78zlgMvv7bcmW64dGG8)\n",
      " Call ID: call_m1SEy78zlgMvv7bcmW64dGG8\n",
      "  Args:\n",
      "    query: 스테이크\n",
      "----------------------------------------------------------------------------------------------------\n",
      "=================================\u001b[1m Tool Message \u001b[0m=================================\n",
      "Name: search_menu\n",
      "\n",
      "[Document(id='345de78f-18d9-4182-ac7c-098f8ce4c2a6', metadata={'menu_name': '샤토브리앙 스테이크', 'menu_number': 26, 'source': './data/restaurant_menu.txt'}, page_content='26. 샤토브리앙 스테이크\\n    • 가격: ₩42,000\\n    • 주요 식재료: 프리미엄 안심 스테이크, 푸아그라, 트러플 소스\\n    • 설명: 최상급 안심 스테이크에 푸아그라를 올리고 트러플 소스를 곁들인 클래식 프렌치 요리입니다. 부드러운 육질과 깊은 풍미가 특징이며, 그린 아스파라거스와 감자 그라탕을 함께 제공합니다.'), Document(id='ce7c9b7d-df58-4332-87c1-529648bc8f79', metadata={'menu_number': 8, 'source': './data/restaurant_menu.txt', 'menu_name': '안심 스테이크 샐러드'}, page_content='8. 안심 스테이크 샐러드\\n   • 가격: ₩26,000\\n   • 주요 식재료: 소고기 안심, 루꼴라, 체리 토마토, 발사믹 글레이즈\\n   • 설명: 부드러운 안심 스테이크를 얇게 슬라이스하여 신선한 루꼴라 위에 올린 메인 요리 샐러드입니다. 체리 토마토와 파마산 치즈 플레이크로 풍미를 더하고, 발사믹 글레이즈로 마무리하여 고기의 풍미를 한층 끌어올렸습니다.')]\n",
      "----------------------------------------------------------------------------------------------------\n",
      "==================================\u001b[1m Ai Message \u001b[0m==================================\n",
      "\n",
      "스테이크 메뉴의 가격은 다음과 같습니다:\n",
      "- 샤토브리앙 스테이크: ₩42,000\n",
      "- 안심 스테이크 샐러드: ₩26,000\n",
      "\n",
      "더 궁금한 점 있으시면 알려주세요! [도구: 검색된 레스토랑 메뉴]\n",
      "----------------------------------------------------------------------------------------------------\n",
      "================================\u001b[1m Human Message \u001b[0m=================================\n",
      "\n",
      "둘 중에 더 저렴한 메뉴는 무엇인가요?\n",
      "----------------------------------------------------------------------------------------------------\n",
      "==================================\u001b[1m Ai Message \u001b[0m==================================\n",
      "\n",
      "더 저렴한 메뉴는 \"안심 스테이크 샐러드\"로 가격은 ₩26,000입니다. [도구: 검색된 레스토랑 메뉴]\n",
      "----------------------------------------------------------------------------------------------------\n"
     ]
    }
   ],
   "source": [
    "# 전체 메시지 출력\n",
    "print(\"전체 메시지 개수: \", len(step['messages']))\n",
    "for m in step['messages']:\n",
    "    m.pretty_print()\n",
    "    print(\"-\" * 100)"
   ]
  },
  {
   "cell_type": "code",
   "execution_count": 41,
   "metadata": {},
   "outputs": [
    {
     "name": "stdout",
     "output_type": "stream",
     "text": [
      "================================\u001b[1m Human Message \u001b[0m=================================\n",
      "\n",
      "이 메뉴와 곁들이면 좋은 다른 메뉴가 있나요?\n",
      "----------------------------------------------------------------------------------------------------\n",
      "트리밍된 메시지 개수: 3\n",
      "==================================\u001b[1m Ai Message \u001b[0m==================================\n",
      "Tool Calls:\n",
      "  search_menu (call_DeJd5wrmrOUtyx2FRFyrm22Y)\n",
      " Call ID: call_DeJd5wrmrOUtyx2FRFyrm22Y\n",
      "  Args:\n",
      "    query: 안심 스테이크 샐러드 곁들이 메뉴\n",
      "----------------------------------------------------------------------------------------------------\n",
      "=================================\u001b[1m Tool Message \u001b[0m=================================\n",
      "Name: search_menu\n",
      "\n",
      "[Document(id='ce7c9b7d-df58-4332-87c1-529648bc8f79', metadata={'source': './data/restaurant_menu.txt', 'menu_number': 8, 'menu_name': '안심 스테이크 샐러드'}, page_content='8. 안심 스테이크 샐러드\\n   • 가격: ₩26,000\\n   • 주요 식재료: 소고기 안심, 루꼴라, 체리 토마토, 발사믹 글레이즈\\n   • 설명: 부드러운 안심 스테이크를 얇게 슬라이스하여 신선한 루꼴라 위에 올린 메인 요리 샐러드입니다. 체리 토마토와 파마산 치즈 플레이크로 풍미를 더하고, 발사믹 글레이즈로 마무리하여 고기의 풍미를 한층 끌어올렸습니다.'), Document(id='345de78f-18d9-4182-ac7c-098f8ce4c2a6', metadata={'menu_name': '샤토브리앙 스테이크', 'source': './data/restaurant_menu.txt', 'menu_number': 26}, page_content='26. 샤토브리앙 스테이크\\n    • 가격: ₩42,000\\n    • 주요 식재료: 프리미엄 안심 스테이크, 푸아그라, 트러플 소스\\n    • 설명: 최상급 안심 스테이크에 푸아그라를 올리고 트러플 소스를 곁들인 클래식 프렌치 요리입니다. 부드러운 육질과 깊은 풍미가 특징이며, 그린 아스파라거스와 감자 그라탕을 함께 제공합니다.')]\n",
      "----------------------------------------------------------------------------------------------------\n",
      "트리밍된 메시지 개수: 5\n",
      "==================================\u001b[1m Ai Message \u001b[0m==================================\n",
      "\n",
      "안심 스테이크 샐러드와 곁들이면 좋은 메뉴로는 \"샤토브리앙 스테이크\"가 있습니다. 이 메뉴는 최상급 안심 스테이크에 푸아그라와 트러플 소스를 곁들여 고급스러운 맛을 자랑하며, 그린 아스파라거스와 감자 그라탕이 함께 제공됩니다. 부드러운 육질과 깊은 풍미가 안심 스테이크 샐러드와 잘 어울릴 것입니다. [도구: 레스토랑 메뉴]\n",
      "----------------------------------------------------------------------------------------------------\n"
     ]
    }
   ],
   "source": [
    "# thred_id 설정 유지한 상태에서 다른 메시지로 그래프 실행\n",
    "config = {\"configurable\": {\"thread_id\": \"1\"}}\n",
    "messages = [HumanMessage(content=\"이 메뉴와 곁들이면 좋은 다른 메뉴가 있나요?\")]\n",
    "\n",
    "# 그래프 실행 및 결과 출력\n",
    "for step in graph_memory_trimmer.stream({\"messages\": messages}, config, stream_mode=\"values\"):\n",
    "    if \"messages\" in step:\n",
    "        step[\"messages\"][-1].pretty_print()\n",
    "        print(\"-\" * 100)"
   ]
  },
  {
   "cell_type": "code",
   "execution_count": 42,
   "metadata": {},
   "outputs": [
    {
     "name": "stdout",
     "output_type": "stream",
     "text": [
      "전체 메시지 개수:  10\n",
      "================================\u001b[1m Human Message \u001b[0m=================================\n",
      "\n",
      "스테이크 메뉴의 가격은 얼마인가요\n",
      "----------------------------------------------------------------------------------------------------\n",
      "==================================\u001b[1m Ai Message \u001b[0m==================================\n",
      "Tool Calls:\n",
      "  search_menu (call_m1SEy78zlgMvv7bcmW64dGG8)\n",
      " Call ID: call_m1SEy78zlgMvv7bcmW64dGG8\n",
      "  Args:\n",
      "    query: 스테이크\n",
      "----------------------------------------------------------------------------------------------------\n",
      "=================================\u001b[1m Tool Message \u001b[0m=================================\n",
      "Name: search_menu\n",
      "\n",
      "[Document(id='345de78f-18d9-4182-ac7c-098f8ce4c2a6', metadata={'menu_name': '샤토브리앙 스테이크', 'menu_number': 26, 'source': './data/restaurant_menu.txt'}, page_content='26. 샤토브리앙 스테이크\\n    • 가격: ₩42,000\\n    • 주요 식재료: 프리미엄 안심 스테이크, 푸아그라, 트러플 소스\\n    • 설명: 최상급 안심 스테이크에 푸아그라를 올리고 트러플 소스를 곁들인 클래식 프렌치 요리입니다. 부드러운 육질과 깊은 풍미가 특징이며, 그린 아스파라거스와 감자 그라탕을 함께 제공합니다.'), Document(id='ce7c9b7d-df58-4332-87c1-529648bc8f79', metadata={'menu_number': 8, 'source': './data/restaurant_menu.txt', 'menu_name': '안심 스테이크 샐러드'}, page_content='8. 안심 스테이크 샐러드\\n   • 가격: ₩26,000\\n   • 주요 식재료: 소고기 안심, 루꼴라, 체리 토마토, 발사믹 글레이즈\\n   • 설명: 부드러운 안심 스테이크를 얇게 슬라이스하여 신선한 루꼴라 위에 올린 메인 요리 샐러드입니다. 체리 토마토와 파마산 치즈 플레이크로 풍미를 더하고, 발사믹 글레이즈로 마무리하여 고기의 풍미를 한층 끌어올렸습니다.')]\n",
      "----------------------------------------------------------------------------------------------------\n",
      "==================================\u001b[1m Ai Message \u001b[0m==================================\n",
      "\n",
      "스테이크 메뉴의 가격은 다음과 같습니다:\n",
      "- 샤토브리앙 스테이크: ₩42,000\n",
      "- 안심 스테이크 샐러드: ₩26,000\n",
      "\n",
      "더 궁금한 점 있으시면 알려주세요! [도구: 검색된 레스토랑 메뉴]\n",
      "----------------------------------------------------------------------------------------------------\n",
      "================================\u001b[1m Human Message \u001b[0m=================================\n",
      "\n",
      "둘 중에 더 저렴한 메뉴는 무엇인가요?\n",
      "----------------------------------------------------------------------------------------------------\n",
      "==================================\u001b[1m Ai Message \u001b[0m==================================\n",
      "\n",
      "더 저렴한 메뉴는 \"안심 스테이크 샐러드\"로 가격은 ₩26,000입니다. [도구: 검색된 레스토랑 메뉴]\n",
      "----------------------------------------------------------------------------------------------------\n",
      "================================\u001b[1m Human Message \u001b[0m=================================\n",
      "\n",
      "이 메뉴와 곁들이면 좋은 다른 메뉴가 있나요?\n",
      "----------------------------------------------------------------------------------------------------\n",
      "==================================\u001b[1m Ai Message \u001b[0m==================================\n",
      "Tool Calls:\n",
      "  search_menu (call_DeJd5wrmrOUtyx2FRFyrm22Y)\n",
      " Call ID: call_DeJd5wrmrOUtyx2FRFyrm22Y\n",
      "  Args:\n",
      "    query: 안심 스테이크 샐러드 곁들이 메뉴\n",
      "----------------------------------------------------------------------------------------------------\n",
      "=================================\u001b[1m Tool Message \u001b[0m=================================\n",
      "Name: search_menu\n",
      "\n",
      "[Document(id='ce7c9b7d-df58-4332-87c1-529648bc8f79', metadata={'source': './data/restaurant_menu.txt', 'menu_number': 8, 'menu_name': '안심 스테이크 샐러드'}, page_content='8. 안심 스테이크 샐러드\\n   • 가격: ₩26,000\\n   • 주요 식재료: 소고기 안심, 루꼴라, 체리 토마토, 발사믹 글레이즈\\n   • 설명: 부드러운 안심 스테이크를 얇게 슬라이스하여 신선한 루꼴라 위에 올린 메인 요리 샐러드입니다. 체리 토마토와 파마산 치즈 플레이크로 풍미를 더하고, 발사믹 글레이즈로 마무리하여 고기의 풍미를 한층 끌어올렸습니다.'), Document(id='345de78f-18d9-4182-ac7c-098f8ce4c2a6', metadata={'menu_name': '샤토브리앙 스테이크', 'source': './data/restaurant_menu.txt', 'menu_number': 26}, page_content='26. 샤토브리앙 스테이크\\n    • 가격: ₩42,000\\n    • 주요 식재료: 프리미엄 안심 스테이크, 푸아그라, 트러플 소스\\n    • 설명: 최상급 안심 스테이크에 푸아그라를 올리고 트러플 소스를 곁들인 클래식 프렌치 요리입니다. 부드러운 육질과 깊은 풍미가 특징이며, 그린 아스파라거스와 감자 그라탕을 함께 제공합니다.')]\n",
      "----------------------------------------------------------------------------------------------------\n",
      "==================================\u001b[1m Ai Message \u001b[0m==================================\n",
      "\n",
      "안심 스테이크 샐러드와 곁들이면 좋은 메뉴로는 \"샤토브리앙 스테이크\"가 있습니다. 이 메뉴는 최상급 안심 스테이크에 푸아그라와 트러플 소스를 곁들여 고급스러운 맛을 자랑하며, 그린 아스파라거스와 감자 그라탕이 함께 제공됩니다. 부드러운 육질과 깊은 풍미가 안심 스테이크 샐러드와 잘 어울릴 것입니다. [도구: 레스토랑 메뉴]\n",
      "----------------------------------------------------------------------------------------------------\n"
     ]
    }
   ],
   "source": [
    "# 전체 메시지 출력\n",
    "print(\"전체 메시지 개수: \", len(step['messages']))\n",
    "for m in step['messages']:\n",
    "    m.pretty_print()\n",
    "    print(\"-\" * 100)"
   ]
  },
  {
   "cell_type": "markdown",
   "metadata": {},
   "source": [
    "`(2) 긴 대화 관리 - 메시지 요약 (Summarization)`\n",
    "\n",
    "- **정보 손실을 최소화**하면서 컨텍스트 관리\n",
    "- 오래된 메시지를 요약하여 **메시지 길이**를 줄이고, 해당 메시지를 삭제\n",
    "- **LangGraph**의 `MessagesState`는 `RemoveMessage` 기능을 활용하여 메시지를 제거 (삭제할 메시지의 ID를 지정하는 \"remove\" 객체 목록을 반환함)\n"
   ]
  },
  {
   "cell_type": "code",
   "execution_count": 44,
   "metadata": {},
   "outputs": [
    {
     "data": {
      "image/png": "[encoded data removed]",
      "text/plain": [
       "<IPython.core.display.Image object>"
      ]
     },
     "metadata": {},
     "output_type": "display_data"
    }
   ],
   "source": [
    "from langgraph.graph import StateGraph, START, END\n",
    "from langgraph.prebuilt import ToolNode\n",
    "from langgraph.prebuilt import tools_condition\n",
    "from langgraph.checkpoint.memory import InMemorySaver\n",
    "\n",
    "from langchain_core.messages.utils import trim_messages, count_tokens_approximately\n",
    "from langchain_core.messages import HumanMessage, SystemMessage, ToolMessage, RemoveMessage\n",
    "from langchain_openai import ChatOpenAI\n",
    "\n",
    "from IPython.display import Image, display\n",
    "from typing import Any\n",
    "\n",
    "# 요약 기능이 포함된 확장된 상태 정의\n",
    "class SummaryState(MessagesState):\n",
    "    summary: str   # 대화 요약을 저장할 필드\n",
    "\n",
    "# LLM 모델에 도구를 바인딩 \n",
    "llm = ChatOpenAI(model=\"gpt-4.1-mini\")\n",
    "tools = [search_menu, search_wine]  \n",
    "llm_with_tools = llm.bind_tools(tools=tools)\n",
    "\n",
    "def summarize_conversation(state: SummaryState):\n",
    "    \"\"\"대화 요약 생성 함수\"\"\"\n",
    "    summary = state.get(\"summary\", \"\")\n",
    "    messages_to_summarize = state[\"messages\"][:-2]  # 마지막 2개 메시지를 제외한 나머지\n",
    "    \n",
    "    if not messages_to_summarize:\n",
    "        return {\"summary\": summary}\n",
    "    \n",
    "    if summary:\n",
    "        summary_message = (\n",
    "            f\"지금까지의 대화 요약: {summary}\\n\\n\"\n",
    "            \"다음 새로운 메시지들을 고려하여 요약을 확장하세요:\\n\"\n",
    "            f\"{format_messages_for_summary(messages_to_summarize)}\"\n",
    "        )\n",
    "    else:\n",
    "        summary_message = (\n",
    "            \"다음 대화의 요약을 생성하세요:\\n\"\n",
    "            f\"{format_messages_for_summary(messages_to_summarize)}\"\n",
    "        )\n",
    "\n",
    "    # 요약 생성을 위한 메시지 구성\n",
    "    summary_prompt = [\n",
    "        SystemMessage(content=\"당신은 대화 내용을 간결하고 정확하게 요약하는 전문가입니다. 중요한 정보와 결정사항, 컨텍스트를 포함하여 요약해주세요.\"),\n",
    "        HumanMessage(content=summary_message)\n",
    "    ]\n",
    "    \n",
    "    response = llm.invoke(summary_prompt)\n",
    "    \n",
    "    return {\"summary\": response.content}\n",
    "\n",
    "def format_messages_for_summary(messages):\n",
    "    \"\"\"메시지들을 요약용 텍스트로 포매팅\"\"\"\n",
    "    formatted = []\n",
    "    for msg in messages:\n",
    "        if hasattr(msg, 'type'):\n",
    "            msg_type = msg.type.upper()\n",
    "            content = msg.content if hasattr(msg, 'content') else str(msg)\n",
    "            formatted.append(f\"{msg_type}: {content}\")\n",
    "    return \"\\n\".join(formatted)\n",
    "\n",
    "# 에이전트 실행 노드 (메시지 삭제 및 요약 포함)\n",
    "def call_model_with_message_management(state: SummaryState):\n",
    "    system_prompt = SystemMessage(\"\"\"You are a helpful AI assistant. Please respond to the user's query to the best of your ability!\n",
    "\n",
    "중요: 답변을 제공할 때 반드시 정보의 출처를 명시해야 합니다. 출처는 다음과 같이 표시하세요:\n",
    "- 도구를 사용하여 얻은 정보: [도구: 도구이름]\n",
    "- 모델의 일반 지식에 기반한 정보: [일반 지식]\n",
    "\n",
    "항상 정확하고 관련성 있는 정보를 제공하되, 확실하지 않은 경우 그 사실을 명시하세요. 출처를 명확히 표시함으로써 사용자가 정보의 신뢰성을 판단할 수 있도록 해주세요.\"\"\")\n",
    "    \n",
    "    messages = state[\"messages\"]\n",
    "    summary = state.get(\"summary\", \"\")\n",
    "    \n",
    "    # 메시지가 5개를 초과하면 요약 및 삭제 진행\n",
    "    if len(messages) > 5:\n",
    "        print(f\"메시지 개수가 {len(messages)}개이므로 요약 및 삭제를 진행합니다.\")\n",
    "        \n",
    "        # 1. 먼저 삭제될 메시지들로 요약 생성\n",
    "        summary_result = summarize_conversation(state)\n",
    "        updated_summary = summary_result[\"summary\"]\n",
    "        \n",
    "        # 2. 마지막 2개를 제외한 메시지들을 삭제\n",
    "        delete_messages = [RemoveMessage(id=m.id) for m in messages[:-2]]\n",
    "        \n",
    "        # 3. 남은 메시지들 (최근 2개)\n",
    "        remaining_messages = messages[-2:]\n",
    "        \n",
    "        print(f\"삭제할 메시지 개수: {len(delete_messages)}\")\n",
    "        print(f\"남은 메시지 개수: {len(remaining_messages)}\")\n",
    "        print(f\"업데이트된 요약: {updated_summary[:100]}...\")\n",
    "        \n",
    "        # 4. 요약이 있으면 시스템 프롬프트에 포함\n",
    "        if updated_summary:\n",
    "            enhanced_system_prompt = SystemMessage(\n",
    "                content=system_prompt.content + f\"\\n\\n이전 대화 요약: {updated_summary}\"\n",
    "            )\n",
    "        else:\n",
    "            enhanced_system_prompt = system_prompt\n",
    "        \n",
    "        # 5. 모델 호출용 메시지 구성\n",
    "        model_messages = [enhanced_system_prompt] + remaining_messages\n",
    "        \n",
    "    else:\n",
    "        # 메시지가 적으면 그대로 사용\n",
    "        delete_messages = []\n",
    "        model_messages = [system_prompt] + messages\n",
    "        updated_summary = summary\n",
    "        print(f\"메시지 개수가 {len(messages)}개이므로 삭제하지 않습니다.\")\n",
    "\n",
    "    # 모델 호출\n",
    "    response = llm_with_tools.invoke(model_messages)\n",
    "\n",
    "    # 반환할 업데이트 구성\n",
    "    update = {\n",
    "        \"messages\": delete_messages + [response],  # 삭제할 메시지들 + 새 응답\n",
    "        \"summary\": updated_summary\n",
    "    }\n",
    "    \n",
    "    return update\n",
    "\n",
    "\n",
    "# 도구 노드 생성\n",
    "tool_node = ToolNode(tools)\n",
    "\n",
    "# 그래프 생성\n",
    "workflow = StateGraph(SummaryState)\n",
    "\n",
    "# 노드 추가\n",
    "workflow.add_node(\"agent\", call_model_with_message_management)\n",
    "workflow.add_node(\"tools\", tool_node)\n",
    "\n",
    "# 엣지 추가\n",
    "workflow.add_edge(START, \"agent\")\n",
    "workflow.add_conditional_edges(\n",
    "    \"agent\",\n",
    "    tools_condition,\n",
    "    {\n",
    "        \"tools\": \"tools\",\n",
    "        \"__end__\": END,\n",
    "    }\n",
    ")\n",
    "workflow.add_edge(\"tools\", \"agent\")\n",
    "\n",
    "# 메모리 세이버와 함께 컴파일\n",
    "checkpointer = InMemorySaver()\n",
    "graph_with_summary = workflow.compile(checkpointer=checkpointer)\n",
    "\n",
    "# 그래프 출력\n",
    "display(Image(graph_with_summary.get_graph().draw_mermaid_png()))\n"
   ]
  },
  {
   "cell_type": "code",
   "execution_count": 45,
   "metadata": {},
   "outputs": [
    {
     "name": "stdout",
     "output_type": "stream",
     "text": [
      "================================\u001b[1m Human Message \u001b[0m=================================\n",
      "\n",
      "스테이크 메뉴의 가격은 얼마인가요\n",
      "----------------------------------------------------------------------------------------------------\n",
      "메시지 개수가 1개이므로 삭제하지 않습니다.\n",
      "==================================\u001b[1m Ai Message \u001b[0m==================================\n",
      "Tool Calls:\n",
      "  search_menu (call_5QlJmVLtos9aIlkLzJ1A41ou)\n",
      " Call ID: call_5QlJmVLtos9aIlkLzJ1A41ou\n",
      "  Args:\n",
      "    query: 스테이크\n",
      "----------------------------------------------------------------------------------------------------\n",
      "=================================\u001b[1m Tool Message \u001b[0m=================================\n",
      "Name: search_menu\n",
      "\n",
      "[Document(id='345de78f-18d9-4182-ac7c-098f8ce4c2a6', metadata={'menu_number': 26, 'menu_name': '샤토브리앙 스테이크', 'source': './data/restaurant_menu.txt'}, page_content='26. 샤토브리앙 스테이크\\n    • 가격: ₩42,000\\n    • 주요 식재료: 프리미엄 안심 스테이크, 푸아그라, 트러플 소스\\n    • 설명: 최상급 안심 스테이크에 푸아그라를 올리고 트러플 소스를 곁들인 클래식 프렌치 요리입니다. 부드러운 육질과 깊은 풍미가 특징이며, 그린 아스파라거스와 감자 그라탕을 함께 제공합니다.'), Document(id='ce7c9b7d-df58-4332-87c1-529648bc8f79', metadata={'source': './data/restaurant_menu.txt', 'menu_number': 8, 'menu_name': '안심 스테이크 샐러드'}, page_content='8. 안심 스테이크 샐러드\\n   • 가격: ₩26,000\\n   • 주요 식재료: 소고기 안심, 루꼴라, 체리 토마토, 발사믹 글레이즈\\n   • 설명: 부드러운 안심 스테이크를 얇게 슬라이스하여 신선한 루꼴라 위에 올린 메인 요리 샐러드입니다. 체리 토마토와 파마산 치즈 플레이크로 풍미를 더하고, 발사믹 글레이즈로 마무리하여 고기의 풍미를 한층 끌어올렸습니다.')]\n",
      "----------------------------------------------------------------------------------------------------\n",
      "메시지 개수가 3개이므로 삭제하지 않습니다.\n",
      "==================================\u001b[1m Ai Message \u001b[0m==================================\n",
      "\n",
      "스테이크 메뉴 가격은 다음과 같습니다:\n",
      "- 샤토브리앙 스테이크: 42,000원\n",
      "- 안심 스테이크 샐러드: 26,000원\n",
      "\n",
      "필요하시면 더 자세한 메뉴 설명도 알려드릴 수 있습니다. [도구: functions.search_menu]\n",
      "----------------------------------------------------------------------------------------------------\n"
     ]
    }
   ],
   "source": [
    "# thred_id 설정\n",
    "config = {\"configurable\": {\"thread_id\": \"1\"}}\n",
    "\n",
    "# 초기 메시지 설정\n",
    "messages = [HumanMessage(content=\"스테이크 메뉴의 가격은 얼마인가요\")]\n",
    "\n",
    "# 그래프 실행\n",
    "for step in graph_with_summary.stream({\"messages\": messages}, config, stream_mode=\"values\"):\n",
    "    if \"messages\" in step:\n",
    "        step[\"messages\"][-1].pretty_print()\n",
    "        print(\"-\" * 100)"
   ]
  },
  {
   "cell_type": "code",
   "execution_count": 46,
   "metadata": {},
   "outputs": [
    {
     "name": "stdout",
     "output_type": "stream",
     "text": [
      "================================\u001b[1m Human Message \u001b[0m=================================\n",
      "\n",
      "둘 중에 더 저렴한 메뉴는 무엇인가요?\n",
      "----------------------------------------------------------------------------------------------------\n",
      "메시지 개수가 5개이므로 삭제하지 않습니다.\n",
      "==================================\u001b[1m Ai Message \u001b[0m==================================\n",
      "\n",
      "두 메뉴 중 더 저렴한 메뉴는 \"안심 스테이크 샐러드\"로, 가격은 26,000원입니다. [도구: functions.search_menu]\n",
      "----------------------------------------------------------------------------------------------------\n"
     ]
    }
   ],
   "source": [
    "# thred_id 설정 유지한 상태에서 다른 메시지로 그래프 실행\n",
    "config = {\"configurable\": {\"thread_id\": \"1\"}}\n",
    "messages = [HumanMessage(content=\"둘 중에 더 저렴한 메뉴는 무엇인가요?\")]\n",
    "\n",
    "# 그래프 실행 및 결과 출력 \n",
    "for step in graph_with_summary.stream({\"messages\": messages}, config, stream_mode=\"values\"):\n",
    "    if \"messages\" in step:\n",
    "        step[\"messages\"][-1].pretty_print()\n",
    "        print(\"-\" * 100)"
   ]
  },
  {
   "cell_type": "code",
   "execution_count": 47,
   "metadata": {},
   "outputs": [
    {
     "name": "stdout",
     "output_type": "stream",
     "text": [
      "전체 메시지 개수:  6\n",
      "================================\u001b[1m Human Message \u001b[0m=================================\n",
      "\n",
      "스테이크 메뉴의 가격은 얼마인가요\n",
      "----------------------------------------------------------------------------------------------------\n",
      "==================================\u001b[1m Ai Message \u001b[0m==================================\n",
      "Tool Calls:\n",
      "  search_menu (call_5QlJmVLtos9aIlkLzJ1A41ou)\n",
      " Call ID: call_5QlJmVLtos9aIlkLzJ1A41ou\n",
      "  Args:\n",
      "    query: 스테이크\n",
      "----------------------------------------------------------------------------------------------------\n",
      "=================================\u001b[1m Tool Message \u001b[0m=================================\n",
      "Name: search_menu\n",
      "\n",
      "[Document(id='345de78f-18d9-4182-ac7c-098f8ce4c2a6', metadata={'menu_number': 26, 'menu_name': '샤토브리앙 스테이크', 'source': './data/restaurant_menu.txt'}, page_content='26. 샤토브리앙 스테이크\\n    • 가격: ₩42,000\\n    • 주요 식재료: 프리미엄 안심 스테이크, 푸아그라, 트러플 소스\\n    • 설명: 최상급 안심 스테이크에 푸아그라를 올리고 트러플 소스를 곁들인 클래식 프렌치 요리입니다. 부드러운 육질과 깊은 풍미가 특징이며, 그린 아스파라거스와 감자 그라탕을 함께 제공합니다.'), Document(id='ce7c9b7d-df58-4332-87c1-529648bc8f79', metadata={'source': './data/restaurant_menu.txt', 'menu_number': 8, 'menu_name': '안심 스테이크 샐러드'}, page_content='8. 안심 스테이크 샐러드\\n   • 가격: ₩26,000\\n   • 주요 식재료: 소고기 안심, 루꼴라, 체리 토마토, 발사믹 글레이즈\\n   • 설명: 부드러운 안심 스테이크를 얇게 슬라이스하여 신선한 루꼴라 위에 올린 메인 요리 샐러드입니다. 체리 토마토와 파마산 치즈 플레이크로 풍미를 더하고, 발사믹 글레이즈로 마무리하여 고기의 풍미를 한층 끌어올렸습니다.')]\n",
      "----------------------------------------------------------------------------------------------------\n",
      "==================================\u001b[1m Ai Message \u001b[0m==================================\n",
      "\n",
      "스테이크 메뉴 가격은 다음과 같습니다:\n",
      "- 샤토브리앙 스테이크: 42,000원\n",
      "- 안심 스테이크 샐러드: 26,000원\n",
      "\n",
      "필요하시면 더 자세한 메뉴 설명도 알려드릴 수 있습니다. [도구: functions.search_menu]\n",
      "----------------------------------------------------------------------------------------------------\n",
      "================================\u001b[1m Human Message \u001b[0m=================================\n",
      "\n",
      "둘 중에 더 저렴한 메뉴는 무엇인가요?\n",
      "----------------------------------------------------------------------------------------------------\n",
      "==================================\u001b[1m Ai Message \u001b[0m==================================\n",
      "\n",
      "두 메뉴 중 더 저렴한 메뉴는 \"안심 스테이크 샐러드\"로, 가격은 26,000원입니다. [도구: functions.search_menu]\n",
      "----------------------------------------------------------------------------------------------------\n"
     ]
    }
   ],
   "source": [
    "# 전체 메시지 출력\n",
    "print(\"전체 메시지 개수: \", len(step['messages']))\n",
    "for m in step['messages']:\n",
    "    m.pretty_print()\n",
    "    print(\"-\" * 100)"
   ]
  },
  {
   "cell_type": "code",
   "execution_count": 48,
   "metadata": {},
   "outputs": [
    {
     "name": "stdout",
     "output_type": "stream",
     "text": [
      "================================\u001b[1m Human Message \u001b[0m=================================\n",
      "\n",
      "이 메뉴와 곁들이면 좋은 다른 메뉴가 있나요?\n",
      "----------------------------------------------------------------------------------------------------\n",
      "메시지 개수가 7개이므로 요약 및 삭제를 진행합니다.\n",
      "삭제할 메시지 개수: 5\n",
      "남은 메시지 개수: 2\n",
      "업데이트된 요약: 스테이크 메뉴 중 더 저렴한 메뉴는 '안심 스테이크 샐러드'로 가격은 26,000원입니다....\n",
      "==================================\u001b[1m Ai Message \u001b[0m==================================\n",
      "Tool Calls:\n",
      "  search_menu (call_eQvtZ1kftj18FNrN0FVwgmgU)\n",
      " Call ID: call_eQvtZ1kftj18FNrN0FVwgmgU\n",
      "  Args:\n",
      "    query: 안심 스테이크 샐러드 곁들이기\n",
      "----------------------------------------------------------------------------------------------------\n",
      "=================================\u001b[1m Tool Message \u001b[0m=================================\n",
      "Name: search_menu\n",
      "\n",
      "[Document(id='ce7c9b7d-df58-4332-87c1-529648bc8f79', metadata={'menu_name': '안심 스테이크 샐러드', 'menu_number': 8, 'source': './data/restaurant_menu.txt'}, page_content='8. 안심 스테이크 샐러드\\n   • 가격: ₩26,000\\n   • 주요 식재료: 소고기 안심, 루꼴라, 체리 토마토, 발사믹 글레이즈\\n   • 설명: 부드러운 안심 스테이크를 얇게 슬라이스하여 신선한 루꼴라 위에 올린 메인 요리 샐러드입니다. 체리 토마토와 파마산 치즈 플레이크로 풍미를 더하고, 발사믹 글레이즈로 마무리하여 고기의 풍미를 한층 끌어올렸습니다.'), Document(id='345de78f-18d9-4182-ac7c-098f8ce4c2a6', metadata={'menu_number': 26, 'menu_name': '샤토브리앙 스테이크', 'source': './data/restaurant_menu.txt'}, page_content='26. 샤토브리앙 스테이크\\n    • 가격: ₩42,000\\n    • 주요 식재료: 프리미엄 안심 스테이크, 푸아그라, 트러플 소스\\n    • 설명: 최상급 안심 스테이크에 푸아그라를 올리고 트러플 소스를 곁들인 클래식 프렌치 요리입니다. 부드러운 육질과 깊은 풍미가 특징이며, 그린 아스파라거스와 감자 그라탕을 함께 제공합니다.')]\n",
      "----------------------------------------------------------------------------------------------------\n",
      "메시지 개수가 4개이므로 삭제하지 않습니다.\n",
      "==================================\u001b[1m Ai Message \u001b[0m==================================\n",
      "\n",
      "안심 스테이크 샐러드와 곁들이기 좋은 메뉴로는 고급스러운 맛을 더해줄 수 있는 \"샤토브리앙 스테이크\"가 있습니다. 이 메뉴는 프리미엄 안심 스테이크에 푸아그라와 트러플 소스를 곁들여 부드러운 육질과 깊은 풍미를 느낄 수 있으며, 함께 제공되는 그린 아스파라거스와 감자 그라탕이 안심 스테이크 샐러드와 잘 어울립니다. [도구: functions.search_menu]\n",
      "----------------------------------------------------------------------------------------------------\n"
     ]
    }
   ],
   "source": [
    "# thred_id 설정 유지한 상태에서 다른 메시지로 그래프 실행\n",
    "config = {\"configurable\": {\"thread_id\": \"1\"}}\n",
    "messages = [HumanMessage(content=\"이 메뉴와 곁들이면 좋은 다른 메뉴가 있나요?\")]\n",
    "\n",
    "# 그래프 실행 및 결과 출력\n",
    "for step in graph_with_summary.stream({\"messages\": messages}, config, stream_mode=\"values\"):\n",
    "    if \"messages\" in step:\n",
    "        step[\"messages\"][-1].pretty_print()\n",
    "        print(\"-\" * 100)"
   ]
  },
  {
   "cell_type": "code",
   "execution_count": 49,
   "metadata": {},
   "outputs": [
    {
     "name": "stdout",
     "output_type": "stream",
     "text": [
      "전체 메시지 개수:  5\n",
      "==================================\u001b[1m Ai Message \u001b[0m==================================\n",
      "\n",
      "두 메뉴 중 더 저렴한 메뉴는 \"안심 스테이크 샐러드\"로, 가격은 26,000원입니다. [도구: functions.search_menu]\n",
      "----------------------------------------------------------------------------------------------------\n",
      "================================\u001b[1m Human Message \u001b[0m=================================\n",
      "\n",
      "이 메뉴와 곁들이면 좋은 다른 메뉴가 있나요?\n",
      "----------------------------------------------------------------------------------------------------\n",
      "==================================\u001b[1m Ai Message \u001b[0m==================================\n",
      "Tool Calls:\n",
      "  search_menu (call_eQvtZ1kftj18FNrN0FVwgmgU)\n",
      " Call ID: call_eQvtZ1kftj18FNrN0FVwgmgU\n",
      "  Args:\n",
      "    query: 안심 스테이크 샐러드 곁들이기\n",
      "----------------------------------------------------------------------------------------------------\n",
      "=================================\u001b[1m Tool Message \u001b[0m=================================\n",
      "Name: search_menu\n",
      "\n",
      "[Document(id='ce7c9b7d-df58-4332-87c1-529648bc8f79', metadata={'menu_name': '안심 스테이크 샐러드', 'menu_number': 8, 'source': './data/restaurant_menu.txt'}, page_content='8. 안심 스테이크 샐러드\\n   • 가격: ₩26,000\\n   • 주요 식재료: 소고기 안심, 루꼴라, 체리 토마토, 발사믹 글레이즈\\n   • 설명: 부드러운 안심 스테이크를 얇게 슬라이스하여 신선한 루꼴라 위에 올린 메인 요리 샐러드입니다. 체리 토마토와 파마산 치즈 플레이크로 풍미를 더하고, 발사믹 글레이즈로 마무리하여 고기의 풍미를 한층 끌어올렸습니다.'), Document(id='345de78f-18d9-4182-ac7c-098f8ce4c2a6', metadata={'menu_number': 26, 'menu_name': '샤토브리앙 스테이크', 'source': './data/restaurant_menu.txt'}, page_content='26. 샤토브리앙 스테이크\\n    • 가격: ₩42,000\\n    • 주요 식재료: 프리미엄 안심 스테이크, 푸아그라, 트러플 소스\\n    • 설명: 최상급 안심 스테이크에 푸아그라를 올리고 트러플 소스를 곁들인 클래식 프렌치 요리입니다. 부드러운 육질과 깊은 풍미가 특징이며, 그린 아스파라거스와 감자 그라탕을 함께 제공합니다.')]\n",
      "----------------------------------------------------------------------------------------------------\n",
      "==================================\u001b[1m Ai Message \u001b[0m==================================\n",
      "\n",
      "안심 스테이크 샐러드와 곁들이기 좋은 메뉴로는 고급스러운 맛을 더해줄 수 있는 \"샤토브리앙 스테이크\"가 있습니다. 이 메뉴는 프리미엄 안심 스테이크에 푸아그라와 트러플 소스를 곁들여 부드러운 육질과 깊은 풍미를 느낄 수 있으며, 함께 제공되는 그린 아스파라거스와 감자 그라탕이 안심 스테이크 샐러드와 잘 어울립니다. [도구: functions.search_menu]\n",
      "----------------------------------------------------------------------------------------------------\n"
     ]
    }
   ],
   "source": [
    "# 전체 메시지 출력\n",
    "print(\"전체 메시지 개수: \", len(step['messages']))\n",
    "for m in step['messages']:\n",
    "    m.pretty_print()\n",
    "    print(\"-\" * 100)"
   ]
  },
  {
   "cell_type": "code",
   "execution_count": 50,
   "metadata": {},
   "outputs": [
    {
     "data": {
      "text/plain": [
       "{'messages': [AIMessage(content='두 메뉴 중 더 저렴한 메뉴는 \"안심 스테이크 샐러드\"로, 가격은 26,000원입니다. [도구: functions.search_menu]', additional_kwargs={'refusal': None}, response_metadata={'token_usage': {'completion_tokens': 40, 'prompt_tokens': 779, 'total_tokens': 819, 'completion_tokens_details': {'accepted_prediction_tokens': 0, 'audio_tokens': 0, 'reasoning_tokens': 0, 'rejected_prediction_tokens': 0}, 'prompt_tokens_details': {'audio_tokens': 0, 'cached_tokens': 0}}, 'model_name': 'gpt-4.1-mini-2025-04-14', 'system_fingerprint': None, 'id': 'chatcmpl-BwOONA7CauYxI1mDEQ8A6r9IIdrAD', 'service_tier': 'default', 'finish_reason': 'stop', 'logprobs': None}, id='run--b7e74f6c-4480-45c0-8b26-3640a0c8dd8d-0', usage_metadata={'input_tokens': 779, 'output_tokens': 40, 'total_tokens': 819, 'input_token_details': {'audio': 0, 'cache_read': 0}, 'output_token_details': {'audio': 0, 'reasoning': 0}}),\n",
       "  HumanMessage(content='이 메뉴와 곁들이면 좋은 다른 메뉴가 있나요?', additional_kwargs={}, response_metadata={}, id='4b29b8b7-c882-4c67-b473-6f7ae880cb19'),\n",
       "  AIMessage(content='', additional_kwargs={'tool_calls': [{'id': 'call_eQvtZ1kftj18FNrN0FVwgmgU', 'function': {'arguments': '{\"query\":\"안심 스테이크 샐러드 곁들이기\"}', 'name': 'search_menu'}, 'type': 'function'}], 'refusal': None}, response_metadata={'token_usage': {'completion_tokens': 26, 'prompt_tokens': 358, 'total_tokens': 384, 'completion_tokens_details': {'accepted_prediction_tokens': 0, 'audio_tokens': 0, 'reasoning_tokens': 0, 'rejected_prediction_tokens': 0}, 'prompt_tokens_details': {'audio_tokens': 0, 'cached_tokens': 0}}, 'model_name': 'gpt-4.1-mini-2025-04-14', 'system_fingerprint': None, 'id': 'chatcmpl-BwOOb36ZXCq3SHCoGJm7HQBNRU6u6', 'service_tier': 'default', 'finish_reason': 'tool_calls', 'logprobs': None}, id='run--8f2793c8-b52b-47a9-ab4f-b5d06f485d7d-0', tool_calls=[{'name': 'search_menu', 'args': {'query': '안심 스테이크 샐러드 곁들이기'}, 'id': 'call_eQvtZ1kftj18FNrN0FVwgmgU', 'type': 'tool_call'}], usage_metadata={'input_tokens': 358, 'output_tokens': 26, 'total_tokens': 384, 'input_token_details': {'audio': 0, 'cache_read': 0}, 'output_token_details': {'audio': 0, 'reasoning': 0}}),\n",
       "  ToolMessage(content=\"[Document(id='ce7c9b7d-df58-4332-87c1-529648bc8f79', metadata={'menu_name': '안심 스테이크 샐러드', 'menu_number': 8, 'source': './data/restaurant_menu.txt'}, page_content='8. 안심 스테이크 샐러드\\\\n   • 가격: ₩26,000\\\\n   • 주요 식재료: 소고기 안심, 루꼴라, 체리 토마토, 발사믹 글레이즈\\\\n   • 설명: 부드러운 안심 스테이크를 얇게 슬라이스하여 신선한 루꼴라 위에 올린 메인 요리 샐러드입니다. 체리 토마토와 파마산 치즈 플레이크로 풍미를 더하고, 발사믹 글레이즈로 마무리하여 고기의 풍미를 한층 끌어올렸습니다.'), Document(id='345de78f-18d9-4182-ac7c-098f8ce4c2a6', metadata={'menu_number': 26, 'menu_name': '샤토브리앙 스테이크', 'source': './data/restaurant_menu.txt'}, page_content='26. 샤토브리앙 스테이크\\\\n    • 가격: ₩42,000\\\\n    • 주요 식재료: 프리미엄 안심 스테이크, 푸아그라, 트러플 소스\\\\n    • 설명: 최상급 안심 스테이크에 푸아그라를 올리고 트러플 소스를 곁들인 클래식 프렌치 요리입니다. 부드러운 육질과 깊은 풍미가 특징이며, 그린 아스파라거스와 감자 그라탕을 함께 제공합니다.')]\", name='search_menu', id='d1a0e2d8-9e2c-49c8-91ee-6d059e380cc1', tool_call_id='call_eQvtZ1kftj18FNrN0FVwgmgU'),\n",
       "  AIMessage(content='안심 스테이크 샐러드와 곁들이기 좋은 메뉴로는 고급스러운 맛을 더해줄 수 있는 \"샤토브리앙 스테이크\"가 있습니다. 이 메뉴는 프리미엄 안심 스테이크에 푸아그라와 트러플 소스를 곁들여 부드러운 육질과 깊은 풍미를 느낄 수 있으며, 함께 제공되는 그린 아스파라거스와 감자 그라탕이 안심 스테이크 샐러드와 잘 어울립니다. [도구: functions.search_menu]', additional_kwargs={'refusal': None}, response_metadata={'token_usage': {'completion_tokens': 130, 'prompt_tokens': 747, 'total_tokens': 877, 'completion_tokens_details': {'accepted_prediction_tokens': 0, 'audio_tokens': 0, 'reasoning_tokens': 0, 'rejected_prediction_tokens': 0}, 'prompt_tokens_details': {'audio_tokens': 0, 'cached_tokens': 0}}, 'model_name': 'gpt-4.1-mini-2025-04-14', 'system_fingerprint': None, 'id': 'chatcmpl-BwOOdvvZubumR7N1pLYQbnB3FkqzN', 'service_tier': 'default', 'finish_reason': 'stop', 'logprobs': None}, id='run--d1c0ad93-3974-422c-ba58-b079eb42cb80-0', usage_metadata={'input_tokens': 747, 'output_tokens': 130, 'total_tokens': 877, 'input_token_details': {'audio': 0, 'cache_read': 0}, 'output_token_details': {'audio': 0, 'reasoning': 0}})],\n",
       " 'summary': \"스테이크 메뉴 중 더 저렴한 메뉴는 '안심 스테이크 샐러드'로 가격은 26,000원입니다.\"}"
      ]
     },
     "execution_count": 50,
     "metadata": {},
     "output_type": "execute_result"
    }
   ],
   "source": [
    "step"
   ]
  },
  {
   "cell_type": "markdown",
   "metadata": {},
   "source": [
    "---\n",
    "\n",
    "## **장기 메모리 (Long-term Memory)**\n",
    "\n",
    "- **LangGraph 시스템**은 다중 세션에서 정보를 유지하는 장기 메모리 기능을 제공\n",
    "\n",
    "- 정보는 **JSON 문서** 형태로 저장되며, 사용자가 정의한 **네임스페이스**와 고유 키로 구성\n",
    "\n",
    "- 메모리 저장소는 **InMemoryStore** 또는 **DB 기반** 시스템을 선택하여 구현 가능\n",
    "\n",
    "- **콘텐츠 필터**를 통해 여러 네임스페이스 간의 효율적인 검색 가능"
   ]
  },
  {
   "cell_type": "markdown",
   "metadata": {},
   "source": [
    "---\n",
    "\n",
    "### 1. **InMemoryStore**\n",
    "\n",
    "- LangGraph에서 **스레드(대화) 간에 정보를 공유**하고 저장하기 위한 인터페이스\n",
    "\n",
    "- **namespace 기반 저장**: 메모리는 튜플 형태의 namespace로 구분되어 저장 (예: (user_id, \"memories\"))\n",
    "\n",
    "- **key-value 저장**: 각 메모리는 고유한 key와 dictionary 형태의 value로 저장\n",
    "\n",
    "- **시맨틱 검색 지원**: 임베딩 모델을 사용하여 의미 기반 검색이 가능\n",
    "\n",
    "- **체크포인터와 연동**: 그래프의 체크포인터와 함께 동작하여 스레드 간 정보 공유 가능"
   ]
  },
  {
   "cell_type": "markdown",
   "metadata": {},
   "source": [
    "`(1) 기본 사용법`"
   ]
  },
  {
   "cell_type": "code",
   "execution_count": 51,
   "metadata": {},
   "outputs": [],
   "source": [
    "from langgraph.store.memory import InMemoryStore\n",
    "import uuid\n",
    "\n",
    "# InMemoryStore 생성\n",
    "store = InMemoryStore()\n",
    "\n",
    "# namespace 정의 \n",
    "user_id = \"1\"\n",
    "namespace = (user_id, \"memories\")\n",
    "\n",
    "# 메모리 저장\n",
    "memory_id = str(uuid.uuid4())\n",
    "memory = {\n",
    "    \"food_preference\": \"김치찌개를 좋아합니다\",\n",
    "    \"hobby\": \"등산\"\n",
    "}\n",
    "store.put(namespace, memory_id, memory)"
   ]
  },
  {
   "cell_type": "code",
   "execution_count": 52,
   "metadata": {},
   "outputs": [
    {
     "name": "stdout",
     "output_type": "stream",
     "text": [
      "{'created_at': '2025-07-23T07:44:01.460650+00:00',\n",
      " 'key': 'f0692255-7316-43fa-804a-196f3bff0a59',\n",
      " 'namespace': ['1', 'memories'],\n",
      " 'score': None,\n",
      " 'updated_at': '2025-07-23T07:44:01.460650+00:00',\n",
      " 'value': {'food_preference': '김치찌개를 좋아합니다', 'hobby': '등산'}}\n",
      "--------------------------------------------------------------------------------------------------------------------------------------------------------------------------------------------------------\n"
     ]
    }
   ],
   "source": [
    "# 메모리 검색\n",
    "memories = store.search(namespace)\n",
    "\n",
    "# 검색된 메모리 출력\n",
    "for memory in memories:\n",
    "    pprint(memory.dict())\n",
    "    print(\"-\" * 200)"
   ]
  },
  {
   "cell_type": "markdown",
   "metadata": {},
   "source": [
    "`(2) 시맨틱 검색 구현`"
   ]
  },
  {
   "cell_type": "code",
   "execution_count": 53,
   "metadata": {},
   "outputs": [],
   "source": [
    "from langchain_openai import OpenAIEmbeddings\n",
    "\n",
    "# 임베딩 함수 정의\n",
    "def embed(texts: list[str]) -> list[list[float]]:\n",
    "    embeddings_model = OpenAIEmbeddings(model=\"text-embedding-3-small\")\n",
    "    return embeddings_model.embed_documents(texts)\n",
    "\n",
    "# 임베딩 모델을 사용하는 store 생성\n",
    "semantic_store = InMemoryStore(\n",
    "    index={\n",
    "        \"embed\": embed,  # 임베딩 함수 지정\n",
    "        \"dims\": 1536,    # 임베딩 차원 지정\n",
    "        \"fields\": [\"food_preference\", \"hobby\"]  # 임베딩할 필드 지정\n",
    "    }  #type:ignore\n",
    ")  \n",
    "\n",
    "# 여러 메모리 저장\n",
    "memories_to_store = [\n",
    "    {\n",
    "        \"food_preference\": \"매운 음식을 좋아합니다\",\n",
    "        \"hobby\": \"영화 감상\"\n",
    "    },\n",
    "    {\n",
    "        \"food_preference\": \"한식을 선호합니다\",\n",
    "        \"hobby\": \"등산과 캠핑\" \n",
    "    },\n",
    "    {\n",
    "        \"food_preference\": \"양식을 좋아합니다\",\n",
    "        \"hobby\": \"요리\"\n",
    "    }\n",
    "]\n",
    "\n",
    "for memory in memories_to_store:\n",
    "    memory_id = str(uuid.uuid4())\n",
    "    semantic_store.put(namespace, memory_id, memory)"
   ]
  },
  {
   "cell_type": "code",
   "execution_count": 55,
   "metadata": {},
   "outputs": [
    {
     "name": "stdout",
     "output_type": "stream",
     "text": [
      "검색 결과: {'food_preference': '양식을 좋아합니다', 'hobby': '요리'}\n",
      "검색 결과: {'food_preference': '매운 음식을 좋아합니다', 'hobby': '영화 감상'}\n"
     ]
    }
   ],
   "source": [
    "# 시맨틱 검색 수행\n",
    "search_results = semantic_store.search(\n",
    "    namespace,\n",
    "    query=\"요리를 주제로 하는 영화\",\n",
    "    limit=2\n",
    ")\n",
    "\n",
    "for result in search_results:\n",
    "    print(f\"검색 결과: {result.dict()['value']}\")"
   ]
  },
  {
   "cell_type": "markdown",
   "metadata": {},
   "source": [
    "---\n",
    "\n",
    "### 2. **체크포인트 연동**\n",
    "\n",
    "- **체크포인터와 연동**: 그래프의 체크포인터와 함께 동작하여 스레드 간 정보 공유 가능"
   ]
  },
  {
   "cell_type": "code",
   "execution_count": 56,
   "metadata": {},
   "outputs": [
    {
     "data": {
      "image/png": "[encoded data removed]",
      "text/plain": [
       "<IPython.core.display.Image object>"
      ]
     },
     "metadata": {},
     "output_type": "display_data"
    }
   ],
   "source": [
    "from langgraph.checkpoint.memory import InMemorySaver\n",
    "from langgraph.graph import StateGraph, MessagesState\n",
    "from langchain_core.runnables import RunnableConfig\n",
    "from langgraph.store.base import BaseStore\n",
    "from datetime import datetime\n",
    "import uuid\n",
    "from dataclasses import dataclass\n",
    "from langchain_openai import OpenAIEmbeddings\n",
    "\n",
    "# 메모리 저장소에서 사용할 네임스페이스 정의\n",
    "@dataclass \n",
    "class Namespace:\n",
    "    user_id: str\n",
    "    memory_type: str\n",
    "    \n",
    "    def to_tuple(self) -> tuple:\n",
    "        return (self.user_id, self.memory_type)\n",
    "\n",
    "# MessagesState를 확장하여 메모리 관련 필드 추가\n",
    "class GraphState(MessagesState):\n",
    "    summary: str  # 대화 요약을 저장할 필드\n",
    "\n",
    "# 메모리 업데이트 노드\n",
    "def update_memory(state: GraphState, config: RunnableConfig, *, store: BaseStore):\n",
    "    # 네임스페이스 동적 생성\n",
    "    namespace = Namespace(\n",
    "        user_id=config.get(\"configurable\", {}).get(\"user_id\", \"default\"),\n",
    "        memory_type=config.get(\"configurable\", {}).get(\"memory_type\", \"conversation_memory\")\n",
    "    )\n",
    "    \n",
    "    # 마지막 메시지 추출 (사용자의 대화 내용)\n",
    "    last_message = state[\"messages\"][-1]\n",
    "    memory = {\n",
    "        \"conversation\": last_message.content,\n",
    "        \"timestamp\": str(datetime.now()),\n",
    "        \"type\": last_message.type\n",
    "    }\n",
    "    \n",
    "    # 메모리 저장\n",
    "    store.put(namespace.to_tuple(), str(uuid.uuid4()), memory)\n",
    "    return state\n",
    "\n",
    "\n",
    "# LLM 모델에 도구를 바인딩 \n",
    "llm = ChatOpenAI(model=\"gpt-4.1-mini\")\n",
    "tools = [search_menu, search_wine]\n",
    "llm_with_tools = llm.bind_tools(tools=tools)\n",
    "\n",
    "# LLM 호출 노드\n",
    "def call_model(state: GraphState, config: RunnableConfig, *, store: BaseStore):\n",
    "    system_prompt = SystemMessage(\"\"\"You are a helpful AI assistant...\"\"\")\n",
    "    \n",
    "    # 네임스페이스 동적 생성\n",
    "    namespace = Namespace(\n",
    "        user_id=config.get(\"configurable\", {}).get(\"user_id\", \"default\"),\n",
    "        memory_type=config.get(\"configurable\", {}).get(\"memory_type\", \"conversation_memory\")\n",
    "    )\n",
    "    \n",
    "    # 메모리 검색\n",
    "    memories = store.search(\n",
    "        namespace.to_tuple(),\n",
    "        query=state[\"messages\"][-1].content,\n",
    "        limit=3\n",
    "    )\n",
    "    \n",
    "    # 이전 대화 메모리가 있는 경우, 메모리 내용을 요약에 추가\n",
    "    if memories:\n",
    "        memory_context = \"\\n이전 관련 대화:\\n\" + \"\\n\".join(\n",
    "            f\"- {m.value['conversation']}\" for m in memories\n",
    "        )\n",
    "        context_message = SystemMessage(content=memory_context)\n",
    "        messages = [system_prompt, context_message] + state[\"messages\"]\n",
    "\n",
    "    # 이전 대화 메모리가 없는 경우, 이전 메시지만 사용\n",
    "    else:\n",
    "        messages = [system_prompt] + state[\"messages\"]\n",
    "    \n",
    "    response = llm_with_tools.invoke(messages)\n",
    "    return {\"messages\": [response]}\n",
    "\n",
    "# 그래프 구성\n",
    "builder = StateGraph(GraphState)\n",
    "\n",
    "# 노드 추가\n",
    "builder.add_node(\"agent\", call_model)\n",
    "builder.add_node(\"memory\", update_memory)\n",
    "builder.add_node(\"tools\", ToolNode(tools))\n",
    "\n",
    "# 엣지 구성\n",
    "builder.add_edge(START, \"agent\")\n",
    "builder.add_edge(\"agent\", \"memory\")\n",
    "builder.add_conditional_edges(\n",
    "    \"memory\",\n",
    "    tools_condition\n",
    ")\n",
    "builder.add_edge(\"tools\", \"agent\")\n",
    "\n",
    "\n",
    "# 임베딩 함수 정의\n",
    "def embed(texts: list[str]) -> list[list[float]]:\n",
    "    embeddings_model = OpenAIEmbeddings(model=\"text-embedding-3-small\")\n",
    "    return embeddings_model.embed_documents(texts)\n",
    "\n",
    "# 임베딩 모델을 사용하는 store 생성\n",
    "conversation_store = InMemoryStore(\n",
    "    index={\n",
    "        \"embed\": embed,  # 임베딩 함수 지정\n",
    "        \"dims\": 1536,    # 임베딩 차원 지정\n",
    "        \"fields\": [\"conversation\"]  # 임베딩할 필드 지정\n",
    "    }  #type:ignore\n",
    ")  \n",
    "\n",
    "# 그래프 컴파일\n",
    "graph_with_store = builder.compile(\n",
    "    checkpointer=InMemorySaver(),\n",
    "    store=conversation_store  \n",
    ")\n",
    "\n",
    "# 그래프 시각화\n",
    "display(Image(graph_with_store.get_graph().draw_mermaid_png()))"
   ]
  },
  {
   "cell_type": "code",
   "execution_count": 57,
   "metadata": {},
   "outputs": [
    {
     "name": "stdout",
     "output_type": "stream",
     "text": [
      "================================\u001b[1m Human Message \u001b[0m=================================\n",
      "\n",
      "스테이크 메뉴의 가격은 얼마인가요\n",
      "==================================\u001b[1m Ai Message \u001b[0m==================================\n",
      "Tool Calls:\n",
      "  search_menu (call_ixU8tDNcyl4TSAvGIuizb81v)\n",
      " Call ID: call_ixU8tDNcyl4TSAvGIuizb81v\n",
      "  Args:\n",
      "    query: 스테이크\n",
      "=================================\u001b[1m Tool Message \u001b[0m=================================\n",
      "Name: search_menu\n",
      "\n",
      "[Document(id='345de78f-18d9-4182-ac7c-098f8ce4c2a6', metadata={'menu_name': '샤토브리앙 스테이크', 'source': './data/restaurant_menu.txt', 'menu_number': 26}, page_content='26. 샤토브리앙 스테이크\\n    • 가격: ₩42,000\\n    • 주요 식재료: 프리미엄 안심 스테이크, 푸아그라, 트러플 소스\\n    • 설명: 최상급 안심 스테이크에 푸아그라를 올리고 트러플 소스를 곁들인 클래식 프렌치 요리입니다. 부드러운 육질과 깊은 풍미가 특징이며, 그린 아스파라거스와 감자 그라탕을 함께 제공합니다.'), Document(id='ce7c9b7d-df58-4332-87c1-529648bc8f79', metadata={'menu_name': '안심 스테이크 샐러드', 'menu_number': 8, 'source': './data/restaurant_menu.txt'}, page_content='8. 안심 스테이크 샐러드\\n   • 가격: ₩26,000\\n   • 주요 식재료: 소고기 안심, 루꼴라, 체리 토마토, 발사믹 글레이즈\\n   • 설명: 부드러운 안심 스테이크를 얇게 슬라이스하여 신선한 루꼴라 위에 올린 메인 요리 샐러드입니다. 체리 토마토와 파마산 치즈 플레이크로 풍미를 더하고, 발사믹 글레이즈로 마무리하여 고기의 풍미를 한층 끌어올렸습니다.')]\n",
      "==================================\u001b[1m Ai Message \u001b[0m==================================\n",
      "\n",
      "스테이크 메뉴의 가격은 다음과 같습니다.\n",
      "- 샤토브리앙 스테이크: 42,000원\n",
      "- 안심 스테이크 샐러드: 26,000원\n",
      "\n",
      "원하는 메뉴에 대해 더 자세한 정보를 원하시면 말씀해 주세요.\n"
     ]
    }
   ],
   "source": [
    "# 그래프 실행 \n",
    "config = {\n",
    "    \"configurable\": {\n",
    "        \"thread_id\": \"thread_1\",\n",
    "        \"user_id\": \"user_123\",\n",
    "        \"memory_type\": \"conversation_memory\"\n",
    "    }\n",
    "}\n",
    "\n",
    "# 초기 메시지 설정\n",
    "messages = [HumanMessage(content=\"스테이크 메뉴의 가격은 얼마인가요\")]\n",
    "\n",
    "# 그래프 실행 및 결과 출력 (초기 메시지 사용)\n",
    "messages = graph_with_store.invoke({\"messages\": messages}, config) \n",
    "\n",
    "for m in messages['messages']:\n",
    "    m.pretty_print()"
   ]
  },
  {
   "cell_type": "code",
   "execution_count": 58,
   "metadata": {},
   "outputs": [
    {
     "name": "stdout",
     "output_type": "stream",
     "text": [
      "{'created_at': '2025-07-23T07:51:06.769356+00:00',\n",
      " 'key': '3b3ef11d-dd49-44c9-95d1-8e054262954e',\n",
      " 'namespace': ['user_123', 'conversation_memory'],\n",
      " 'score': 0.2880921491306226,\n",
      " 'updated_at': '2025-07-23T07:51:06.769356+00:00',\n",
      " 'value': {'conversation': '',\n",
      "           'timestamp': '2025-07-23 16:51:05.956965',\n",
      "           'type': 'ai'}}\n",
      "--------------------------------------------------------------------------------------------------------------------------------------------------------------------------------------------------------\n",
      "{'created_at': '2025-07-23T07:51:10.301317+00:00',\n",
      " 'key': '10f97273-114e-4dff-8fc5-86a23754f3e0',\n",
      " 'namespace': ['user_123', 'conversation_memory'],\n",
      " 'score': 0.27753604025864476,\n",
      " 'updated_at': '2025-07-23T07:51:10.301317+00:00',\n",
      " 'value': {'conversation': '스테이크 메뉴의 가격은 다음과 같습니다.\\n'\n",
      "                           '- 샤토브리앙 스테이크: 42,000원\\n'\n",
      "                           '- 안심 스테이크 샐러드: 26,000원\\n'\n",
      "                           '\\n'\n",
      "                           '원하는 메뉴에 대해 더 자세한 정보를 원하시면 말씀해 주세요.',\n",
      "           'timestamp': '2025-07-23 16:51:09.521837',\n",
      "           'type': 'ai'}}\n",
      "--------------------------------------------------------------------------------------------------------------------------------------------------------------------------------------------------------\n"
     ]
    }
   ],
   "source": [
    "# 스토어 검색 수행\n",
    "\n",
    "namespace = (\"user_123\", \"conversation_memory\")\n",
    "\n",
    "memories = conversation_store.search(\n",
    "    namespace,\n",
    "    query=\"샐러드\",\n",
    "    limit=2\n",
    ")\n",
    "\n",
    "# 검색된 메모리 출력\n",
    "for memory in memories:\n",
    "    pprint(memory.dict())\n",
    "    print(\"-\" * 200)"
   ]
  },
  {
   "cell_type": "code",
   "execution_count": 59,
   "metadata": {},
   "outputs": [
    {
     "name": "stdout",
     "output_type": "stream",
     "text": [
      "================================\u001b[1m Human Message \u001b[0m=================================\n",
      "\n",
      "스테이크 메뉴 가격이 얼마라고 했나요? 더 저렴한 메뉴는 무엇인가요?\n",
      "==================================\u001b[1m Ai Message \u001b[0m==================================\n",
      "\n",
      "스테이크 메뉴 가격은 다음과 같습니다.\n",
      "- 샤토브리앙 스테이크: 42,000원\n",
      "- 안심 스테이크 샐러드: 26,000원\n",
      "\n",
      "더 저렴한 메뉴는 안심 스테이크 샐러드입니다.\n"
     ]
    }
   ],
   "source": [
    "# 다른 스레드 ID로 그래프 실행\n",
    "config = {\n",
    "    \"configurable\": {\n",
    "        \"thread_id\": \"thread_2\",\n",
    "        \"user_id\": \"user_123\",\n",
    "        \"memory_type\": \"conversation_memory\"\n",
    "    }\n",
    "}\n",
    "\n",
    "# 초기 메시지 설정\n",
    "messages = [HumanMessage(content=\"스테이크 메뉴 가격이 얼마라고 했나요? 더 저렴한 메뉴는 무엇인가요?\")]\n",
    "\n",
    "# 그래프 실행 및 결과 출력 (초기 메시지 사용)\n",
    "messages = graph_with_store.invoke({\"messages\": messages}, config)\n",
    "\n",
    "for m in messages['messages']:\n",
    "    m.pretty_print()"
   ]
  },
  {
   "cell_type": "code",
   "execution_count": null,
   "metadata": {},
   "outputs": [],
   "source": []
  }
 ],
 "metadata": {
  "kernelspec": {
   "display_name": ".venv",
   "language": "python",
   "name": "python3"
  },
  "language_info": {
   "codemirror_mode": {
    "name": "ipython",
    "version": 3
   },
   "file_extension": ".py",
   "mimetype": "text/x-python",
   "name": "python",
   "nbconvert_exporter": "python",
   "pygments_lexer": "ipython3",
   "version": "3.12.5"
  }
 },
 "nbformat": 4,
 "nbformat_minor": 2
}
