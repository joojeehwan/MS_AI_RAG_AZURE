{
 "cells": [
  {
   "cell_type": "markdown",
   "metadata": {},
   "source": [
    "#   LangGraph 활용 - 사용자 개입 (Human-in-the-Loop)\n",
    "\n",
    "---"
   ]
  },
  {
   "cell_type": "markdown",
   "metadata": {},
   "source": [
    "## 환경 설정 및 준비"
   ]
  },
  {
   "cell_type": "markdown",
   "metadata": {},
   "source": [
    "`(1) Env 환경변수`"
   ]
  },
  {
   "cell_type": "code",
   "execution_count": 1,
   "metadata": {},
   "outputs": [
    {
     "data": {
      "text/plain": [
       "True"
      ]
     },
     "execution_count": 1,
     "metadata": {},
     "output_type": "execute_result"
    }
   ],
   "source": [
    "from dotenv import load_dotenv\n",
    "load_dotenv()"
   ]
  },
  {
   "cell_type": "markdown",
   "metadata": {},
   "source": [
    "`(2) 기본 라이브러리`"
   ]
  },
  {
   "cell_type": "code",
   "execution_count": 2,
   "metadata": {},
   "outputs": [],
   "source": [
    "import os\n",
    "from glob import glob\n",
    "\n",
    "from pprint import pprint\n",
    "import json"
   ]
  },
  {
   "cell_type": "markdown",
   "metadata": {},
   "source": [
    "`(3) Langsmith tracing 설정`"
   ]
  },
  {
   "cell_type": "code",
   "execution_count": 3,
   "metadata": {},
   "outputs": [
    {
     "name": "stdout",
     "output_type": "stream",
     "text": [
      "true\n"
     ]
    }
   ],
   "source": [
    "# Langsmith tracing 여부를 확인 (true: langsmith 추적 활성화, false: langsmith 추적 비활성화)\n",
    "import os\n",
    "print(os.getenv('LANGSMITH_TRACING'))"
   ]
  },
  {
   "cell_type": "markdown",
   "metadata": {},
   "source": [
    "---\n",
    "\n",
    "## **Human-in-the-Loop (사용자 개입)**\n",
    "\n",
    "- **HITL**는 AI 시스템에 인간의 판단과 전문성을 통합\n",
    "\n",
    "- **Breakpoints**로 특정 단계에서 실행 중지 가능\n",
    "    - **Breakpoint**는 LangGraph의 **체크포인트 기능** 기반으로 작동하는 시스템\n",
    "    - 각 노드 실행 후 그래프의 상태를 **스레드에 저장**하여 나중에도 접근 가능\n",
    "    - 그래프 실행을 특정 지점에서 **일시 중지**하고 사용자 승인 후 재개 가능\n",
    "\n",
    "- 사용자의 **입력**이나 **승인**을 기다리는 패턴으로 작동\n",
    "\n",
    "- 시스템 결정에 대한 **인간의 통제**와 **검증** 보장"
   ]
  },
  {
   "cell_type": "markdown",
   "metadata": {},
   "source": [
    "`(1) 문서 생성 및 검토 시스템`\n",
    "\n",
    "- **문서 생성** 단계에서 AI가 초안 작성\n",
    "- **검토 단계**에서 인간 전문가가 내용 검증\n",
    "- **수정 요청**시 AI가 피드백 반영하여 개선"
   ]
  },
  {
   "cell_type": "code",
   "execution_count": null,
   "metadata": {},
   "outputs": [
    {
     "data": {
      "image/png": "[encoded data removed]",
      "text/plain": [
       "<IPython.core.display.Image object>"
      ]
     },
     "metadata": {},
     "output_type": "display_data"
    }
   ],
   "source": [
    "from langgraph.graph import MessagesState, StateGraph, START, END\n",
    "from langgraph.types import interrupt\n",
    "from langgraph.checkpoint.memory import InMemorySaver\n",
    "from langchain_core.messages import HumanMessage, AIMessage\n",
    "from IPython.display import Image, display\n",
    "\n",
    "# 상태 정의 \n",
    "class State(MessagesState):\n",
    "    draft: str     # 초안\n",
    "    feedback: str  # 피드백\n",
    "\n",
    "def generate_draft(state: State):\n",
    "    \"\"\"초안 생성\"\"\"\n",
    "    draft = \"이것은 AI가 생성한 문서 초안입니다.\\n\\n내용: 인공지능 기술의 발전과 활용 방안에 대한 보고서입니다.\"\n",
    "    return {\n",
    "        \"draft\": draft,\n",
    "        \"messages\": [AIMessage(content=f\"초안이 생성되었습니다:\\n\\n{draft}\")]\n",
    "    }\n",
    "\n",
    "def review_draft(state: State):\n",
    "    \"\"\"초안 검토 - interrupt를 사용하여 사용자 입력 대기\"\"\"\n",
    "    # 사용자에게 검토를 요청하고 응답을 기다림\n",
    "    user_decision = interrupt({\n",
    "        \"action\": \"review_document\",\n",
    "        \"draft\": state[\"draft\"],\n",
    "        \"question\": \"이 문서를 승인하시겠습니까? '승인' 또는 수정 요청 사항을 입력해주세요.\"\n",
    "    })\n",
    "\n",
    "    # 사용자 입력을 출력\n",
    "    print(f\"사용자 입력: {user_decision}\")\n",
    "    \n",
    "    # 사용자 입력을 feedback으로 저장\n",
    "    return {\n",
    "        \"feedback\": user_decision,\n",
    "        \"messages\": [AIMessage(content=f\"사용자 피드백을 받았습니다: {user_decision}\")]\n",
    "    }\n",
    "\n",
    "def process_feedback(state: State):\n",
    "    \"\"\"피드백 처리\"\"\"\n",
    "    feedback = state.get(\"feedback\", \"\").lower()\n",
    "    \n",
    "    if \"승인\" in feedback:\n",
    "        return {\n",
    "            \"messages\": [AIMessage(content=\"✅ 문서가 승인되었습니다. 워크플로우가 완료되었습니다.\")]\n",
    "        }\n",
    "    else:\n",
    "        # 피드백에 따라 문서 수정\n",
    "        revised_draft = f\"{state['draft']}\\n\\n[수정사항 반영]\\n피드백: {state['feedback']}\\n수정된 내용이 반영되었습니다.\"\n",
    "        return {\n",
    "            \"draft\": revised_draft,\n",
    "            \"messages\": [AIMessage(content=f\"문서를 수정하였습니다.\\n\\n피드백: {state['feedback']}\\n\\n수정된 초안:\\n{revised_draft}\")]\n",
    "        }\n",
    "\n",
    "def should_continue(state: State):\n",
    "    \"\"\"계속 진행 여부 결정\"\"\"\n",
    "    feedback = state.get(\"feedback\", \"\").lower()\n",
    "    if \"승인\" in feedback:\n",
    "        return \"end\"\n",
    "    else:\n",
    "        return \"review\"  # 다시 검토로 돌아감\n",
    "\n",
    "# 그래프 설정\n",
    "builder = StateGraph(State)\n",
    "\n",
    "# 노드 추가\n",
    "builder.add_node(\"generate\", generate_draft)\n",
    "builder.add_node(\"review\", review_draft)\n",
    "builder.add_node(\"process\", process_feedback)\n",
    "\n",
    "# 엣지 추가\n",
    "builder.add_edge(START, \"generate\")\n",
    "builder.add_edge(\"generate\", \"review\")\n",
    "builder.add_edge(\"review\", \"process\")\n",
    "builder.add_conditional_edges(\n",
    "    \"process\",\n",
    "    should_continue,\n",
    "    {\n",
    "        \"review\": \"review\",\n",
    "        \"end\": END\n",
    "    }\n",
    ")\n",
    "\n",
    "# Checkpointer 설정 (interrupt 사용을 위해 필수)\n",
    "checkpointer = InMemorySaver()\n",
    "\n",
    "# 그래프 컴파일\n",
    "graph = builder.compile(checkpointer=checkpointer)\n",
    "\n",
    "# 그래프 시각화\n",
    "display(Image(graph.get_graph().draw_mermaid_png()))"
   ]
  },
  {
   "cell_type": "markdown",
   "metadata": {},
   "source": [
    "`(2) 워크플로우 시작`\n",
    "\n",
    "- **interrupt**까지 실행\n"
   ]
  },
  {
   "cell_type": "code",
   "execution_count": 5,
   "metadata": {},
   "outputs": [
    {
     "name": "stdout",
     "output_type": "stream",
     "text": [
      "Event: {'generate': {'draft': '이것은 AI가 생성한 문서 초안입니다.\\n\\n내용: 인공지능 기술의 발전과 활용 방안에 대한 보고서입니다.', 'messages': [AIMessage(content='초안이 생성되었습니다:\\n\\n이것은 AI가 생성한 문서 초안입니다.\\n\\n내용: 인공지능 기술의 발전과 활용 방안에 대한 보고서입니다.', additional_kwargs={}, response_metadata={}, id='380e18e4-5057-4fc2-abb3-16c2a3ae352e')]}}\n",
      "Event: {'__interrupt__': (Interrupt(value={'action': 'review_document', 'draft': '이것은 AI가 생성한 문서 초안입니다.\\n\\n내용: 인공지능 기술의 발전과 활용 방안에 대한 보고서입니다.', 'question': \"이 문서를 승인하시겠습니까? '승인' 또는 수정 요청 사항을 입력해주세요.\"}, resumable=True, ns=['review:7335cd1e-9696-b24f-f7f8-58f5524caa76']),)}\n"
     ]
    }
   ],
   "source": [
    "# 최초 메시지 및 스레드 설정 \n",
    "config = {\"configurable\": {\"thread_id\": \"1\"}}\n",
    "initial_input = {\"messages\": []}\n",
    "\n",
    "# 첫 번째 실행 - 중단점에서 실행을 멈춤 \n",
    "for event in graph.stream(initial_input, config):\n",
    "    print(f\"Event: {event}\")"
   ]
  },
  {
   "cell_type": "markdown",
   "metadata": {},
   "source": [
    "`(3) 현재 상태 확인`\n",
    "\n",
    "- **get_state** 함수로 현재 상태 확인 가능\n"
   ]
  },
  {
   "cell_type": "code",
   "execution_count": 6,
   "metadata": {},
   "outputs": [
    {
     "name": "stdout",
     "output_type": "stream",
     "text": [
      "\n",
      "현재 상태: {'messages': [AIMessage(content='초안이 생성되었습니다:\\n\\n이것은 AI가 생성한 문서 초안입니다.\\n\\n내용: 인공지능 기술의 발전과 활용 방안에 대한 보고서입니다.', additional_kwargs={}, response_metadata={}, id='380e18e4-5057-4fc2-abb3-16c2a3ae352e')], 'draft': '이것은 AI가 생성한 문서 초안입니다.\\n\\n내용: 인공지능 기술의 발전과 활용 방안에 대한 보고서입니다.'}\n",
      "대기 중인 interrupt: (PregelTask(id='7335cd1e-9696-b24f-f7f8-58f5524caa76', name='review', path=('__pregel_pull', 'review'), error=None, interrupts=(Interrupt(value={'action': 'review_document', 'draft': '이것은 AI가 생성한 문서 초안입니다.\\n\\n내용: 인공지능 기술의 발전과 활용 방안에 대한 보고서입니다.', 'question': \"이 문서를 승인하시겠습니까? '승인' 또는 수정 요청 사항을 입력해주세요.\"}, resumable=True, ns=['review:7335cd1e-9696-b24f-f7f8-58f5524caa76']),), state=None, result=None),)\n"
     ]
    }
   ],
   "source": [
    "# 현재 상태 - 그래프 체크포인트 확인\n",
    "current_state = graph.get_state(config)\n",
    "\n",
    "print(f\"\\n현재 상태: {current_state.values}\")\n",
    "print(f\"대기 중인 interrupt: {current_state.tasks}\")"
   ]
  },
  {
   "cell_type": "code",
   "execution_count": 7,
   "metadata": {},
   "outputs": [
    {
     "name": "stdout",
     "output_type": "stream",
     "text": [
      "7335cd1e-9696-b24f-f7f8-58f5524caa76\n",
      "review\n",
      "{'action': 'review_document',\n",
      " 'draft': '이것은 AI가 생성한 문서 초안입니다.\\n\\n내용: 인공지능 기술의 발전과 활용 방안에 대한 보고서입니다.',\n",
      " 'question': \"이 문서를 승인하시겠습니까? '승인' 또는 수정 요청 사항을 입력해주세요.\"}\n"
     ]
    }
   ],
   "source": [
    "# 대기 중인 interrupt 확인\n",
    "task = current_state.tasks[0]\n",
    "print(task.id)\n",
    "print(task.name)\n",
    "pprint(task.interrupts[0].value)"
   ]
  },
  {
   "cell_type": "code",
   "execution_count": 8,
   "metadata": {},
   "outputs": [
    {
     "data": {
      "text/plain": [
       "('review',)"
      ]
     },
     "execution_count": 8,
     "metadata": {},
     "output_type": "execute_result"
    }
   ],
   "source": [
    "# 다음에 실행될 노드를 확인 \n",
    "current_state.next"
   ]
  },
  {
   "cell_type": "markdown",
   "metadata": {},
   "source": [
    "`(4) 사용자 개입 (HITL): 거부`\n",
    "\n",
    "- 사용자가 승인을 해주지 않는 경우, 피드백을 통해 다시 생성\n",
    "- **Command** 함수로 사용자 피드백 전달"
   ]
  },
  {
   "cell_type": "code",
   "execution_count": 9,
   "metadata": {},
   "outputs": [
    {
     "name": "stdout",
     "output_type": "stream",
     "text": [
      "사용자 입력: 문서 내용이 너무 간단합니다. 배경과 목적에 대한 내용을 추가해주세요.\n",
      "Event: {'review': {'feedback': '문서 내용이 너무 간단합니다. 배경과 목적에 대한 내용을 추가해주세요.', 'messages': [AIMessage(content='사용자 피드백을 받았습니다: 문서 내용이 너무 간단합니다. 배경과 목적에 대한 내용을 추가해주세요.', additional_kwargs={}, response_metadata={}, id='97fb3327-1774-46f3-b5b6-442d93868436')]}}\n",
      "Event: {'process': {'draft': '이것은 AI가 생성한 문서 초안입니다.\\n\\n내용: 인공지능 기술의 발전과 활용 방안에 대한 보고서입니다.\\n\\n[수정사항 반영]\\n피드백: 문서 내용이 너무 간단합니다. 배경과 목적에 대한 내용을 추가해주세요.\\n수정된 내용이 반영되었습니다.', 'messages': [AIMessage(content='문서를 수정하였습니다.\\n\\n피드백: 문서 내용이 너무 간단합니다. 배경과 목적에 대한 내용을 추가해주세요.\\n\\n수정된 초안:\\n이것은 AI가 생성한 문서 초안입니다.\\n\\n내용: 인공지능 기술의 발전과 활용 방안에 대한 보고서입니다.\\n\\n[수정사항 반영]\\n피드백: 문서 내용이 너무 간단합니다. 배경과 목적에 대한 내용을 추가해주세요.\\n수정된 내용이 반영되었습니다.', additional_kwargs={}, response_metadata={}, id='e83130fc-d8ef-428d-86c4-1b53380e1523')]}}\n",
      "Event: {'__interrupt__': (Interrupt(value={'action': 'review_document', 'draft': '이것은 AI가 생성한 문서 초안입니다.\\n\\n내용: 인공지능 기술의 발전과 활용 방안에 대한 보고서입니다.\\n\\n[수정사항 반영]\\n피드백: 문서 내용이 너무 간단합니다. 배경과 목적에 대한 내용을 추가해주세요.\\n수정된 내용이 반영되었습니다.', 'question': \"이 문서를 승인하시겠습니까? '승인' 또는 수정 요청 사항을 입력해주세요.\"}, resumable=True, ns=['review:5857f179-4173-32d9-51a8-30fd95750415']),)}\n"
     ]
    }
   ],
   "source": [
    "from langgraph.types import Command\n",
    "\n",
    "# 사용자 피드백 제공 (거부)\n",
    "human_feedback = \"문서 내용이 너무 간단합니다. 배경과 목적에 대한 내용을 추가해주세요.\"\n",
    "\n",
    "# 사용자 입력으로 그래프 재개\n",
    "for event in graph.stream(Command(resume=human_feedback), config=config):\n",
    "    print(f\"Event: {event}\")"
   ]
  },
  {
   "cell_type": "code",
   "execution_count": 10,
   "metadata": {},
   "outputs": [
    {
     "name": "stdout",
     "output_type": "stream",
     "text": [
      "\n",
      "현재 상태: {'messages': [AIMessage(content='초안이 생성되었습니다:\\n\\n이것은 AI가 생성한 문서 초안입니다.\\n\\n내용: 인공지능 기술의 발전과 활용 방안에 대한 보고서입니다.', additional_kwargs={}, response_metadata={}, id='380e18e4-5057-4fc2-abb3-16c2a3ae352e'), AIMessage(content='사용자 피드백을 받았습니다: 문서 내용이 너무 간단합니다. 배경과 목적에 대한 내용을 추가해주세요.', additional_kwargs={}, response_metadata={}, id='97fb3327-1774-46f3-b5b6-442d93868436'), AIMessage(content='문서를 수정하였습니다.\\n\\n피드백: 문서 내용이 너무 간단합니다. 배경과 목적에 대한 내용을 추가해주세요.\\n\\n수정된 초안:\\n이것은 AI가 생성한 문서 초안입니다.\\n\\n내용: 인공지능 기술의 발전과 활용 방안에 대한 보고서입니다.\\n\\n[수정사항 반영]\\n피드백: 문서 내용이 너무 간단합니다. 배경과 목적에 대한 내용을 추가해주세요.\\n수정된 내용이 반영되었습니다.', additional_kwargs={}, response_metadata={}, id='e83130fc-d8ef-428d-86c4-1b53380e1523')], 'draft': '이것은 AI가 생성한 문서 초안입니다.\\n\\n내용: 인공지능 기술의 발전과 활용 방안에 대한 보고서입니다.\\n\\n[수정사항 반영]\\n피드백: 문서 내용이 너무 간단합니다. 배경과 목적에 대한 내용을 추가해주세요.\\n수정된 내용이 반영되었습니다.', 'feedback': '문서 내용이 너무 간단합니다. 배경과 목적에 대한 내용을 추가해주세요.'}\n",
      "대기 중인 interrupt: (PregelTask(id='5857f179-4173-32d9-51a8-30fd95750415', name='review', path=('__pregel_pull', 'review'), error=None, interrupts=(Interrupt(value={'action': 'review_document', 'draft': '이것은 AI가 생성한 문서 초안입니다.\\n\\n내용: 인공지능 기술의 발전과 활용 방안에 대한 보고서입니다.\\n\\n[수정사항 반영]\\n피드백: 문서 내용이 너무 간단합니다. 배경과 목적에 대한 내용을 추가해주세요.\\n수정된 내용이 반영되었습니다.', 'question': \"이 문서를 승인하시겠습니까? '승인' 또는 수정 요청 사항을 입력해주세요.\"}, resumable=True, ns=['review:5857f179-4173-32d9-51a8-30fd95750415']),), state=None, result=None),)\n"
     ]
    }
   ],
   "source": [
    "# 현재 상태 - 그래프 체크포인트 확인\n",
    "current_state = graph.get_state(config)\n",
    "\n",
    "print(f\"\\n현재 상태: {current_state.values}\")\n",
    "print(f\"대기 중인 interrupt: {current_state.tasks}\")"
   ]
  },
  {
   "cell_type": "code",
   "execution_count": 11,
   "metadata": {},
   "outputs": [
    {
     "name": "stdout",
     "output_type": "stream",
     "text": [
      "5857f179-4173-32d9-51a8-30fd95750415\n",
      "review\n",
      "{'action': 'review_document',\n",
      " 'draft': '이것은 AI가 생성한 문서 초안입니다.\\n'\n",
      "          '\\n'\n",
      "          '내용: 인공지능 기술의 발전과 활용 방안에 대한 보고서입니다.\\n'\n",
      "          '\\n'\n",
      "          '[수정사항 반영]\\n'\n",
      "          '피드백: 문서 내용이 너무 간단합니다. 배경과 목적에 대한 내용을 추가해주세요.\\n'\n",
      "          '수정된 내용이 반영되었습니다.',\n",
      " 'question': \"이 문서를 승인하시겠습니까? '승인' 또는 수정 요청 사항을 입력해주세요.\"}\n"
     ]
    }
   ],
   "source": [
    "# 대기 중인 interrupt 확인\n",
    "task = current_state.tasks[0]\n",
    "print(task.id)\n",
    "print(task.name)\n",
    "pprint(task.interrupts[0].value)"
   ]
  },
  {
   "cell_type": "code",
   "execution_count": 12,
   "metadata": {},
   "outputs": [
    {
     "data": {
      "text/plain": [
       "('review',)"
      ]
     },
     "execution_count": 12,
     "metadata": {},
     "output_type": "execute_result"
    }
   ],
   "source": [
    "# 다음에 실행될 노드를 확인 \n",
    "current_state.next"
   ]
  },
  {
   "cell_type": "markdown",
   "metadata": {},
   "source": [
    "`(5) 사용자 개입 (HITL): 승인`\n",
    "\n",
    "- 사용자가 '승인'을 해서 최종 답변을 생성하고 종료"
   ]
  },
  {
   "cell_type": "code",
   "execution_count": 13,
   "metadata": {},
   "outputs": [
    {
     "name": "stdout",
     "output_type": "stream",
     "text": [
      "사용자 입력: 승인합니다.\n",
      "Event: {'review': {'feedback': '승인합니다.', 'messages': [AIMessage(content='사용자 피드백을 받았습니다: 승인합니다.', additional_kwargs={}, response_metadata={}, id='257a9136-5f8c-43e8-b794-11c1345ecec7')]}}\n",
      "Event: {'process': {'messages': [AIMessage(content='✅ 문서가 승인되었습니다. 워크플로우가 완료되었습니다.', additional_kwargs={}, response_metadata={}, id='3f04ffc1-93e6-4a12-b8c6-34ace783744f')]}}\n"
     ]
    }
   ],
   "source": [
    "from langgraph.types import Command\n",
    "\n",
    "# 사용자 피드백 제공 (승인 문자열을 사용)\n",
    "human_feedback = \"승인합니다.\"\n",
    "\n",
    "# 사용자 입력으로 그래프 재개\n",
    "for event in graph.stream(Command(resume=human_feedback), config=config):\n",
    "    print(f\"Event: {event}\")"
   ]
  },
  {
   "cell_type": "code",
   "execution_count": 14,
   "metadata": {},
   "outputs": [
    {
     "name": "stdout",
     "output_type": "stream",
     "text": [
      "\n",
      "현재 상태: {'messages': [AIMessage(content='초안이 생성되었습니다:\\n\\n이것은 AI가 생성한 문서 초안입니다.\\n\\n내용: 인공지능 기술의 발전과 활용 방안에 대한 보고서입니다.', additional_kwargs={}, response_metadata={}, id='380e18e4-5057-4fc2-abb3-16c2a3ae352e'), AIMessage(content='사용자 피드백을 받았습니다: 문서 내용이 너무 간단합니다. 배경과 목적에 대한 내용을 추가해주세요.', additional_kwargs={}, response_metadata={}, id='97fb3327-1774-46f3-b5b6-442d93868436'), AIMessage(content='문서를 수정하였습니다.\\n\\n피드백: 문서 내용이 너무 간단합니다. 배경과 목적에 대한 내용을 추가해주세요.\\n\\n수정된 초안:\\n이것은 AI가 생성한 문서 초안입니다.\\n\\n내용: 인공지능 기술의 발전과 활용 방안에 대한 보고서입니다.\\n\\n[수정사항 반영]\\n피드백: 문서 내용이 너무 간단합니다. 배경과 목적에 대한 내용을 추가해주세요.\\n수정된 내용이 반영되었습니다.', additional_kwargs={}, response_metadata={}, id='e83130fc-d8ef-428d-86c4-1b53380e1523'), AIMessage(content='사용자 피드백을 받았습니다: 승인합니다.', additional_kwargs={}, response_metadata={}, id='257a9136-5f8c-43e8-b794-11c1345ecec7'), AIMessage(content='✅ 문서가 승인되었습니다. 워크플로우가 완료되었습니다.', additional_kwargs={}, response_metadata={}, id='3f04ffc1-93e6-4a12-b8c6-34ace783744f')], 'draft': '이것은 AI가 생성한 문서 초안입니다.\\n\\n내용: 인공지능 기술의 발전과 활용 방안에 대한 보고서입니다.\\n\\n[수정사항 반영]\\n피드백: 문서 내용이 너무 간단합니다. 배경과 목적에 대한 내용을 추가해주세요.\\n수정된 내용이 반영되었습니다.', 'feedback': '승인합니다.'}\n",
      "대기 중인 interrupt: ()\n"
     ]
    }
   ],
   "source": [
    "# 현재 상태 - 그래프 체크포인트 확인\n",
    "current_state = graph.get_state(config)\n",
    "\n",
    "print(f\"\\n현재 상태: {current_state.values}\")\n",
    "print(f\"대기 중인 interrupt: {current_state.tasks}\")"
   ]
  },
  {
   "cell_type": "code",
   "execution_count": 15,
   "metadata": {},
   "outputs": [
    {
     "data": {
      "text/plain": [
       "()"
      ]
     },
     "execution_count": 15,
     "metadata": {},
     "output_type": "execute_result"
    }
   ],
   "source": [
    "# 대기 중인 interrupt 확인\n",
    "current_state.tasks"
   ]
  },
  {
   "cell_type": "code",
   "execution_count": 16,
   "metadata": {},
   "outputs": [
    {
     "data": {
      "text/plain": [
       "{'messages': [AIMessage(content='초안이 생성되었습니다:\\n\\n이것은 AI가 생성한 문서 초안입니다.\\n\\n내용: 인공지능 기술의 발전과 활용 방안에 대한 보고서입니다.', additional_kwargs={}, response_metadata={}, id='380e18e4-5057-4fc2-abb3-16c2a3ae352e'),\n",
       "  AIMessage(content='사용자 피드백을 받았습니다: 문서 내용이 너무 간단합니다. 배경과 목적에 대한 내용을 추가해주세요.', additional_kwargs={}, response_metadata={}, id='97fb3327-1774-46f3-b5b6-442d93868436'),\n",
       "  AIMessage(content='문서를 수정하였습니다.\\n\\n피드백: 문서 내용이 너무 간단합니다. 배경과 목적에 대한 내용을 추가해주세요.\\n\\n수정된 초안:\\n이것은 AI가 생성한 문서 초안입니다.\\n\\n내용: 인공지능 기술의 발전과 활용 방안에 대한 보고서입니다.\\n\\n[수정사항 반영]\\n피드백: 문서 내용이 너무 간단합니다. 배경과 목적에 대한 내용을 추가해주세요.\\n수정된 내용이 반영되었습니다.', additional_kwargs={}, response_metadata={}, id='e83130fc-d8ef-428d-86c4-1b53380e1523'),\n",
       "  AIMessage(content='사용자 피드백을 받았습니다: 승인합니다.', additional_kwargs={}, response_metadata={}, id='257a9136-5f8c-43e8-b794-11c1345ecec7'),\n",
       "  AIMessage(content='✅ 문서가 승인되었습니다. 워크플로우가 완료되었습니다.', additional_kwargs={}, response_metadata={}, id='3f04ffc1-93e6-4a12-b8c6-34ace783744f')],\n",
       " 'draft': '이것은 AI가 생성한 문서 초안입니다.\\n\\n내용: 인공지능 기술의 발전과 활용 방안에 대한 보고서입니다.\\n\\n[수정사항 반영]\\n피드백: 문서 내용이 너무 간단합니다. 배경과 목적에 대한 내용을 추가해주세요.\\n수정된 내용이 반영되었습니다.',\n",
       " 'feedback': '승인합니다.'}"
      ]
     },
     "execution_count": 16,
     "metadata": {},
     "output_type": "execute_result"
    }
   ],
   "source": [
    "# 최종 상태 확인\n",
    "current_state.values"
   ]
  },
  {
   "cell_type": "code",
   "execution_count": 17,
   "metadata": {},
   "outputs": [
    {
     "data": {
      "text/plain": [
       "()"
      ]
     },
     "execution_count": 17,
     "metadata": {},
     "output_type": "execute_result"
    }
   ],
   "source": [
    "# 다음에 실행될 노드를 확인 \n",
    "current_state.next"
   ]
  },
  {
   "cell_type": "markdown",
   "metadata": {},
   "source": [
    "# ~ 17:24분까지 실습"
   ]
  },
  {
   "cell_type": "code",
   "execution_count": null,
   "metadata": {},
   "outputs": [],
   "source": []
  }
 ],
 "metadata": {
  "kernelspec": {
   "display_name": ".venv",
   "language": "python",
   "name": "python3"
  },
  "language_info": {
   "codemirror_mode": {
    "name": "ipython",
    "version": 3
   },
   "file_extension": ".py",
   "mimetype": "text/x-python",
   "name": "python",
   "nbconvert_exporter": "python",
   "pygments_lexer": "ipython3",
   "version": "3.12.5"
  }
 },
 "nbformat": 4,
 "nbformat_minor": 2
}
