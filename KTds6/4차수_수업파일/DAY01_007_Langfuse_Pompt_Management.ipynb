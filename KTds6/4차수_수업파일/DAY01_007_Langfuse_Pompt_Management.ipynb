{
 "cells": [
  {
   "cell_type": "markdown",
   "metadata": {},
   "source": [
    "## 환경 설정 및 준비"
   ]
  },
  {
   "cell_type": "markdown",
   "metadata": {},
   "source": [
    "`(1) Env 환경변수`"
   ]
  },
  {
   "cell_type": "code",
   "execution_count": 1,
   "metadata": {},
   "outputs": [
    {
     "data": {
      "text/plain": [
       "True"
      ]
     },
     "execution_count": 1,
     "metadata": {},
     "output_type": "execute_result"
    }
   ],
   "source": [
    "from dotenv import load_dotenv\n",
    "load_dotenv()"
   ]
  },
  {
   "cell_type": "markdown",
   "metadata": {},
   "source": [
    "`(2) 기본 라이브러리`"
   ]
  },
  {
   "cell_type": "code",
   "execution_count": 2,
   "metadata": {},
   "outputs": [],
   "source": [
    "import os\n",
    "from glob import glob\n",
    "\n",
    "from pprint import pprint\n",
    "import json\n",
    "\n",
    "import warnings\n",
    "warnings.filterwarnings(\"ignore\")"
   ]
  },
  {
   "cell_type": "markdown",
   "metadata": {},
   "source": [
    "`(3) langfuase handler 설정`"
   ]
  },
  {
   "cell_type": "code",
   "execution_count": 3,
   "metadata": {},
   "outputs": [],
   "source": [
    "from langfuse.langchain import CallbackHandler\n",
    "\n",
    "# LangChain 콜백 핸들러 생성\n",
    "langfuse_handler = CallbackHandler()"
   ]
  },
  {
   "cell_type": "markdown",
   "metadata": {},
   "source": [
    "`(4) Langfuse 클라이언트 설정`"
   ]
  },
  {
   "cell_type": "code",
   "execution_count": 4,
   "metadata": {},
   "outputs": [],
   "source": [
    "from langfuse import get_client\n",
    "\n",
    "# Langfuse 클라이언트 초기화\n",
    "langfuse = get_client()\n",
    "\n",
    "# 연결 테스트\n",
    "assert langfuse.auth_check()"
   ]
  },
  {
   "cell_type": "markdown",
   "metadata": {},
   "source": [
    "---\n",
    "\n",
    "## **프롬프트 관리**\n",
    "\n",
    "- Langfuse는 **프롬프트 CMS** 기능 제공\n",
    "\n",
    "- **버전 관리** 기능으로 롤백과 성능 비교 가능"
   ]
  },
  {
   "cell_type": "markdown",
   "metadata": {},
   "source": [
    "### 1. **프롬프트 생성**"
   ]
  },
  {
   "cell_type": "code",
   "execution_count": 5,
   "metadata": {},
   "outputs": [
    {
     "data": {
      "text/plain": [
       "<langfuse.model.TextPromptClient at 0x27d6a7a3620>"
      ]
     },
     "execution_count": 5,
     "metadata": {},
     "output_type": "execute_result"
    }
   ],
   "source": [
    "# 텍스트 프롬프트 생성\n",
    "langfuse.create_prompt(\n",
    "    name=\"movie-critic\",  # 프롬프트 이름\n",
    "    type=\"text\",          \n",
    "    prompt=\"{{criticLevel}} 영화 평론가로서, {{movie}}를 어떻게 생각하시나요?\",\n",
    "    labels=[\"production\"],       # 프로덕션 레이블\n",
    "    tags=[\"movie\", \"qa\", \"text\"],    # 태그\n",
    "    config={\n",
    "        \"model\": \"gpt-4.1-mini\",\n",
    "        \"temperature\": 0.7\n",
    "    }\n",
    ")"
   ]
  },
  {
   "cell_type": "code",
   "execution_count": 6,
   "metadata": {},
   "outputs": [
    {
     "data": {
      "text/plain": [
       "<langfuse.model.ChatPromptClient at 0x27d69e0d370>"
      ]
     },
     "execution_count": 6,
     "metadata": {},
     "output_type": "execute_result"
    }
   ],
   "source": [
    "# 챗 프롬프트 생성\n",
    "langfuse.create_prompt(\n",
    "    name=\"movie-critic-chat\",  # 프롬프트 이름\n",
    "    type=\"chat\",          \n",
    "    prompt=[\n",
    "        {\n",
    "            \"role\": \"system\",\n",
    "            \"content\": \"당신은 {{criticLevel}} 영화 평론가입니다.\"\n",
    "        },\n",
    "        {\n",
    "            \"role\": \"user\",\n",
    "            \"content\": \"영화 평론가로서, {{movie}}를 어떻게 생각하시나요?\"\n",
    "        }\n",
    "    ], #type: ignore\n",
    "    labels=[\"production\"],       # 프로덕션 레이블\n",
    "    tags=[\"movie\", \"qa\", \"chat\"],    # 태그\n",
    "    config={\n",
    "        \"model\": \"gpt-4.1-mini\",\n",
    "        \"temperature\": 0.7\n",
    "    }\n",
    ")  "
   ]
  },
  {
   "cell_type": "markdown",
   "metadata": {},
   "source": [
    "### **[실습]**\n",
    "\n",
    "- text 기반 프롬프트와 chat 기반 프롬프트를 각각 구현하고, Langfuse UI에서 확인하세요. "
   ]
  },
  {
   "cell_type": "code",
   "execution_count": null,
   "metadata": {},
   "outputs": [],
   "source": [
    "# 텍스트 프롬프트 생성"
   ]
  },
  {
   "cell_type": "code",
   "execution_count": null,
   "metadata": {},
   "outputs": [],
   "source": [
    "# 챗 프롬프트 생성\n"
   ]
  },
  {
   "cell_type": "markdown",
   "metadata": {},
   "source": [
    "### 2. **프롬프트 활용**"
   ]
  },
  {
   "cell_type": "code",
   "execution_count": 10,
   "metadata": {},
   "outputs": [
    {
     "name": "stdout",
     "output_type": "stream",
     "text": [
      "라벨: ['production', 'latest']\n",
      "태그: []\n",
      "프롬프트: {{criticLevel}} 스포츠 평론가로서, {{sports}}를 어떻게 생각하시나요?\"\n",
      "----------------------------------------------------------------------------------------------------\n",
      "프롬프트: {criticLevel} 스포츠 평론가로서, {sports}를 어떻게 생각하시나요?\"\n"
     ]
    }
   ],
   "source": [
    "# 프로덕션 버전 가져오기\n",
    "prompt = langfuse.get_prompt(\"sports/sports-critique\")\n",
    "\n",
    "# 프롬프트 출력\n",
    "# print(f\"모델: {prompt.config['model']}\")\n",
    "# print(f\"온도: {prompt.config['temperature']}\")\n",
    "print(f\"라벨: {prompt.labels}\")\n",
    "print(f\"태그: {prompt.tags}\")\n",
    "print(f\"프롬프트: {prompt.prompt}\")\n",
    "print(\"-\" * 100)\n",
    "\n",
    "# 랭체인 프롬프트 출력\n",
    "print(f\"프롬프트: {prompt.get_langchain_prompt()}\")"
   ]
  },
  {
   "cell_type": "markdown",
   "metadata": {},
   "source": [
    "### **[실습]**\n",
    "\n",
    "- \"movie-critic-chat\" 프롬프트를 Langfuse에서 가져와서 내용을 출력합니다."
   ]
  },
  {
   "cell_type": "code",
   "execution_count": null,
   "metadata": {},
   "outputs": [],
   "source": [
    "# chat 프롬프트 가져오기"
   ]
  },
  {
   "cell_type": "code",
   "execution_count": 11,
   "metadata": {},
   "outputs": [
    {
     "data": {
      "text/plain": [
       "<langfuse.model.TextPromptClient at 0x27d6a779af0>"
      ]
     },
     "execution_count": 11,
     "metadata": {},
     "output_type": "execute_result"
    }
   ],
   "source": [
    "# 새로운 버전 생성\n",
    "langfuse.create_prompt(\n",
    "    name=\"movie-critic\",  # 같은 이름 사용\n",
    "    type=\"text\",          \n",
    "    prompt=\"당신은 {{criticLevel}} 영화 평론가입니다.\\n\\n영화 {{movie}}를 어떻게 생각하시나요?\",\n",
    "    labels=[\"production\"],       # 프로덕션 레이블\n",
    "    tags=[\"movie\", \"qa\"],    # 태그\n",
    "    config={\n",
    "        \"model\": \"gpt-4.1-mini\",\n",
    "        \"temperature\": 0.7\n",
    "    }\n",
    ")"
   ]
  },
  {
   "cell_type": "code",
   "execution_count": 12,
   "metadata": {},
   "outputs": [
    {
     "name": "stdout",
     "output_type": "stream",
     "text": [
      "모델: gpt-4.1-mini\n",
      "온도: 0.7\n",
      "라벨: ['production']\n",
      "프롬프트: {{criticLevel}} 영화 평론가로서, {{movie}}를 어떻게 생각하시나요?\n"
     ]
    }
   ],
   "source": [
    "# 특정 버전 가져오기\n",
    "prompt_v1 = langfuse.get_prompt(\"movie-critic\", version=1)\n",
    "\n",
    "# 프롬프트 출력\n",
    "print(f\"모델: {prompt_v1.config['model']}\")\n",
    "print(f\"온도: {prompt_v1.config['temperature']}\")\n",
    "print(f\"라벨: {prompt_v1.labels}\")\n",
    "print(f\"프롬프트: {prompt_v1.prompt}\")"
   ]
  },
  {
   "cell_type": "markdown",
   "metadata": {},
   "source": [
    "### **[실습]**\n",
    "\n",
    "- \"movie-critic-chat\" 프롬프트를 수정하고, labels 속성은 \"staging\"으로 커스텀 지정하세요.\n",
    "- Langfuse에서 \"staging\" 버전을 가져와서 내용을 출력합니다."
   ]
  },
  {
   "cell_type": "code",
   "execution_count": null,
   "metadata": {},
   "outputs": [],
   "source": [
    "# staging 버전 생성\n"
   ]
  },
  {
   "cell_type": "code",
   "execution_count": null,
   "metadata": {},
   "outputs": [],
   "source": [
    "# staging 버전 가져오기"
   ]
  },
  {
   "cell_type": "code",
   "execution_count": 14,
   "metadata": {},
   "outputs": [
    {
     "data": {
      "text/plain": [
       "'{criticLevel} 영화 평론가로서, {movie}를 어떻게 생각하시나요?'"
      ]
     },
     "execution_count": 14,
     "metadata": {},
     "output_type": "execute_result"
    }
   ],
   "source": [
    "prompt_v1.get_langchain_prompt()"
   ]
  },
  {
   "cell_type": "code",
   "execution_count": 15,
   "metadata": {},
   "outputs": [
    {
     "name": "stdout",
     "output_type": "stream",
     "text": [
      "비평가 영화 평론가로서, 인셉션를 어떻게 생각하시나요?\n"
     ]
    }
   ],
   "source": [
    "from langchain_core.prompts import PromptTemplate\n",
    "\n",
    "# Langchain과 통합 - 'text' 프롬프트\n",
    "langchain_prompt = PromptTemplate.from_template(\n",
    "    prompt_v1.get_langchain_prompt(),\n",
    "    metadata={\"langfuse_prompt\": prompt_v1},\n",
    ")\n",
    "\n",
    "print(langchain_prompt.format(criticLevel=\"비평가\", movie=\"인셉션\"))"
   ]
  },
  {
   "cell_type": "code",
   "execution_count": null,
   "metadata": {},
   "outputs": [
    {
     "name": "stdout",
     "output_type": "stream",
     "text": [
      "크리스토퍼 놀란 감독의 **<인셉션>(Inception, 2010)**은 현대 영화사에서 혁신적이고 영향력 있는 작품 중 하나로 평가받습니다. 이 영화는 단순한 액션 블록버스터를 넘어, 꿈과 현실의 경계, 인간의 무의식과 기억, 그리고 정체성에 대한 깊은 철학적 질문을 탐구합니다.\n",
      "\n",
      "### 이야기와 주제\n",
      "<인셉션>은 꿈속으로 들어가 타인의 무의식에 아이디어를 심는 ‘인셉션’이라는 독특한 개념을 중심으로 전개됩니다. 다층적인 꿈의 구조와 복잡한 서사 전개는 관객에게 끊임없는 긴장감과 몰입을 제공합니다. 동시에 현실과 환상의 경계가 모호해지는 경험은 ‘무엇이 진짜인가’라는 근본적인 물음을 제시하며, 관객 각자의 해석을 가능하게 만듭니다.\n",
      "\n",
      "### 연출과 시각 효과\n",
      "놀란 감독 특유의 치밀한 연출과 정교한 시나리오 구성은 영화의 복잡한 플롯을 효과적으로 이끌어냅니다. 특히 중력을 거스르는 도시의 변형, 시간의 왜곡 등 시각적으로도 혁신적인 장면들은 영화의 몰입도를 극대화합니다. 한스 짐머의 음악 역시 긴장감과 감정선을 강하게 뒷받침하며, 영화의 분위기를 완성하는 데 큰 역할을 합니다.\n",
      "\n",
      "### 연기와 캐릭터\n",
      "레오나르도 디카프리오를 비롯한 주연 배우들의 연기는 캐릭터의 내면적 갈등과 심리를 섬세하게 표현합니다. 특히 디카프리오가 연기한 ‘코브’는 죄책감과 상실, 구원에 대한 감정을 중심으로 한 복합적인 인물로, 관객이 감정적으로 깊이 공감할 수 있는 중심축 역할을 합니다.\n",
      "\n",
      "### 결론\n",
      "<인셉션>은 단순한 오락영화를 넘어, 관객에게 지적 도전과 감정적 울림을 동시에 제공하는 작품입니다. 복잡한 구조 속에서도 명확한 주제를 전달하며, 영화 예술의 새로운 가능성을 보여준 이 작품은 앞으로도 오랫동안 회자될 클래식으로 자리매김할 것입니다. 영화산업 전반에 미친 영향과 함께, 현대 서사 영화의 한 획을 그은 중요한 작품으로 보아 마땅합니다.\n"
     ]
    }
   ],
   "source": [
    "from langchain_openai import ChatOpenAI\n",
    "\n",
    "# ChatOpenAI 모델 초기화 (프롬프트 설정에서 가져온 값 사용)\n",
    "model = ChatOpenAI(\n",
    "    model=prompt_v1.config.get(\"model\", \"gpt-4.1-mini\"),\n",
    "    temperature=prompt_v1.config.get(\"temperature\", 0.7)\n",
    ")\n",
    "\n",
    "# 체인 생성 및 실행\n",
    "chain = langchain_prompt | model\n",
    "response = chain.invoke(\n",
    "    input={\"criticLevel\": \"전문가\", \"movie\": \"인셉션\"},\n",
    "    config={\"callbacks\": [langfuse_handler]}  # 콜백 핸들러 추가\n",
    ")\n",
    "\n",
    "# 응답 출력\n",
    "print(response.content)"
   ]
  },
  {
   "cell_type": "markdown",
   "metadata": {},
   "source": [
    "### **[실습]**\n",
    "\n",
    "- 앞에서 직접 정의한 text 기반 프롬프트를 가져와서, LangChain과 통합하여 Tracing 추적을 실행합니다. \n",
    "- 실행 결과를 Langfuse UI에서 확인하세요. "
   ]
  },
  {
   "cell_type": "code",
   "execution_count": null,
   "metadata": {},
   "outputs": [],
   "source": [
    "# 여기에 코드를 추가하세요."
   ]
  },
  {
   "cell_type": "code",
   "execution_count": 18,
   "metadata": {},
   "outputs": [
    {
     "name": "stdout",
     "output_type": "stream",
     "text": [
      "모델: gpt-4.1-mini\n",
      "온도: 0.7\n",
      "라벨: ['production', 'latest']\n",
      "프롬프트: [{'type': 'message', 'role': 'system', 'content': '당신은 {{criticLevel}} 영화 평론가입니다.'}, {'type': 'message', 'role': 'user', 'content': '영화 평론가로서, {{movie}}를 어떻게 생각하시나요?'}]\n"
     ]
    }
   ],
   "source": [
    "# 특정 라벨 가져오기\n",
    "prompt_staging = langfuse.get_prompt(\"movie-critic-chat\", label=\"latest\")  # production, latest\n",
    "\n",
    "# 프롬프트 출력\n",
    "print(f\"모델: {prompt_staging.config['model']}\")\n",
    "print(f\"온도: {prompt_staging.config['temperature']}\")\n",
    "print(f\"라벨: {prompt_staging.labels}\")\n",
    "print(f\"프롬프트: {prompt_staging.prompt}\")"
   ]
  },
  {
   "cell_type": "code",
   "execution_count": 19,
   "metadata": {},
   "outputs": [
    {
     "name": "stdout",
     "output_type": "stream",
     "text": [
      "System: 당신은 비평가 영화 평론가입니다.\n",
      "Human: 영화 평론가로서, 인셉션를 어떻게 생각하시나요?\n"
     ]
    }
   ],
   "source": [
    "from langchain_core.prompts import ChatPromptTemplate\n",
    "\n",
    "# Langchain과 통합 - 'chat' 프롬프트\n",
    "langchain_prompt = ChatPromptTemplate.from_messages(\n",
    "    prompt_staging.get_langchain_prompt(type=\"chat\"),\n",
    ")\n",
    "langchain_prompt.metadata = {\"langfuse_prompt\": prompt_staging}\n",
    "\n",
    "print(langchain_prompt.format(criticLevel=\"비평가\", movie=\"인셉션\"))"
   ]
  },
  {
   "cell_type": "code",
   "execution_count": 20,
   "metadata": {},
   "outputs": [
    {
     "name": "stdout",
     "output_type": "stream",
     "text": [
      "크리스토퍼 놀란 감독의 『인셉션』은 현대 영화사에서 매우 독창적이고 영향력 있는 작품으로 평가받습니다. 이 영화는 꿈과 현실의 경계를 탐구하며, 복잡한 내러티브 구조와 시각적 효과를 통해 관객에게 깊은 몰입감을 선사합니다.\n",
      "\n",
      "특히, 놀란 특유의 정교한 각본과 한스 짐머의 강렬한 음악, 그리고 레오나르도 디카프리오를 비롯한 배우들의 뛰어난 연기가 조화를 이루어 영화의 긴장감과 감정선을 효과적으로 전달합니다. 꿈 속의 세계를 시각적으로 구현한 장면들은 기술적 완성도뿐만 아니라 철학적 질문을 던지는 데에도 성공적입니다.\n",
      "\n",
      "다만, 일부 관객에게는 복잡한 플롯과 다층적인 시간 구조가 이해하기 어려울 수 있다는 점이 단점으로 지적되기도 합니다. 하지만 이러한 복잡성 자체가 이 작품의 매력 중 하나로, 여러 번의 관람을 통해 새로운 해석과 발견을 가능하게 합니다.\n",
      "\n",
      "종합적으로, 『인셉션』은 장르의 경계를 넘나들며 상상력과 지성을 자극하는 작품으로서, 현대 SF 스릴러 영화의 중요한 이정표라 할 수 있습니다.\n"
     ]
    }
   ],
   "source": [
    "from langchain_openai import ChatOpenAI\n",
    "\n",
    "# ChatOpenAI 모델 초기화 (프롬프트 설정에서 가져온 값 사용)\n",
    "model = ChatOpenAI(\n",
    "    model=prompt.config.get(\"model\", \"gpt-4.1-mini\"),\n",
    "    temperature=prompt.config.get(\"temperature\", 0.7)\n",
    ")\n",
    "\n",
    "# 체인 생성 및 실행\n",
    "chain = langchain_prompt | model\n",
    "response = chain.invoke(\n",
    "    input={\"criticLevel\": \"전문가\", \"movie\": \"인셉션\"},\n",
    "    config={\"callbacks\": [langfuse_handler]}  # 콜백 핸들러 추가\n",
    ")\n",
    "\n",
    "# 응답 출력\n",
    "print(response.content)"
   ]
  },
  {
   "cell_type": "markdown",
   "metadata": {},
   "source": [
    "### **[실습]**\n",
    "\n",
    "- 앞에서 직접 정의한 chat 기반 프롬프트를 가져와서, LangChain과 통합하여 Tracing 추적을 실행합니다. \n",
    "- 실행 결과를 Langfuse UI에서 확인하세요. "
   ]
  },
  {
   "cell_type": "code",
   "execution_count": null,
   "metadata": {},
   "outputs": [],
   "source": [
    "# 여기에 코드를 추가하세요."
   ]
  }
 ],
 "metadata": {
  "kernelspec": {
   "display_name": "myproject",
   "language": "python",
   "name": "python3"
  },
  "language_info": {
   "codemirror_mode": {
    "name": "ipython",
    "version": 3
   },
   "file_extension": ".py",
   "mimetype": "text/x-python",
   "name": "python",
   "nbconvert_exporter": "python",
   "pygments_lexer": "ipython3",
   "version": "3.12.5"
  }
 },
 "nbformat": 4,
 "nbformat_minor": 2
}
