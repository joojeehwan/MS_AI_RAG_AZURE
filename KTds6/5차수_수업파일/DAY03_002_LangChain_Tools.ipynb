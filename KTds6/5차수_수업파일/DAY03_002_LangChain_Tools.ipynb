{
 "cells": [
  {
   "cell_type": "markdown",
   "metadata": {},
   "source": [
    "#   LangChain Tool 활용\n",
    "\n",
    "---"
   ]
  },
  {
   "cell_type": "markdown",
   "metadata": {},
   "source": [
    "## 환경 설정 및 준비"
   ]
  },
  {
   "cell_type": "markdown",
   "metadata": {},
   "source": [
    "`(1) Env 환경변수`"
   ]
  },
  {
   "cell_type": "code",
   "execution_count": 1,
   "metadata": {},
   "outputs": [
    {
     "data": {
      "text/plain": [
       "True"
      ]
     },
     "execution_count": 1,
     "metadata": {},
     "output_type": "execute_result"
    }
   ],
   "source": [
    "from dotenv import load_dotenv\n",
    "load_dotenv()"
   ]
  },
  {
   "cell_type": "markdown",
   "metadata": {},
   "source": [
    "`(2) 기본 라이브러리`"
   ]
  },
  {
   "cell_type": "code",
   "execution_count": 2,
   "metadata": {},
   "outputs": [],
   "source": [
    "import os\n",
    "from glob import glob\n",
    "\n",
    "from pprint import pprint\n",
    "import json"
   ]
  },
  {
   "cell_type": "markdown",
   "metadata": {},
   "source": [
    "`(3) Langsmith tracing 설정`"
   ]
  },
  {
   "cell_type": "code",
   "execution_count": 3,
   "metadata": {},
   "outputs": [
    {
     "name": "stdout",
     "output_type": "stream",
     "text": [
      "true\n"
     ]
    }
   ],
   "source": [
    "# Langsmith tracing 여부를 확인 (true: langsmith 추척 활성화, false: langsmith 추척 비활성화)\n",
    "import os\n",
    "print(os.getenv('LANGSMITH_TRACING'))"
   ]
  },
  {
   "cell_type": "markdown",
   "metadata": {},
   "source": [
    "---\n",
    "\n",
    "## **내장 도구 (Built-in Tool)**\n",
    "\n",
    "- **내장 도구**는 시스템에 **기본적으로 포함**된 사전 정의된 도구들의 집합\n",
    "\n",
    "- 파일 처리, 웹 검색, 코드 실행 등 **자주 사용되는 기본 기능**들을 즉시 활용 가능\n",
    "\n",
    "- 별도의 구현 없이 **바로 사용**할 수 있어 개발 시간과 노력을 절약 가능"
   ]
  },
  {
   "cell_type": "markdown",
   "metadata": {},
   "source": [
    "---\n",
    "\n",
    "### **웹 검색(Tavily Search API)**\n",
    "\n",
    "- **Tavily**는 AI 에이전트(LLM)를 위해 특별히 설계된 검색 엔진\n",
    "\n",
    "- 검색 결과로 **제목, URL, 컨텐츠, 답변** 등 상세 정보 제공\n",
    "\n",
    "- 개발자는 **월 1,000회** 무료 검색 쿼터 사용 가능\n",
    "\n",
    "- **설치**: `pip install tavily-python` 또는 `uv add tavily-python`\n",
    "\n",
    "- **인증키**: `TAVILY_API_KEY`"
   ]
  },
  {
   "cell_type": "markdown",
   "metadata": {},
   "source": [
    "`(1) 도구 정의`"
   ]
  },
  {
   "cell_type": "code",
   "execution_count": 4,
   "metadata": {},
   "outputs": [
    {
     "name": "stderr",
     "output_type": "stream",
     "text": [
      "C:\\Users\\User\\AppData\\Local\\Temp\\ipykernel_11240\\1472953183.py:3: LangChainDeprecationWarning: The class `TavilySearchResults` was deprecated in LangChain 0.3.25 and will be removed in 1.0. An updated version of the class exists in the :class:`~langchain-tavily package and should be used instead. To use it run `pip install -U :class:`~langchain-tavily` and import as `from :class:`~langchain_tavily import TavilySearch``.\n",
      "  search_web = TavilySearchResults(\n"
     ]
    }
   ],
   "source": [
    "from langchain_community.tools import TavilySearchResults\n",
    "\n",
    "search_web = TavilySearchResults(\n",
    "    max_results=5,  # 반환할 결과의 수\n",
    "    search_depth=\"advanced\",  # 검색 깊이: basic 또는 advanced\n",
    ")"
   ]
  },
  {
   "cell_type": "markdown",
   "metadata": {},
   "source": [
    "`(2) 도구 직접 호출`\n",
    "- 자연어 쿼리를 도구에 전달"
   ]
  },
  {
   "cell_type": "code",
   "execution_count": 5,
   "metadata": {},
   "outputs": [
    {
     "name": "stdout",
     "output_type": "stream",
     "text": [
      "[{'content': 'ETF(Exchange Traded Fund)는 투자비용이 낮고 유동성이 풍부한 분산투자 상품 으로서 21세기 가장 '\n",
      "             '성공적인 금융혁신 사례의 하나로 평가되고 있다. 1990년 캐나다에 서 처음 등장한 이후 2023년 7월 글로벌 '\n",
      "             'ETF 자산규모는 10.6조달러에 이르고 최근 10년 간 성장률은 연 17.1%에 달한다. 01 이러한 성장세는 '\n",
      "             '특정 지역에 국한된 것이 아니라 전 세계적으로 고르게 나타나며, 한국도 예외는 아니다. 한국시장에 ETF는 '\n",
      "             '2002년 처음 도 입되었는데 2023년 8월말 기준 순자산가치는 106조원, 종목수는 760개이며, 최근 10년간 '\n",
      "             '순자산가치 성장률은 연 19.6%로 글로벌 ETF 성장률에 비해 높은 수준이다(<그림 I-1>). ETF는 특히 '\n",
      "             '개인투자자들에게 투자수단으로서 바람직한 특성을 가진 것으로 평가되 고 있다. 개인투자자는 주식 등 위험자산에 전혀 '\n",
      "             '투자하지 않거나 투자하더라도 분산투 자 수준이 낮고 모국편향(home bias), 과잉거래와 같은 [...] 여성 '\n",
      "             '남성 전체 20대이하 8,594(6,756) 11,889(8,803) 20,483(15,559) 30대 '\n",
      "             '11,357(5,956) 17,446(7,243) 28,803(13,199) 40대 14,097(5,451) '\n",
      "             '21,618(5,966) 35,715(11,417) 50대 13,445(4,831) 18,624(4,089) '\n",
      "             '32,069(8,920) 60대이상 7,338(1,784) 12,018(1,903) 19,356(3,687) 전체 '\n",
      "             '54,831(24,778) 81,595(28,004) 136,426(52,782) <표 II-2>는 분석기간 동안 '\n",
      "             'ETF의 유형별 구성을 나타낸다. ETF의 기초자산은 주식 (주가지수)과 채권(채권지수)인 경우가 각각 358개, '\n",
      "             '64개로 대부분(88%)을 차지하며 상 품, 통화, 부동산을 기초자산으로 하는 상품이 일부를 구성한다. 기초자산 '\n",
      "             '수익률의 특정 배수를 추종하는 파생형 ETF는 모두 83개이며, 레버리지(2X) ETF가 35개, [...] '\n",
      "             'transactions data of 136,000 Korean retail inves-tors from '\n",
      "             'January to October 2020. The characteristics of ETF investors in '\n",
      "             'terms of ETF holdings and transactions can be summarized as '\n",
      "             'follows. First, the number of investors who held or traded ETFs '\n",
      "             'during the period analyzed is about 17% of the ETF 시장의 개인투자자 64',\n",
      "  'score': 0.8700796,\n",
      "  'title': '[PDF] ETF 시장의 개인투자자',\n",
      "  'url': 'https://www.kcmi.re.kr/common/downloadw?fid=26801&fgu=002002&fty=004003'},\n",
      " {'content': '2.국내지수 추종(\\n'\n",
      "             '------------------------------------------------------------------------------------------------------------------------------------------------------------------------\\n'\n",
      "             '\\n'\n",
      "             '이름 순자산(억원)( \"2025년 2월 1일 기준 \")비고\\n'\n",
      "             'KODEX 200 56,956 국내 최초의 ETF\\n'\n",
      "             'TIGER 200 19,039\\n'\n",
      "             'PLUS 200 5,585\\n'\n",
      "             'HANARO 200 3,896\\n'\n",
      "             'ACE 200 3,776\\n'\n",
      "             'KODEX 200TR 23,704\\n'\n",
      "             'TIGER MSCI KOREA TR 20,563\\n'\n",
      "             'KIWOOM 200TR 7,611\\n'\n",
      "             'KODEX MSCI KOREA TR 7,656\\n'\n",
      "             'KODEX 코리아밸류업 1,530( [...] 이름 순자산(억원)비고\\n'\n",
      "             'TIGER 차이나전기차SOLACTIVE 17,242\\n'\n",
      "             'KODEX 선진국MSCI WORLD 4,003\\n'\n",
      "             'TIGER 일본니케이2252,527\\n'\n",
      "             'TIGER 글로벌AI액티브 2,422\\n'\n",
      "             'ACE 베트남VN30(합성)2,372\\n'\n",
      "             'KODEX 차이나항셍테크 1,516\\n'\n",
      "             '\\n'\n",
      "             '5.채권(\\n'\n",
      "             '--------------------------------------------------------------------------------------------------------------------------------------------------------------------\\n'\n",
      "             '\\n'\n",
      "             '### 5.1.국내( [...] 이름 순자산(억원)비고\\n'\n",
      "             'TIGER 미국필라델피아반도체나스닥 25,374\\n'\n",
      "             'ACE 테슬라벨류체인액티브 8,318\\n'\n",
      "             'KODEX 미국반도체MV 4,896( \"미국 기업뿐만 아니라 TSMC 등 미국 시장에 상장된 기업에도 투자한다 '\n",
      "             '\")\\n'\n",
      "             'KODEX 미국빅테크10(H)6,306\\n'\n",
      "             'KODEX 미국AI전력핵심인프라 2,696\\n'\n",
      "             'KODEX 미국AI테크TOP10타겟커버드콜 3,737\\n'\n",
      "             'KODEX 미국서학개미 2,137( \"미국 시장 한국인 개인투자자 투자액 순위 상위 25종에 투자한다. 참고로 '\n",
      "             'ETF 영문명도 \\'Investor\\'s choice US\\'다(...)\")\\n'\n",
      "             'KIWOOM 미국양자컴퓨팅 1,593\\n'\n",
      "             'KODEX 미국AI테크TOP10 1,304\\n'\n",
      "             '\\n'\n",
      "             '### 4.3.인도(\\n'\n",
      "             '\\n'\n",
      "             '이름 순자산(억원)비고\\n'\n",
      "             'TIGER 인도니프티50 6,856\\n'\n",
      "             'KODEX 인도NIFTY50 4,500\\n'\n",
      "             'KIWOOM 인도니프티50(합성)2,188\\n'\n",
      "             '\\n'\n",
      "             '### 4.4.그 외(',\n",
      "  'score': 0.5041753,\n",
      "  'title': '국내 ETF 목록 - 나무위키',\n",
      "  'url': 'https://namu.wiki/w/%EA%B5%AD%EB%82%B4%20ETF%20%EB%AA%A9%EB%A1%9D'},\n",
      " {'content': '12월, 가장 높은 수익률을 올린 ETF는 한국투자신탁운용의 ACE 미국빅테크TOP7 PLUS레버리지(합성) '\n",
      "             'ETF로, 34.89%의 수익률을 올렸습니다. 이어 한화자산운용의 PLUS 미국테크 TOP10레버리지(합성)이 '\n",
      "             '30.86%, 한국투자신탁운용의 ACE 테슬라밸류체인액티브가 25.60%, 미래에셋자산운용 TIGER 미국필라델피아 '\n",
      "             '반도체레버리지(합성)이 20.76%를 기록하며 2,3,4위를 차지했습니다. 한국투자신탁운용의 ACE 글로벌AI '\n",
      "             '맞춤형반도체 ETF는 19.71%를 기록하며 ETF CHECK 월간 HOT 종목 5위를 차지했습니다.\\n'\n",
      "             '\\n'\n",
      "             '· 신규 ETF 14개 상장\\n'\n",
      "             '\\n'\n",
      "             ' \\n'\n",
      "             '\\n'\n",
      "             '※ 위 콘텐츠는 ETF CHECK 웹사이트와 애플리케이션 내 Monthly Report를 활용해 작성된 자료로, '\n",
      "             'ETF CHECK에서 \\n'\n",
      "             '\\n'\n",
      "             '   보다 세부적이고 다양한 내용을 확인하실 수 있습니다. \\n'\n",
      "             '\\n'\n",
      "             '※ 콘텐츠 활용 시 출처를 <코스콤 ETF CHECK>로 표기해주시면 감사하겠습니다. [...] 일평균 거래대금과 '\n",
      "             '일평균 거래량은 전달 대비 모두 감소했습니다. 지난 12월 말 기준 국내 ETF의 일평균 거래대금은 '\n",
      "             '3조5534억원으로 전월(3조5926억원) 대비 392억원 감소했습니다. 일평균 거래량도 전월(4억2236만주) '\n",
      "             '대비 3408만주 감소한 3억8828만주를 기록했습니다.\\n'\n",
      "             '\\n'\n",
      "             ' \\n'\n",
      "             '\\n'\n",
      "             '· 핫 테마는 ‘美인기주식, 빅테크, 명품’ [...] 12월 국내 ETF 월간 핫 테마는 ‘美인기주식, 빅테크, '\n",
      "             '명품’으로 이들 테마 지수를 기초자산으로 삼은 ETF의 수익률이 높았습니다. 이외에 K·뷰티, 항셍테크, 밸류체인, '\n",
      "             '항셍도 월간 핫 테마로 꼽혔습니다. 지난 12월 말 기준 ‘美인기주식’의 한 달 평균 수익률은 13.64%로 핫 '\n",
      "             '테마 1위를 차지했습니다. 이어 ‘빅테크’ ETF의 한 달 평균 수익률은 12.30%로, 핫 테마 2위 자리에 '\n",
      "             '올랐습니다. 이어 ‘명품’ ETF는 한 달 평균 수익률 10.67%, K·뷰티 ETF도 한 달 평균 수익률 '\n",
      "             '10.05%의 수익률을 기록하며 각 3,4위를 차지했습니다. 항셍테크 섹터는 9.53%를 기록하며 5위를 '\n",
      "             '차지했습니다.\\n'\n",
      "             '\\n'\n",
      "             '· 핫 종목 수익률 TOP 1위는 미국빅테크TOP7 Plus레버리지(합성)',\n",
      "  'score': 0.36806548,\n",
      "  'title': 'ETF CHECK 월간리포트(읽기)<뉴스룸<koscom',\n",
      "  'url': 'https://www.koscom.co.kr/portal/bbs/B0000066/view.do?nttId=30007&searchCnd=&searchWrd=&gubun=&delcode=0&searchBgnDe=&searchEndDe=&useAt=&replyAt=&menuNo=200562&sdate=&edate=&deptId=&isk=&ise=&viewType=&type=&year=&pageIndex=1'},\n",
      " {'content': '# 증권상품이모저모\\n'\n",
      "             '\\n'\n",
      "             '증권상품이모저모\\n'\n",
      "             '전체메뉴 열기\\n'\n",
      "             '\\n'\n",
      "             '##### 서비스 소개\\n'\n",
      "             '\\n'\n",
      "             '정보데이터시스템 소개\\n'\n",
      "             '이용안내\\n'\n",
      "             '마켓데이터 이용약관\\n'\n",
      "             '보도자료\\n'\n",
      "             '공지사항\\n'\n",
      "             '\\n'\n",
      "             '##### 통계\\n'\n",
      "             '\\n'\n",
      "             '기본 통계\\n'\n",
      "             '이슈 통계\\n'\n",
      "             '공매도 통계\\n'\n",
      "             '통계DB 정보\\n'\n",
      "             '정보데이터 종합사전; void(0);)\\n'\n",
      "             '\\n'\n",
      "             '##### 쉽게 보는 통계\\n'\n",
      "             '\\n'\n",
      "             '주요 통계\\n'\n",
      "             '순위 통계\\n'\n",
      "             '시각화 통계\\n'\n",
      "             '\\n'\n",
      "             '##### 깊이 있는 통계\\n'\n",
      "             '\\n'\n",
      "             '기업분석보고서\\n'\n",
      "             '투자분석정보\\n'\n",
      "             'ESG 정보\\n'\n",
      "             '이용안내\\n'\n",
      "             '\\n'\n",
      "             '##### 간행물\\n'\n",
      "             '\\n'\n",
      "             '시장동향\\n'\n",
      "             '발간자료\\n'\n",
      "             '\\n'\n",
      "             '##### 데이터 상품\\n'\n",
      "             '\\n'\n",
      "             '데이터 구입\\n'\n",
      "             '데이터 분배\\n'\n",
      "             '지수 라이센스\\n'\n",
      "             '\\n'\n",
      "             '## ETF\\n'\n",
      "             '\\n'\n",
      "             '###### 상장종목수\\n'\n",
      "             '\\n'\n",
      "             '###### 순자산가치총액\\n'\n",
      "             '\\n'\n",
      "             '###### 일평균거래대금\\n'\n",
      "             '\\n'\n",
      "             '###### 상장종목수\\n'\n",
      "             '\\n'\n",
      "             '###### 순자산가치총액\\n'\n",
      "             '\\n'\n",
      "             '###### 일평균거래대금\\n'\n",
      "             '\\n'\n",
      "             '## ETN\\n'\n",
      "             '\\n'\n",
      "             '###### 상장종목수\\n'\n",
      "             '\\n'\n",
      "             '###### 지표가치총액\\n'\n",
      "             '\\n'\n",
      "             '###### 일평균거래대금\\n'\n",
      "             '\\n'\n",
      "             '###### 상장종목수\\n'\n",
      "             '\\n'\n",
      "             '###### 지표가치총액\\n'\n",
      "             '\\n'\n",
      "             '###### 일평균거래대금\\n'\n",
      "             '\\n'\n",
      "             '페이지 로딩 중입니다. [...] 잠시만 기다려 주십시오.\\n'\n",
      "             '\\n'\n",
      "             '\\\\ 연간수익률 = 전체종목의 연간수익률을 평균한 값으로, 각 종목별 연간수익률은 (종료일종가 - '\n",
      "             '전년말일종가)/전년말일종가\\\\100으로 산출함\\n'\n",
      "             '\\n'\n",
      "             '\\\\ 연간수익률 = 전체종목의 연간수익률을 평균한 값으로, 각 종목별 연간수익률은 (종료일종가 - '\n",
      "             '전년말일종가)/전년말일종가\\\\100으로 산출함',\n",
      "  'score': 0.29879355,\n",
      "  'title': 'ETF - KRX - 한국거래소 | 정보데이터시스템',\n",
      "  'url': 'http://data.krx.co.kr/contents/MDC/EASY/visualController/MDCEASY400.cmd'},\n",
      " {'content': '종목발행현황 ; KODEX KRX300레버리지, 삼성자산운용, 레버리지 ; PLUS K방산, 한화자산운용, 기타 ; '\n",
      "             'TIGER 글로벌AI전력인프라액티브, 미래에셋자산운용, 해외지수 ; ACE',\n",
      "  'score': 0.1682824,\n",
      "  'title': 'ETF종목발행현황 - KSD 증권정보포털',\n",
      "  'url': 'https://m.seibro.or.kr/cnts/etf/selectPublishInfo.do'}]\n"
     ]
    }
   ],
   "source": [
    "result = search_web.invoke(\"한국 시장에서 거래되는 ETF 종목은 모두 몇 개인가요?\")\n",
    "pprint(result)"
   ]
  },
  {
   "cell_type": "code",
   "execution_count": 16,
   "metadata": {},
   "outputs": [],
   "source": [
    "from langchain_naver_community.tool import NaverSearchResults\n",
    "from langchain_naver_community.utils import NaverSearchAPIWrapper\n",
    "from langchain_naver_community.tool import NaverNewsSearch\n",
    "\n",
    "# Set up the search wrapper\n",
    "naver_search = NaverSearchAPIWrapper()\n",
    "\n",
    "# Create a tool\n",
    "naver_tool = NaverNewsSearch(api_wrapper=naver_search)"
   ]
  },
  {
   "cell_type": "code",
   "execution_count": 17,
   "metadata": {},
   "outputs": [
    {
     "name": "stdout",
     "output_type": "stream",
     "text": [
      "[{'description': '거래되는 ETF 상품이 8040개 이상이고, 미국시장에서 거래되는 상품이 2452개, 한국시장에서 거래되는 '\n",
      "                 '상품이 497개라고 소개한다. 결국 그중 몇 개만 조합해 투자 포트폴리오를 짜야 하는데 어떻게 선택해야 '\n",
      "                 '하나.... ',\n",
      "  'link': 'https://n.news.naver.com/mnews/article/037/0000029954?sid=101',\n",
      "  'pubDate': 'Fri, 12 Nov 2021 10:02:00 +0900',\n",
      "  'title': '“미국 경기 향후 5년 호황 국면, SPY·INDA·VNQ ETF로 자산 증식하라”'},\n",
      " {'description': '지금도 한국의 지하철과 도로도 몇 개 가지고 있을걸요?&quot; 맥쿼리에서 프론트 오피스로의 진급을 '\n",
      "                 \"꿈꾸던... 단일종목 레버리지·곱버스 상장지수펀드(ETF)'를 주도한 것도 그다. &quot;한국 ETF \"\n",
      "                 '시장이 홍콩의 두 배 가까이 돼요.... ',\n",
      "  'link': 'https://n.news.naver.com/mnews/article/029/0002963029?sid=101',\n",
      "  'pubDate': 'Sun, 22 Jun 2025 17:23:00 +0900',\n",
      "  'title': '[오늘의 DT인] &quot;외국인들, 한국 투자 시각 바뀌고 있어… 금융규제 반드...'},\n",
      " {'description': '한국에서 개별 종목 투자 또는 미국 시장에서 개별 종목 투자해서 돈을 벌겠다. 공부 열심히 해서 운이... '\n",
      "                 '회사 몇 개 없거든요. 우리나라에는 광산이랑 조선이랑 몇 개 없단 말입니다. 그런 회사들은 어떤 변화가 '\n",
      "                 '오더라도... ',\n",
      "  'link': 'https://news.mtn.co.kr/news-detail/2025051916444676518',\n",
      "  'pubDate': 'Tue, 20 May 2025 06:04:00 +0900',\n",
      "  'title': \"'트럼프 2.0 시대', 글로벌 경제와 한국의 투자 해법 [경제1타강사]\"},\n",
      " {'description': '그다음에 이제 두 번째는 한국 주식시장 24년도로 이렇게 시간을 거슬러서 보면 24년도 사실은 한 해 '\n",
      "                 '동안... 그렇다면 여기서 이제 사니라오가 몇 개가 나오는데 미국과 중국이 협상을 했을 때 위안화 가격이 '\n",
      "                 '어떻게 될... ',\n",
      "  'link': 'https://n.news.naver.com/mnews/article/056/0011949270?sid=101',\n",
      "  'pubDate': 'Mon, 12 May 2025 13:52:00 +0900',\n",
      "  'title': '[성공예감] 머릿속에서 잊혀졌던 ‘이 주식’이 오르는 이유 - 곽상준 부...'},\n",
      " {'description': '레버리지 ETF에 돈이 몰린 것도 같은 맥락이다. 임재준 한국거래소 증권상품시장부장은 “2011년 유럽... '\n",
      "                 '‘Big5 운용사’가 추천한 경쟁사 ETF TIGER모멘텀·KODEX합성-미국바이오 주목 국내 ETF 시장은 '\n",
      "                 '상위 몇 개... ',\n",
      "  'link': 'https://n.news.naver.com/mnews/article/024/0000048887?sid=101',\n",
      "  'pubDate': 'Mon, 13 Apr 2015 07:21:00 +0900',\n",
      "  'title': '[SPECIAL REPORT 1] 높은 수익률·싼 수수료 ETF ‘전성시대’'},\n",
      " {'description': '주주라든지 몇 개 증권사가 이 시스템을 그러니까 일반 투자자들이 매매를 해야 되지 않겠습니까? 저희... '\n",
      "                 '같은 종목이라도 시장마다 가격이 달라질 수 있습니다 예를 들어 삼성전자 한 주가 한국 거래소에서는 만 '\n",
      "                 '원에... ',\n",
      "  'link': 'https://n.news.naver.com/mnews/article/215/0001174479?sid=101',\n",
      "  'pubDate': 'Thu, 08 Aug 2024 14:53:00 +0900',\n",
      "  'title': '김학수 넥스트레이드 대표 &quot;11월 모의시장 오픈...3년내 점유율 10%&quot;'},\n",
      " {'description': '해보면 한국 시장이 장기적으로 박스권에 머물러 있거든요. 뭐 사서 올라가서 사실 종목 피킹을 해서 혹은... '\n",
      "                 '이번 주에는 미국의 경제 상황 볼 수 있는 지표들 몇 개 나오는데 우선은 최근에 실물 지표보다 좀 '\n",
      "                 '심리... ',\n",
      "  'link': 'https://n.news.naver.com/mnews/article/056/0011917265?sid=101',\n",
      "  'pubDate': 'Mon, 24 Mar 2025 14:14:00 +0900',\n",
      "  'title': '[성공예감] 주주 반발에도 유상증자? 미국 기업은 증자를 안 합니다 - 김...'},\n",
      " {'description': '만약에 삼성전자하고 하이닉스가 모두 안 팔아 이러면 세계 AI 시장은 멈춥니다. 그렇게 보시면 됩니다. '\n",
      "                 '◇이대호&gt; 그렇죠. 또 하나 이슈가 되는 게 지난주 금요일 그리고 오늘까지 2거래일 연속해서 삼성전자가 '\n",
      "                 '6%대... ',\n",
      "  'link': 'https://n.news.naver.com/mnews/article/056/0011840048?sid=101',\n",
      "  'pubDate': 'Mon, 18 Nov 2024 15:01:00 +0900',\n",
      "  'title': '[성공예감] 투자도 축구도 ‘수비’를 잘해야 합니다 – 곽상준 부장 (신...'},\n",
      " {'description': '그런데 이제 한국 시장에 30%를 차지하는 외국 투자가들은 뭔가 확정안이 어제 나오는 줄 알고 가령 이제 '\n",
      "                 '오전에 유튜브 라이브 방송을 거래소가 했죠. ◇이대호&gt; 한국거래소에서 하는 토론회가 이제 세미나가 '\n",
      "                 '중개가 됐죠.... ',\n",
      "  'link': 'https://n.news.naver.com/mnews/article/056/0011670265?sid=101',\n",
      "  'pubDate': 'Tue, 27 Feb 2024 17:12:00 +0900',\n",
      "  'title': '[성공예감] 코리아 디스카운트로 국민들이 피해를 봅니다 – 이남우 회...'},\n",
      " {'description': '금융시장은 진리 같은 게 하나가 있어요. 진리. 즉, 금융시장에 진리가 여러 개 몇 개가 있는데 그중에 '\n",
      "                 '하나가... 나스닥이 44%나 올랐고 한국 주식시장도 한 178% 이 정도 올랐지 않습니까? 거래소 '\n",
      "                 '기준으로. 코스닥은 20%를... ',\n",
      "  'link': 'https://n.news.naver.com/mnews/article/056/0011642907?sid=101',\n",
      "  'pubDate': 'Tue, 16 Jan 2024 08:40:00 +0900',\n",
      "  'title': '[성공예감] 주식도 비트코인도 불변의 투자 원칙, 페따 꼼쁠리를 기억해...'}]\n"
     ]
    }
   ],
   "source": [
    "result = naver_tool.invoke(\"한국 시장에서 거래되는 ETF 종목은 모두 몇 개인가요?\")\n",
    "pprint(result)"
   ]
  },
  {
   "cell_type": "markdown",
   "metadata": {},
   "source": [
    "`(3) ToolCall을 사용한 호출`\n",
    "- 모델에서 생성된 `ToolCall`을 사용하여 도구를 호출"
   ]
  },
  {
   "cell_type": "code",
   "execution_count": 10,
   "metadata": {},
   "outputs": [
    {
     "name": "stdout",
     "output_type": "stream",
     "text": [
      "[{'args': {'query': '한국 시장 거래 ETF 종목 수'},\n",
      "  'id': 'call_iOtWAqabYutlsL4rvqnDauko',\n",
      "  'name': 'tavily_search_results_json',\n",
      "  'type': 'tool_call'}]\n"
     ]
    }
   ],
   "source": [
    "from langchain_openai import ChatOpenAI\n",
    "\n",
    "# 모델 생성\n",
    "model = ChatOpenAI(model=\"gpt-4.1-mini\")\n",
    "\n",
    "# 모델에 도구 등록 \n",
    "model_with_tools = model.bind_tools([search_web , naver_tool])\n",
    "\n",
    "# 사용자 쿼리를 입력하여 ToolCall 생성\n",
    "response = model_with_tools.invoke(\"tavily 사용해서, 한국 시장에서 거래되는 ETF 종목은 모두 몇 개인가요?\")\n",
    "\n",
    "# ToolCall 출력 \n",
    "pprint(response.tool_calls)"
   ]
  },
  {
   "cell_type": "code",
   "execution_count": 11,
   "metadata": {},
   "outputs": [
    {
     "name": "stdout",
     "output_type": "stream",
     "text": [
      "('[{\"title\": \"국내 ETF 현황 - Fund&ETFs - FnIndex\", \"url\": '\n",
      " '\"http://www2.fnspace.com:4000/fund/etf\", \"content\": \"국내 ETF 상장종목수| 구분 | '\n",
      " '2015.12 | 2016.12 | 2017.12 | 2018.12 | 2019.12 | 2020.12 | 2021.12 | '\n",
      " '2022.12 | 2023.12 | 2024.12 | 2025.05 |\\\\n| --- | --- | --- | --- | --- | '\n",
      " '--- | --- | --- | --- | --- | --- | --- |\\\\n| ETF(국내주식) | 펀드수 | 113 | 140 | '\n",
      " '176 | 234 | 257 | 256 | 291 | 316 | 348 | 367 | 372 |\\\\n| 비중 | 57.07% | '\n",
      " '54.69% | 54.15% | 56.66% | 57.11% | 54.70% | 54.60% | 47.45% | 42.80% | '\n",
      " '39.25% | 37.61% |\\\\n| ETF(해외주식) | 펀드수 | 40 | 55 | 70 | 76 | 74 | 88 | 116 | '\n",
      " '167 | 220 | 291 | 323 | [...] | 비중 | 20.20% | 21.48% | 21.54% | 18.40% | '\n",
      " '16.44% | 18.80% | 21.76% | 25.08% | 27.06% | 31.12% | 32.66% |\\\\n| ETF(국내채권) '\n",
      " '| 펀드수 | 21 | 28 | 37 | 50 | 53 | 54 | 53 | 74 | 106 | 129 | 132 |\\\\n| 비중 | '\n",
      " '10.61% | 10.94% | 11.38% | 12.11% | 11.78% | 11.54% | 9.94% | 11.11% | '\n",
      " '13.04% | 13.80% | 13.35% |\\\\n| ETF(기타) | 펀드수 | 24 | 33 | 42 | 53 | 66 | 70 | '\n",
      " '73 | 109 | 139 | 148 | 162 |\\\\n| 비중 | 12.12% | 12.89% | 12.92% | 12.83% | '\n",
      " '14.67% | 14.96% | 13.70% | 16.37% | 17.10% | 15.83% | 16.38% | [...] 국내 ETF '\n",
      " '현황 - Fund&ETFs - FnIndex\\\\n\\\\n===============\\\\n\\\\n본문 '\n",
      " '바로가기\\\\n\\\\nfnindexwiseindex\\\\n==================================================================================================\\\\n\\\\n   '\n",
      " 'Real-time Indices\\\\n   FnGuide Indices\\\\n   Fund & ETFs\\\\n   Multi-Factor '\n",
      " 'Model\\\\n   Research\\\\n   About fnindex\\\\n\\\\nFund&ETFs\\\\n---------\\\\n\\\\n   국내 '\n",
      " 'Index펀드 현황\\\\n   국내 ETF 현황\\\\n   FnIndex 추종 펀드현황\\\\n\\\\n   운용사별 '\n",
      " '펀드정보\\\\n\\\\nHomeFund&ETFs국내 ETF 현황\\\\n\\\\n### 국내 ETF 현황\\\\n\\\\n국내 ETF 현황 '\n",
      " '자료입니다.\\\\n\\\\n   상장종목수\\\\n   순자산\\\\n   거래량\\\\n   수익률\\\\n\\\\n(단위 : 개)\\\\n\\\\n기준일:\", '\n",
      " '\"score\": 0.7940821}, {\"title\": \"한국 ETF - Investing.com - 인베스팅\", \"url\": '\n",
      " '\"https://kr.investing.com/etfs/south-korea-etfs\", \"content\": \"|  | 에셋플러스 '\n",
      " '글로벌플랫폼액티브 | 407830 | 14,715 | -1.97% | 4.71K | 15:29:59 |  |\\\\n|  | Samsung '\n",
      " 'KODEX Korea Taiwan IT Premier | 298770 | 28,875 | +0.47% | 4.61K | 15:29:59 '\n",
      " '|  |\\\\n|  | KIM KINDEX Short-Term MSB Money Market | 190620 | 102,000 | '\n",
      " '-0.01% | 4.55K | 15:29:59 |  |\\\\n|  | Hanwha ARIRANG KOFR | 453010 | 108,010 '\n",
      " '| +0.01% | 4.52K | 15:29:59 |  |\\\\n|  | MiraeAsset TIGER Synth-Global '\n",
      " 'Healthcare | 248270 | 22,000 | +0.39% | 4.52K | 15:29:59 |  | [...] |  | '\n",
      " 'Heungkuk HK Best11 Active | 391670 | 12,335 | -0.72% | 2.52K | 15:29:59 |  '\n",
      " '|\\\\n|  | NH-Amundi HANARO Carbon Efficiennt Green New Deal | 375760 | 10,480 '\n",
      " '| +0.10% | 2.50K | 15:29:59 |  |\\\\n|  | MiraeAsset TIGER Global Bbig Active '\n",
      " '| 387270 | 17,915 | +0.48% | 2.50K | 15:29:59 |  |\\\\n|  | ARIRANG NASDAQ '\n",
      " 'Technology Sector | 287180 | 38,085 | +0.66% | 2.50K | 15:29:59 |  |\\\\n|  | '\n",
      " 'KIM KINDEX Samsung Group SW | 108450 | 16,270 | -0.61% | 2.46K | 15:29:59 |  '\n",
      " '| [...] |  | Mirae Asset TIGER KOSDAQ150 IT | 261060 | 13,115 | -0.30% | '\n",
      " '1.47K | 15:29:59 |  |\\\\n|  | KOSEF 미국달러선물 | 138230 | 15,730 | +0.70% | 1.45K '\n",
      " '| 15:29:59 |  |\\\\n|  | KB KBSTAR Active Korea Total Bond Market(A-) | 385540 '\n",
      " '| 110,235 | +0.03% | 1.45K | 15:29:59 |  |\\\\n|  | Hanwha ARIRANG Leading '\n",
      " 'Industry | 280920 | 13,230 | +0.15% | 1.44K | 15:29:59 |  |\\\\n|  | SOL '\n",
      " '차이나육성산업액티브(합성) | 415760 | 7,855 | +2.01% | 1.43K | 15:29:59 |  |\", \"score\": '\n",
      " '0.7092009}, {\"title\": \"ETF종목발행현황 - KSD 증권정보포털\", \"url\": '\n",
      " '\"https://m.seibro.or.kr/cnts/etf/selectPublishInfo.do\", \"content\": \"| 에셋플러스 '\n",
      " '코리아대장장이액티브;) | 에셋플러스자산운용 | 기타 | 28.66 |\\\\n| FOCUS KRX300;) | 브이아이자산운용 | '\n",
      " 'KRX300 | 28.64 |\\\\n| TIGER 탄소효율그린뉴딜;) | 미래에셋자산운용 | 녹색성장 | 28.56 |\\\\n| TIGER '\n",
      " \"미국나스닥100(H)');) | 미래에셋자산운용 | 해외지수 | 28.54 |\\\\n| KODEX MSCI Korea TR;) | \"\n",
      " '삼성자산운용 | MSCI Korea Index | 28.53 |\\\\n| TIGER AI코리아그로스액티브;) | 미래에셋자산운용 | '\n",
      " '코스피200 | 28.52 |\\\\n| KODEX 탄소효율그린뉴딜;) | 삼성자산운용 | 녹색성장 | 28.51 |\\\\n| TIGER '\n",
      " 'MSCI Korea TR;) | 미래에셋자산운용 | MSCI Korea Index | 28.50 |\\\\n| RISE '\n",
      " '미국테크100데일리고정커버드콜;) | 케이비자산운용 | 구조화 | 28.50 | [...] | RISE ESG사회책임투자;) | '\n",
      " '케이비자산운용 | SRI | 31.69 |\\\\n| KODEX 가치주;) | 삼성자산운용 | MSCI Korea Index | 31.59 '\n",
      " '|\\\\n| KIWOOM 코스닥150선물레버리지;) | 키움투자자산운용 | 레버리지 | 31.58 |\\\\n| 마이다스 중소형액티브;) | '\n",
      " '마이다스에셋자산운용 | 투자전략 | 31.56 |\\\\n| WON 200;) | 우리자산운용 | 코스피200 | 31.56 |\\\\n| '\n",
      " 'TIGER 200 IT;) | 미래에셋자산운용 | IT | 31.52 |\\\\n| KODEX 200IT TR;) | 삼성자산운용 | IT '\n",
      " '| 31.36 |\\\\n| SOL 반도체후공정;) | 신한자산운용 | IT | 31.36 |\\\\n| KODEX 200동일가중;) | '\n",
      " '삼성자산운용 | 코스피200 | 31.35 |\\\\n| TIGER 200TR;) | 미래에셋자산운용 | 코스피200 | 31.30 '\n",
      " '|\\\\n| KODEX AI반도체핵심장비;) | 삼성자산운용 | IT | 31.25 | [...] | TIGER MSCI KOREA '\n",
      " 'ESG유니버설;) | 미래에셋자산운용 | MSCI Korea Index | 30.50 |\\\\n| KODEX 200가치저변동;) | '\n",
      " '삼성자산운용 | 스타일 | 30.44 |\\\\n| ACE 라이프자산주주가치액티브;) | 한국투자신탁운용 | 투자전략 | 30.43 '\n",
      " '|\\\\n| 파워 코스피100;) | 교보악사자산운용 | 코스피100 | 30.42 |\\\\n| PLUS 200TR;) | 한화자산운용 | '\n",
      " '코스피200 | 30.35 |\\\\n| RISE 고배당;) | 케이비자산운용 | 스타일 | 30.33 |\\\\n| 아이엠에셋 200;) | '\n",
      " '아이엠에셋자산운용 | 코스피200 | 30.32 |\\\\n| RISE 코리아밸류업;) | 케이비자산운용 | 기타 | 30.26 |\\\\n| '\n",
      " 'RISE 5G테크;) | 케이비자산운용 | IT | 30.25 |\\\\n| TIGER 미국테크TOP10타겟커버드콜;) | 미래에셋자산운용 '\n",
      " '| 구조화 | 30.21 |\", \"score\": 0.5999311}, {\"title\": \"국내 ETF 목록 - 나무위키\", \"url\": '\n",
      " '\"https://namu.wiki/w/%EA%B5%AD%EB%82%B4%20ETF%20%EB%AA%A9%EB%A1%9D\", '\n",
      " '\"content\": \"2.국내지수 '\n",
      " '추종(\\\\n------------------------------------------------------------------------------------------------------------------------------------------------------------------------\\\\n\\\\n이름 '\n",
      " '순자산(억원)( \\\\\"2025년 2월 1일 기준 \\\\\")비고\\\\nKODEX 200 56,956 국내 최초의 ETF\\\\nTIGER 200 '\n",
      " '19,039\\\\nPLUS 200 5,585\\\\nHANARO 200 3,896\\\\nACE 200 3,776\\\\nKODEX 200TR '\n",
      " '23,704\\\\nTIGER MSCI KOREA TR 20,563\\\\nKIWOOM 200TR 7,611\\\\nKODEX MSCI KOREA '\n",
      " 'TR 7,656\\\\nKODEX 코리아밸류업 1,530( [...] 이름 순자산(억원)비고\\\\nKODEX 2차전지산업 '\n",
      " '9,331\\\\nKODEX 2차산업레버리지 1,871X2\\\\nKODEX 2차전지핵심소재10 1,230\\\\nTIGER 200 BBIG '\n",
      " '1,437( \\\\\"BBIG는 바이오, 2차전지, 인터넷, 게임을 말한다\\\\\")\\\\nSOL 2차전지소부장Fn 1,232\\\\nKODEX '\n",
      " '반도체 5,558\\\\nKODEX AI반도체핵심장비 1,131\\\\nTIGER 200 반도체 2,251\\\\nSOL AI반도체소부장 '\n",
      " '2,718\\\\nHANARO Fn K-반도체 2,052\\\\nTIGER 200 IT 5,303\\\\nTIGER 200 소프트웨어 '\n",
      " '1,081\\\\nKODEX 자동차 4,925\\\\nKODEX 은행 3,350\\\\nKODEX 바이오 1,456\\\\nKODEX '\n",
      " '한국부동산리츠인프라 1,435(\\\\nKODEX K-로봇액티브 1,424\\\\nKODEX AI전력핵심설비 1,379( \\\\\"AI는 그냥 '\n",
      " '갖다붙인거고 대부분 전력주로 구성되어있다\\\\\")\\\\nTIGER 200 화장품 2,779\\\\nSOL 조선TOP3플러스 '\n",
      " '6,605\\\\nPLUS K방산 2,799 [...] 이름 순자산(억원)비고\\\\nTIGER 미국필라델피아반도체나스닥 25,374\\\\nACE '\n",
      " '테슬라벨류체인액티브 8,318\\\\nKODEX 미국반도체MV 4,896( \\\\\"미국 기업뿐만 아니라 TSMC 등 미국 시장에 상장된 '\n",
      " '기업에도 투자한다 \\\\\")\\\\nKODEX 미국빅테크10(H)6,306\\\\nKODEX 미국AI전력핵심인프라 2,696\\\\nKODEX '\n",
      " '미국AI테크TOP10타겟커버드콜 3,737\\\\nKODEX 미국서학개미 2,137( \\\\\"미국 시장 한국인 개인투자자 투자액 순위 상위 '\n",
      " '25종에 투자한다. 참고로 ETF 영문명도 \\'Investor\\'s choice US\\'다(...)\\\\\")\\\\nKIWOOM 미국양자컴퓨팅 '\n",
      " '1,593\\\\nKODEX 미국AI테크TOP10 1,304\\\\n\\\\n### 4.3.인도(\\\\n\\\\n이름 순자산(억원)비고\\\\nTIGER '\n",
      " '인도니프티50 6,856\\\\nKODEX 인도NIFTY50 4,500\\\\nKIWOOM 인도니프티50(합성)2,188\\\\n\\\\n### '\n",
      " '4.4.그 외(\", \"score\": 0.580091}, {\"title\": \"ETF 순위 | 랭킹 분석 | Company Guide - '\n",
      " 'FnGuide\", \"url\": \"https://comp.fnguide.com/SVO2/ASP/SVD_etfRank.asp\", '\n",
      " '\"content\": \"ETF순위 [국내주식형 | 1M]| No | 종목명;) | 시가총액;) | 종가(원);) | 수익률;) | '\n",
      " 'NAV(원);) | NAV변화율;) | 거래량(주);) | 거래대금;) | 거래대금증감률;) |\\\\n| --- | --- | --- | '\n",
      " '--- | --- | --- | --- | --- | --- | --- |\\\\n| 1 | KODEX 200; \\\\\"새창\\\\\") | '\n",
      " '67,522 | 43,200 | 3.00 | 43,276.00 | 3.05 | 13,290,719 | 5,774.00 | 2.23 '\n",
      " '|\\\\n| 2 | TIGER 200; \\\\\"새창\\\\\") | 28,859 | 43,170 | 3.02 | 43,245.65 | 3.05 | '\n",
      " '2,513,460 | 1,094.00 | -2.16 |\\\\n| 3 | KODEX 200TR; \\\\\"새창\\\\\") | 28,344 | '\n",
      " '15,400 | 3.04 | 15,426.89 | 3.07 | 711,377 | 110.00 | -59.51 | [...] | 148 | '\n",
      " 'PLUS 고배당주위클리고정커버드콜; \\\\\"새창\\\\\") | 482 | 12,530 | 7.75 | 12,540.06 | 6.56 | '\n",
      " '276,108 | 35.00 | 427.30 |\\\\n| 149 | TIGER 200 건설; \\\\\"새창\\\\\") | 431 | 4,310 | '\n",
      " '-5.17 | 4,298.85 | -5.37 | 407,066 | 18.00 | -65.79 |\\\\n| 150 | HANARO MSCI '\n",
      " 'Korea TR; \\\\\"새창\\\\\") | 431 | 17,955 | 3.88 | 17,907.89 | 3.78 | 53 | 0.00 | '\n",
      " '-89.96 |\\\\n| 151 | KODEX 보험; \\\\\"새창\\\\\") | 426 | 11,820 | 4.37 | 11,832.78 | '\n",
      " '4.23 | 527,938 | 63.00 | 257.76 |\\\\n| 152 | SOL 코리아밸류업TR; \\\\\"새창\\\\\") | 425 | '\n",
      " '12,700 | 3.17 | 12,743.63 | 3.47 | 38,118 | 5.00 | -27.77 | [...] | 273 | '\n",
      " 'TIMEFOLIO K신재생에너지액티브; \\\\\"새창\\\\\") | 103 | 14,705 | 3.37 | 14,740.88 | 3.31 | '\n",
      " '10,101 | 1.00 | -35.90 |\\\\n| 274 | SOL KRX300; \\\\\"새창\\\\\") | 103 | 20,655 | '\n",
      " '3.69 | 20,542.71 | 3.28 | 1 | 0.00 | -99.94 |\\\\n| 275 | HK S&P코리아로우볼; '\n",
      " '\\\\\"새창\\\\\") | 102 | 16,240 | 1.82 | 16,349.55 | 1.83 | 5 | 0.00 | -99.60 |\\\\n| '\n",
      " '276 | ITF K-AI반도체코어테크; \\\\\"새창\\\\\") | 102 | 11,975 | -1.60 | 12,014.59 | -1.25 '\n",
      " '| 996 | 0.00 | -83.87 |\\\\n| 277 | KODEX 혁신기술테마액티브; \\\\\"새창\\\\\") | 101 | 16,750 '\n",
      " '| 1.70 | 16,811.05 | 1.77 | 189 | 0.00 | -97.72 |\", \"score\": 0.528607}]')\n"
     ]
    }
   ],
   "source": [
    "# ToolCall을 사용하여 도구 실행\n",
    "model_generated_tool_call = response.tool_calls[0]\n",
    "tool_msg = search_web.invoke(model_generated_tool_call)\n",
    "\n",
    "# 도구 실행 결과 출력\n",
    "pprint(tool_msg.content)"
   ]
  },
  {
   "cell_type": "markdown",
   "metadata": {},
   "source": [
    "`(4) LLM 연동하여 실행`\n",
    "- Tavily 도구를 langgraph에 통합하여 LLM과 함께 사용"
   ]
  },
  {
   "cell_type": "code",
   "execution_count": 18,
   "metadata": {},
   "outputs": [
    {
     "name": "stdout",
     "output_type": "stream",
     "text": [
      "오늘 한국의 주요 뉴스 요약입니다:\n",
      "\n",
      "1. 관세 경계감 속 '차익실현'으로 코스피가 외국인과 기관 매도세에 3,220선 밑으로 내려왔다는 소식이 있습니다. 관세에 대한 불확실성으로 인해 투자 부담이 커지고 있습니다.\n",
      "(출처: https://n.news.naver.com/mnews/article/374/0000456499)\n",
      "\n",
      "2. 인천국제공항 제2여객터미널에서 자율주행 운송차량 시승 행사가 열렸습니다. 교통약자의 이동 편의를 증진시키기 위한 기술 시범입니다.\n",
      "(출처: https://n.news.naver.com/mnews/article/025/0003460726)\n",
      "\n",
      "3. OpenAI가 '챗GPT-5'를 오늘 공식 출시했습니다. AI 기술의 중대한 진전으로 평가받고 있습니다.\n",
      "(출처: https://www.ilovepc.co.kr/news/articleView.html?idxno=55602)\n",
      "\n",
      "4. 국내 투자은행(IB) 업계에서는 전통의 라이벌인 NH투자증권과 KB증권이 올해도 IB 왕좌를 놓고 치열한 경쟁을 하고 있다는 소식이 있습니다.\n",
      "(출처: https://www.ajunews.com/view/20250808080825907)\n",
      "\n",
      "5. 아시아기자협회 회원들이 전하는 아시아 각국 주요 뉴스와 한국 특검이 김건희 여사에 대해 주가조작, 불법 정치자금, 알선수재 혐의 조사 소식도 있습니다.\n",
      "(출처: http://kor.theasian.asia/archives/389237)\n",
      "\n",
      "더 궁금한 점 있으면 알려주세요!\n"
     ]
    }
   ],
   "source": [
    "from langchain_openai import ChatOpenAI\n",
    "from langchain_core.messages import HumanMessage, AIMessage, SystemMessage\n",
    "from langgraph.prebuilt import create_react_agent\n",
    "import datetime\n",
    "\n",
    "# 언어 모델 초기화\n",
    "llm = ChatOpenAI(model=\"gpt-4.1-mini\")  \n",
    "\n",
    "# 도구 리스트\n",
    "tools = [naver_tool]\n",
    "\n",
    "def create_custom_react_agent():\n",
    "    \"\"\"React Agent를 생성합니다.\"\"\"\n",
    "\n",
    "    # 시스템 메시지 생성\n",
    "    today = datetime.datetime.today().strftime(\"%Y-%m-%d\")\n",
    "    system_prompt=f\"당신은 도움이 되는 어시스턴트입니다. 오늘 날짜는 {today}입니다. 답변을 생성할 때 출처를 반드시 포함하세요.\"  \n",
    "    \n",
    "    # 기본 React Agent 생성\n",
    "    agent = create_react_agent(llm, tools, prompt=system_prompt)\n",
    "    \n",
    "    return agent\n",
    "\n",
    "# Agent 생성 및 실행\n",
    "agent = create_custom_react_agent()\n",
    "\n",
    "response = agent.invoke({\n",
    "    \"messages\": [HumanMessage(content=\"오늘 한국의 주요 뉴스를 정리해줘.\")]\n",
    "})\n",
    "\n",
    "# 응답 출력\n",
    "print(response[\"messages\"][-1].content)"
   ]
  },
  {
   "cell_type": "code",
   "execution_count": 13,
   "metadata": {},
   "outputs": [
    {
     "data": {
      "text/plain": [
       "[HumanMessage(content='한국 시장에서 거래되는 ETF 종목은 모두 몇 개인가요?', additional_kwargs={}, response_metadata={}, id='5b01d22e-c641-44d7-9ffc-eac8bf7b0d13'),\n",
       " AIMessage(content='', additional_kwargs={'tool_calls': [{'id': 'call_Z1OtI4fYm4tLHIY7IeyVWHGQ', 'function': {'arguments': '{\"query\":\"한국 시장 ETF 종목 수\"}', 'name': 'tavily_search_results_json'}, 'type': 'function'}], 'refusal': None}, response_metadata={'token_usage': {'completion_tokens': 23, 'prompt_tokens': 118, 'total_tokens': 141, 'completion_tokens_details': {'accepted_prediction_tokens': 0, 'audio_tokens': 0, 'reasoning_tokens': 0, 'rejected_prediction_tokens': 0}, 'prompt_tokens_details': {'audio_tokens': 0, 'cached_tokens': 0}}, 'model_name': 'gpt-4.1-mini-2025-04-14', 'system_fingerprint': 'fp_658b958c37', 'id': 'chatcmpl-C27JbZRjUO9GWKC4jVRUl7WkPnuio', 'service_tier': 'default', 'finish_reason': 'tool_calls', 'logprobs': None}, id='run--87ab9571-2b98-4882-aca3-b2d2dd067a36-0', tool_calls=[{'name': 'tavily_search_results_json', 'args': {'query': '한국 시장 ETF 종목 수'}, 'id': 'call_Z1OtI4fYm4tLHIY7IeyVWHGQ', 'type': 'tool_call'}], usage_metadata={'input_tokens': 118, 'output_tokens': 23, 'total_tokens': 141, 'input_token_details': {'audio': 0, 'cache_read': 0}, 'output_token_details': {'audio': 0, 'reasoning': 0}}),\n",
       " ToolMessage(content='[{\"title\": \"ETF종목발행현황\", \"url\": \"https://m.seibro.or.kr/cnts/etf/selectPublishInfo.do\", \"content\": \"Image 1: KSD 증권정보포털 Image 2: 메뉴 더보기 *   등록(예탁)가능여부종목조회 *   신규등록(예탁)지정종목조회 *   CP/단기사채 종목검색 *   ABCP 종목검색 *   ELS/DLS 종목상세(개별) *   해외 CB/BW 발행종목 *   주식대차 대차종목순위 *   주식대차 월별대차거래현황 *   채권대차 대차종목순위 *   채권대차 월별대차거래현황 *   소유형  *   운용사 운용사   | 종목명 | 운용사 | 소유형 | 3개월 수익률 | | 에셋플러스 코리아대장장이액티브;) | 에셋플러스자산운용 | 기타 | 28.66 | | FOCUS KRX300;) | 브이아이자산운용 | KRX300 | 28.64 | | KIWOOM 26-09회사채(AA-이상)액티브%EC%95%A1%ED%8B%B0%EB%B8%8C\\');) | 키움투자자산운용 | 회사채권 | 0.76 | | KIWOOM 25-09 회사채(AA-이상)액티브%EC%95%A1%ED%8B%B0%EB%B8%8C\\');) | 키움투자자산운용 | 회사채권 | 0.72 | | PLUS 미국단기회사채(AAA~A)\\');) | 한화자산운용 | 회사채권 | -0.92 | | PLUS 200선물인버스2X;) | 한화자산운용 | 인버스 | -42.34 | PC화면© KSD 증권포털\", \"score\": 0.98578}, {\"title\": \"ETF 순위 | 랭킹 분석 | Company Guide\", \"url\": \"https://comp.fnguide.com/SVO2/ASP/SVD_etfRank.asp\", \"content\": \"ETF 순위 | 랭킹 분석 | Company Guide *   ETF Snapshot)성과 및 위험분석)ETN Snapshot) ETF 순위 [국내주식형 | 1M] | 1 | KODEX 200; \\\\\"새창\\\\\") | 67,522 | 43,200 | 3.00 | 43,276.00 | 3.05 | 13,290,719 | 5,774.00 | 2.23 | | 2 | TIGER 200; \\\\\"새창\\\\\") | 28,859 | 43,170 | 3.02 | 43,245.65 | 3.05 | 2,513,460 | 1,094.00 | -2.16 | | 13 | TIGER TOP10; \\\\\"새창\\\\\") | 11,396 | 13,190 | 2.77 | 13,161.54 | 2.81 | 641,446 | 85.00 | -17.35 | | 24 | TIGER 200 IT; \\\\\"새창\\\\\") | 5,648 | 31,765 | -2.79 | 31,807.31 | -2.49 | 38,304 | 12.00 | -70.82 |\", \"score\": 0.98295}, {\"title\": \"한국 ETF\", \"url\": \"https://kr.investing.com/etfs/south-korea-etfs\", \"content\": \"많이 본 뉴스 더 많은 *   미국 달러 지수 *   주식 차트 *   지수 차트 새 관심목록 만들기)만들기;)새 보유종목 포트폴리오 만들기)추가하기;)만들기;)+ 다른 포지션 추가하기)닫기;) |  | Samsung KODEX Asia USD Bond SRI Plus Active | 437070 | 60,275 | +0.82% | 0.24K | 15:29:59 |  | - [x] 지수 - [x] 원자재 - [x] 외환 - [x] 주식 - [x] 암호화폐 - [x] ETF - [x] 채권  미국 달러 지수 (CFD)\\\\\")97.482+0.358+0.37% 리스크 고지: 금융 상품 및/또는 가상화폐 거래는 투자액의 일부 또는 전체를 상실할 수 있는 높은 리스크를 동반하며, 모든 투자자에게 적합하지 않을 수 있습니다. **Fusion Media**는 본 웹사이트에 표시되는 광고 또는 광고주와 사용자 간의 상호작용에 기반해 광고주로부터 보상을 받을 수 있습니다.\", \"score\": 0.97535}, {\"title\": \"국내 ETF 목록\", \"url\": \"https://namu.wiki/w/%EA%B5%AD%EB%82%B4%20ETF%20%EB%AA%A9%EB%A1%9D\", \"content\": \"KODEX 200 56,956 국내 최초의 ETF TIGER 200 19,039 KODEX 200TR 23,704 KODEX 코리아밸류업 1,530 KODEX 2차전지산업 9,331 KODEX 2차전지핵심소재10 1,230 KODEX 반도체 5,558 KODEX AI반도체핵심장비 1,131 TIGER 200 IT 5,303 KODEX 자동차 4,925 KODEX 은행 3,350 KODEX 바이오 1,456 KODEX 한국부동산리츠인프라 1,435 KODEX AI전력핵심설비 1,379 KODEX 미국S&P500(H)4,200 KODEX 미국S&P500선물(H)1,431 KODEX 미국나스닥100 18,714 KODEX 미국나스닥100(H)3,469 KODEX 미국나스닥100선물(H)1,158 KODEX 미국나스닥100레버리지(합성 H)1,861**X2** KODEX 미국배당다우존스 2,931 KODEX 미국반도체MV 4,896 KODEX 미국빅테크10(H)6,306 KODEX 미국AI전력핵심인프라 2,696 KODEX 미국AI테크TOP10타겟커버드콜 3,737 KODEX 미국서학개미 2,137\\\\\") KODEX 미국AI테크TOP10 1,304 KODEX 인도NIFTY50 4,500 KODEX 차이나항셍테크 1,516 KODEX 머니마켓액티브 47,894 KODEX 종합채권(AA-이상) 액티브 28,755 KODEX 단기채권PLUS 16,704 KODEX 단기채권 6,905 KODEX 국고채30년액티브 5,347 KODEX 국고채3년 4,746 KODEX 미국30년국채타겟커버드콜 (합성 H)5,171 KODEX 미국30년국채액티브(H)3,523 KODEX 미국30년국채울트라선물 2,978 KODEX 골드선물(H)1,909 KODEX 은선물(H)908 KODEX WTI원유선물(H)531\", \"score\": 0.95243}, {\"title\": \"\\'200조 시대\\' 연 국내 ETF 시장…“유럽 등 투자지역 확장 가능” - 농민신문\", \"url\": \"https://www.nongmin.com/article/20250611500511\", \"content\": \"국내 상장지수펀드(ETF) 순자산 총액이 200조원을 넘어섰다. 한국거래소에 따르면 4일 종가 기준 국내 상장 ETF 순자산 총액이 201조2845억원으로 집계됐다. 금융감독원에 따르면 지난해말 기준 퇴직연금 적립금 투자 ETF 상위 1위에서 5위까지가 모두 나스닥이나 스탠더드앤드푸어스(S&P)500 등 미국 주식시장 지수를 추종하는 상품이었다. 커버드콜 ETF는 주식이나 채권 등 기초자산을 보유하고 있으면서 해당 자산을 일정 가격에 살 수 있는 권리(콜옵션)를 매도해 안정적인 수익을 추구하는 방식이다. 버퍼형 ETF는 주가 하락 시 일정 수준까지 손실을 완충해주는 전략을 통해 위험을 줄일 수 있다. 파킹형 ETF는 단기 채권이나 금리 지표를 추종해 여유 자금을 단기간에 효율적으로 운용할 수 있는 수단으로 각광받고 있다. 김승철 NH-Amundi자산운용 ETF투자본부장은 “국내 ETF 시장은 2020년 이후 연 30% 수준의 고성장을 이어왔다”며 “순자산 총액이 200조원을 넘어서며 성장 속도가 둔화될 수 있으나 연 12∼15% 수준으로 성장한다고 보면 2029년 이후에는 300조원 이상으로 확대될 수 있다”고 전망했다.\", \"score\": 0.9502}]', name='tavily_search_results_json', id='b5049bf2-2d2f-442b-87cc-4332aecd2c2d', tool_call_id='call_Z1OtI4fYm4tLHIY7IeyVWHGQ', artifact={'query': '한국 시장 ETF 종목 수', 'follow_up_questions': None, 'answer': None, 'images': [], 'results': [{'url': 'https://m.seibro.or.kr/cnts/etf/selectPublishInfo.do', 'title': 'ETF종목발행현황', 'content': \"Image 1: KSD 증권정보포털 Image 2: 메뉴 더보기 *   등록(예탁)가능여부종목조회 *   신규등록(예탁)지정종목조회 *   CP/단기사채 종목검색 *   ABCP 종목검색 *   ELS/DLS 종목상세(개별) *   해외 CB/BW 발행종목 *   주식대차 대차종목순위 *   주식대차 월별대차거래현황 *   채권대차 대차종목순위 *   채권대차 월별대차거래현황 *   소유형  *   운용사 운용사   | 종목명 | 운용사 | 소유형 | 3개월 수익률 | | 에셋플러스 코리아대장장이액티브;) | 에셋플러스자산운용 | 기타 | 28.66 | | FOCUS KRX300;) | 브이아이자산운용 | KRX300 | 28.64 | | KIWOOM 26-09회사채(AA-이상)액티브%EC%95%A1%ED%8B%B0%EB%B8%8C');) | 키움투자자산운용 | 회사채권 | 0.76 | | KIWOOM 25-09 회사채(AA-이상)액티브%EC%95%A1%ED%8B%B0%EB%B8%8C');) | 키움투자자산운용 | 회사채권 | 0.72 | | PLUS 미국단기회사채(AAA~A)');) | 한화자산운용 | 회사채권 | -0.92 | | PLUS 200선물인버스2X;) | 한화자산운용 | 인버스 | -42.34 | PC화면© KSD 증권포털\", 'score': 0.98578, 'raw_content': None}, {'url': 'https://comp.fnguide.com/SVO2/ASP/SVD_etfRank.asp', 'title': 'ETF 순위 | 랭킹 분석 | Company Guide', 'content': 'ETF 순위 | 랭킹 분석 | Company Guide *   ETF Snapshot)성과 및 위험분석)ETN Snapshot) ETF 순위 [국내주식형 | 1M] | 1 | KODEX 200; \"새창\") | 67,522 | 43,200 | 3.00 | 43,276.00 | 3.05 | 13,290,719 | 5,774.00 | 2.23 | | 2 | TIGER 200; \"새창\") | 28,859 | 43,170 | 3.02 | 43,245.65 | 3.05 | 2,513,460 | 1,094.00 | -2.16 | | 13 | TIGER TOP10; \"새창\") | 11,396 | 13,190 | 2.77 | 13,161.54 | 2.81 | 641,446 | 85.00 | -17.35 | | 24 | TIGER 200 IT; \"새창\") | 5,648 | 31,765 | -2.79 | 31,807.31 | -2.49 | 38,304 | 12.00 | -70.82 |', 'score': 0.98295, 'raw_content': None}, {'url': 'https://kr.investing.com/etfs/south-korea-etfs', 'title': '한국 ETF', 'content': '많이 본 뉴스 더 많은 *   미국 달러 지수 *   주식 차트 *   지수 차트 새 관심목록 만들기)만들기;)새 보유종목 포트폴리오 만들기)추가하기;)만들기;)+ 다른 포지션 추가하기)닫기;) |  | Samsung KODEX Asia USD Bond SRI Plus Active | 437070 | 60,275 | +0.82% | 0.24K | 15:29:59 |  | - [x] 지수 - [x] 원자재 - [x] 외환 - [x] 주식 - [x] 암호화폐 - [x] ETF - [x] 채권  미국 달러 지수 (CFD)\")97.482+0.358+0.37% 리스크 고지: 금융 상품 및/또는 가상화폐 거래는 투자액의 일부 또는 전체를 상실할 수 있는 높은 리스크를 동반하며, 모든 투자자에게 적합하지 않을 수 있습니다. **Fusion Media**는 본 웹사이트에 표시되는 광고 또는 광고주와 사용자 간의 상호작용에 기반해 광고주로부터 보상을 받을 수 있습니다.', 'score': 0.97535, 'raw_content': None}, {'url': 'https://namu.wiki/w/%EA%B5%AD%EB%82%B4%20ETF%20%EB%AA%A9%EB%A1%9D', 'title': '국내 ETF 목록', 'content': 'KODEX 200 56,956 국내 최초의 ETF TIGER 200 19,039 KODEX 200TR 23,704 KODEX 코리아밸류업 1,530 KODEX 2차전지산업 9,331 KODEX 2차전지핵심소재10 1,230 KODEX 반도체 5,558 KODEX AI반도체핵심장비 1,131 TIGER 200 IT 5,303 KODEX 자동차 4,925 KODEX 은행 3,350 KODEX 바이오 1,456 KODEX 한국부동산리츠인프라 1,435 KODEX AI전력핵심설비 1,379 KODEX 미국S&P500(H)4,200 KODEX 미국S&P500선물(H)1,431 KODEX 미국나스닥100 18,714 KODEX 미국나스닥100(H)3,469 KODEX 미국나스닥100선물(H)1,158 KODEX 미국나스닥100레버리지(합성 H)1,861**X2** KODEX 미국배당다우존스 2,931 KODEX 미국반도체MV 4,896 KODEX 미국빅테크10(H)6,306 KODEX 미국AI전력핵심인프라 2,696 KODEX 미국AI테크TOP10타겟커버드콜 3,737 KODEX 미국서학개미 2,137\") KODEX 미국AI테크TOP10 1,304 KODEX 인도NIFTY50 4,500 KODEX 차이나항셍테크 1,516 KODEX 머니마켓액티브 47,894 KODEX 종합채권(AA-이상) 액티브 28,755 KODEX 단기채권PLUS 16,704 KODEX 단기채권 6,905 KODEX 국고채30년액티브 5,347 KODEX 국고채3년 4,746 KODEX 미국30년국채타겟커버드콜 (합성 H)5,171 KODEX 미국30년국채액티브(H)3,523 KODEX 미국30년국채울트라선물 2,978 KODEX 골드선물(H)1,909 KODEX 은선물(H)908 KODEX WTI원유선물(H)531', 'score': 0.95243, 'raw_content': None}, {'url': 'https://www.nongmin.com/article/20250611500511', 'title': \"'200조 시대' 연 국내 ETF 시장…“유럽 등 투자지역 확장 가능” - 농민신문\", 'content': '국내 상장지수펀드(ETF) 순자산 총액이 200조원을 넘어섰다. 한국거래소에 따르면 4일 종가 기준 국내 상장 ETF 순자산 총액이 201조2845억원으로 집계됐다. 금융감독원에 따르면 지난해말 기준 퇴직연금 적립금 투자 ETF 상위 1위에서 5위까지가 모두 나스닥이나 스탠더드앤드푸어스(S&P)500 등 미국 주식시장 지수를 추종하는 상품이었다. 커버드콜 ETF는 주식이나 채권 등 기초자산을 보유하고 있으면서 해당 자산을 일정 가격에 살 수 있는 권리(콜옵션)를 매도해 안정적인 수익을 추구하는 방식이다. 버퍼형 ETF는 주가 하락 시 일정 수준까지 손실을 완충해주는 전략을 통해 위험을 줄일 수 있다. 파킹형 ETF는 단기 채권이나 금리 지표를 추종해 여유 자금을 단기간에 효율적으로 운용할 수 있는 수단으로 각광받고 있다. 김승철 NH-Amundi자산운용 ETF투자본부장은 “국내 ETF 시장은 2020년 이후 연 30% 수준의 고성장을 이어왔다”며 “순자산 총액이 200조원을 넘어서며 성장 속도가 둔화될 수 있으나 연 12∼15% 수준으로 성장한다고 보면 2029년 이후에는 300조원 이상으로 확대될 수 있다”고 전망했다.', 'score': 0.9502, 'raw_content': None}], 'response_time': 1.59}),\n",
       " AIMessage(content='한국 시장에서 거래되는 ETF 종목의 정확한 수는 검색된 자료에서 명확히 제시되지 않았으나, 관련 웹사이트나 증권정보 포털에서 확인할 수 있습니다. 예를 들어 한국거래소 증권정보포털이나 금융 관련 사이트에서 최신 ETF 종목 목록과 개수를 조회할 수 있으니 참고하시기 바랍니다.\\n\\n추가로, 국내 ETF 시장은 약 200조원 이상의 순자산 총액을 보유하고 있으며, 다양한 종목이 상장되어 활발히 거래되고 있습니다. \\n\\n보다 구체적인 ETF 종목 수 확인을 원하시면, 한국거래소 ETF 종목발행현황 페이지를 방문하시는 것이 가장 정확합니다.', additional_kwargs={'refusal': None}, response_metadata={'token_usage': {'completion_tokens': 153, 'prompt_tokens': 2280, 'total_tokens': 2433, 'completion_tokens_details': {'accepted_prediction_tokens': 0, 'audio_tokens': 0, 'reasoning_tokens': 0, 'rejected_prediction_tokens': 0}, 'prompt_tokens_details': {'audio_tokens': 0, 'cached_tokens': 2176}}, 'model_name': 'gpt-4.1-mini-2025-04-14', 'system_fingerprint': 'fp_658b958c37', 'id': 'chatcmpl-C27Je9SNHA7sPT59g6S4rJbrhDcil', 'service_tier': 'default', 'finish_reason': 'stop', 'logprobs': None}, id='run--7de93b95-2780-442e-adae-8b44f3061073-0', usage_metadata={'input_tokens': 2280, 'output_tokens': 153, 'total_tokens': 2433, 'input_token_details': {'audio': 0, 'cache_read': 2176}, 'output_token_details': {'audio': 0, 'reasoning': 0}})]"
      ]
     },
     "execution_count": 13,
     "metadata": {},
     "output_type": "execute_result"
    }
   ],
   "source": [
    "response[\"messages\"]"
   ]
  },
  {
   "cell_type": "markdown",
   "metadata": {},
   "source": [
    "---\n",
    "\n",
    "##  **사용자 정의 도구 (Custom Tool)**\n",
    "\n",
    "\n",
    "- **사용자 정의 도구**는 개발자가 직접 설계하고 구현하는 **맞춤형 함수나 도구**를 의미\n",
    "\n",
    "- LLM이 호출할 수 있는 **고유한 기능**을 정의하여 특정 작업에 최적화된 도구 생성 가능\n",
    "\n",
    "- 개발자는 도구의 **입력값, 출력값, 기능**을 자유롭게 정의하여 유연한 확장성 확보"
   ]
  },
  {
   "cell_type": "markdown",
   "metadata": {},
   "source": [
    "---\n",
    "\n",
    "### 1. **외부 API 연동** \n",
    "\n",
    "- LangChain에서는 **사용자 정의 도구**를 통해 외부 API와의 연동이 가능\n",
    "\n",
    "- **Tool** 클래스를 상속받아 필요한 기능을 구현하며, `name`과 `description`을 필수로 정의\n",
    "\n",
    "- 도구는 단일 기능을 수행하는 **함수 형태**로 구현되며, 입력과 출력이 명확하게 설정함"
   ]
  },
  {
   "cell_type": "markdown",
   "metadata": {},
   "source": [
    "`(1) Yahoo Finance API` "
   ]
  },
  {
   "cell_type": "code",
   "execution_count": 19,
   "metadata": {},
   "outputs": [],
   "source": [
    "#  yfinance 설치 : pip install yfinance 또는 uv add yfinance\n",
    "import yfinance as yf\n",
    "\n",
    "dat = yf.Ticker(\"MSFT\")"
   ]
  },
  {
   "cell_type": "code",
   "execution_count": 20,
   "metadata": {},
   "outputs": [
    {
     "data": {
      "text/plain": [
       "{'address1': 'One Microsoft Way',\n",
       " 'city': 'Redmond',\n",
       " 'state': 'WA',\n",
       " 'zip': '98052-6399',\n",
       " 'country': 'United States',\n",
       " 'phone': '425 882 8080',\n",
       " 'website': 'https://www.microsoft.com',\n",
       " 'industry': 'Software - Infrastructure',\n",
       " 'industryKey': 'software-infrastructure',\n",
       " 'industryDisp': 'Software - Infrastructure',\n",
       " 'sector': 'Technology',\n",
       " 'sectorKey': 'technology',\n",
       " 'sectorDisp': 'Technology',\n",
       " 'longBusinessSummary': \"Microsoft Corporation develops and supports software, services, devices, and solutions worldwide. The company's Productivity and Business Processes segment offers Microsoft 365 Commercial, Enterprise Mobility + Security, Windows Commercial, Power BI, Exchange, SharePoint, Microsoft Teams, Security and Compliance, and Copilot; Microsoft 365 Commercial products, such as Windows Commercial on-premises and Office licensed services; Microsoft 365 Consumer products and cloud services, such as Microsoft 365 Consumer subscriptions, Office licensed on-premises, and other consumer services; LinkedIn; Dynamics products and cloud services, such as Dynamics 365, cloud-based applications, and on-premises ERP and CRM applications. Its Intelligent Cloud segment provides Server products and cloud services, such as Azure and other cloud services, GitHub, Nuance Healthcare, virtual desktop offerings, and other cloud services; Server products, including SQL and Windows Server, Visual Studio and System Center related Client Access Licenses, and other on-premises offerings; Enterprise and partner services, including Enterprise Support and Nuance professional Services, Industry Solutions, Microsoft Partner Network, and Learning Experience. The company's Personal Computing segment provides Windows and Devices, such as Windows OEM licensing and Devices and Surface and PC accessories; Gaming services and solutions, such as Xbox hardware, content, and services, first- and third-party content Xbox Game Pass, subscriptions, and Cloud Gaming, advertising, and other cloud services; search and news advertising services, such as Bing and Copilot, Microsoft News and Edge, and third-party affiliates. It sells its products through OEMs, distributors, and resellers; and online and retail stores. The company was founded in 1975 and is headquartered in Redmond, Washington.\",\n",
       " 'fullTimeEmployees': 228000,\n",
       " 'companyOfficers': [{'maxAge': 1,\n",
       "   'name': 'Mr. Satya  Nadella',\n",
       "   'age': 57,\n",
       "   'title': 'Chairman & CEO',\n",
       "   'yearBorn': 1967,\n",
       "   'fiscalYear': 2024,\n",
       "   'totalPay': 7869791,\n",
       "   'exercisedValue': 0,\n",
       "   'unexercisedValue': 0},\n",
       "  {'maxAge': 1,\n",
       "   'name': 'Mr. Bradford L. Smith LCA',\n",
       "   'age': 65,\n",
       "   'title': 'President & Vice Chairman',\n",
       "   'yearBorn': 1959,\n",
       "   'fiscalYear': 2024,\n",
       "   'totalPay': 4755618,\n",
       "   'exercisedValue': 0,\n",
       "   'unexercisedValue': 0},\n",
       "  {'maxAge': 1,\n",
       "   'name': 'Ms. Amy E. Hood',\n",
       "   'age': 52,\n",
       "   'title': 'Executive VP & CFO',\n",
       "   'yearBorn': 1972,\n",
       "   'fiscalYear': 2024,\n",
       "   'totalPay': 4704250,\n",
       "   'exercisedValue': 0,\n",
       "   'unexercisedValue': 0},\n",
       "  {'maxAge': 1,\n",
       "   'name': 'Mr. Judson B. Althoff',\n",
       "   'age': 51,\n",
       "   'title': 'Executive VP & Chief Commercial Officer',\n",
       "   'yearBorn': 1973,\n",
       "   'fiscalYear': 2024,\n",
       "   'totalPay': 4534974,\n",
       "   'exercisedValue': 0,\n",
       "   'unexercisedValue': 0},\n",
       "  {'maxAge': 1,\n",
       "   'name': 'Ms. Carolina  Dybeck Happe',\n",
       "   'age': 52,\n",
       "   'title': 'Executive VP & COO',\n",
       "   'yearBorn': 1972,\n",
       "   'fiscalYear': 2024,\n",
       "   'exercisedValue': 0,\n",
       "   'unexercisedValue': 0},\n",
       "  {'maxAge': 1,\n",
       "   'name': 'Ms. Alice L. Jolla',\n",
       "   'age': 58,\n",
       "   'title': 'Corporate VP & Chief Accounting Officer',\n",
       "   'yearBorn': 1966,\n",
       "   'fiscalYear': 2024,\n",
       "   'exercisedValue': 0,\n",
       "   'unexercisedValue': 0},\n",
       "  {'maxAge': 1,\n",
       "   'name': 'Jonathan  Neilson',\n",
       "   'title': 'Vice President of Investor Relations',\n",
       "   'fiscalYear': 2024,\n",
       "   'exercisedValue': 0,\n",
       "   'unexercisedValue': 0},\n",
       "  {'maxAge': 1,\n",
       "   'name': 'Mr. Hossein  Nowbar',\n",
       "   'title': 'Chief Legal Officer',\n",
       "   'fiscalYear': 2024,\n",
       "   'exercisedValue': 0,\n",
       "   'unexercisedValue': 0},\n",
       "  {'maxAge': 1,\n",
       "   'name': 'Mr. Frank X. Shaw',\n",
       "   'title': 'Chief Communications Officer',\n",
       "   'fiscalYear': 2024,\n",
       "   'exercisedValue': 0,\n",
       "   'unexercisedValue': 0},\n",
       "  {'maxAge': 1,\n",
       "   'name': 'Mr. Takeshi  Numoto',\n",
       "   'age': 53,\n",
       "   'title': 'Executive VP & Chief Marketing Officer',\n",
       "   'yearBorn': 1971,\n",
       "   'fiscalYear': 2024,\n",
       "   'exercisedValue': 0,\n",
       "   'unexercisedValue': 0}],\n",
       " 'auditRisk': 9,\n",
       " 'boardRisk': 5,\n",
       " 'compensationRisk': 4,\n",
       " 'shareHolderRightsRisk': 2,\n",
       " 'overallRisk': 3,\n",
       " 'governanceEpochDate': 1754006400,\n",
       " 'compensationAsOfEpochDate': 1735603200,\n",
       " 'irWebsite': 'http://www.microsoft.com/investor/default.aspx',\n",
       " 'executiveTeam': [],\n",
       " 'maxAge': 86400,\n",
       " 'priceHint': 2,\n",
       " 'previousClose': 524.94,\n",
       " 'open': 526.57,\n",
       " 'dayLow': 517.5511,\n",
       " 'dayHigh': 528.03,\n",
       " 'regularMarketPreviousClose': 524.94,\n",
       " 'regularMarketOpen': 526.57,\n",
       " 'regularMarketDayLow': 517.5511,\n",
       " 'regularMarketDayHigh': 528.03,\n",
       " 'dividendRate': 3.32,\n",
       " 'dividendYield': 0.63,\n",
       " 'exDividendDate': 1755734400,\n",
       " 'payoutRatio': 0.2375,\n",
       " 'fiveYearAvgDividendYield': 0.82,\n",
       " 'beta': 1.055,\n",
       " 'trailingPE': 38.466766,\n",
       " 'forwardPE': 34.8388,\n",
       " 'volume': 15965620,\n",
       " 'regularMarketVolume': 15965620,\n",
       " 'averageVolume': 19584959,\n",
       " 'averageVolume10days': 23881110,\n",
       " 'averageDailyVolume10Day': 23881110,\n",
       " 'bid': 520.2,\n",
       " 'ask': 520.69,\n",
       " 'bidSize': 1,\n",
       " 'askSize': 1,\n",
       " 'marketCap': 3901967040512,\n",
       " 'fiftyTwoWeekLow': 344.79,\n",
       " 'fiftyTwoWeekHigh': 555.45,\n",
       " 'priceToSalesTrailing12Months': 13.850319,\n",
       " 'fiftyDayAverage': 494.3822,\n",
       " 'twoHundredDayAverage': 435.0226,\n",
       " 'trailingAnnualDividendRate': 3.32,\n",
       " 'trailingAnnualDividendYield': 0.006324532,\n",
       " 'currency': 'USD',\n",
       " 'tradeable': False,\n",
       " 'enterpriseValue': 3889109401600,\n",
       " 'profitMargins': 0.36146,\n",
       " 'floatShares': 7422536951,\n",
       " 'sharesOutstanding': 7433169920,\n",
       " 'sharesShort': 53792695,\n",
       " 'sharesShortPriorMonth': 51170267,\n",
       " 'sharesShortPreviousMonthDate': 1749772800,\n",
       " 'dateShortInterest': 1752537600,\n",
       " 'sharesPercentSharesOut': 0.0072000003,\n",
       " 'heldPercentInsiders': 0.00063,\n",
       " 'heldPercentInstitutions': 0.74612,\n",
       " 'shortRatio': 2.76,\n",
       " 'shortPercentOfFloat': 0.0072000003,\n",
       " 'impliedSharesOutstanding': 7491680256,\n",
       " 'bookValue': 46.204,\n",
       " 'priceToBook': 11.272618,\n",
       " 'lastFiscalYearEnd': 1751241600,\n",
       " 'nextFiscalYearEnd': 1782777600,\n",
       " 'mostRecentQuarter': 1751241600,\n",
       " 'earningsQuarterlyGrowth': 0.236,\n",
       " 'netIncomeToCommon': 101831999488,\n",
       " 'trailingEps': 13.54,\n",
       " 'forwardEps': 14.95,\n",
       " 'lastSplitFactor': '2:1',\n",
       " 'lastSplitDate': 1045526400,\n",
       " 'enterpriseToRevenue': 13.805,\n",
       " 'enterpriseToEbitda': 24.846,\n",
       " '52WeekChange': 0.282794,\n",
       " 'SandP52WeekChange': 0.18634176,\n",
       " 'lastDividendValue': 0.83,\n",
       " 'lastDividendDate': 1747267200,\n",
       " 'quoteType': 'EQUITY',\n",
       " 'currentPrice': 520.84,\n",
       " 'targetHighPrice': 700.0,\n",
       " 'targetLowPrice': 432.0,\n",
       " 'targetMeanPrice': 606.60846,\n",
       " 'targetMedianPrice': 630.0,\n",
       " 'recommendationMean': 1.31034,\n",
       " 'recommendationKey': 'strong_buy',\n",
       " 'numberOfAnalystOpinions': 51,\n",
       " 'totalCash': 94564999168,\n",
       " 'totalCashPerShare': 12.722,\n",
       " 'ebitda': 156528001024,\n",
       " 'totalDebt': 112184000512,\n",
       " 'quickRatio': 1.223,\n",
       " 'currentRatio': 1.353,\n",
       " 'totalRevenue': 281723994112,\n",
       " 'debtToEquity': 32.661,\n",
       " 'revenuePerShare': 37.902,\n",
       " 'returnOnAssets': 0.14203,\n",
       " 'returnOnEquity': 0.33280998,\n",
       " 'grossProfits': 193893007360,\n",
       " 'freeCashflow': 61070376960,\n",
       " 'operatingCashflow': 136162000896,\n",
       " 'earningsGrowth': 0.237,\n",
       " 'revenueGrowth': 0.181,\n",
       " 'grossMargins': 0.68824,\n",
       " 'ebitdaMargins': 0.55561,\n",
       " 'operatingMargins': 0.44901,\n",
       " 'financialCurrency': 'USD',\n",
       " 'symbol': 'MSFT',\n",
       " 'language': 'en-US',\n",
       " 'region': 'US',\n",
       " 'typeDisp': 'Equity',\n",
       " 'quoteSourceName': 'Nasdaq Real Time Price',\n",
       " 'triggerable': True,\n",
       " 'customPriceAlertConfidence': 'HIGH',\n",
       " 'regularMarketChangePercent': -0.781037,\n",
       " 'regularMarketPrice': 520.84,\n",
       " 'postMarketChangePercent': 0.280309,\n",
       " 'postMarketPrice': 522.3,\n",
       " 'postMarketChange': 1.45996,\n",
       " 'regularMarketChange': -4.09998,\n",
       " 'regularMarketDayRange': '517.5511 - 528.03',\n",
       " 'fullExchangeName': 'NasdaqGS',\n",
       " 'averageDailyVolume3Month': 19584959,\n",
       " 'fiftyTwoWeekLowChange': 176.05002,\n",
       " 'fiftyTwoWeekLowChangePercent': 0.5106007,\n",
       " 'fiftyTwoWeekRange': '344.79 - 555.45',\n",
       " 'fiftyTwoWeekHighChange': -34.609985,\n",
       " 'fiftyTwoWeekHighChangePercent': -0.062309813,\n",
       " 'fiftyTwoWeekChangePercent': 28.2794,\n",
       " 'dividendDate': 1757548800,\n",
       " 'earningsTimestamp': 1753905600,\n",
       " 'earningsTimestampStart': 1761768000,\n",
       " 'earningsTimestampEnd': 1761768000,\n",
       " 'earningsCallTimestampStart': 1753911000,\n",
       " 'earningsCallTimestampEnd': 1753911000,\n",
       " 'isEarningsDateEstimate': True,\n",
       " 'epsTrailingTwelveMonths': 13.54,\n",
       " 'epsForward': 14.95,\n",
       " 'epsCurrentYear': 15.48363,\n",
       " 'priceEpsCurrentYear': 33.638107,\n",
       " 'fiftyDayAverageChange': 26.457825,\n",
       " 'fiftyDayAverageChangePercent': 0.053516943,\n",
       " 'twoHundredDayAverageChange': 85.81741,\n",
       " 'twoHundredDayAverageChangePercent': 0.19727115,\n",
       " 'sourceInterval': 15,\n",
       " 'exchangeDataDelayedBy': 0,\n",
       " 'averageAnalystRating': '1.3 - Strong Buy',\n",
       " 'cryptoTradeable': False,\n",
       " 'hasPrePostMarketData': True,\n",
       " 'firstTradeDateMilliseconds': 511108200000,\n",
       " 'corporateActions': [{'header': 'Dividend',\n",
       "   'message': 'MSFT announced a cash dividend of 0.83 with an ex-date of Aug. 21, 2025',\n",
       "   'meta': {'eventType': 'DIVIDEND',\n",
       "    'dateEpochMs': 1755748800000,\n",
       "    'amount': '0.83'}}],\n",
       " 'postMarketTime': 1754611189,\n",
       " 'regularMarketTime': 1754596801,\n",
       " 'exchange': 'NMS',\n",
       " 'messageBoardId': 'finmb_21835',\n",
       " 'exchangeTimezoneName': 'America/New_York',\n",
       " 'exchangeTimezoneShortName': 'EDT',\n",
       " 'gmtOffSetMilliseconds': -14400000,\n",
       " 'market': 'us_market',\n",
       " 'esgPopulated': False,\n",
       " 'shortName': 'Microsoft Corporation',\n",
       " 'longName': 'Microsoft Corporation',\n",
       " 'marketState': 'PREPRE',\n",
       " 'displayName': 'Microsoft',\n",
       " 'trailingPegRatio': 2.3443}"
      ]
     },
     "execution_count": 20,
     "metadata": {},
     "output_type": "execute_result"
    }
   ],
   "source": [
    "# 기업정보\n",
    "dat.info"
   ]
  },
  {
   "cell_type": "code",
   "execution_count": 21,
   "metadata": {},
   "outputs": [
    {
     "data": {
      "text/plain": [
       "{'Dividend Date': datetime.date(2025, 9, 11),\n",
       " 'Ex-Dividend Date': datetime.date(2025, 8, 21),\n",
       " 'Earnings Date': [datetime.date(2025, 10, 30)],\n",
       " 'Earnings High': 3.7848,\n",
       " 'Earnings Low': 3.5,\n",
       " 'Earnings Average': 3.65521,\n",
       " 'Revenue High': 76548000000,\n",
       " 'Revenue Low': 74100000000,\n",
       " 'Revenue Average': 75439371950}"
      ]
     },
     "execution_count": 21,
     "metadata": {},
     "output_type": "execute_result"
    }
   ],
   "source": [
    "# 주요 일정\n",
    "dat.calendar"
   ]
  },
  {
   "cell_type": "code",
   "execution_count": 22,
   "metadata": {},
   "outputs": [
    {
     "data": {
      "text/html": [
       "<div>\n",
       "<style scoped>\n",
       "    .dataframe tbody tr th:only-of-type {\n",
       "        vertical-align: middle;\n",
       "    }\n",
       "\n",
       "    .dataframe tbody tr th {\n",
       "        vertical-align: top;\n",
       "    }\n",
       "\n",
       "    .dataframe thead th {\n",
       "        text-align: right;\n",
       "    }\n",
       "</style>\n",
       "<table border=\"1\" class=\"dataframe\">\n",
       "  <thead>\n",
       "    <tr style=\"text-align: right;\">\n",
       "      <th></th>\n",
       "      <th>Open</th>\n",
       "      <th>High</th>\n",
       "      <th>Low</th>\n",
       "      <th>Close</th>\n",
       "      <th>Volume</th>\n",
       "      <th>Dividends</th>\n",
       "      <th>Stock Splits</th>\n",
       "    </tr>\n",
       "    <tr>\n",
       "      <th>Date</th>\n",
       "      <th></th>\n",
       "      <th></th>\n",
       "      <th></th>\n",
       "      <th></th>\n",
       "      <th></th>\n",
       "      <th></th>\n",
       "      <th></th>\n",
       "    </tr>\n",
       "  </thead>\n",
       "  <tbody>\n",
       "    <tr>\n",
       "      <th>2022-01-03 00:00:00-05:00</th>\n",
       "      <td>325.620684</td>\n",
       "      <td>328.193796</td>\n",
       "      <td>320.212277</td>\n",
       "      <td>325.038086</td>\n",
       "      <td>28865100</td>\n",
       "      <td>0.0</td>\n",
       "      <td>0.0</td>\n",
       "    </tr>\n",
       "    <tr>\n",
       "      <th>2022-01-04 00:00:00-05:00</th>\n",
       "      <td>325.115724</td>\n",
       "      <td>325.475014</td>\n",
       "      <td>316.658432</td>\n",
       "      <td>319.464600</td>\n",
       "      <td>32674300</td>\n",
       "      <td>0.0</td>\n",
       "      <td>0.0</td>\n",
       "    </tr>\n",
       "  </tbody>\n",
       "</table>\n",
       "</div>"
      ],
      "text/plain": [
       "                                 Open        High         Low       Close  \\\n",
       "Date                                                                        \n",
       "2022-01-03 00:00:00-05:00  325.620684  328.193796  320.212277  325.038086   \n",
       "2022-01-04 00:00:00-05:00  325.115724  325.475014  316.658432  319.464600   \n",
       "\n",
       "                             Volume  Dividends  Stock Splits  \n",
       "Date                                                          \n",
       "2022-01-03 00:00:00-05:00  28865100        0.0           0.0  \n",
       "2022-01-04 00:00:00-05:00  32674300        0.0           0.0  "
      ]
     },
     "execution_count": 22,
     "metadata": {},
     "output_type": "execute_result"
    }
   ],
   "source": [
    "# 2022년 1월 3일 ~ 4일의 데이터를 판다스 데이터프레임으로 출력 \n",
    "result = dat.history(start=\"2022-01-03\", end=\"2022-01-05\") \n",
    "result"
   ]
  },
  {
   "cell_type": "code",
   "execution_count": 23,
   "metadata": {},
   "outputs": [
    {
     "data": {
      "text/html": [
       "<div>\n",
       "<style scoped>\n",
       "    .dataframe tbody tr th:only-of-type {\n",
       "        vertical-align: middle;\n",
       "    }\n",
       "\n",
       "    .dataframe tbody tr th {\n",
       "        vertical-align: top;\n",
       "    }\n",
       "\n",
       "    .dataframe thead th {\n",
       "        text-align: right;\n",
       "    }\n",
       "</style>\n",
       "<table border=\"1\" class=\"dataframe\">\n",
       "  <thead>\n",
       "    <tr style=\"text-align: right;\">\n",
       "      <th></th>\n",
       "      <th>Date</th>\n",
       "      <th>Open</th>\n",
       "      <th>High</th>\n",
       "      <th>Low</th>\n",
       "      <th>Close</th>\n",
       "      <th>Volume</th>\n",
       "      <th>Dividends</th>\n",
       "      <th>Stock Splits</th>\n",
       "    </tr>\n",
       "  </thead>\n",
       "  <tbody>\n",
       "    <tr>\n",
       "      <th>0</th>\n",
       "      <td>2022-01-03 00:00:00-05:00</td>\n",
       "      <td>325.620684</td>\n",
       "      <td>328.193796</td>\n",
       "      <td>320.212277</td>\n",
       "      <td>325.038086</td>\n",
       "      <td>28865100</td>\n",
       "      <td>0.0</td>\n",
       "      <td>0.0</td>\n",
       "    </tr>\n",
       "    <tr>\n",
       "      <th>1</th>\n",
       "      <td>2022-01-04 00:00:00-05:00</td>\n",
       "      <td>325.115724</td>\n",
       "      <td>325.475014</td>\n",
       "      <td>316.658432</td>\n",
       "      <td>319.464600</td>\n",
       "      <td>32674300</td>\n",
       "      <td>0.0</td>\n",
       "      <td>0.0</td>\n",
       "    </tr>\n",
       "  </tbody>\n",
       "</table>\n",
       "</div>"
      ],
      "text/plain": [
       "                       Date        Open        High         Low       Close  \\\n",
       "0 2022-01-03 00:00:00-05:00  325.620684  328.193796  320.212277  325.038086   \n",
       "1 2022-01-04 00:00:00-05:00  325.115724  325.475014  316.658432  319.464600   \n",
       "\n",
       "     Volume  Dividends  Stock Splits  \n",
       "0  28865100        0.0           0.0  \n",
       "1  32674300        0.0           0.0  "
      ]
     },
     "execution_count": 23,
     "metadata": {},
     "output_type": "execute_result"
    }
   ],
   "source": [
    "# 인덱스 초기화 \n",
    "result = result.reset_index()\n",
    "result"
   ]
  },
  {
   "cell_type": "code",
   "execution_count": 24,
   "metadata": {},
   "outputs": [
    {
     "data": {
      "text/html": [
       "<div>\n",
       "<style scoped>\n",
       "    .dataframe tbody tr th:only-of-type {\n",
       "        vertical-align: middle;\n",
       "    }\n",
       "\n",
       "    .dataframe tbody tr th {\n",
       "        vertical-align: top;\n",
       "    }\n",
       "\n",
       "    .dataframe thead th {\n",
       "        text-align: right;\n",
       "    }\n",
       "</style>\n",
       "<table border=\"1\" class=\"dataframe\">\n",
       "  <thead>\n",
       "    <tr style=\"text-align: right;\">\n",
       "      <th></th>\n",
       "      <th>Date</th>\n",
       "      <th>Open</th>\n",
       "      <th>High</th>\n",
       "      <th>Low</th>\n",
       "      <th>Close</th>\n",
       "      <th>Volume</th>\n",
       "      <th>Dividends</th>\n",
       "      <th>Stock Splits</th>\n",
       "    </tr>\n",
       "  </thead>\n",
       "  <tbody>\n",
       "    <tr>\n",
       "      <th>0</th>\n",
       "      <td>2022-01-03</td>\n",
       "      <td>325.620684</td>\n",
       "      <td>328.193796</td>\n",
       "      <td>320.212277</td>\n",
       "      <td>325.038086</td>\n",
       "      <td>28865100</td>\n",
       "      <td>0.0</td>\n",
       "      <td>0.0</td>\n",
       "    </tr>\n",
       "    <tr>\n",
       "      <th>1</th>\n",
       "      <td>2022-01-04</td>\n",
       "      <td>325.115724</td>\n",
       "      <td>325.475014</td>\n",
       "      <td>316.658432</td>\n",
       "      <td>319.464600</td>\n",
       "      <td>32674300</td>\n",
       "      <td>0.0</td>\n",
       "      <td>0.0</td>\n",
       "    </tr>\n",
       "  </tbody>\n",
       "</table>\n",
       "</div>"
      ],
      "text/plain": [
       "         Date        Open        High         Low       Close    Volume  \\\n",
       "0  2022-01-03  325.620684  328.193796  320.212277  325.038086  28865100   \n",
       "1  2022-01-04  325.115724  325.475014  316.658432  319.464600  32674300   \n",
       "\n",
       "   Dividends  Stock Splits  \n",
       "0        0.0           0.0  \n",
       "1        0.0           0.0  "
      ]
     },
     "execution_count": 24,
     "metadata": {},
     "output_type": "execute_result"
    }
   ],
   "source": [
    "# 날짜 부분만 추출\n",
    "result['Date'] = result['Date'].dt.strftime('%Y-%m-%d')\n",
    "\n",
    "result"
   ]
  },
  {
   "cell_type": "code",
   "execution_count": 25,
   "metadata": {},
   "outputs": [
    {
     "data": {
      "text/plain": [
       "[{'Date': '2022-01-03',\n",
       "  'Open': 325.6206844003455,\n",
       "  'High': 328.19379550970876,\n",
       "  'Low': 320.2122765756348,\n",
       "  'Close': 325.0380859375,\n",
       "  'Volume': 28865100,\n",
       "  'Dividends': 0.0,\n",
       "  'Stock Splits': 0.0},\n",
       " {'Date': '2022-01-04',\n",
       "  'Open': 325.1157242107018,\n",
       "  'High': 325.4750144685873,\n",
       "  'Low': 316.65843157459085,\n",
       "  'Close': 319.464599609375,\n",
       "  'Volume': 32674300,\n",
       "  'Dividends': 0.0,\n",
       "  'Stock Splits': 0.0}]"
      ]
     },
     "execution_count": 25,
     "metadata": {},
     "output_type": "execute_result"
    }
   ],
   "source": [
    "# 데이터프레임을 딕셔너리로 변환\n",
    "result_dict = result.to_dict(orient='records') \n",
    "result_dict"
   ]
  },
  {
   "cell_type": "markdown",
   "metadata": {},
   "source": [
    "`(2) 데이터 연동 및 출력 포맷` "
   ]
  },
  {
   "cell_type": "code",
   "execution_count": null,
   "metadata": {},
   "outputs": [
    {
     "name": "stdout",
     "output_type": "stream",
     "text": [
      "{'Date': '2025-08-07', 'Open': 218.8800048828125, 'High': 220.85000610351562, 'Low': 216.5800018310547, 'Close': 220.02999877929688, 'Volume': 89932900, 'Dividends': 0.0, 'Stock Splits': 0.0}\n"
     ]
    }
   ],
   "source": [
    "# 외부 API 연동하는 함수 (yfinance 사용)\n",
    "\n",
    "from langchain_core.tools import ToolException\n",
    "from typing import Dict, Optional\n",
    "from datetime import datetime, timedelta\n",
    "import yfinance as yf\n",
    "\n",
    "def get_stock_price(symbol: str, date: Optional[str] = None) -> Dict:\n",
    "    \"\"\"yfiance 사용하여 특정 날짜의 주식의 가격 정보를 조회합니다.\"\"\"\n",
    "\n",
    "    if date and not is_valid_date(date):\n",
    "        raise ToolException(f\"잘못된 날짜 형식입니다: {date}\")\n",
    "    \n",
    "    try:\n",
    "        stock = yf.Ticker(symbol)\n",
    "        # 특정 날짜의 주식 가격 정보 조회 \n",
    "        if date:\n",
    "            start = datetime.strptime(date, \"%Y-%m-%d\")\n",
    "            end = start + timedelta(days=1)\n",
    "            price = stock.history(start=start, end=end)\n",
    "\n",
    "            # 가격 정보가 없으면 해날 날짜로부터 과거 5일간의 주식 가격 정보 조회\n",
    "            if price.empty:\n",
    "                end = start - timedelta(days=5)\n",
    "                price = stock.history(start=end, end=start)\n",
    "\n",
    "        # 특정 날짜가 없으면 최근 5일간의 주식 가격 정보 조회\n",
    "        else:\n",
    "            price = stock.history(period=\"5d\")\n",
    "            \n",
    "        # 데이터프레임을 딕셔너리로 변환하여 반환 (가장 최근 날짜 데이터만 반환)\n",
    "        df = price.reset_index()\n",
    "        df['Date'] = df['Date'].dt.strftime('%Y-%m-%d')\n",
    "        return df.to_dict(orient='records')[-1]\n",
    "    \n",
    "    except Exception as e:\n",
    "        raise ToolException(str(e))\n",
    "    \n",
    "\n",
    "def is_valid_date(date_str: str) -> bool:\n",
    "    try:\n",
    "        datetime.strptime(date_str, '%Y-%m-%d')\n",
    "        return True\n",
    "    except ValueError:\n",
    "        return False\n",
    "    \n",
    "\n",
    "# 함수 실행\n",
    "result = get_stock_price(\"AAPL\")\n",
    "\n",
    "# 결과 출력\n",
    "print(result)"
   ]
  },
  {
   "cell_type": "code",
   "execution_count": null,
   "metadata": {},
   "outputs": [
    {
     "name": "stdout",
     "output_type": "stream",
     "text": [
      "{'Date': '2025-01-03', 'Open': 242.7743682861328, 'High': 243.5923870862029, 'Low': 241.3079045417172, 'Close': 242.7743682861328, 'Volume': 40244100, 'Dividends': 0.0, 'Stock Splits': 0.0}\n"
     ]
    }
   ],
   "source": [
    "# 함수 실행 (날짜 지정)\n",
    "result = get_stock_price(\"AAPL\", \"2025-01-03\")\n",
    "print(result)"
   ]
  },
  {
   "cell_type": "markdown",
   "metadata": {},
   "source": [
    "`(3) StructuredTool 도구 변환` "
   ]
  },
  {
   "cell_type": "code",
   "execution_count": 28,
   "metadata": {},
   "outputs": [
    {
     "name": "stdout",
     "output_type": "stream",
     "text": [
      "{'Date': '2025-08-07', 'Open': 218.8800048828125, 'High': 220.85000610351562, 'Low': 216.5800018310547, 'Close': 220.02999877929688, 'Volume': 89932900, 'Dividends': 0.0, 'Stock Splits': 0.0}\n"
     ]
    }
   ],
   "source": [
    "from langchain_core.tools import StructuredTool\n",
    "\n",
    "# StructuredTool로 도구 생성\n",
    "stock_tool = StructuredTool.from_function(\n",
    "    func=get_stock_price,\n",
    "    name=\"stock_price_basic\",\n",
    "    description=\"yfinance를 사용하여 주식 가격 정보를 조회하는 도구입니다.\",\n",
    ")\n",
    "\n",
    "# 도구 실행 (정상)\n",
    "result = stock_tool.invoke({\"symbol\": \"AAPL\"})\n",
    "print(result)"
   ]
  },
  {
   "cell_type": "markdown",
   "metadata": {},
   "source": [
    "`(4) LLM 사용하여 도구 사용` "
   ]
  },
  {
   "cell_type": "code",
   "execution_count": 29,
   "metadata": {},
   "outputs": [
    {
     "name": "stdout",
     "output_type": "stream",
     "text": [
      "[{'args': {'date': '2025-01-03', 'symbol': 'AAPL'},\n",
      "  'id': 'call_gnFmwtKur4fRY92HKU14VXqk',\n",
      "  'name': 'stock_price_basic',\n",
      "  'type': 'tool_call'}]\n"
     ]
    }
   ],
   "source": [
    "from langchain_openai import ChatOpenAI\n",
    "\n",
    "# OpenAI GPT-4.1-mini 모델 사용\n",
    "llm = ChatOpenAI(model=\"gpt-4.1-mini\", temperature=0)\n",
    "\n",
    "# 도구 리스트\n",
    "tools = [search_web, stock_tool]\n",
    "\n",
    "# 도구 바인딩\n",
    "llm_with_tools = llm.bind_tools(tools)\n",
    "\n",
    "# 도구 호출 \n",
    "message = llm_with_tools.invoke(\"애플의 2025년 1월 3일 주식 가격을 알려줘\")\n",
    "pprint(message.tool_calls)"
   ]
  },
  {
   "cell_type": "code",
   "execution_count": 30,
   "metadata": {},
   "outputs": [
    {
     "name": "stdout",
     "output_type": "stream",
     "text": [
      "도구: stock_price_basic\n",
      "결과: {'Date': '2025-01-03', 'Open': 242.7743682861328, 'High': 243.5923870862029, 'Low': 241.3079045417172, 'Close': 242.7743682861328, 'Volume': 40244100, 'Dividends': 0.0, 'Stock Splits': 0.0}\n"
     ]
    }
   ],
   "source": [
    "def execute_tool_calls(message, tools_dict):\n",
    "    \"\"\"Tool calls를 실행하고 결과를 반환합니다.\"\"\"\n",
    "    results = []\n",
    "    \n",
    "    for tool_call in message.tool_calls:\n",
    "        tool_name = tool_call['name']\n",
    "        tool_args = tool_call['args']\n",
    "        \n",
    "        if tool_name in tools_dict:\n",
    "            tool = tools_dict[tool_name]\n",
    "            result = tool.invoke(tool_args)\n",
    "            results.append({\n",
    "                'tool_call_id': tool_call['id'],\n",
    "                'tool_name': tool_name,\n",
    "                'result': result\n",
    "            })\n",
    "    \n",
    "    return results\n",
    "\n",
    "# 도구 딕셔너리 생성\n",
    "tools_dict = {tool.name: tool for tool in tools}\n",
    "\n",
    "# 테스트\n",
    "response = llm_with_tools.invoke(\"애플의 2025년 1월 3일 주식 가격을 알려줘\")\n",
    "if response.tool_calls:\n",
    "    results = execute_tool_calls(response, tools_dict)\n",
    "    for result in results:\n",
    "        print(f\"도구: {result['tool_name']}\")\n",
    "        print(f\"결과: {result['result']}\")\n"
   ]
  },
  {
   "cell_type": "code",
   "execution_count": 31,
   "metadata": {},
   "outputs": [
    {
     "name": "stdout",
     "output_type": "stream",
     "text": [
      "[HumanMessage(content='애플의 2025년 1월 3일 주식 가격을 알려줘', additional_kwargs={}, response_metadata={}, id='23024ebe-ea17-48e2-8099-56662da2265d'),\n",
      " AIMessage(content='', additional_kwargs={'tool_calls': [{'id': 'call_Pw3QDQIyFjGt7dvdCeIJIALq', 'function': {'arguments': '{\"symbol\":\"AAPL\",\"date\":\"2025-01-03\"}', 'name': 'stock_price_basic'}, 'type': 'function'}], 'refusal': None}, response_metadata={'token_usage': {'completion_tokens': 25, 'prompt_tokens': 140, 'total_tokens': 165, 'completion_tokens_details': {'accepted_prediction_tokens': 0, 'audio_tokens': 0, 'reasoning_tokens': 0, 'rejected_prediction_tokens': 0}, 'prompt_tokens_details': {'audio_tokens': 0, 'cached_tokens': 0}}, 'model_name': 'gpt-4.1-mini-2025-04-14', 'system_fingerprint': 'fp_6f2eabb9a5', 'id': 'chatcmpl-C28gu03csvqyDG2gqpm2Immws6fz0', 'service_tier': 'default', 'finish_reason': 'tool_calls', 'logprobs': None}, id='run--57ba6499-3851-4f14-980c-25c30de587f9-0', tool_calls=[{'name': 'stock_price_basic', 'args': {'symbol': 'AAPL', 'date': '2025-01-03'}, 'id': 'call_Pw3QDQIyFjGt7dvdCeIJIALq', 'type': 'tool_call'}], usage_metadata={'input_tokens': 140, 'output_tokens': 25, 'total_tokens': 165, 'input_token_details': {'audio': 0, 'cache_read': 0}, 'output_token_details': {'audio': 0, 'reasoning': 0}}),\n",
      " ToolMessage(content='{\"Date\": \"2025-01-03\", \"Open\": 242.7743682861328, \"High\": 243.5923870862029, \"Low\": 241.3079045417172, \"Close\": 242.7743682861328, \"Volume\": 40244100, \"Dividends\": 0.0, \"Stock Splits\": 0.0}', name='stock_price_basic', id='9fe9237d-bff8-4c34-a212-66d6d38aa9d1', tool_call_id='call_Pw3QDQIyFjGt7dvdCeIJIALq'),\n",
      " AIMessage(content='애플의 2025년 1월 3일 주식 가격은 시가 242.77달러, 고가 243.59달러, 저가 241.31달러, 종가 242.77달러였습니다.', additional_kwargs={'refusal': None}, response_metadata={'token_usage': {'completion_tokens': 55, 'prompt_tokens': 261, 'total_tokens': 316, 'completion_tokens_details': {'accepted_prediction_tokens': 0, 'audio_tokens': 0, 'reasoning_tokens': 0, 'rejected_prediction_tokens': 0}, 'prompt_tokens_details': {'audio_tokens': 0, 'cached_tokens': 0}}, 'model_name': 'gpt-4.1-mini-2025-04-14', 'system_fingerprint': 'fp_6f2eabb9a5', 'id': 'chatcmpl-C28gvIIDgGCD9GPMBHHqViZoHBv4K', 'service_tier': 'default', 'finish_reason': 'stop', 'logprobs': None}, id='run--d87910ef-6e78-403e-8441-3ec569cca661-0', usage_metadata={'input_tokens': 261, 'output_tokens': 55, 'total_tokens': 316, 'input_token_details': {'audio': 0, 'cache_read': 0}, 'output_token_details': {'audio': 0, 'reasoning': 0}})]\n"
     ]
    }
   ],
   "source": [
    "from langgraph.prebuilt import create_react_agent\n",
    "\n",
    "# 도구 실행 에인전트 생성 \n",
    "stock_agent = create_react_agent(llm, tools)\n",
    "\n",
    "# 도구 실행 에이전트 사용\n",
    "result = stock_agent.invoke(\n",
    "    {\"messages\": [(\"human\", \"애플의 2025년 1월 3일 주식 가격을 알려줘\")]}\n",
    ")\n",
    "\n",
    "pprint(result['messages'])"
   ]
  },
  {
   "cell_type": "code",
   "execution_count": 32,
   "metadata": {},
   "outputs": [
    {
     "name": "stdout",
     "output_type": "stream",
     "text": [
      "[HumanMessage(content='애플의 2025년 1월 3일 주식 가격을 알려줘', additional_kwargs={}, response_metadata={}, id='d6d1a512-46f8-4558-97bb-ae5171c1188b'),\n",
      " AIMessage(content='', additional_kwargs={'tool_calls': [{'id': 'call_Lrd4QirZj1KjBQFYyrcoVR54', 'function': {'arguments': '{\"symbol\":\"AAPL\",\"date\":\"2025-01-03\"}', 'name': 'stock_price_basic'}, 'type': 'function'}], 'refusal': None}, response_metadata={'token_usage': {'completion_tokens': 25, 'prompt_tokens': 140, 'total_tokens': 165, 'completion_tokens_details': {'accepted_prediction_tokens': 0, 'audio_tokens': 0, 'reasoning_tokens': 0, 'rejected_prediction_tokens': 0}, 'prompt_tokens_details': {'audio_tokens': 0, 'cached_tokens': 0}}, 'model_name': 'gpt-4.1-mini-2025-04-14', 'system_fingerprint': 'fp_6f2eabb9a5', 'id': 'chatcmpl-C28i7FnlYDXUCg1kZ4QtR3tK1D1Z3', 'service_tier': 'default', 'finish_reason': 'tool_calls', 'logprobs': None}, id='run--5a590997-b7f2-426e-bff1-1f37dfe6ca13-0', tool_calls=[{'name': 'stock_price_basic', 'args': {'symbol': 'AAPL', 'date': '2025-01-03'}, 'id': 'call_Lrd4QirZj1KjBQFYyrcoVR54', 'type': 'tool_call'}], usage_metadata={'input_tokens': 140, 'output_tokens': 25, 'total_tokens': 165, 'input_token_details': {'audio': 0, 'cache_read': 0}, 'output_token_details': {'audio': 0, 'reasoning': 0}}),\n",
      " ToolMessage(content='{\"Date\": \"2025-01-03\", \"Open\": 242.7743682861328, \"High\": 243.5923870862029, \"Low\": 241.3079045417172, \"Close\": 242.7743682861328, \"Volume\": 40244100, \"Dividends\": 0.0, \"Stock Splits\": 0.0}', name='stock_price_basic', id='00f5a2d5-391d-4b58-8f38-a45b045b949d', tool_call_id='call_Lrd4QirZj1KjBQFYyrcoVR54')]\n"
     ]
    }
   ],
   "source": [
    "# 도구 실행 에인전트 생성 (return_direct=True)\n",
    "\n",
    "stock_tool.return_direct = True\n",
    "search_web.return_direct = True\n",
    "stock_agent = create_react_agent(llm, tools=[search_web, stock_tool])\n",
    "\n",
    "# 도구 실행 에이전트 사용\n",
    "result = stock_agent.invoke(\n",
    "    {\"messages\": [(\"human\", \"애플의 2025년 1월 3일 주식 가격을 알려줘\")]}\n",
    ")\n",
    "\n",
    "pprint(result['messages'])"
   ]
  },
  {
   "cell_type": "code",
   "execution_count": 33,
   "metadata": {},
   "outputs": [
    {
     "name": "stdout",
     "output_type": "stream",
     "text": [
      "[HumanMessage(content='애플의 최신 뉴스를 알려줘', additional_kwargs={}, response_metadata={}, id='4b8a865b-b0b2-4745-a63d-9e4a7a9631c5'),\n",
      " AIMessage(content='', additional_kwargs={'tool_calls': [{'id': 'call_wFFN4K5sj8J5jfTVfohetpyI', 'function': {'arguments': '{\"query\":\"Apple latest news\"}', 'name': 'tavily_search_results_json'}, 'type': 'function'}], 'refusal': None}, response_metadata={'token_usage': {'completion_tokens': 20, 'prompt_tokens': 129, 'total_tokens': 149, 'completion_tokens_details': {'accepted_prediction_tokens': 0, 'audio_tokens': 0, 'reasoning_tokens': 0, 'rejected_prediction_tokens': 0}, 'prompt_tokens_details': {'audio_tokens': 0, 'cached_tokens': 0}}, 'model_name': 'gpt-4.1-mini-2025-04-14', 'system_fingerprint': 'fp_6f2eabb9a5', 'id': 'chatcmpl-C28irIrdgE8Ed4K9shm0KYZBoqW2z', 'service_tier': 'default', 'finish_reason': 'tool_calls', 'logprobs': None}, id='run--63528685-daaf-49c6-ad6f-b8e9cd2e0d31-0', tool_calls=[{'name': 'tavily_search_results_json', 'args': {'query': 'Apple latest news'}, 'id': 'call_wFFN4K5sj8J5jfTVfohetpyI', 'type': 'tool_call'}], usage_metadata={'input_tokens': 129, 'output_tokens': 20, 'total_tokens': 149, 'input_token_details': {'audio': 0, 'cache_read': 0}, 'output_token_details': {'audio': 0, 'reasoning': 0}}),\n",
      " ToolMessage(content='[{\"title\": \"Apple increases U.S. commitment to $600 billion, announces ...\", \"url\": \"https://www.apple.com/newsroom/2025/08/apple-increases-us-commitment-to-600-billion-usd-announces-ambitious-program/\", \"content\": \"## Press Contacts\\\\n\\\\nNick Leahy\\\\n\\\\nApple\\\\n\\\\nnleahy@apple.com\\\\n\\\\nApple Media Helpline\\\\n\\\\nmedia.help@apple.com\\\\n\\\\n## Latest News\\\\n\\\\n### Apple, Corning to manufacture all iPhone, Apple Watch cover glass in Kentucky\\\\n\\\\n### Apple reports third quarter results\\\\n\\\\n### Leagues Cup returns to MLS Season Pass on Apple TV on July 29\\\\n\\\\nThe latest news and updates,   \\\\n direct from Apple.\\\\n\\\\nRead more\\\\n\\\\n## Apple Footer\\\\n\\\\n### Shop and Learn Shop and Learn\\\\n\\\\n### Apple Wallet Apple Wallet\\\\n\\\\n### Account Account [...] CUPERTINO, CALIFORNIAApple today announced a new $100 billion commitment to America, a significant acceleration of its U.S. investment that now totals $600 billion over the next four years. Today’s announcement includes the ambitious new American Manufacturing Program (AMP), dedicated to bringing even more of Apple’s supply chain and advanced manufacturing to the U.S. Through AMP, Apple will increase its investment across America and incentivize global companies to manufacture even more [...] Apple’s facility in Houston where advanced servers are produced.\\\\nThe interior of Apple’s data center in Maiden, North Carolina.\\\\nA worker in headphones examines a piece of material at Apple’s second campus in Austin.\\\\n\\\\n## Media\\\\n\\\\nText of this article\\\\n\\\\nAugust 6, 2025\\\\n\\\\nPRESS RELEASE\\\\n\\\\nApple increases U.S. commitment to $600 billion, announces American Manufacturing Program\", \"score\": 0.8016413}, {\"title\": \"Apple reports third quarter results\", \"url\": \"https://www.apple.com/newsroom/2025/07/apple-reports-third-quarter-results/\", \"content\": \"## Press Contact\\\\n\\\\nJosh Rosenstock\\\\n\\\\nApple\\\\n\\\\njrosenstock@apple.com\\\\n\\\\n(408) 862-1142\\\\n\\\\n## Investor Relations Contact\\\\n\\\\nSuhasini Chandramouli\\\\n\\\\nApple\\\\n\\\\nsuhasini@apple.com\\\\n\\\\n(408) 974-3123\\\\n\\\\nThe latest news and updates,   \\\\n direct from Apple.\\\\n\\\\nRead more\\\\n\\\\n## Apple Footer\\\\n\\\\n### Shop and Learn Shop and Learn\\\\n\\\\n### Apple Wallet Apple Wallet\\\\n\\\\n### Account Account\\\\n\\\\n### Entertainment Entertainment\\\\n\\\\n### Apple Store Apple Store\\\\n\\\\n### For Business For Business\\\\n\\\\n### For Education For Education [...] Apple revolutionized personal technology with the introduction of the Macintosh in 1984. Today, Apple leads the world in innovation with iPhone, iPad, Mac, AirPods, Apple Watch, and Apple Vision Pro. Apple’s six software platforms — iOS, iPadOS, macOS, watchOS, visionOS, and tvOS — provide seamless experiences across all Apple devices and empower people with breakthrough services including the App Store, Apple Music, Apple Pay, iCloud, and Apple TV+. Apple’s more than 150,000 employees are [...] SEC, including in the “Risk Factors” and “Management’s Discussion and Analysis of Financial Condition and Results of Operations” sections of the Company’s most recently filed periodic reports on Form 10-K and Form 10-Q and subsequent filings. The Company assumes no obligation to update any forward-looking statements, which speak only as of the date they are made.\", \"score\": 0.6778372}, {\"title\": \"Apple announces additional $100 billion in US investment, following ...\", \"url\": \"https://finance.yahoo.com/news/apple-announces-additional-100-billion-in-us-investment-following-trump-iphone-tariff-threat-210803143.html\", \"content\": \"During its most recent quarterly earnings report, Apple said it took an $800 million hit due to existing tariffs and anticipated an additional $1.1 billion in related costs in its current quarter.\\\\n\\\\nSign up for Yahoo Finance&#39;s Week in Tech newsletter.\\\\n\\\\nEmail Daniel Howley at dhowley@yahoofinance.com. Follow him on X/Twitter at @DanielHowley.\\\\n\\\\nFor the latest earnings reports and analysis, earnings whispers and expectations, and company earnings news, click here [...] Apple is further teaming up with Samsung to work on new chipmaking technologies at its plant in Austin, Texas, as well as with GlobalFoundries and Amkor to bring more chip manufacturing and packaging to the US, respectively.\\\\n\\\\nApple\\'s news comes after the Trump administration began pressuring the tech giant to manufacture its iPhone in the US, going so far as to threaten to impose a 25% tariff on the devices if the company didn\\'t comply. [...] Apple\\'s announcement also comes as the company prepares for a new 25% tariff on goods destined for the US from India. That\\'s in addition to an existing 25% levy Trump previously said he would apply to the country\\'s products.\\\\n\\\\nRead more: The latest news and updates on Trump\\'s tariffs\", \"score\": 0.6701125}, {\"title\": \"Upcoming Apple Products Guide: What\\'s Coming in 2025\", \"url\": \"https://www.macrumors.com/guide/upcoming-apple-products/\", \"content\": \"In late February, Apple released the iPhone 16e, a $599 iPhone that replaces the iPhone SE 3. It has an A18 chip, a single-lens rear camera, and an all-display design with a 6.1-inch OLED display.\\\\n\\\\nThen in March, Apple refreshed the MacBook Air with M4 chips and the Mac Studio with M4 Max and M3 Ultra chips. There were no design changes, with the focus on performance updates.\\\\n\\\\nApple also updated the low-cost iPad with an A16 chip and the iPad Air with the M3 chip, again with no design change. [...] Biggest design overhaul since iOS 7 with Liquid Glass, plus new Apple Intelligence features and improvements to Messages, Phone, Safari, Shortcuts, and more. Developer beta available now ahead of public beta in July.\\\\n\\\\nios 26 sidebar square\\\\n\\\\niPadOS 26 brings Apple\\'s Liquid Glass design overhaul, new Phone, Preview, Games, and Journal apps, and more.\\\\n\\\\nmacos tahoe sidebar square\\\\n\\\\nLiquid Glass redesign, Phone app, revamped Spotlight, and more.\\\\n\\\\nwatchos 26 256x256 2x [...] Apple\\'s new Liquid Glass design, a Workout Buddy for motivation, a Notes app, and more.\\\\n\\\\n## Other Stories\\\\n\\\\nairpods max 2024 colors\\\\n\\\\n13 hours ago by Joe Rossignol\\\\n\\\\nApple Watch Ultra Black Feature\\\\n\\\\n18 hours ago by Tim Hardwick\\\\n\\\\niPhone Car Key Kia\\\\n\\\\n2 days ago by Joe Rossignol\\\\n\\\\nApple Podcasts Award\\\\n\\\\n2 days ago by Tim Hardwick\\\\n\\\\nApple WWDC25 iOS 26 hero 250609\\\\n\\\\n2 days ago by Tim Hardwick\", \"score\": 0.62495816}, {\"title\": \"Newsroom - Apple\", \"url\": \"https://www.apple.com/newsroom/\", \"content\": \"## \\\\n\\\\n## \\\\n\\\\n# Newsroom\\\\n\\\\n## Latest News\\\\n\\\\nThe Apple TV+ logo for “Friday Night Baseball.”\\\\n\\\\n## Apple Stories\\\\n\\\\n## More from Newsroom\\\\n\\\\n## Apple Footer\\\\n\\\\n### Shop and Learn Shop and Learn\\\\n\\\\n### Apple Wallet Apple Wallet\\\\n\\\\n### Account Account\\\\n\\\\n### Entertainment Entertainment\\\\n\\\\n### Apple Store Apple Store\\\\n\\\\n### For Business For Business\\\\n\\\\n### For Education For Education\\\\n\\\\n### For Healthcare For Healthcare\\\\n\\\\n### For Government For Government\\\\n\\\\n### Apple Values Apple Values\\\\n\\\\n### About Apple About Apple\", \"score\": 0.61834323}]', name='tavily_search_results_json', id='1bd76d1d-5e50-4463-9cfe-6b4cf5af5333', tool_call_id='call_wFFN4K5sj8J5jfTVfohetpyI', artifact={'query': 'Apple latest news', 'follow_up_questions': None, 'answer': None, 'images': [], 'results': [{'url': 'https://www.apple.com/newsroom/2025/08/apple-increases-us-commitment-to-600-billion-usd-announces-ambitious-program/', 'title': 'Apple increases U.S. commitment to $600 billion, announces ...', 'content': '## Press Contacts\\n\\nNick Leahy\\n\\nApple\\n\\nnleahy@apple.com\\n\\nApple Media Helpline\\n\\nmedia.help@apple.com\\n\\n## Latest News\\n\\n### Apple, Corning to manufacture all iPhone, Apple Watch cover glass in Kentucky\\n\\n### Apple reports third quarter results\\n\\n### Leagues Cup returns to MLS Season Pass on Apple TV on July 29\\n\\nThe latest news and updates,   \\n direct from Apple.\\n\\nRead more\\n\\n## Apple Footer\\n\\n### Shop and Learn Shop and Learn\\n\\n### Apple Wallet Apple Wallet\\n\\n### Account Account [...] CUPERTINO, CALIFORNIAApple today announced a new $100 billion commitment to America, a significant acceleration of its U.S. investment that now totals $600 billion over the next four years. Today’s announcement includes the ambitious new American Manufacturing Program (AMP), dedicated to bringing even more of Apple’s supply chain and advanced manufacturing to the U.S. Through AMP, Apple will increase its investment across America and incentivize global companies to manufacture even more [...] Apple’s facility in Houston where advanced servers are produced.\\nThe interior of Apple’s data center in Maiden, North Carolina.\\nA worker in headphones examines a piece of material at Apple’s second campus in Austin.\\n\\n## Media\\n\\nText of this article\\n\\nAugust 6, 2025\\n\\nPRESS RELEASE\\n\\nApple increases U.S. commitment to $600 billion, announces American Manufacturing Program', 'score': 0.8016413, 'raw_content': None}, {'url': 'https://www.apple.com/newsroom/2025/07/apple-reports-third-quarter-results/', 'title': 'Apple reports third quarter results', 'content': '## Press Contact\\n\\nJosh Rosenstock\\n\\nApple\\n\\njrosenstock@apple.com\\n\\n(408) 862-1142\\n\\n## Investor Relations Contact\\n\\nSuhasini Chandramouli\\n\\nApple\\n\\nsuhasini@apple.com\\n\\n(408) 974-3123\\n\\nThe latest news and updates,   \\n direct from Apple.\\n\\nRead more\\n\\n## Apple Footer\\n\\n### Shop and Learn Shop and Learn\\n\\n### Apple Wallet Apple Wallet\\n\\n### Account Account\\n\\n### Entertainment Entertainment\\n\\n### Apple Store Apple Store\\n\\n### For Business For Business\\n\\n### For Education For Education [...] Apple revolutionized personal technology with the introduction of the Macintosh in 1984. Today, Apple leads the world in innovation with iPhone, iPad, Mac, AirPods, Apple Watch, and Apple Vision Pro. Apple’s six software platforms — iOS, iPadOS, macOS, watchOS, visionOS, and tvOS — provide seamless experiences across all Apple devices and empower people with breakthrough services including the App Store, Apple Music, Apple Pay, iCloud, and Apple TV+. Apple’s more than 150,000 employees are [...] SEC, including in the “Risk Factors” and “Management’s Discussion and Analysis of Financial Condition and Results of Operations” sections of the Company’s most recently filed periodic reports on Form 10-K and Form 10-Q and subsequent filings. The Company assumes no obligation to update any forward-looking statements, which speak only as of the date they are made.', 'score': 0.6778372, 'raw_content': None}, {'url': 'https://finance.yahoo.com/news/apple-announces-additional-100-billion-in-us-investment-following-trump-iphone-tariff-threat-210803143.html', 'title': 'Apple announces additional $100 billion in US investment, following ...', 'content': \"During its most recent quarterly earnings report, Apple said it took an $800 million hit due to existing tariffs and anticipated an additional $1.1 billion in related costs in its current quarter.\\n\\nSign up for Yahoo Finance&#39;s Week in Tech newsletter.\\n\\nEmail Daniel Howley at dhowley@yahoofinance.com. Follow him on X/Twitter at @DanielHowley.\\n\\nFor the latest earnings reports and analysis, earnings whispers and expectations, and company earnings news, click here [...] Apple is further teaming up with Samsung to work on new chipmaking technologies at its plant in Austin, Texas, as well as with GlobalFoundries and Amkor to bring more chip manufacturing and packaging to the US, respectively.\\n\\nApple's news comes after the Trump administration began pressuring the tech giant to manufacture its iPhone in the US, going so far as to threaten to impose a 25% tariff on the devices if the company didn't comply. [...] Apple's announcement also comes as the company prepares for a new 25% tariff on goods destined for the US from India. That's in addition to an existing 25% levy Trump previously said he would apply to the country's products.\\n\\nRead more: The latest news and updates on Trump's tariffs\", 'score': 0.6701125, 'raw_content': None}, {'url': 'https://www.macrumors.com/guide/upcoming-apple-products/', 'title': \"Upcoming Apple Products Guide: What's Coming in 2025\", 'content': \"In late February, Apple released the iPhone 16e, a $599 iPhone that replaces the iPhone SE 3. It has an A18 chip, a single-lens rear camera, and an all-display design with a 6.1-inch OLED display.\\n\\nThen in March, Apple refreshed the MacBook Air with M4 chips and the Mac Studio with M4 Max and M3 Ultra chips. There were no design changes, with the focus on performance updates.\\n\\nApple also updated the low-cost iPad with an A16 chip and the iPad Air with the M3 chip, again with no design change. [...] Biggest design overhaul since iOS 7 with Liquid Glass, plus new Apple Intelligence features and improvements to Messages, Phone, Safari, Shortcuts, and more. Developer beta available now ahead of public beta in July.\\n\\nios 26 sidebar square\\n\\niPadOS 26 brings Apple's Liquid Glass design overhaul, new Phone, Preview, Games, and Journal apps, and more.\\n\\nmacos tahoe sidebar square\\n\\nLiquid Glass redesign, Phone app, revamped Spotlight, and more.\\n\\nwatchos 26 256x256 2x [...] Apple's new Liquid Glass design, a Workout Buddy for motivation, a Notes app, and more.\\n\\n## Other Stories\\n\\nairpods max 2024 colors\\n\\n13 hours ago by Joe Rossignol\\n\\nApple Watch Ultra Black Feature\\n\\n18 hours ago by Tim Hardwick\\n\\niPhone Car Key Kia\\n\\n2 days ago by Joe Rossignol\\n\\nApple Podcasts Award\\n\\n2 days ago by Tim Hardwick\\n\\nApple WWDC25 iOS 26 hero 250609\\n\\n2 days ago by Tim Hardwick\", 'score': 0.62495816, 'raw_content': None}, {'url': 'https://www.apple.com/newsroom/', 'title': 'Newsroom - Apple', 'content': '## \\n\\n## \\n\\n# Newsroom\\n\\n## Latest News\\n\\nThe Apple TV+ logo for “Friday Night Baseball.”\\n\\n## Apple Stories\\n\\n## More from Newsroom\\n\\n## Apple Footer\\n\\n### Shop and Learn Shop and Learn\\n\\n### Apple Wallet Apple Wallet\\n\\n### Account Account\\n\\n### Entertainment Entertainment\\n\\n### Apple Store Apple Store\\n\\n### For Business For Business\\n\\n### For Education For Education\\n\\n### For Healthcare For Healthcare\\n\\n### For Government For Government\\n\\n### Apple Values Apple Values\\n\\n### About Apple About Apple', 'score': 0.61834323, 'raw_content': None}], 'response_time': 3.59}),\n",
      " AIMessage(content='애플의 최신 뉴스에 따르면, 애플은 미국 내 투자 규모를 6000억 달러로 확대하고 새로운 미국 제조 프로그램(American Manufacturing Program, AMP)을 발표했습니다. 이 프로그램은 애플의 공급망과 첨단 제조를 미국 내로 더욱 확대하는 것을 목표로 하며, 글로벌 기업들이 미국에서 더 많은 제조를 하도록 장려하는 내용입니다.\\n\\n또한, 애플은 최근 3분기 실적 보고를 발표했으며, 삼성, GlobalFoundries, Amkor 등과 협력하여 미국 내 칩 제조 및 패키징 기술 개발에도 힘쓰고 있습니다.\\n\\n더 자세한 내용이나 특정 소식이 궁금하시면 알려주세요.', additional_kwargs={'refusal': None}, response_metadata={'token_usage': {'completion_tokens': 149, 'prompt_tokens': 1797, 'total_tokens': 1946, 'completion_tokens_details': {'accepted_prediction_tokens': 0, 'audio_tokens': 0, 'reasoning_tokens': 0, 'rejected_prediction_tokens': 0}, 'prompt_tokens_details': {'audio_tokens': 0, 'cached_tokens': 0}}, 'model_name': 'gpt-4.1-mini-2025-04-14', 'system_fingerprint': 'fp_6f2eabb9a5', 'id': 'chatcmpl-C28iwwRgxHmqTkI9hEEOVF6X8SNdk', 'service_tier': 'default', 'finish_reason': 'stop', 'logprobs': None}, id='run--64f7191a-4f43-4a3f-9e56-7be10694fe15-0', usage_metadata={'input_tokens': 1797, 'output_tokens': 149, 'total_tokens': 1946, 'input_token_details': {'audio': 0, 'cache_read': 0}, 'output_token_details': {'audio': 0, 'reasoning': 0}})]\n"
     ]
    }
   ],
   "source": [
    "# 도구 실행 에인전트 생성 (return_direct=False)\n",
    "\n",
    "stock_tool.return_direct = False\n",
    "search_web.return_direct = False\n",
    "stock_agent = create_react_agent(llm, tools=[search_web, stock_tool])\n",
    "\n",
    "# 도구 실행 에이전트 사용\n",
    "result = stock_agent.invoke(\n",
    "    {\"messages\": [(\"human\", \"애플의 최신 뉴스를 알려줘\")]}\n",
    ")\n",
    "\n",
    "pprint(result['messages'])"
   ]
  },
  {
   "cell_type": "markdown",
   "metadata": {},
   "source": [
    "---\n",
    "\n",
    "### 2. **Naver 개발자 API** 를 도구로 사용\n",
    "\n",
    "- 네이버 개발자 API(https://developers.naㅔver.com/)에서 인증 권한 취득 (회원 가입 및 애플리케이션 등록 필요)\n",
    "- 환경변수(.env)를 등록합니다. (**NAVER_CLIENT_ID**, **NAVER_CLIENT_SECRET**)\n",
    "- 아래 정의된 네이버 뉴스 검색 도구(naver_news_search)를 사용하여 다음 과정을 수행합니다. "
   ]
  },
  {
   "cell_type": "code",
   "execution_count": null,
   "metadata": {},
   "outputs": [],
   "source": [
    "# 환경 변수 로드\n",
    "from dotenv import load_dotenv\n",
    "load_dotenv()"
   ]
  },
  {
   "cell_type": "markdown",
   "metadata": {},
   "source": [
    "`(1) 도구 정의`"
   ]
  },
  {
   "cell_type": "code",
   "execution_count": null,
   "metadata": {},
   "outputs": [],
   "source": [
    "import requests, os\n",
    "from langchain_core.tools import tool\n",
    "from typing import Dict\n",
    "\n",
    "@tool\n",
    "def naver_news_search(\n",
    "    query: str,\n",
    "    ) -> Dict[Dict, int]:\n",
    "    \"\"\"네이버 검색 API를 사용하여 뉴스 검색 결과를 조회합니다.\"\"\"\n",
    "\n",
    "    url = \"https://openapi.naver.com/v1/search/news.json\"\n",
    "    headers = {\n",
    "        \"X-Naver-Client-Id\": os.getenv(\"NAVER_CLIENT_ID\"),\n",
    "        \"X-Naver-Client-Secret\": os.getenv(\"NAVER_CLIENT_SECRET\")\n",
    "    }\n",
    "    params = {\"query\": query}\n",
    "\n",
    "    response = requests.get(url, headers=headers, params=params)\n",
    "\n",
    "    return {\n",
    "        \"data\": response.json(),\n",
    "        \"status_code\": int(response.status_code)\n",
    "    }  #type: ignore"
   ]
  },
  {
   "cell_type": "markdown",
   "metadata": {},
   "source": [
    "`(2) 도구 실행`"
   ]
  },
  {
   "cell_type": "code",
   "execution_count": null,
   "metadata": {},
   "outputs": [],
   "source": [
    "from langgraph.prebuilt import create_react_agent\n",
    "\n",
    "# 도구 실행 에인전트 생성 \n",
    "tools = [stock_tool, naver_news_search]  \n",
    "stock_agent = create_react_agent(llm, tools)\n",
    "\n",
    "# 도구 실행 에이전트 사용\n",
    "result = stock_agent.invoke(\n",
    "    {\"messages\": [(\"human\", \"애플의 최근 주가는 어떻게 되나요? 최근 주가 분석에 대한 관련 기사를 찾아주세요.\")]}\n",
    ")\n",
    "\n",
    "pprint(result['messages'])"
   ]
  }
 ],
 "metadata": {
  "kernelspec": {
   "display_name": "ktds-llm",
   "language": "python",
   "name": "python3"
  },
  "language_info": {
   "codemirror_mode": {
    "name": "ipython",
    "version": 3
   },
   "file_extension": ".py",
   "mimetype": "text/x-python",
   "name": "python",
   "nbconvert_exporter": "python",
   "pygments_lexer": "ipython3",
   "version": "3.12.11"
  }
 },
 "nbformat": 4,
 "nbformat_minor": 2
}
