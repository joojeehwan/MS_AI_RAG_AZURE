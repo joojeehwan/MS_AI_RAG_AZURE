{
 "cells": [
  {
   "cell_type": "markdown",
   "metadata": {
    "id": "fV-Z1B-Pa4L1"
   },
   "source": [
    "# 🤖 LLM 원리 + OpenAI Chat Completion API 활용\n",
    "\n",
    "---\n",
    "\n",
    "## 1. LLM 기본 개념\n",
    "\n",
    "### 🧠 LLM(Large Language Model)의 생성 원리\n",
    "\n",
    "**LLM은 어떻게 작동하나요?**\n",
    "- **트랜스포머 구조**: 대화형 AI의 핵심 아키텍처\n",
    "- **토큰 예측**: 다음에 올 가장 적절한 단어를 예측\n",
    "- **학습 방식**: 인터넷의 방대한 텍스트 데이터로 사전 훈련\n",
    "\n",
    "**핵심 프로세스**\n",
    "1. **토큰화**: 텍스트를 작은 단위(토큰)로 분할\n",
    "2. **확률 계산**: 각 토큰이 다음에 올 확률 계산\n",
    "3. **토큰 생성**: 확률 분포에 따라 토큰 선택\n",
    "4. **반복**: 종료 조건까지 과정 반복\n",
    "\n",
    "\n",
    "**트랜스포머**:\n",
    "- **인코더-디코더 구조**: 입력과 출력을 동시에 처리\n",
    "- **어텐션 메커니즘**: 입력의 모든 부분을 동시에 고려하여 중요한 정보에 집중\n",
    "\n",
    "\n",
    "<div style=\"text-align: left; font-size: 12px;\">\n",
    "<div style=\"text-align: center;\">\n",
    "    <img src=\"https://upload.wikimedia.org/wikipedia/commons/thumb/3/34/Transformer%2C_full_architecture.png/440px-Transformer%2C_full_architecture.png\"\n",
    "        alt=\"Illustrations for the Transformer and attention mechanism showing the full Transformer architecture\"\n",
    "        width=\"600\"\n",
    "        style=\"border: 0;\">\n",
    "</div>\n",
    "\n",
    "**Image Title:** Transformer Architecture Illustration  \n",
    "**Source:** [GitHub - DL Visuals](https://github.com/dvgodoy/dl-visuals/?tab=readme-ov-file)  \n",
    "**License:** [Creative Commons Attribution 4.0 International License](https://creativecommons.org/licenses/by/4.0/)  \n",
    "**Author(s):** dvgodoy  \n",
    "\n",
    "</div>\n",
    "\n"
   ]
  },
  {
   "cell_type": "markdown",
   "metadata": {},
   "source": [
    "\n",
    "---\n",
    "\n",
    "## 2. OpenAI API 핵심 개념\n",
    "\n",
    "### 🔧 주요 구성 요소\n",
    "\n",
    "**1. 메시지 형식**\n",
    "\n",
    "  ```python\n",
    "  messages = [\n",
    "      {\"role\": \"system\", \"content\": \"당신은 도움이 되는 AI 어시스턴트입니다.\"},\n",
    "      {\"role\": \"user\", \"content\": \"파이썬에서 리스트를 정렬하는 방법을 알려주세요.\"},\n",
    "      {\"role\": \"assistant\", \"content\": \"sort() 메서드나 sorted() 함수를 사용할 수 있습니다.\"}\n",
    "  ]\n",
    "  ```\n",
    "\n",
    "**2. 현재 사용 가능한 주요 모델 (2025년 기준)**\n",
    "\n",
    "  - **gpt-4.1**: 최고 성능, 복잡한 작업용\n",
    "  - **gpt-4.1-mini**: 빠른 속도, 비용 효율적\n",
    "  - **gpt-4.1-nano**: 초고속, 최저 비용\n",
    "  - **o3, o4-mini**: 복잡한 추론 작업용\n",
    "  - **gpt-4o**: 멀티모달 (텍스트, 이미지, 오디오)\n",
    "\n",
    "**3. API 응답 구조**\n",
    "\n",
    "  ```json\n",
    "  {\n",
    "    \"id\": \"chatcmpl-...\",\n",
    "    \"object\": \"chat.completion\",\n",
    "    \"model\": \"gpt-4.1-mini\",\n",
    "    \"choices\": [\n",
    "      {\n",
    "        \"message\": {\n",
    "          \"role\": \"assistant\", \n",
    "          \"content\": \"생성된 텍스트\"\n",
    "        }\n",
    "      }\n",
    "    ],\n",
    "    \"usage\": {\n",
    "      \"prompt_tokens\": 10,\n",
    "      \"completion_tokens\": 50,\n",
    "      \"total_tokens\": 60\n",
    "    }\n",
    "  }\n",
    "  ```"
   ]
  },
  {
   "cell_type": "markdown",
   "metadata": {},
   "source": [
    "\n",
    "---\n",
    "\n",
    "## 3. 환경 설정\n",
    "\n",
    "\n",
    "### 🚀 uv 프로젝트 설정\n",
    "- **프로젝트 생성**: `uv init [프로젝트명]`\n",
    "- **가상환경 생성**: `uv venv --python=3.12`\n",
    "- **가상환경 활성화**: `.venv/bin/activate` (Unix) 또는 `.venv\\Scripts\\activate` (Windows)\n",
    "\n",
    "\n",
    "### 📦 패키지 설치\n",
    "```bash\n",
    "# uv 사용 (권장)\n",
    "uv add langchain langchain_openai python-dotenv ipykernel\n",
    "\n",
    "# pip 사용\n",
    "pip install langchain langchain_openai python-dotenv ipykernel\n",
    "```\n",
    "\n",
    "### 🔐 API 키 설정\n",
    "```python\n",
    "# .env 파일 생성\n",
    "OPENAI_API_KEY=your_api_key_here\n",
    "\n",
    "# Python에서 로드\n",
    "from dotenv import load_dotenv\n",
    "import os\n",
    "\n",
    "load_dotenv()\n",
    "OPENAI_API_KEY = os.getenv(\"OPENAI_API_KEY\")\n",
    "```\n"
   ]
  },
  {
   "cell_type": "code",
   "execution_count": 2,
   "metadata": {},
   "outputs": [
    {
     "data": {
      "text/plain": [
       "True"
      ]
     },
     "execution_count": 2,
     "metadata": {},
     "output_type": "execute_result"
    }
   ],
   "source": [
    "# Python에서 로드\n",
    "from dotenv import load_dotenv\n",
    "import os\n",
    "\n",
    "load_dotenv()"
   ]
  },
  {
   "cell_type": "markdown",
   "metadata": {},
   "source": [
    "\n",
    "---\n",
    "\n",
    "## 4. 기본 텍스트 생성\n",
    "\n",
    "### 💡 간단한 질의-응답"
   ]
  },
  {
   "cell_type": "code",
   "execution_count": null,
   "metadata": {},
   "outputs": [
    {
     "name": "stdout",
     "output_type": "stream",
     "text": [
      "파이썬 함수란, 특정 작업을 수행하는 코드의 묶음이에요. 반복해서 사용해야 하는 코드 블록에 이름을 붙여서 필요할 때마다 호출해서 사용할 수 있답니다. 이렇게 하면 코드가 더 깔끔하고, 재사용하기 쉬워져요.\n",
      "\n",
      "예를 들어, 두 수를 더하는 함수를 만들어 볼게요:\n",
      "\n",
      "```python\n",
      "def add(a, b):\n",
      "    return a + b\n",
      "\n",
      "result = add(3, 5)\n",
      "print(result)  # 8\n",
      "```\n",
      "\n",
      "- `def` 키워드로 함수를 정의해요.\n",
      "- `add`는 함수 이름이고, `(a, b)`는 매개변수(입력값)예요.\n",
      "- `return`은 함수가 결과를 돌려주는 역할을 합니다.\n",
      "\n",
      "필요하면 더 궁금한 점 물어보세요!\n"
     ]
    }
   ],
   "source": [
    "from openai import OpenAI\n",
    "\n",
    "# 클라이언트 생성\n",
    "client = OpenAI()\n",
    "\n",
    "# 기본 텍스트 생성\n",
    "response = client.chat.completions.create(\n",
    "    model=\"gpt-4.1-mini\",\n",
    "    messages=[\n",
    "        {\"role\": \"system\", \"content\": \"당신은 친근한 프로그래밍 튜터입니다. \"},\n",
    "        {\"role\": \"user\", \"content\": \"파이썬 함수란 무엇인가요?\"}\n",
    "    ],\n",
    "    temperature=0.7,\n",
    "    max_tokens=300\n",
    ")\n",
    "\n",
    "# 결과 출력\n",
    "print(response.choices[0].message.content)"
   ]
  },
  {
   "cell_type": "markdown",
   "metadata": {},
   "source": [
    "### 🎯 코드 설명기"
   ]
  },
  {
   "cell_type": "code",
   "execution_count": 3,
   "metadata": {},
   "outputs": [
    {
     "name": "stdout",
     "output_type": "stream",
     "text": [
      "이 코드는 **퀵소트(Quick Sort)** 알고리즘을 파이썬으로 구현한 함수입니다. 퀵소트는 대표적인 정렬 알고리즘 중 하나로, 분할 정복(divide and conquer) 방식으로 동작합니다. 코드를 한 줄씩 친절하게 설명해드릴게요.\n",
      "\n",
      "```python\n",
      "def quicksort(arr):\n",
      "```\n",
      "- `quicksort`라는 이름의 함수를 정의합니다.\n",
      "- 입력으로 정렬하고자 하는 리스트 `arr`를 받습니다.\n",
      "\n",
      "```python\n",
      "    if len(arr) <= 1:\n",
      "        return arr\n",
      "```\n",
      "- 리스트의 길이가 1 이하이면, 이미 정렬된 상태이므로 그대로 반환합니다.\n",
      "- 이것이 재귀 호출의 종료 조건입니다.\n",
      "\n",
      "```python\n",
      "    pivot = arr[len(arr) // 2]\n",
      "```\n",
      "- 리스트의 중간 인덱스에 위치한 값을 `pivot`(기준값)으로 선택합니다.\n",
      "- 예를 들어, 리스트 길이가 5라면 `len(arr)//2`는 2가 되어 `arr[2]`가 pivot이 됩니다.\n",
      "\n",
      "```python\n",
      "    left = [x for x in arr if x < pivot]\n",
      "```\n",
      "- 리스트에서 `pivot`보다 작은 값들만 모아 새로운 리스트 `left`를 만듭니다.\n",
      "\n",
      "```python\n",
      "    middle = [x for x in arr if x == pivot]\n",
      "```\n",
      "- 리스트에서 `pivot`과 같은 값들만 모아 `middle` 리스트를 만듭니다.\n",
      "- 중복된 값들도 모두 포함됩니다.\n",
      "\n",
      "```python\n",
      "    right = [x for x in arr if x > pivot]\n",
      "```\n",
      "- 리스트에서 `pivot`보다 큰 값들만 모아 `right` 리스트를 만듭니다.\n",
      "\n",
      "```python\n",
      "    return quicksort(left) + middle + quicksort(right)\n",
      "```\n",
      "- `left` 리스트와 `right` 리스트에 대해 각각 재귀적으로 `quicksort` 함수를 호출하여 정렬합니다.\n",
      "- 정렬된 `left`, `middle`, `right` 리스트를 순서대로 합쳐서 반환합니다.\n",
      "\n",
      "---\n",
      "\n",
      "### 요약\n",
      "- 리스트가 1개 이하이면 그대로 반환합니다.\n",
      "- 중간 값을 기준으로 리스트를 세 부분으로 나눕니다: 작은 값들, 같은 값들, 큰 값들.\n",
      "- 작은 값들과 큰 값들에 대해 재귀적으로 정렬을 수행합니다.\n",
      "- 정렬된 작은 값들 + 같은 값들 + 정렬된 큰 값들을 합쳐서 최종 정렬된 리스트를 만듭니다.\n",
      "\n",
      "이 방식은 평균적으로 매우 빠른 정렬 속도를 보여주며, 간결하고 이해하기 쉬운 코드입니다.\n"
     ]
    }
   ],
   "source": [
    "def explain_code(code):\n",
    "    response = client.chat.completions.create(\n",
    "        model=\"gpt-4.1-mini\",\n",
    "        messages=[\n",
    "            {\"role\": \"system\", \"content\": \"코드를 한국어로 친절하게 설명해주세요.\"},\n",
    "            {\"role\": \"user\", \"content\": f\"이 코드를 설명해주세요:\\n\\n{code}\"}\n",
    "        ],\n",
    "        temperature=0.3\n",
    "    )\n",
    "    return response.choices[0].message.content\n",
    "\n",
    "# 사용 예시\n",
    "code = \"\"\"\n",
    "def quicksort(arr):\n",
    "    if len(arr) <= 1:\n",
    "        return arr\n",
    "    pivot = arr[len(arr) // 2]\n",
    "    left = [x for x in arr if x < pivot]\n",
    "    middle = [x for x in arr if x == pivot]\n",
    "    right = [x for x in arr if x > pivot]\n",
    "    return quicksort(left) + middle + quicksort(right)\n",
    "\"\"\"\n",
    "\n",
    "explanation = explain_code(code)\n",
    "print(explanation)"
   ]
  },
  {
   "cell_type": "markdown",
   "metadata": {
    "id": "-_PyJkbpa4L5"
   },
   "source": [
    "---\n",
    "\n",
    "## 5. 구조화된 출력\n",
    "\n",
    "### 📊 JSON 스키마 활용\n"
   ]
  },
  {
   "cell_type": "code",
   "execution_count": 4,
   "metadata": {},
   "outputs": [
    {
     "name": "stdout",
     "output_type": "stream",
     "text": [
      "{\n",
      "  \"brand\": \"삼성\",\n",
      "  \"model\": \"갤럭시 S24 Ultra\",\n",
      "  \"storage\": \"512GB\",\n",
      "  \"color\": \"티타늄 그레이\",\n",
      "  \"price\": 1698400,\n",
      "  \"category\": \"스마트폰\"\n",
      "}\n"
     ]
    }
   ],
   "source": [
    "import json\n",
    "\n",
    "# 상품 정보 추출 예제\n",
    "response = client.chat.completions.create(\n",
    "    model=\"gpt-4.1\",\n",
    "    messages=[\n",
    "        {\n",
    "            \"role\": \"system\", \n",
    "            \"content\": \"상품 정보를 정확히 추출하여 JSON 형태로 반환합니다.\"\n",
    "        },\n",
    "        {\n",
    "            \"role\": \"user\", \n",
    "            \"content\": \"삼성 갤럭시 S24 Ultra 512GB (티타늄 그레이) - 1,698,400원\"\n",
    "        }\n",
    "    ],\n",
    "    response_format={\n",
    "        \"type\": \"json_schema\",\n",
    "        \"json_schema\": {\n",
    "            \"name\": \"product_schema\",\n",
    "            \"schema\": {\n",
    "                \"type\": \"object\",\n",
    "                \"properties\": {\n",
    "                    \"brand\": {\"type\": \"string\", \"description\": \"브랜드명\"},\n",
    "                    \"model\": {\"type\": \"string\", \"description\": \"모델명\"},\n",
    "                    \"storage\": {\"type\": \"string\", \"description\": \"저장용량\"},\n",
    "                    \"color\": {\"type\": \"string\", \"description\": \"색상\"},\n",
    "                    \"price\": {\"type\": \"number\", \"description\": \"가격(원)\"},\n",
    "                    \"category\": {\"type\": \"string\", \"description\": \"제품 카테고리\"}\n",
    "                },\n",
    "                \"required\": [\"brand\", \"model\", \"price\"]\n",
    "            }\n",
    "        }\n",
    "    }\n",
    ")\n",
    "\n",
    "# JSON 파싱\n",
    "product_data = json.loads(response.choices[0].message.content)\n",
    "print(json.dumps(product_data, indent=2, ensure_ascii=False))"
   ]
  },
  {
   "cell_type": "markdown",
   "metadata": {},
   "source": [
    "---\n",
    "\n",
    "## 6. 매개변수 최적화\n",
    "\n",
    "### ⚙️ 핵심 매개변수 가이드\n",
    "\n",
    "| 매개변수 | 범위 | 용도 | 추천값 |\n",
    "|---------|------|------|--------|\n",
    "| `temperature` | 0~2 | 창의성 조절 | 0.3 (정확성), 0.7 (균형), 1.2 (창의성) |\n",
    "| `top_p` | 0~1 | 응답 다양성 | 0.9 (기본), 0.3 (집중적) |\n",
    "| `max_tokens` | 1~8192+ | 최대 길이 | 작업에 따라 조절 |\n",
    "| `frequency_penalty` | -2~2 | 반복 억제 | 0.3~0.6 |\n",
    "| `presence_penalty` | -2~2 | 새 주제 도입 | 0.3~0.6 |"
   ]
  },
  {
   "cell_type": "markdown",
   "metadata": {},
   "source": [
    "### 🎨 시나리오별 설정\n"
   ]
  },
  {
   "cell_type": "markdown",
   "metadata": {},
   "source": [
    "**1. 정확한 정보 제공**"
   ]
  },
  {
   "cell_type": "code",
   "execution_count": 5,
   "metadata": {},
   "outputs": [
    {
     "name": "stdout",
     "output_type": "stream",
     "text": [
      "파이썬 딕셔너리(dictionary)는 키(key)와 값(value)의 쌍으로 데이터를 저장하는 자료구조입니다. 딕셔너리에서 자주 사용하는 메서드들을 설명드리겠습니다.\n",
      "\n",
      "---\n",
      "\n",
      "### 1. `dict.get(key, default=None)`\n",
      "- **설명**: 딕셔너리에서 `key`에 해당하는 값을 반환합니다. 만약 `key`가 없으면 `default` 값을 반환합니다. `default`를 지정하지 않으면 `None`을 반환합니다.\n",
      "- **예시**:\n",
      "  ```python\n",
      "  d = {'a': 1, 'b': 2}\n",
      "  print(d.get('a'))       # 출력: 1\n",
      "  print(d.get('c', 0))    # 출력: 0\n",
      "  ```\n",
      "\n",
      "---\n",
      "\n",
      "### 2. `dict.keys()`\n",
      "- **설명**: 딕셔너리의 모든 키를 반환합니다. 반환값은 `dict_keys` 객체로, 리스트처럼 반복(iterate)할 수 있습니다.\n",
      "- **예시**:\n",
      "  ```python\n",
      "  d = {'a': 1, 'b': 2}\n",
      "  print(d.keys())         # 출력: dict_keys(['a', 'b'])\n",
      "  ```\n",
      "\n",
      "---\n",
      "\n",
      "### 3. `dict.values()`\n",
      "- **설명**: 딕셔너리의 모든 값을 반환합니다. 반환값은 `dict_values` 객체입니다.\n",
      "- **예시**:\n",
      "  ```python\n",
      "  d = {'a': 1, 'b': 2}\n",
      "  print(d.values())       # 출력: dict_values([1, 2])\n",
      "  ```\n",
      "\n",
      "---\n",
      "\n",
      "### 4. `dict.items()`\n",
      "- **설명**: 딕셔너리의 모든 (키, 값) 쌍을 튜플 형태로 반환합니다. 반환값은 `dict_items` 객체입니다.\n",
      "- **예시**:\n",
      "  ```python\n",
      "  d = {'a': 1, 'b': 2}\n",
      "  print(d.items())        # 출력: dict_items([('a', 1), ('b', 2)])\n",
      "  ```\n",
      "\n",
      "---\n",
      "\n",
      "### 5. `dict.update(other_dict)`\n",
      "- **설명**: 다른 딕셔너리나 키-값 쌍을 딕셔너리에 추가하거나 기존 키의 값을 갱신합니다.\n",
      "- **예시\n"
     ]
    }
   ],
   "source": [
    "response = client.chat.completions.create(\n",
    "    model=\"gpt-4.1-mini\",\n",
    "    messages=[{\"role\": \"user\", \"content\": \"파이썬 딕셔너리 메서드들을 설명해주세요.\"}],\n",
    "    temperature=0.2,  # 낮은 창의성\n",
    "    top_p=0.3,        # 집중적 응답\n",
    "    max_tokens=500\n",
    ")\n",
    "\n",
    "print(response.choices[0].message.content)"
   ]
  },
  {
   "cell_type": "markdown",
   "metadata": {},
   "source": [
    "**2. 창의적 글쓰기**"
   ]
  },
  {
   "cell_type": "code",
   "execution_count": 6,
   "metadata": {},
   "outputs": [
    {
     "name": "stdout",
     "output_type": "stream",
     "text": [
      "창문 너머로 지구가 천천히 돈다. 검푸른 행성 위로 얇은 구름이 흘러가고, 남반구엔 은은한 오로라가 펼쳐진다. 김수진은 여느 때처럼 우주 정거장 3번 모듈의 작은 조리실에서 떠다니는 아침 식사를 준비한다. 튜브에서 짜내는 커피와 바닐라 맛 에너지바는 벌써 익숙하다.\n",
      "\n",
      "“굿모닝, 수진.”  \n",
      "동료인 알렉스가 캡슐형 침낭을 나와 미소 짓는다. 긴 머리가 둥둥 떠다닌다. 서로 손짓으로 인사하며 데이터 패드를 집는다. 오늘은 태양 흑점 관측과 식물 성장 실험 일정이 잡혀 있다.\n",
      "\n",
      "수진은 실험 모듈로 이동한다. 둥둥 떠서 벽을 밀고, 손잡이를 붙잡는다. 무중력 상태의 몸이 아직도 신기하다. 실험대 위에는 작은 토마토 화분이 자라고 있다. ‘지구의 아파트 베란다가 아니라니, 너도 참 대견하다.’ 속으로 중얼거리며 잎사귀에 생긴 이슬을 닦아낸다.\n",
      "\n",
      "알렉스와 함께 망원경 앞에 앉는다. 창밖에는 햇빛이 강렬하게 쏟아지고, 멀리 거대한 흑점들이 보인다. 둘은 결과를 기록하고 지상에 보고서를 보낸다.\n",
      "\n",
      "시간이 흐른다. 수진은 정거장 내 자전거 페달을 밟으며 운동을 한다. 땀이 작은 방울 되어 천천히 날아간다. 친구들과 영상통화도 하고, 좋아하는 음악도 듣는다.\n",
      "\n",
      "저녁이 되면 승무원 모두가 모여 창밖으로 푸른 지구를 바라본다. 말없이, 그냥 오래도록 바라본다.\n",
      "\n",
      "어쩌면 오늘 하루도 특별하지 않지만, 그래도 우주라는 이 고요하고 광활한 곳에서 하루를 보냈다는 사실만으로 가슴 한켠이 따뜻해진다.\n",
      "\n",
      "수진은 잠자리에 들기 전 일기를 쓴다.\n",
      "\n",
      "‘지구는 여전히 아름답고 그립고… 나는 이곳에서 또 하루를 살아냈다.’\n",
      "\n",
      "창문 너머 밤하늘에 별들이 반짝인다—정거장은 또 한 번 지구를 돈다.\n"
     ]
    }
   ],
   "source": [
    "response = client.chat.completions.create(\n",
    "    model=\"gpt-4.1\",\n",
    "    messages=[{\"role\": \"user\", \"content\": \"우주 정거장에서의 하루를 소설로 써주세요.\"}],\n",
    "    temperature=1.1,  # 높은 창의성\n",
    "    top_p=0.9,        # 다양한 표현\n",
    "    max_tokens=1000,\n",
    "    frequency_penalty=0.5  # 반복 방지\n",
    ")\n",
    "\n",
    "print(response.choices[0].message.content)"
   ]
  },
  {
   "cell_type": "markdown",
   "metadata": {},
   "source": [
    "**3. 코드 생성**"
   ]
  },
  {
   "cell_type": "code",
   "execution_count": null,
   "metadata": {},
   "outputs": [],
   "source": [
    "response = client.chat.completions.create(\n",
    "    model=\"gpt-4.1-mini\",\n",
    "    messages=[{\"role\": \"user\", \"content\": \"웹 스크래핑을 위한 Python 함수를 만들어주세요.\"}],\n",
    "    temperature=0.4,  # 약간의 창의성\n",
    "    max_tokens=800\n",
    ")\n",
    "\n",
    "print(response.choices[0].message.content)"
   ]
  },
  {
   "cell_type": "markdown",
   "metadata": {},
   "source": [
    "---\n",
    "\n",
    "## 7. 실습 문제\n",
    "\n",
    "**문제 1: 언어 번역기 만들기**"
   ]
  },
  {
   "cell_type": "code",
   "execution_count": null,
   "metadata": {},
   "outputs": [],
   "source": [
    "def translator(text, target_language):\n",
    "    # TODO: OpenAI API를 사용해서 번역 함수를 완성하세요\n",
    "    pass\n",
    "\n",
    "# 테스트\n",
    "result = translator(\"안녕하세요, 오늘 날씨가 좋네요!\", \"영어\")\n",
    "print(result)  # 예상 출력: Hello, the weather is nice today!"
   ]
  },
  {
   "cell_type": "markdown",
   "metadata": {},
   "source": [
    "**문제 2: 감정 분석기**"
   ]
  },
  {
   "cell_type": "code",
   "execution_count": null,
   "metadata": {},
   "outputs": [],
   "source": [
    "def analyze_sentiment(text):\n",
    "    # TODO: 텍스트의 감정을 분석하여 JSON 형태로 반환하는 함수를 만드세요\n",
    "    # 반환 형태: {\"sentiment\": \"positive/negative/neutral\", \"confidence\": 0.85}\n",
    "    # 힌트: client.chat.completions.create()를 사용하고 response_format으로 JSON 스키마를 정의하세요\n",
    "    pass\n",
    "\n",
    "# 테스트\n",
    "result = analyze_sentiment(\"오늘 시험을 잘 봤어요! 정말 기쁩니다.\")\n",
    "print(result)\n",
    "# 예상 출력: {'sentiment': 'positive', 'confidence': 0.95}\n"
   ]
  },
  {
   "cell_type": "markdown",
   "metadata": {},
   "source": [
    "\n",
    "---\n",
    "\n",
    "## 🔗 유용한 링크\n",
    "- [OpenAI API 공식 문서](https://platform.openai.com/docs)\n",
    "- [OpenAI 토큰 계산기](https://platform.openai.com/tokenizer)\n",
    "- [프롬프트 엔지니어링 가이드](https://platform.openai.com/docs/guides/prompt-engineering)\n",
    "\n",
    "---"
   ]
  },
  {
   "cell_type": "code",
   "execution_count": null,
   "metadata": {},
   "outputs": [],
   "source": [
    "### 실습 7-1 답안\n",
    "\n",
    "def translator(text, target_language):\n",
    "    response = client.chat.completions.create(\n",
    "        model=\"gpt-4.1-mini\",\n",
    "        messages=[\n",
    "            {\"role\": \"user\", \"content\": f\"Translate the following text to {target_language}: {text}\"}\n",
    "        ],\n",
    "        temperature=0.5,\n",
    "        max_tokens=600\n",
    "    )\n",
    "    return response.choices[0].message.content\n",
    "\n",
    "# 테스트\n",
    "result = translator(\"안녕하세요, 오늘 날씨가 좋네요!\", \"영어\")\n",
    "print(result)  # 예상 출력: Hello, the weather is nice today!\n"
   ]
  },
  {
   "cell_type": "code",
   "execution_count": null,
   "metadata": {},
   "outputs": [],
   "source": [
    "### 실습 7-2 답안\n",
    "\n",
    "def analyze_sentiment(text):\n",
    "    # TODO: 텍스트의 감정을 분석하여 JSON 형태로 반환하는 함수를 만드세요\n",
    "    # 반환 형태: {\"sentiment\": \"positive/negative/neutral\", \"confidence\": 0.85}\n",
    "    response = client.chat.completions.create(\n",
    "        model=\"gpt-4.1-mini\",\n",
    "        messages=[\n",
    "            {\"role\": \"user\", \"content\": f\"Analyze the sentiment of this text: {text}\"}\n",
    "        ],\n",
    "        response_format={\n",
    "            \"type\": \"json_schema\",\n",
    "            \"json_schema\": {\n",
    "                \"name\": \"sentiment_schema\",\n",
    "                \"schema\": {\n",
    "                    \"type\": \"object\",\n",
    "                    \"properties\": {\n",
    "                        \"sentiment\": {\n",
    "                            \"type\": \"string\",\n",
    "                            \"enum\": [\"positive\", \"negative\", \"neutral\"],\n",
    "                            \"description\": \"감정 분류\"\n",
    "                        },\n",
    "                        \"confidence\": {\n",
    "                            \"type\": \"number\",\n",
    "                            \"minimum\": 0,\n",
    "                            \"maximum\": 1,\n",
    "                            \"description\": \"분석 신뢰도 (0~1)\"\n",
    "                        }\n",
    "                    },\n",
    "                    \"required\": [\"sentiment\", \"confidence\"]\n",
    "                }\n",
    "            }\n",
    "        },\n",
    "        temperature=0.3\n",
    "    )\n",
    "    return json.loads(response.choices[0].message.content)\n",
    "\n",
    "# 테스트\n",
    "result = analyze_sentiment(\"오늘 시험을 잘 봤어요! 정말 기쁩니다.\")\n",
    "print(result)"
   ]
  }
 ],
 "metadata": {
  "colab": {
   "provenance": []
  },
  "kernelspec": {
   "display_name": "ktds-llm",
   "language": "python",
   "name": "python3"
  },
  "language_info": {
   "codemirror_mode": {
    "name": "ipython",
    "version": 3
   },
   "file_extension": ".py",
   "mimetype": "text/x-python",
   "name": "python",
   "nbconvert_exporter": "python",
   "pygments_lexer": "ipython3",
   "version": "3.12.11"
  }
 },
 "nbformat": 4,
 "nbformat_minor": 0
}
