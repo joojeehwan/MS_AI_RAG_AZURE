{
 "cells": [
  {
   "cell_type": "markdown",
   "metadata": {},
   "source": [
    "# MCP(Model Context Protocol)\n",
    "\n",
    "- **MCP(Model Context Protocol)** 는 LLM 애플리케이션이 데이터 소스와 도구에 연결하는 방법을 표준화하는 오픈 프로토콜임\n",
    "- **USB-C와 같은 개념**으로, 다양한 AI 애플리케이션을 다양한 데이터 소스와 도구에 연결하는 표준화된 방법을 제공함\n",
    "- **연결의 표준화**를 통해 LLM과 외부 시스템 간의 상호 운용성을 향상시킴\n",
    "\n",
    "- **장점:**\n",
    "    - **표준화**: 다양한 LLM 제공업체와 클라이언트 간의 호환성\n",
    "    - **재사용성**: 한 번 만든 서버를 여러 클라이언트에서 사용 가능\n",
    "    - **확장성**: 기존 도구와 서비스와의 손쉬운 통합\n",
    "\n",
    "- **주요 구성 요소:**\n",
    "    - **MCP Host**: Claude Desktop, IDE 등의 LLM 애플리케이션\n",
    "    - **MCP Client**: 서버와 1:1 연결을 유지하는 프로토콜 클라이언트\n",
    "    - **MCP Server**: 특정 기능을 표준화된 프로토콜로 노출하는 경량 프로그램"
   ]
  },
  {
   "cell_type": "markdown",
   "metadata": {},
   "source": [
    "---\n",
    "\n",
    "### 1. **개발 환경 설정** \n",
    "\n",
    "- **시스템 요구사항**\n",
    "    - macOS, Linux, Windows 등 다양한 운영체제에서 지원\n",
    "    - Python 3.10 이상 필요\n",
    "    - `uv` 패키지 매니저 (권장)\n",
    "\n",
    "- **uv 설치**\n",
    "\n",
    "    - **macOS/Linux:**\n",
    "        ```bash\n",
    "        curl -LsSf https://astral.sh/uv/install.sh | sh\n",
    "        ```\n",
    "\n",
    "    - **Windows:**\n",
    "        ```powershell\n",
    "        powershell -ExecutionPolicy ByPass -c \"irm https://astral.sh/uv/install.ps1 | iex\"\n",
    "        ```\n",
    "---\n",
    "\n",
    "### 2. **프로젝트 초기화**\n",
    "\n",
    "- **새 프로젝트 생성**\n",
    "    ```bash\n",
    "    # 새 프로젝트 디렉토리 생성\n",
    "    uv init my-mcp-server\n",
    "    cd my-mcp-server\n",
    "    ```\n",
    "- **가상 환경 생성 및 활성화**\n",
    "    ```bash\n",
    "    uv venv\n",
    "    source .venv/bin/activate  # Linux/macOS\n",
    "    # .venv\\Scripts\\activate    # Windows\n",
    "    ```\n",
    "- **필수 패키지 설치**\n",
    "    ```bash\n",
    "    # MCP SDK와 HTTP 클라이언트 설치\n",
    "    uv add \"mcp[cli]\" httpx\n",
    "    ```"
   ]
  },
  {
   "cell_type": "markdown",
   "metadata": {},
   "source": [
    "---\n",
    "\n",
    "### 3. **MCP의 세 가지 기본 요소**\n",
    "\n",
    "- **Tools (도구)**\n",
    "    - LLM이 실행할 수 있는 함수\n",
    "    - 외부 시스템과의 상호작용, 계산 수행 등\n",
    "    - **모델 제어**: AI 모델이 자동으로 호출 가능\n",
    "\n",
    "- **Resources (리소스)**\n",
    "    - 클라이언트가 읽을 수 있는 데이터와 콘텐츠\n",
    "    - 파일, 데이터베이스, API 응답 등\n",
    "    - **애플리케이션 제어**: 클라이언트가 사용 시점 결정\n",
    "\n",
    "- **Prompts (프롬프트)**\n",
    "    - 재사용 가능한 프롬프트 템플릿과 워크플로우\n",
    "    - 표준화된 LLM 상호작용 제공\n",
    "    - **사용자 제어**: 사용자가 명시적으로 선택\n",
    "\n",
    "- **[참고] 통신 프로토콜**: JSON-RPC 2.0을 사용하여 메시지를 교환\n",
    "    - **Requests**: 응답을 기대하는 메시지\n",
    "    - **Results**: 요청에 대한 성공 응답\n",
    "    - **Errors**: 요청 실패를 나타내는 응답\n",
    "    - **Notifications**: 응답을 기대하지 않는 일방향 메시지"
   ]
  },
  {
   "cell_type": "markdown",
   "metadata": {},
   "source": [
    "---\n",
    "\n",
    "### 4. **MCP 서버 만들기 (실습)**"
   ]
  },
  {
   "cell_type": "markdown",
   "metadata": {},
   "source": [
    "`(1) 기본 서버 구조`\n",
    "- `math_server.py` 파일을 생성하고 다음 코드를 추가\n",
    "\n",
    "    ```python\n",
    "    from mcp.server.fastmcp import FastMCP\n",
    "\n",
    "    mcp = FastMCP(\"Math\")\n",
    "\n",
    "    @mcp.tool()\n",
    "    def add(a: int, b: int) -> int:\n",
    "        \"\"\"Add two numbers\"\"\"\n",
    "        return a + b\n",
    "\n",
    "    @mcp.tool()\n",
    "    def multiply(a: int, b: int) -> int:\n",
    "        \"\"\"Multiply two numbers\"\"\"\n",
    "        return a * b\n",
    "\n",
    "    if __name__ == \"__main__\":\n",
    "        mcp.run()\n",
    "    ```"
   ]
  },
  {
   "cell_type": "markdown",
   "metadata": {},
   "source": [
    "`(2) 서버 실행 및 테스트`\n",
    "\n",
    "- 터미널에서 다음 명령어로 서버를 실행:\n",
    "\n",
    "    ```bash\n",
    "    # 서버 실행\n",
    "    uv run mcp/math_server.py\n",
    "\n",
    "    # 별도 터미널에서 인스펙터로 테스트\n",
    "    uv run mcp dev mcp/math_server.py\n",
    "    ```\n"
   ]
  },
  {
   "cell_type": "markdown",
   "metadata": {},
   "source": [
    "---\n",
    "### **[기타 참고자료]**\n",
    "- [MCP 문서](https://modelcontextprotocol.io/introduction)\n",
    "- [MCP Python SDK](https://github.com/modelcontextprotocol/python-sdk)\n",
    "- [MCP DOC 저장소](https://github.com/langchain-ai/mcpdoc/tree/main)\n",
    "- [llms.txt 허브](https://llmstxthub.com/)\n",
    "---"
   ]
  }
 ],
 "metadata": {
  "kernelspec": {
   "display_name": ".venv",
   "language": "python",
   "name": "python3"
  },
  "language_info": {
   "codemirror_mode": {
    "name": "ipython",
    "version": 3
   },
   "file_extension": ".py",
   "mimetype": "text/x-python",
   "name": "python",
   "nbconvert_exporter": "python",
   "pygments_lexer": "ipython3",
   "version": "3.12.2"
  }
 },
 "nbformat": 4,
 "nbformat_minor": 2
}
