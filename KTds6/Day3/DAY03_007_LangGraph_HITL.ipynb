{
 "cells": [
  {
   "cell_type": "markdown",
   "metadata": {},
   "source": [
    "# 웹 검색 기반 리서치 시스템 - LangGraph HITL (Human-in-the-Loop) 활용\n",
    "\n",
    "---"
   ]
  },
  {
   "cell_type": "markdown",
   "metadata": {},
   "source": [
    "## 환경 설정 및 준비"
   ]
  },
  {
   "cell_type": "markdown",
   "metadata": {},
   "source": [
    "`(1) Env 환경변수`"
   ]
  },
  {
   "cell_type": "code",
   "execution_count": null,
   "metadata": {},
   "outputs": [],
   "source": [
    "from dotenv import load_dotenv\n",
    "load_dotenv()"
   ]
  },
  {
   "cell_type": "markdown",
   "metadata": {},
   "source": [
    "`(2) 기본 라이브러리`"
   ]
  },
  {
   "cell_type": "code",
   "execution_count": null,
   "metadata": {},
   "outputs": [],
   "source": [
    "import os\n",
    "from glob import glob\n",
    "from pprint import pprint\n",
    "import json\n",
    "from datetime import datetime"
   ]
  },
  {
   "cell_type": "markdown",
   "metadata": {},
   "source": [
    "`(3) Langsmith tracing 설정`"
   ]
  },
  {
   "cell_type": "code",
   "execution_count": null,
   "metadata": {},
   "outputs": [],
   "source": [
    "# Langsmith tracing 여부 확인\n",
    "print(f\"LangSmith 추적 상태: {os.getenv('LANGSMITH_TRACING')}\")"
   ]
  },
  {
   "cell_type": "markdown",
   "metadata": {},
   "source": [
    "---\n",
    "\n",
    "## **Human-in-the-Loop (사용자 개입)**\n",
    "\n",
    "- **HITL**는 AI 시스템에 인간의 판단과 전문성을 통합\n",
    "\n",
    "- **Breakpoints**로 특정 단계에서 실행 중지 가능\n",
    "    - **Breakpoint**는 LangGraph의 **체크포인트 기능** 기반으로 작동하는 시스템\n",
    "    - 각 노드 실행 후 그래프의 상태를 **스레드에 저장**하여 나중에도 접근 가능\n",
    "    - 그래프 실행을 특정 지점에서 **일시 중지**하고 사용자 승인 후 재개 가능\n",
    "\n",
    "- 사용자의 **입력**이나 **승인**을 기다리는 패턴으로 작동\n",
    "\n",
    "- 시스템 결정에 대한 **인간의 통제**와 **검증** 보장"
   ]
  },
  {
   "cell_type": "markdown",
   "metadata": {},
   "source": [
    "### **웹 검색 기반 리서치 시스템 구현**\n",
    "\n",
    "- **주제 분석**: 사용자가 제공한 주제를 분석하여 검색 키워드 생성 (사용자가 직접 검토 및 수정 가능)\n",
    "- **웹 검색**: 다양한 소스에서 관련 정보 수집\n",
    "- **보고서 작성**: AI가 종합적인 리서치 보고서 초안 생성\n",
    "- **사용자 검토**: 사용자가 보고서 내용을 검토하고 수정 요청\n",
    "- **최종 완성**: 피드백을 반영한 최종 보고서 생성"
   ]
  },
  {
   "cell_type": "markdown",
   "metadata": {},
   "source": [
    "### (1) 상태 정의 및 도구 설정"
   ]
  },
  {
   "cell_type": "code",
   "execution_count": null,
   "metadata": {},
   "outputs": [],
   "source": [
    "from typing import List, Dict, Annotated, Optional\n",
    "from pydantic import BaseModel, Field\n",
    "from langgraph.graph import StateGraph, START, END, MessagesState\n",
    "from langgraph.checkpoint.memory import InMemorySaver\n",
    "from langgraph.types import interrupt, Command, Send\n",
    "from langchain_openai import ChatOpenAI\n",
    "from langchain_tavily import TavilySearch\n",
    "from langchain_core.messages import BaseMessage, AIMessage, HumanMessage\n",
    "from langchain_core.prompts import ChatPromptTemplate\n",
    "from IPython.display import Image, display\n",
    "import operator\n",
    "\n",
    "# ========================================\n",
    "# State 정의 (Reducer 포함)\n",
    "# ========================================\n",
    "\n",
    "class ResearchState(MessagesState):\n",
    "    topic: str                  # 연구 주제\n",
    "    keywords: List[str]         # 검색 키워드\n",
    "\n",
    "    ready_for_search: bool      # 검색 준비 완료 여부\n",
    "    search_results: Annotated[List[Dict], operator.add]  # Reducer로 Send 결과 자동 병합\n",
    "    report: str                 # 최종 보고서\n",
    "\n",
    "    feedback: str               # 피드백\n",
    "\n",
    "# ========================================\n",
    "# LLM, 도구 설정\n",
    "# ========================================\n",
    "\n",
    "llm = ChatOpenAI(model=\"gpt-4.1-mini\", temperature=0.7)\n",
    "search_tool = TavilySearch(max_results=3)"
   ]
  },
  {
   "cell_type": "markdown",
   "metadata": {},
   "source": [
    "### (2) 그래프 노드 정의 및 연결"
   ]
  },
  {
   "cell_type": "markdown",
   "metadata": {},
   "source": [
    "- **주제 분석**: 사용자가 제공한 주제를 분석하여 검색 키워드 생성"
   ]
  },
  {
   "cell_type": "code",
   "execution_count": null,
   "metadata": {},
   "outputs": [],
   "source": [
    "# pydantic 모델 (구조화된 출력용)\n",
    "class Keywords(BaseModel):\n",
    "    \"\"\"키워드 생성 결과\"\"\"\n",
    "    keywords: List[str] = Field(description=\"생성된 키워드 목록\")\n",
    "    confidence: float = Field(description=\"키워드 신뢰도\")\n",
    "\n",
    "\n",
    "def generate_keywords(state: ResearchState) -> ResearchState:\n",
    "    \"\"\"Pydantic으로 구조화된 키워드 생성\"\"\"\n",
    "    prompt = ChatPromptTemplate.from_messages([\n",
    "        (\"system\", \"전문 리서치 분석가로서 효과적인 검색 키워드를 생성하세요.\"),\n",
    "        (\"human\", \"주제: {topic}\\n3-7개 키워드와 신뢰도(0-1)를 생성하세요.\")\n",
    "    ])\n",
    "    # 구조화된 출력\n",
    "    chain = prompt | llm.with_structured_output(Keywords)\n",
    "    result = chain.invoke({\"topic\": state[\"topic\"]})\n",
    "    \n",
    "    if result.keywords is None or len(result.keywords) == 0:\n",
    "        return {\n",
    "            \"keywords\": [],\n",
    "            \"messages\": [AIMessage(\"키워드 생성에 실패했습니다.\")]\n",
    "        } # type: ignore\n",
    "    \n",
    "    return {\n",
    "        \"keywords\": result.keywords,\n",
    "        \"messages\": [AIMessage(f\"키워드 {len(result.keywords)}개 생성 (신뢰도: {result.confidence:.0%})\")]\n",
    "    } # type: ignore\n",
    "\n",
    "def review_keywords(state: ResearchState) -> ResearchState:\n",
    "    \"\"\"Human-in-the-loop: 키워드 검토\"\"\"\n",
    "    keywords_list = \"\\n\".join([f\"{i+1}. {k}\" for i, k in enumerate(state[\"keywords\"])])\n",
    "\n",
    "    # interrupt 사용자 입력 대기 (HITL) -> 사용자에게 요청 (사용자가 입력한 내용은 user_input에 저장)\n",
    "    user_input = interrupt({\n",
    "        \"keywords\": state[\"keywords\"],\n",
    "        \"question\": f\"키워드 검토:\\n{keywords_list}\\n\\n옵션:\\n- '승인': 현재 키워드 사용\\n- '재생성': 새 키워드 생성\\n- '수정: 키워드1,키워드2,...': 직접 수정\"\n",
    "    })\n",
    "\n",
    "    # 사용자가 입력한 피드백 저장\n",
    "    return {\"feedback\": user_input}\n",
    "\n",
    "def process_keyword_feedback(state: ResearchState) -> ResearchState:\n",
    "    \"\"\"키워드 피드백 처리 - 키워드 직접 수정\"\"\"\n",
    "    feedback = state.get(\"feedback\", \"\").strip()\n",
    "    \n",
    "    if not feedback or \"승인\" in feedback.lower():\n",
    "        # 승인된 경우\n",
    "        return {\n",
    "            \"keywords\": state[\"keywords\"], \n",
    "            \"messages\": [AIMessage(\"키워드가 승인되었습니다.\")]\n",
    "        }  # type: ignore\n",
    "\n",
    "    elif \"수정:\" in feedback:\n",
    "        # 직접 수정된 키워드 추출\n",
    "        try:\n",
    "            new_keywords_str = feedback.split(\"수정:\", 1)[1].strip()\n",
    "            new_keywords = [kw.strip() for kw in new_keywords_str.split(\",\") if kw.strip()]\n",
    "            return {\n",
    "                \"keywords\": new_keywords,\n",
    "                \"messages\": [AIMessage(f\"키워드가 수정되었습니다: {', '.join(new_keywords)}\")]\n",
    "            }  # type: ignore\n",
    "        except:\n",
    "            return {\n",
    "                \"keywords\": [],\n",
    "                \"messages\": [AIMessage(\"키워드 형식이 올바르지 않습니다. 재생성합니다.\")]\n",
    "            }  # type: ignore\n",
    "\n",
    "    else:\n",
    "        # 재생성 또는 기타 경우\n",
    "        return {\n",
    "            \"keywords\": [],\n",
    "            \"messages\": [AIMessage(\"키워드를 재생성합니다.\")]\n",
    "        }  # type: ignore"
   ]
  },
  {
   "cell_type": "markdown",
   "metadata": {},
   "source": [
    "`(1) 주제 분석 테스트를 위한 워크플로우 정의`"
   ]
  },
  {
   "cell_type": "code",
   "execution_count": null,
   "metadata": {},
   "outputs": [],
   "source": [
    "# ===== 워크플로우 그래프 구성 =====\n",
    "def should_continue_after_review(state: ResearchState) -> str:\n",
    "    \"\"\"검토 후 다음 단계 결정\"\"\"\n",
    "    feedback = state.get(\"feedback\", \"\").strip().lower()\n",
    "\n",
    "    # 피드백 유형에 따른 다음 단계 결정\n",
    "    if not feedback or \"승인\" in feedback:\n",
    "        return \"approved\"    # 승인된 경우\n",
    "\n",
    "    elif \"수정:\" in feedback:\n",
    "        return \"process_feedback\"    # 직접 수정된 키워드 처리\n",
    "\n",
    "    else:\n",
    "        return \"regenerate\"  # 재생성\n",
    "\n",
    "# StateGraph 생성\n",
    "workflow = StateGraph(ResearchState)\n",
    "\n",
    "# 노드 추가\n",
    "workflow.add_node(\"analyze_topic\", generate_keywords)\n",
    "workflow.add_node(\"review_keywords\", review_keywords)\n",
    "workflow.add_node(\"process_feedback\", process_keyword_feedback)\n",
    "\n",
    "# 엣지 연결\n",
    "workflow.add_edge(START, \"analyze_topic\")\n",
    "workflow.add_edge(\"analyze_topic\", \"review_keywords\")\n",
    "\n",
    "# 조건부 엣지\n",
    "workflow.add_conditional_edges(\n",
    "    \"review_keywords\",\n",
    "    should_continue_after_review,\n",
    "    {\n",
    "        \"process_feedback\": \"process_feedback\",\n",
    "        \"regenerate\": \"analyze_topic\",  # 재생성시 다시 키워드 생성으로\n",
    "        \"approved\": END\n",
    "    }\n",
    ")\n",
    "\n",
    "# 피드백 처리 후 종료\n",
    "workflow.add_edge(\"process_feedback\", END)\n",
    "\n",
    "# 그래프 컴파일\n",
    "graph = workflow.compile(checkpointer=InMemorySaver())\n",
    "\n",
    "# 상태 그래프 시각화\n",
    "display(Image(graph.get_graph().draw_mermaid_png()))"
   ]
  },
  {
   "cell_type": "markdown",
   "metadata": {},
   "source": [
    "`(2) 워크플로우 시작`\n",
    "\n",
    "- **interrupt**까지 실행"
   ]
  },
  {
   "cell_type": "code",
   "execution_count": null,
   "metadata": {},
   "outputs": [],
   "source": [
    "# 초기 상태 설정\n",
    "initial_state = {\n",
    "    \"topic\": \"인공지능 기술 발전\"\n",
    "}\n",
    "\n",
    "# 스레드 설정\n",
    "config = {\"configurable\": {\"thread_id\": f\"test_thread_1\"}}\n",
    "\n",
    "\n",
    "# 워크플로우 실행\n",
    "# 첫 번째 실행 - 중단점에서 실행을 멈춤\n",
    "for event in graph.stream(initial_state, config=config):\n",
    "    print(f\"Event: {event}\")"
   ]
  },
  {
   "cell_type": "markdown",
   "metadata": {},
   "source": [
    "`(3) 현재 상태 확인`\n",
    "\n",
    "- **get_state** 함수로 현재 상태 확인 가능\n"
   ]
  },
  {
   "cell_type": "code",
   "execution_count": null,
   "metadata": {},
   "outputs": [],
   "source": [
    "# 현재 상태 - 그래프 체크포인트 확인\n",
    "current_state = graph.get_state(config)\n",
    "\n",
    "print(f\"\\n현재 상태: {current_state.values}\")\n",
    "print(f\"대기 중인 interrupt: {current_state.tasks}\")"
   ]
  },
  {
   "cell_type": "code",
   "execution_count": null,
   "metadata": {},
   "outputs": [],
   "source": [
    "# 다음에 실행될 노드를 확인 \n",
    "current_state.next"
   ]
  },
  {
   "cell_type": "code",
   "execution_count": null,
   "metadata": {},
   "outputs": [],
   "source": [
    "# 대기 중인 interrupt 확인\n",
    "task = current_state.tasks[0]\n",
    "print(task.id)\n",
    "print(task.name)\n",
    "pprint(task.interrupts[0].value)"
   ]
  },
  {
   "cell_type": "markdown",
   "metadata": {},
   "source": [
    "`(4) 사용자 개입 (HITL): 거부`\n",
    "\n",
    "- 사용자가 승인을 해주지 않는 경우, 피드백을 통해 다시 생성\n",
    "- **Command** 함수로 사용자 피드백 전달"
   ]
  },
  {
   "cell_type": "code",
   "execution_count": null,
   "metadata": {},
   "outputs": [],
   "source": [
    "from langgraph.types import Command\n",
    "\n",
    "# 사용자 피드백 제공 (거부: 재생성 요청)\n",
    "human_feedback = \"재생성\"\n",
    "\n",
    "print(f\"config: \", config)\n",
    "\n",
    "# 사용자 입력으로 그래프 재개 (Command 사용)\n",
    "for event in graph.stream(Command(resume=human_feedback), config=config):\n",
    "    print(f\"Event: {event}\")"
   ]
  },
  {
   "cell_type": "code",
   "execution_count": null,
   "metadata": {},
   "outputs": [],
   "source": [
    "# 현재 상태 - 그래프 체크포인트 확인\n",
    "current_state = graph.get_state(config)\n",
    "\n",
    "print(f\"\\n현재 상태: {current_state.values}\")\n",
    "print(f\"대기 중인 interrupt: {current_state.tasks}\")"
   ]
  },
  {
   "cell_type": "code",
   "execution_count": null,
   "metadata": {},
   "outputs": [],
   "source": [
    "# 다음에 실행될 노드를 확인 \n",
    "current_state.next"
   ]
  },
  {
   "cell_type": "code",
   "execution_count": null,
   "metadata": {},
   "outputs": [],
   "source": [
    "# 대기 중인 interrupt 확인\n",
    "task = current_state.tasks[0]\n",
    "print(task.id)\n",
    "print(task.name)\n",
    "pprint(task.interrupts[0].value)"
   ]
  },
  {
   "cell_type": "markdown",
   "metadata": {},
   "source": [
    "`(5) 사용자 개입 (HITL): 수정`\n",
    "\n",
    "- 사용자가 승인을 해주지 않는 경우, 피드백을 통해 다시 생성\n",
    "- **Command** 함수로 사용자 피드백 전달"
   ]
  },
  {
   "cell_type": "code",
   "execution_count": null,
   "metadata": {},
   "outputs": [],
   "source": [
    "from langgraph.types import Command\n",
    "\n",
    "# 사용자 피드백 제공 (거부: 직접 키워드 수정)\n",
    "human_feedback = \"수정: 생성형 AI, LLM 발전\"\n",
    "\n",
    "print(f\"config: \", config)\n",
    "\n",
    "# 사용자 입력으로 그래프 재개 (Command 사용)\n",
    "for event in graph.stream(Command(resume=human_feedback), config=config):\n",
    "    print(f\"Event: {event}\")"
   ]
  },
  {
   "cell_type": "code",
   "execution_count": null,
   "metadata": {},
   "outputs": [],
   "source": [
    "# 현재 상태 - 그래프 체크포인트 확인\n",
    "current_state = graph.get_state(config)\n",
    "\n",
    "print(f\"\\n현재 상태: {current_state.values}\")\n",
    "print(f\"대기 중인 interrupt: {current_state.tasks}\")"
   ]
  },
  {
   "cell_type": "code",
   "execution_count": null,
   "metadata": {},
   "outputs": [],
   "source": [
    "# 다음에 실행될 노드를 확인 \n",
    "current_state.next"
   ]
  },
  {
   "cell_type": "markdown",
   "metadata": {},
   "source": [
    "`(5) 사용자 개입 (HITL): 승인`\n",
    "\n",
    "- 사용자가 '승인'을 해서 최종 답변을 생성하고 종료"
   ]
  },
  {
   "cell_type": "code",
   "execution_count": null,
   "metadata": {},
   "outputs": [],
   "source": [
    "# 초기 상태 설정\n",
    "initial_state = {\n",
    "    \"topic\": \"기후변화 위기\"\n",
    "}\n",
    "\n",
    "# 스레드 설정\n",
    "config = {\"configurable\": {\"thread_id\": f\"test_thread_2\"}}\n",
    "\n",
    "\n",
    "# 워크플로우 실행\n",
    "# 첫 번째 실행 - 중단점에서 실행을 멈춤\n",
    "for event in graph.stream(initial_state, config=config):\n",
    "    print(f\"Event: {event}\")"
   ]
  },
  {
   "cell_type": "code",
   "execution_count": null,
   "metadata": {},
   "outputs": [],
   "source": [
    "# 현재 상태 - 그래프 체크포인트 확인\n",
    "current_state = graph.get_state(config)\n",
    "\n",
    "print(f\"\\n현재 상태: {current_state.values}\")\n",
    "print(f\"대기 중인 interrupt: {current_state.tasks}\")"
   ]
  },
  {
   "cell_type": "code",
   "execution_count": null,
   "metadata": {},
   "outputs": [],
   "source": [
    "# 피드백 요청 메시지 출력\n",
    "print(current_state.tasks[0].interrupts[0].value.get(\"question\"))"
   ]
  },
  {
   "cell_type": "code",
   "execution_count": null,
   "metadata": {},
   "outputs": [],
   "source": [
    "from langgraph.types import Command\n",
    "\n",
    "# 사용자 피드백 제공 (승인 문자열을 사용)\n",
    "human_feedback = \"승인\"\n",
    "\n",
    "# 사용자 입력으로 그래프 재개\n",
    "for event in graph.stream(Command(resume=human_feedback), config=config):\n",
    "    print(f\"Event: {event}\")"
   ]
  },
  {
   "cell_type": "code",
   "execution_count": null,
   "metadata": {},
   "outputs": [],
   "source": [
    "# 현재 상태 - 그래프 체크포인트 확인\n",
    "current_state = graph.get_state(config)\n",
    "\n",
    "print(f\"\\n현재 상태: {current_state.values}\")\n",
    "print(f\"대기 중인 interrupt: {current_state.tasks}\")"
   ]
  },
  {
   "cell_type": "code",
   "execution_count": null,
   "metadata": {},
   "outputs": [],
   "source": [
    "# 다음 노드 확인\n",
    "current_state.next"
   ]
  },
  {
   "cell_type": "code",
   "execution_count": null,
   "metadata": {},
   "outputs": [],
   "source": [
    "# 현재 상태 출력\n",
    "pprint(current_state.values)"
   ]
  },
  {
   "cell_type": "markdown",
   "metadata": {},
   "source": [
    "- **웹 검색**: 다양한 소스에서 관련 정보 수집\n",
    "\n",
    "    - 맵-리듀스 패턴으로 병렬 검색 수행\n",
    "    - `Send` 사용"
   ]
  },
  {
   "cell_type": "code",
   "execution_count": null,
   "metadata": {},
   "outputs": [],
   "source": [
    "results = search_tool.invoke(\"기후변화\")\n",
    "results"
   ]
  },
  {
   "cell_type": "code",
   "execution_count": null,
   "metadata": {},
   "outputs": [],
   "source": [
    "# ===== 검색 노드 =====\n",
    "def ready_to_search(state: ResearchState) -> ResearchState:\n",
    "    \"\"\"검색 준비\"\"\"\n",
    "    return {\"ready_for_search\": True}\n",
    "\n",
    "def dispatch_searches(state: ResearchState) -> List[Send]:\n",
    "    \"\"\"병렬 검색 디스패치\"\"\"\n",
    "    return [Send(\"search_one\", {\"keyword\": kw}) for kw in state[\"keywords\"]]\n",
    "\n",
    "def search_one(state: Dict) -> ResearchState:\n",
    "    \"\"\"개별 검색 실행\"\"\"\n",
    "    keyword = state[\"keyword\"]\n",
    "    try:\n",
    "        results = search_tool.invoke(keyword)\n",
    "        data = results.get(\"results\", results) if isinstance(results, dict) else results\n",
    "        return {\n",
    "            \"search_results\": [{\n",
    "                \"keyword\": keyword,\n",
    "                \"data\": data if isinstance(data, list) else [],\n",
    "                \"success\": True\n",
    "            }]\n",
    "        }  # type: ignore\n",
    "    except Exception as e:\n",
    "        return {\n",
    "            \"search_results\": [{\n",
    "                \"keyword\": keyword,\n",
    "                \"error\": str(e),\n",
    "                \"success\": False\n",
    "            }]\n",
    "        } # type: ignore\n",
    "\n",
    "\n",
    "# ===== 보고서 생성  =====\n",
    "class Report(BaseModel):\n",
    "    \"\"\"보고서 모델\"\"\"\n",
    "    summary: str = Field(description=\"주제 요약\")\n",
    "    findings: List[str] = Field(description=\"주요 발견사항 리스트 (출처명, 링크 등을 포함)\")\n",
    "    recommendations: List[str] = Field(description=\"제언 리스트\")\n",
    "\n",
    "def generate_report(state: ResearchState) -> ResearchState:\n",
    "    \"\"\"LLM을 사용한 보고서 생성\"\"\"\n",
    "\n",
    "    results = state.get(\"search_results\", [])\n",
    "\n",
    "    if not results:\n",
    "        return {\"report\": f\"# {state['topic']}\\n\\n❌ 검색 결과가 없습니다.\"}\n",
    "\n",
    "    prompt = ChatPromptTemplate.from_messages([\n",
    "        (\"system\", \"당신은 리서치 전문가입니다. 검색 결과를 분석해 간결한 보고서를 작성하세요. 반드시 출처명과 링크를 명확히 표기하고, 신뢰할 수 없는 정보는 포함하지 마세요.\"),\n",
    "        (\"human\", \"주제: {topic}\\n\\n검색 결과:\\n{content}\")\n",
    "    ])\n",
    "    \n",
    "    try:\n",
    "        chain = prompt | llm.with_structured_output(Report)\n",
    "        report = chain.invoke({\n",
    "            \"topic\": state[\"topic\"],\n",
    "            \"content\": str(results)[:12000]  # 토큰 제한\n",
    "        })\n",
    "        \n",
    "        # 인라인 마크다운 생성\n",
    "        markdown = f\"\"\"# {state[\"topic\"]}\n",
    "\n",
    "## 📌 요약\n",
    "{report.summary}\n",
    "\n",
    "## 🔍 주요 발견사항\n",
    "{chr(10).join(f\"{i}. {finding}\" for i, finding in enumerate(report.findings, 1))}\n",
    "\n",
    "## 💡 제언\n",
    "{chr(10).join(f\"{i}. {rec}\" for i, rec in enumerate(report.recommendations, 1))}\n",
    "\n",
    "---\n",
    "*생성: {datetime.now().strftime('%Y-%m-%d %H:%M')}*\n",
    "*검색: {sum(1 for r in state['search_results'] if r.get('success'))}개 성공*\"\"\"\n",
    "        \n",
    "        return {\"report\": markdown}\n",
    "        \n",
    "    except Exception as e:\n",
    "        return {\"report\": f\"# {state['topic']}\\n\\n⚠️ 보고서 생성에 실패했습니다: {str(e)}\"}"
   ]
  },
  {
   "cell_type": "code",
   "execution_count": null,
   "metadata": {},
   "outputs": [],
   "source": [
    "# ===== 워크플로우 구성 =====\n",
    "# 1. ready_to_search (검색 준비)\n",
    "# 2. dispatch_searches (병렬 검색 시작)\n",
    "# 3. search_one (개별 검색 - 병렬)\n",
    "# 4. generate_report (검색 결과 취합/리듀스) \n",
    "\n",
    "workflow = StateGraph(ResearchState)\n",
    "\n",
    "# 노드 추가\n",
    "workflow.add_node(\"analyze_topic\", generate_keywords)\n",
    "workflow.add_node(\"review_keywords\", review_keywords)\n",
    "workflow.add_node(\"process_feedback\", process_keyword_feedback)\n",
    "\n",
    "workflow.add_node(\"ready_to_search\", ready_to_search)\n",
    "workflow.add_node(\"search_one\", search_one)  # Send의 타겟 노드\n",
    "workflow.add_node(\"generate_report\", generate_report)\n",
    "\n",
    "# 엣지 연결\n",
    "workflow.add_edge(START, \"analyze_topic\")\n",
    "workflow.add_edge(\"analyze_topic\", \"review_keywords\")\n",
    "\n",
    "# 키워드 검토 후 조건부 라우팅\n",
    "workflow.add_conditional_edges(\n",
    "    \"review_keywords\",\n",
    "    should_continue_after_review,\n",
    "    {\n",
    "        \"process_feedback\": \"process_feedback\",\n",
    "        \"regenerate\": \"analyze_topic\",\n",
    "        \"approved\": \"ready_to_search\"\n",
    "    }\n",
    ")\n",
    "\n",
    "# 피드백 처리 후 검색\n",
    "workflow.add_edge(\"process_feedback\", \"ready_to_search\")\n",
    "\n",
    "# Send 맵-리듀스 연결\n",
    "workflow.add_conditional_edges(\n",
    "    \"ready_to_search\",\n",
    "    dispatch_searches,\n",
    "    [\"search_one\"]\n",
    ")\n",
    "workflow.add_edge(\"search_one\", \"generate_report\")\n",
    "\n",
    "# 분석 완료 후 종료\n",
    "workflow.add_edge(\"generate_report\", END)\n",
    "\n",
    "# 컴파일\n",
    "graph = workflow.compile(checkpointer=InMemorySaver())\n",
    "\n",
    "# 시각화\n",
    "display(Image(graph.get_graph().draw_mermaid_png()))"
   ]
  },
  {
   "cell_type": "code",
   "execution_count": null,
   "metadata": {},
   "outputs": [],
   "source": [
    "# 초기 상태 설정\n",
    "initial_state = {\n",
    "    \"topic\": \"2025 한국의 AI 산업\"\n",
    "}\n",
    "\n",
    "# 스레드 설정\n",
    "config = {\"configurable\": {\"thread_id\": f\"test_thread_1\"}}\n",
    "\n",
    "\n",
    "# 워크플로우 실행\n",
    "# 첫 번째 실행 - 중단점에서 실행을 멈춤\n",
    "for event in graph.stream(initial_state, config=config):\n",
    "    print(f\"Event: {event}\")"
   ]
  },
  {
   "cell_type": "code",
   "execution_count": null,
   "metadata": {},
   "outputs": [],
   "source": [
    "from langgraph.types import Command\n",
    "\n",
    "# 사용자 피드백 제공 (승인 문자열을 사용)\n",
    "human_feedback = \"승인\"\n",
    "\n",
    "# 사용자 입력으로 그래프 재개\n",
    "for event in graph.stream(Command(resume=human_feedback), config=config): \n",
    "    print(f\"Event: {event}\")"
   ]
  },
  {
   "cell_type": "code",
   "execution_count": null,
   "metadata": {},
   "outputs": [],
   "source": [
    "# 마지막 상태 출력\n",
    "final_state = graph.get_state(config)\n",
    "\n",
    "final_state.values"
   ]
  },
  {
   "cell_type": "code",
   "execution_count": null,
   "metadata": {},
   "outputs": [],
   "source": [
    "# 최종 검색 결과 출력\n",
    "print(final_state.values.get(\"report\", []))"
   ]
  },
  {
   "cell_type": "markdown",
   "metadata": {},
   "source": [
    "- **사용자 검토**: 사용자가 보고서 내용을 검토하고 수정 요청"
   ]
  },
  {
   "cell_type": "code",
   "execution_count": null,
   "metadata": {},
   "outputs": [],
   "source": [
    "# ===== 보고서 검토 노드 (Human-in-the-loop) =====\n",
    "\n",
    "def review_report(state: ResearchState) -> ResearchState:\n",
    "    \"\"\"Human-in-the-loop: 보고서 검토\"\"\"\n",
    "    \n",
    "    # 보고서 미리보기 (500자로 제한)\n",
    "    preview = state[\"report\"][:500] + \"...\" if len(state[\"report\"]) > 500 else state[\"report\"]\n",
    "    \n",
    "    # 사용자 입력 대기\n",
    "    user_input = interrupt({\n",
    "        \"report_preview\": preview,\n",
    "        \"instruction\": \"보고서를 검토하세요. '승인' 또는 구체적인 수정 요청을 입력하세요:\"\n",
    "    })\n",
    "    \n",
    "    return Command(\n",
    "        goto=END if \"승인\" in user_input else \"revise_report\",\n",
    "        update={\"feedback\": user_input}\n",
    "    )  # type: ignore"
   ]
  },
  {
   "cell_type": "markdown",
   "metadata": {},
   "source": [
    "- **최종 완성**: 피드백을 반영한 최종 보고서 생성"
   ]
  },
  {
   "cell_type": "code",
   "execution_count": null,
   "metadata": {},
   "outputs": [],
   "source": [
    "# ===== 보고서 수정 노드 =====\n",
    "def revise_report(state: ResearchState) -> ResearchState:\n",
    "    \"\"\"피드백 처리 및 보고서 수정\"\"\"\n",
    "    \n",
    "    feedback = state.get(\"feedback\", \"\").strip()\n",
    "    \n",
    "    # 승인인 경우 바로 완료\n",
    "    if \"승인\" in feedback.lower() or \"approve\" in feedback.lower():\n",
    "        return {\n",
    "            \"messages\": [AIMessage(\"✅ 보고서가 승인되었습니다!\")]\n",
    "        }  # type: ignore\n",
    "\n",
    "    # 수정 요청 처리\n",
    "    if feedback:\n",
    "\n",
    "        # 구조화된 프롬프트 템플릿\n",
    "        revision_prompt = ChatPromptTemplate.from_messages([\n",
    "            (\"system\", \"\"\"당신은 전문적인 보고서 편집자입니다.\n",
    "    사용자의 피드백을 반영하여 보고서를 수정하세요.\n",
    "\n",
    "    \n",
    "    ## 수정 원칙:\n",
    "    1. 원본 보고서의 구조와 형식 유지\n",
    "    2. 사용자 요청사항을 정확히 반영\n",
    "    3. 전문적이고 명확한 문체 유지\n",
    "    4. 마크다운 형식 준수\"\"\"),\n",
    "            (\"human\", \"\"\"## 현재 보고서:\n",
    "    {report}\n",
    "\n",
    "    ## 수정 요청사항:\n",
    "    {feedback}\n",
    "\n",
    "    위 요청사항을 반영하여 보고서를 수정해주세요.\"\"\")\n",
    "        ])\n",
    "        \n",
    "        try:\n",
    "            # LLM 체인 실행\n",
    "            chain = revision_prompt | llm\n",
    "            response = chain.invoke({\n",
    "                \"report\": state[\"report\"],\n",
    "                \"feedback\": feedback\n",
    "            })\n",
    "            \n",
    "            # 수정된 보고서 반환\n",
    "            return {\n",
    "                \"report\": response.content,\n",
    "                \"feedback\": \"\",  # 피드백 초기화\n",
    "                \"messages\": [AIMessage(f\"📝 보고서가 수정되었습니다: {feedback[:50]}...\")]\n",
    "            }  # type: ignore\n",
    "\n",
    "        except Exception as e:\n",
    "            return {\n",
    "                \"messages\": [AIMessage(f\"❌ 수정 중 오류 발생: {str(e)[:100]}\")]\n",
    "            }  # type: ignore\n",
    "    \n",
    "    # 피드백이 없는 경우\n",
    "    return {\n",
    "        \"messages\": [AIMessage(\"⚠️ 피드백이 없어 보고서를 그대로 유지합니다.\")]\n",
    "    }  # type: ignore"
   ]
  },
  {
   "cell_type": "code",
   "execution_count": null,
   "metadata": {},
   "outputs": [],
   "source": [
    "# ===== 워크플로우 구성 =====\n",
    "# 1. ready_to_search (검색 준비)\n",
    "# 2. dispatch_searches (병렬 검색 시작)\n",
    "# 3. search_one (개별 검색 - 병렬)\n",
    "# 4. generate_report (검색 결과 취합/리듀스) \n",
    "# 5. review_report (보고서 검토)\n",
    "# 6. revise_report (보고서 수정)\n",
    "\n",
    "workflow = StateGraph(ResearchState)\n",
    "\n",
    "# 노드 추가\n",
    "workflow.add_node(\"analyze_topic\", generate_keywords)\n",
    "workflow.add_node(\"review_keywords\", review_keywords)\n",
    "workflow.add_node(\"process_feedback\", process_keyword_feedback)\n",
    "\n",
    "workflow.add_node(\"ready_to_search\", ready_to_search)\n",
    "workflow.add_node(\"search_one\", search_one)  # Send의 타겟 노드\n",
    "workflow.add_node(\"generate_report\", generate_report)\n",
    "\n",
    "workflow.add_node(\"review_report\", review_report)\n",
    "workflow.add_node(\"revise_report\", revise_report)\n",
    "\n",
    "# 엣지 연결\n",
    "workflow.add_edge(START, \"analyze_topic\")\n",
    "workflow.add_edge(\"analyze_topic\", \"review_keywords\")\n",
    "\n",
    "# 키워드 검토 후 조건부 라우팅\n",
    "workflow.add_conditional_edges(\n",
    "    \"review_keywords\",\n",
    "    should_continue_after_review,\n",
    "    {\n",
    "        \"process_feedback\": \"process_feedback\",\n",
    "        \"regenerate\": \"analyze_topic\",\n",
    "        \"approved\": \"ready_to_search\"\n",
    "    }\n",
    ")\n",
    "\n",
    "# 피드백 처리 후 검색\n",
    "workflow.add_edge(\"process_feedback\", \"ready_to_search\")\n",
    "\n",
    "# Send 맵-리듀스 연결\n",
    "workflow.add_conditional_edges(\n",
    "    \"ready_to_search\",\n",
    "    dispatch_searches,\n",
    "    [\"search_one\"]\n",
    ")\n",
    "workflow.add_edge(\"search_one\", \"generate_report\")\n",
    "\n",
    "\n",
    "# 보고서 생성 후 검토\n",
    "workflow.add_edge(\"generate_report\", \"review_report\")\n",
    "workflow.add_edge(\"revise_report\", \"review_report\")\n",
    "\n",
    "# 컴파일\n",
    "graph = workflow.compile(checkpointer=InMemorySaver())\n",
    "\n",
    "# 시각화\n",
    "display(Image(graph.get_graph().draw_mermaid_png()))"
   ]
  },
  {
   "cell_type": "code",
   "execution_count": null,
   "metadata": {},
   "outputs": [],
   "source": [
    "# 초기 상태 설정\n",
    "initial_state = {\n",
    "    \"topic\": \"LangGraph와 LlamaIndex 비교\"\n",
    "}\n",
    "    \n",
    "# 스레드 설정\n",
    "config = {\"configurable\": {\"thread_id\": f\"test_thread_1\"}}\n",
    "\n",
    "\n",
    "# 워크플로우 실행\n",
    "# 첫 번째 실행 - 중단점에서 실행을 멈춤\n",
    "for event in graph.stream(initial_state, config=config):\n",
    "    print(f\"Event: {event}\")"
   ]
  },
  {
   "cell_type": "code",
   "execution_count": null,
   "metadata": {},
   "outputs": [],
   "source": [
    "from langgraph.types import Command\n",
    "\n",
    "# 사용자 피드백 제공 (승인 문자열을 사용)\n",
    "human_feedback = \"승인\"\n",
    "\n",
    "# 사용자 입력으로 그래프 재개\n",
    "for event in graph.stream(Command(resume=human_feedback), config=config): \n",
    "    print(f\"Event: {event}\")"
   ]
  },
  {
   "cell_type": "code",
   "execution_count": null,
   "metadata": {},
   "outputs": [],
   "source": [
    "# 상태 출력\n",
    "current_state = graph.get_state(config)\n",
    "\n",
    "current_state.values"
   ]
  },
  {
   "cell_type": "code",
   "execution_count": null,
   "metadata": {},
   "outputs": [],
   "source": [
    "# 다음 노드 출력\n",
    "current_state.next"
   ]
  },
  {
   "cell_type": "code",
   "execution_count": null,
   "metadata": {},
   "outputs": [],
   "source": [
    "from langgraph.types import Command\n",
    "\n",
    "# 사용자 피드백 제공 \n",
    "human_feedback = \"비교표를 만들어서 추가하세요.\"\n",
    "\n",
    "# 사용자 입력으로 그래프 재개\n",
    "for event in graph.stream(Command(resume=human_feedback), config=config): \n",
    "    print(f\"Event: {event}\")"
   ]
  },
  {
   "cell_type": "code",
   "execution_count": null,
   "metadata": {},
   "outputs": [],
   "source": [
    "# 상태 출력\n",
    "current_state = graph.get_state(config)\n",
    "print(current_state.values.get(\"report\", []))"
   ]
  },
  {
   "cell_type": "code",
   "execution_count": null,
   "metadata": {},
   "outputs": [],
   "source": [
    "from langgraph.types import Command\n",
    "\n",
    "# 사용자 피드백 제공 (승인 문자열을 사용)\n",
    "human_feedback = \"승인\"\n",
    "\n",
    "# 사용자 입력으로 그래프 재개\n",
    "for event in graph.stream(Command(resume=human_feedback), config=config): \n",
    "    print(f\"Event: {event}\")"
   ]
  },
  {
   "cell_type": "code",
   "execution_count": null,
   "metadata": {},
   "outputs": [],
   "source": [
    "# 마지막 상태 출력\n",
    "final_state = graph.get_state(config)\n",
    "\n",
    "# 최종 검색 결과 출력\n",
    "print(final_state.values.get(\"report\", []))"
   ]
  },
  {
   "cell_type": "code",
   "execution_count": null,
   "metadata": {},
   "outputs": [],
   "source": [
    "# 다음 노드 출력\n",
    "final_state.next"
   ]
  }
 ],
 "metadata": {
  "kernelspec": {
   "display_name": "kt-ds",
   "language": "python",
   "name": "python3"
  },
  "language_info": {
   "codemirror_mode": {
    "name": "ipython",
    "version": 3
   },
   "file_extension": ".py",
   "mimetype": "text/x-python",
   "name": "python",
   "nbconvert_exporter": "python",
   "pygments_lexer": "ipython3",
   "version": "3.12.11"
  }
 },
 "nbformat": 4,
 "nbformat_minor": 2
}
