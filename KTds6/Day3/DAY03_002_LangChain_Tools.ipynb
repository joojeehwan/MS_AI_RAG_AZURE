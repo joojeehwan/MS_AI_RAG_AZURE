{
 "cells": [
  {
   "cell_type": "markdown",
   "metadata": {},
   "source": [
    "#   LangChain Tool 활용\n",
    "\n",
    "---"
   ]
  },
  {
   "cell_type": "markdown",
   "metadata": {},
   "source": [
    "## 환경 설정 및 준비"
   ]
  },
  {
   "cell_type": "markdown",
   "metadata": {},
   "source": [
    "`(1) Env 환경변수`"
   ]
  },
  {
   "cell_type": "code",
   "execution_count": null,
   "metadata": {},
   "outputs": [],
   "source": [
    "from dotenv import load_dotenv\n",
    "load_dotenv()"
   ]
  },
  {
   "cell_type": "markdown",
   "metadata": {},
   "source": [
    "`(2) 기본 라이브러리`"
   ]
  },
  {
   "cell_type": "code",
   "execution_count": null,
   "metadata": {},
   "outputs": [],
   "source": [
    "import os\n",
    "from glob import glob\n",
    "\n",
    "from pprint import pprint\n",
    "import json"
   ]
  },
  {
   "cell_type": "markdown",
   "metadata": {},
   "source": [
    "`(3) Langsmith tracing 설정`"
   ]
  },
  {
   "cell_type": "code",
   "execution_count": null,
   "metadata": {},
   "outputs": [],
   "source": [
    "# Langsmith tracing 여부를 확인 (true: langsmith 추적 활성화, false: langsmith 추적 비활성화)\n",
    "import os\n",
    "print(os.getenv('LANGSMITH_TRACING'))"
   ]
  },
  {
   "cell_type": "markdown",
   "metadata": {},
   "source": [
    "---\n",
    "\n",
    "## **내장 도구 (Built-in Tool)**\n",
    "\n",
    "- **내장 도구**는 시스템에 **기본적으로 포함**된 사전 정의된 도구들의 집합\n",
    "\n",
    "- 파일 처리, 웹 검색, 코드 실행 등 **자주 사용되는 기본 기능**들을 즉시 활용 가능\n",
    "\n",
    "- 별도의 구현 없이 **바로 사용**할 수 있어 개발 시간과 노력을 절약 가능"
   ]
  },
  {
   "cell_type": "markdown",
   "metadata": {},
   "source": [
    "---\n",
    "\n",
    "### **웹 검색(Tavily Search API)**\n",
    "\n",
    "- **Tavily**는 AI 에이전트(LLM)를 위해 특별히 설계된 검색 엔진\n",
    "\n",
    "- 검색 결과로 **제목, URL, 컨텐츠, 답변** 등 상세 정보 제공\n",
    "\n",
    "- 개발자는 **월 1,000회** 무료 검색 쿼터 사용 가능\n",
    "\n",
    "- **설치**: `pip install langchain-tavily` 또는 `uv add langchain-tavily`\n",
    "\n",
    "- **인증키**: `TAVILY_API_KEY`"
   ]
  },
  {
   "cell_type": "markdown",
   "metadata": {},
   "source": [
    "`(1) 도구 정의`"
   ]
  },
  {
   "cell_type": "code",
   "execution_count": null,
   "metadata": {},
   "outputs": [],
   "source": [
    "from langchain_tavily import TavilySearch\n",
    "\n",
    "search_web = TavilySearch(\n",
    "    max_results=5,\n",
    "    topic=\"general\",\n",
    ")"
   ]
  },
  {
   "cell_type": "markdown",
   "metadata": {},
   "source": [
    "`(2) 도구 직접 호출`\n",
    "- 자연어 쿼리를 도구에 전달"
   ]
  },
  {
   "cell_type": "code",
   "execution_count": null,
   "metadata": {},
   "outputs": [],
   "source": [
    "result = search_web.invoke(\"한국 시장에서 거래되는 ETF 종목은 모두 몇 개인가요?\")\n",
    "pprint(result)"
   ]
  },
  {
   "cell_type": "markdown",
   "metadata": {},
   "source": [
    "`(3) ToolCall을 사용한 호출`\n",
    "- 모델에서 생성된 `ToolCall`을 사용하여 도구를 호출"
   ]
  },
  {
   "cell_type": "code",
   "execution_count": null,
   "metadata": {},
   "outputs": [],
   "source": [
    "from langchain_openai import ChatOpenAI\n",
    "\n",
    "# 모델 생성\n",
    "model = ChatOpenAI(model=\"gpt-4.1-mini\")\n",
    "\n",
    "# 모델에 도구 등록 \n",
    "model_with_tools = model.bind_tools([search_web])\n",
    "\n",
    "# 사용자 쿼리를 입력하여 ToolCall 생성\n",
    "response = model_with_tools.invoke(\"한국 시장에서 거래되는 ETF 종목은 모두 몇 개인가요?\")\n",
    "\n",
    "# ToolCall 출력 \n",
    "pprint(response.tool_calls)"
   ]
  },
  {
   "cell_type": "code",
   "execution_count": null,
   "metadata": {},
   "outputs": [],
   "source": [
    "# ToolCall을 사용하여 도구 실행\n",
    "tool_msg = search_web.invoke(response.tool_calls[0])\n",
    "\n",
    "# 도구 실행 결과 출력\n",
    "pprint(tool_msg.content)"
   ]
  },
  {
   "cell_type": "markdown",
   "metadata": {},
   "source": [
    "`(4) Agent와 연계`\n",
    "- Tavily 도구를 언어 모델에 바인딩하고 사용자 입력을 처리하는 Agent 생성"
   ]
  },
  {
   "cell_type": "code",
   "execution_count": null,
   "metadata": {},
   "outputs": [],
   "source": [
    "from langgraph.prebuilt import create_react_agent\n",
    "\n",
    "# Agent 생성\n",
    "agent = create_react_agent(model, [search_web])\n",
    "\n",
    "# Agent에 사용자 입력 전달 및 실행\n",
    "# stream_mode=\"values\"로 설정하여 스트리밍 모드로 실행\n",
    "user_input = \"한국 시장에서 거래되는 ETF 종목은 모두 몇 개인가요?\"\n",
    "\n",
    "for step in agent.stream(\n",
    "    {\"messages\": user_input},\n",
    "    stream_mode=\"values\",\n",
    "):\n",
    "    step[\"messages\"][-1].pretty_print()"
   ]
  },
  {
   "cell_type": "markdown",
   "metadata": {},
   "source": [
    "---\n",
    "\n",
    "##  **사용자 정의 도구 (Custom Tool)**\n",
    "\n",
    "\n",
    "- **사용자 정의 도구**는 개발자가 직접 설계하고 구현하는 **맞춤형 함수나 도구**를 의미\n",
    "\n",
    "- LLM이 호출할 수 있는 **고유한 기능**을 정의하여 특정 작업에 최적화된 도구 생성 가능\n",
    "\n",
    "- 개발자는 도구의 **입력값, 출력값, 기능**을 자유롭게 정의하여 유연한 확장성 확보"
   ]
  },
  {
   "cell_type": "markdown",
   "metadata": {},
   "source": [
    "---\n",
    "\n",
    "### 1. **외부 API 연동** \n",
    "\n",
    "- LangChain에서는 **사용자 정의 도구**를 통해 외부 API와의 연동이 가능\n",
    "\n",
    "- **Tool** 클래스를 상속받아 필요한 기능을 구현하며, `name`과 `description`을 필수로 정의\n",
    "\n",
    "- 도구는 단일 기능을 수행하는 **함수 형태**로 구현되며, 입력과 출력이 명확하게 설정함"
   ]
  },
  {
   "cell_type": "markdown",
   "metadata": {},
   "source": [
    "`(1) Yahoo Finance API` "
   ]
  },
  {
   "cell_type": "code",
   "execution_count": null,
   "metadata": {},
   "outputs": [],
   "source": [
    "#  yfinance 설치 : pip install yfinance 또는 uv add yfinance\n",
    "import yfinance as yf\n",
    "\n",
    "dat = yf.Ticker(\"MSFT\")"
   ]
  },
  {
   "cell_type": "code",
   "execution_count": null,
   "metadata": {},
   "outputs": [],
   "source": [
    "# 기업정보\n",
    "dat.info"
   ]
  },
  {
   "cell_type": "code",
   "execution_count": null,
   "metadata": {},
   "outputs": [],
   "source": [
    "# 주요 일정\n",
    "dat.calendar"
   ]
  },
  {
   "cell_type": "code",
   "execution_count": null,
   "metadata": {},
   "outputs": [],
   "source": [
    "# 2022년 1월 3일 ~ 4일의 데이터를 판다스 데이터프레임으로 출력 \n",
    "result = dat.history(start=\"2022-01-03\", end=\"2022-01-05\") \n",
    "result"
   ]
  },
  {
   "cell_type": "code",
   "execution_count": null,
   "metadata": {},
   "outputs": [],
   "source": [
    "# 인덱스 초기화 \n",
    "result = result.reset_index()\n",
    "result"
   ]
  },
  {
   "cell_type": "code",
   "execution_count": null,
   "metadata": {},
   "outputs": [],
   "source": [
    "# 날짜 부분만 추출\n",
    "result['Date'] = result['Date'].dt.strftime('%Y-%m-%d')\n",
    "\n",
    "result"
   ]
  },
  {
   "cell_type": "code",
   "execution_count": null,
   "metadata": {},
   "outputs": [],
   "source": [
    "# 데이터프레임을 딕셔너리로 변환\n",
    "result_dict = result.to_dict(orient='records') \n",
    "result_dict"
   ]
  },
  {
   "cell_type": "markdown",
   "metadata": {},
   "source": [
    "`(2) 데이터 연동 및 출력 포맷` "
   ]
  },
  {
   "cell_type": "code",
   "execution_count": null,
   "metadata": {},
   "outputs": [],
   "source": [
    "# 외부 API 연동하는 함수 (yfinance 사용)\n",
    "\n",
    "from langchain_core.tools import ToolException\n",
    "from typing import Dict, Optional\n",
    "from datetime import datetime, timedelta\n",
    "import yfinance as yf\n",
    "\n",
    "def get_stock_price(symbol: str, date: Optional[str] = None) -> Dict:\n",
    "    \"\"\"yfiance 사용하여 특정 날짜의 주식의 가격 정보를 조회합니다.\"\"\"\n",
    "\n",
    "    if date and not is_valid_date(date):\n",
    "        raise ToolException(f\"잘못된 날짜 형식입니다: {date}\")\n",
    "    \n",
    "    try:\n",
    "        stock = yf.Ticker(symbol)\n",
    "        # 특정 날짜의 주식 가격 정보 조회 \n",
    "        if date:\n",
    "            start = datetime.strptime(date, \"%Y-%m-%d\")\n",
    "            end = start + timedelta(days=1)\n",
    "            price = stock.history(start=start, end=end)\n",
    "\n",
    "            # 가격 정보가 없으면 해날 날짜로부터 과거 5일간의 주식 가격 정보 조회\n",
    "            if price.empty:\n",
    "                end = start - timedelta(days=5)\n",
    "                price = stock.history(start=end, end=start)\n",
    "\n",
    "        # 특정 날짜가 없으면 최근 5일간의 주식 가격 정보 조회\n",
    "        else:\n",
    "            price = stock.history(period=\"5d\")\n",
    "            \n",
    "        # 데이터프레임을 딕셔너리로 변환하여 반환 (가장 최근 날짜 데이터만 반환)\n",
    "        df = price.reset_index()\n",
    "        df['Date'] = df['Date'].dt.strftime('%Y-%m-%d')\n",
    "        return df.to_dict(orient='records')[-1]\n",
    "    \n",
    "    except Exception as e:\n",
    "        raise ToolException(str(e))\n",
    "    \n",
    "\n",
    "def is_valid_date(date_str: str) -> bool:\n",
    "    try:\n",
    "        datetime.strptime(date_str, '%Y-%m-%d')\n",
    "        return True\n",
    "    except ValueError:\n",
    "        return False\n",
    "    \n",
    "\n",
    "# 함수 실행\n",
    "result = get_stock_price(\"AAPL\")\n",
    "\n",
    "# 결과 출력\n",
    "print(result)"
   ]
  },
  {
   "cell_type": "code",
   "execution_count": null,
   "metadata": {},
   "outputs": [],
   "source": [
    "# 함수 실행 (날짜 지정)\n",
    "result = get_stock_price(\"AAPL\", \"2025-01-03\")\n",
    "print(result)"
   ]
  },
  {
   "cell_type": "markdown",
   "metadata": {},
   "source": [
    "`(3) StructuredTool 도구 변환` "
   ]
  },
  {
   "cell_type": "code",
   "execution_count": null,
   "metadata": {},
   "outputs": [],
   "source": [
    "from langchain_core.tools import StructuredTool\n",
    "\n",
    "# StructuredTool로 도구 생성\n",
    "stock_tool = StructuredTool.from_function(\n",
    "    func=get_stock_price,\n",
    "    name=\"stock_price_basic\",\n",
    "    description=\"yfinance를 사용하여 주식 가격 정보를 조회하는 도구입니다.\",\n",
    ")\n",
    "\n",
    "# 도구 실행 (정상)\n",
    "result = stock_tool.invoke({\"symbol\": \"AAPL\"})\n",
    "print(result)"
   ]
  },
  {
   "cell_type": "markdown",
   "metadata": {},
   "source": [
    "`(4) LLM 사용하여 도구 사용` "
   ]
  },
  {
   "cell_type": "code",
   "execution_count": null,
   "metadata": {},
   "outputs": [],
   "source": [
    "from langgraph.prebuilt import create_react_agent\n",
    "from langchain_openai import ChatOpenAI\n",
    "\n",
    "# OpenAI GPT-4.1-mini 모델 사용\n",
    "llm = ChatOpenAI(model=\"gpt-4.1-mini\", temperature=0)\n",
    "\n",
    "# 도구 실행 에이전트 생성\n",
    "stock_agent = create_react_agent(llm, tools=[search_web, stock_tool])\n",
    "\n",
    "# 도구 실행 에이전트 사용\n",
    "result = stock_agent.invoke(\n",
    "    {\"messages\": [(\"human\", \"애플의 2025년 1월 3일 주식 가격을 알려줘\")]}\n",
    ")\n",
    "\n",
    "pprint(result['messages'])"
   ]
  },
  {
   "cell_type": "code",
   "execution_count": null,
   "metadata": {},
   "outputs": [],
   "source": [
    "# 도구 실행 에인전트 생성 (return_direct=True)\n",
    "\n",
    "stock_tool.return_direct = True\n",
    "search_web.return_direct = True\n",
    "stock_agent = create_react_agent(llm, tools=[search_web, stock_tool])\n",
    "\n",
    "# 도구 실행 에이전트 사용\n",
    "result = stock_agent.invoke(\n",
    "    {\"messages\": [(\"human\", \"애플의 2025년 1월 3일 주식 가격을 알려줘\")]}\n",
    ")\n",
    "\n",
    "pprint(result['messages'])"
   ]
  },
  {
   "cell_type": "code",
   "execution_count": null,
   "metadata": {},
   "outputs": [],
   "source": [
    "# 도구 실행 에이전트 사용\n",
    "result = stock_agent.invoke(\n",
    "    {\"messages\": [(\"human\", \"애플의 최신 뉴스를 알려줘\")]}\n",
    ")\n",
    "\n",
    "pprint(result['messages'])"
   ]
  },
  {
   "cell_type": "markdown",
   "metadata": {},
   "source": [
    "---\n",
    "\n",
    "### 2. **Naver 개발자 API** 를 도구로 사용\n",
    "\n",
    "- 네이버 개발자 API(https://developers.naver.com/)에서 인증 권한 취득 (회원 가입 및 애플리케이션 등록 필요)\n",
    "- 환경변수(.env)를 등록합니다. (**NAVER_CLIENT_ID**, **NAVER_CLIENT_SECRET**)\n",
    "- 아래 정의된 네이버 뉴스 검색 도구(naver_news_search)를 사용하여 다음 과정을 수행합니다. "
   ]
  },
  {
   "cell_type": "code",
   "execution_count": null,
   "metadata": {},
   "outputs": [],
   "source": [
    "# 환경 변수 로드\n",
    "from dotenv import load_dotenv\n",
    "load_dotenv()"
   ]
  },
  {
   "cell_type": "markdown",
   "metadata": {},
   "source": [
    "`(1) 도구 정의`"
   ]
  },
  {
   "cell_type": "code",
   "execution_count": null,
   "metadata": {},
   "outputs": [],
   "source": [
    "import requests, os\n",
    "from langchain_core.tools import tool\n",
    "from typing import Dict\n",
    "\n",
    "@tool\n",
    "def naver_news_search(\n",
    "    query: str,\n",
    "    ) -> Dict[Dict, int]:\n",
    "    \"\"\"네이버 검색 API를 사용하여 뉴스 검색 결과를 조회합니다.\"\"\"\n",
    "\n",
    "    url = \"https://openapi.naver.com/v1/search/news.json\"\n",
    "    headers = {\n",
    "        \"X-Naver-Client-Id\": os.getenv(\"NAVER_CLIENT_ID\"),\n",
    "        \"X-Naver-Client-Secret\": os.getenv(\"NAVER_CLIENT_SECRET\")\n",
    "    }\n",
    "    params = {\"query\": query}\n",
    "\n",
    "    response = requests.get(url, headers=headers, params=params)\n",
    "\n",
    "    return {\n",
    "        \"data\": response.json(),\n",
    "        \"status_code\": int(response.status_code)\n",
    "    }  #type: ignore"
   ]
  },
  {
   "cell_type": "markdown",
   "metadata": {},
   "source": [
    "`(2) 도구 실행`"
   ]
  },
  {
   "cell_type": "code",
   "execution_count": null,
   "metadata": {},
   "outputs": [],
   "source": [
    "from langgraph.prebuilt import create_react_agent\n",
    "from langchain_openai import ChatOpenAI\n",
    "\n",
    "# 도구 목록\n",
    "tools = [stock_tool, naver_news_search]  \n",
    "\n",
    "# OpenAI GPT-4.1-mini 모델 사용\n",
    "llm = ChatOpenAI(model=\"gpt-4.1-mini\", temperature=0)\n",
    "\n",
    "# 도구 실행 에이전트 생성\n",
    "stock_agent = create_react_agent(llm, tools=tools)\n",
    "\n",
    "# 도구 실행 에이전트 사용\n",
    "result = stock_agent.invoke(\n",
    "    {\"messages\": [(\"human\", \"애플의 최근 주가는 어떻게 되나요? 최근 주가 분석에 대한 관련 기사를 찾아주세요.\")]}\n",
    ")\n",
    "\n",
    "for m in result['messages']:\n",
    "    m.pretty_print()"
   ]
  },
  {
   "cell_type": "code",
   "execution_count": null,
   "metadata": {},
   "outputs": [],
   "source": [
    "pprint(result['messages'][-1].content)"
   ]
  },
  {
   "cell_type": "markdown",
   "metadata": {},
   "source": [
    "`(3) 답변 생성`"
   ]
  },
  {
   "cell_type": "code",
   "execution_count": null,
   "metadata": {},
   "outputs": [],
   "source": [
    "from langgraph.prebuilt import create_react_agent\n",
    "from langchain_openai import ChatOpenAI\n",
    "\n",
    "# 도구 목록\n",
    "tools = [stock_tool, naver_news_search]  \n",
    "\n",
    "for tool in tools:\n",
    "    tool.return_direct = False  # 도구 실행 결과를 직접 반환하지 않고, 에이전트가 처리하도록 설정\n",
    "\n",
    "# OpenAI GPT-4.1-mini 모델 사용\n",
    "llm = ChatOpenAI(model=\"gpt-4.1-mini\", temperature=0)\n",
    "\n",
    "# 도구 실행 에이전트 생성\n",
    "stock_agent = create_react_agent(llm, tools=tools)\n",
    "\n",
    "# 도구 실행 에이전트 사용\n",
    "result = stock_agent.invoke(\n",
    "    {\"messages\": [(\"human\", \"애플의 최근 주가는 어떻게 되나요? 최근 주가 분석에 대한 관련 기사를 찾아주세요.\")]}\n",
    ")\n",
    "\n",
    "for m in result['messages']:\n",
    "    m.pretty_print()"
   ]
  }
 ],
 "metadata": {
  "kernelspec": {
   "display_name": "kt-ds",
   "language": "python",
   "name": "python3"
  },
  "language_info": {
   "codemirror_mode": {
    "name": "ipython",
    "version": 3
   },
   "file_extension": ".py",
   "mimetype": "text/x-python",
   "name": "python",
   "nbconvert_exporter": "python",
   "pygments_lexer": "ipython3",
   "version": "3.12.11"
  }
 },
 "nbformat": 4,
 "nbformat_minor": 2
}
