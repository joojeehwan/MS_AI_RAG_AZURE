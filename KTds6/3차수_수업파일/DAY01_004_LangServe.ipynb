{
  "cells": [
    {
      "cell_type": "markdown",
      "id": "2217fa83",
      "metadata": {},
      "source": [
        "# LangServe\n",
        "\n",
        "- LangServe는 LangChain에서 제공하는 **서비스 배포 프레임워크**임.\n",
        "\n",
        "- LangChain 애플리케이션을 **REST API로 변환**하여 서비스화함.\n",
        "\n",
        "- **Runnable 객체**를 API로 배포하고 **스트리밍 응답**을 지원함.\n",
        "\n",
        "- **웹 기반 Playgroud**(API 테스트용)와 **클라이언트 SDK**를 제공함.\n"
      ]
    },
    {
      "cell_type": "markdown",
      "id": "8bfd9328",
      "metadata": {
        "id": "8bfd9328"
      },
      "source": [
        "---\n",
        "\n",
        "## 1. LangServe 설치하기\n",
        "\n",
        "- LangServe 설치(pip 사용):\n",
        "\n",
        "    ```bash\n",
        "    pip install \"langserve[all]\"\n",
        "    ```\n",
        "\n",
        "- LangServe 설치(uv 사용):\n",
        "\n",
        "    ```bash\n",
        "    uv add \"langserve[all]\"   \n",
        "    ```\n",
        "\n",
        "- langchain-cli 설치:\n",
        "\n",
        "    ```bash\n",
        "    uv add langchain-cli\n",
        "    ```"
      ]
    },
    {
      "cell_type": "markdown",
      "id": "34e33edf",
      "metadata": {},
      "source": [
        "`(1) LangServe 설치 확인`"
      ]
    },
    {
      "cell_type": "code",
      "execution_count": 1,
      "id": "e350f2da",
      "metadata": {},
      "outputs": [
        {
          "data": {
            "text/plain": [
              "'0.3.1'"
            ]
          },
          "execution_count": 1,
          "metadata": {},
          "output_type": "execute_result"
        }
      ],
      "source": [
        "import langserve\n",
        "langserve.__version__"
      ]
    },
    {
      "cell_type": "markdown",
      "id": "b630a2c6",
      "metadata": {},
      "source": [
        "`(2) 환경 변수 로드`"
      ]
    },
    {
      "cell_type": "code",
      "execution_count": 2,
      "id": "15ac3ddb",
      "metadata": {
        "id": "15ac3ddb"
      },
      "outputs": [
        {
          "name": "stdout",
          "output_type": "stream",
          "text": [
            "true\n"
          ]
        }
      ],
      "source": [
        "from dotenv import load_dotenv\n",
        "load_dotenv()\n",
        "\n",
        "# Langsmith tracing 여부를 확인 (true: langsmith 추척 활성화, false: langsmith 추척 비활성화)\n",
        "import os\n",
        "print(os.getenv('LANGSMITH_TRACING'))"
      ]
    },
    {
      "cell_type": "markdown",
      "id": "129b8eee",
      "metadata": {
        "id": "129b8eee"
      },
      "source": [
        "---\n",
        "## 2. 간단한 LangServe 서버 만들기  "
      ]
    },
    {
      "cell_type": "markdown",
      "id": "804efb36",
      "metadata": {},
      "source": [
        "`(1) 서버 파일 생성`\n",
        "- app 폴더에 별도 파일을 생성하여 LangServe 서버를 구현함. \n",
        "- server.py라는 이름으로 생성함.\n",
        "\n",
        "    ```python\n",
        "    # app/server.py\n",
        "    from fastapi import FastAPI\n",
        "    from langchain_openai import ChatOpenAI\n",
        "    from dotenv import load_dotenv\n",
        "\n",
        "    # 환경변수 로드\n",
        "    load_dotenv()\n",
        "\n",
        "    from langserve import add_routes\n",
        "\n",
        "    # FastAPI 서버를 설정\n",
        "    app = FastAPI(\n",
        "        title=\"LangChain Server\",\n",
        "        version=\"1.0\",\n",
        "        description=\"Spin up a simple api server using Langchain's Runnable interfaces\",\n",
        "    )\n",
        "\n",
        "    # 라우팅 설정\n",
        "    add_routes(\n",
        "        app,\n",
        "        ChatOpenAI(model=\"gpt-4.1-mini\"),\n",
        "        path=\"/openai\",   # OpenAI 모델에 대한 경로\n",
        "    )\n",
        "\n",
        "    if __name__ == \"__main__\":\n",
        "        import uvicorn\n",
        "\n",
        "        uvicorn.run(app, host=\"localhost\", port=8000)\n",
        "    ```"
      ]
    },
    {
      "cell_type": "markdown",
      "id": "f3e2543b",
      "metadata": {},
      "source": [
        "`(2) 서버 실행하기`\n",
        "\n",
        "\n",
        "```bash\n",
        "uv run python app/server.py\n",
        "```\n",
        "\n",
        "![LangServe Screenshot](https://raw.githubusercontent.com/tsdata/image_files/main/202505/langserve_screenshot_0001.png)"
      ]
    },
    {
      "cell_type": "markdown",
      "id": "4504c27f",
      "metadata": {},
      "source": [
        "`(3) Playground에서 테스트`\n",
        "\n",
        "![LangServe Screenshot](https://raw.githubusercontent.com/tsdata/image_files/main/202505/langserve_screenshot_0002.png)"
      ]
    },
    {
      "cell_type": "markdown",
      "id": "bb122f53",
      "metadata": {},
      "source": [
        "`(4) LangSmith에서 트레이싱하기`\n",
        "\n",
        "![LangServe Screenshot](https://raw.githubusercontent.com/tsdata/image_files/main/202505/langserve_screenshot_0003.png)"
      ]
    },
    {
      "cell_type": "markdown",
      "id": "54a87f5e",
      "metadata": {},
      "source": [
        "---\n",
        "## 3. LangServe 클라이언트 사용  \n",
        "\n",
        "LangServe는 다음과 같은 API 엔드포인트를 자동으로 생성합니다:\n",
        "\n",
        "- `/openai/invoke`: 동기 호출\n",
        "- `/openai/stream`: 스트리밍 호출\n",
        "- `/openai/batch`: 배치 처리\n",
        "- `/openai/playground`: 웹 기반 UI 플레이그라운드"
      ]
    },
    {
      "cell_type": "markdown",
      "id": "ff1ebe03",
      "metadata": {},
      "source": [
        "`(1) API 호출하기`"
      ]
    },
    {
      "cell_type": "code",
      "execution_count": 3,
      "id": "40d18e1b",
      "metadata": {},
      "outputs": [
        {
          "name": "stdout",
          "output_type": "stream",
          "text": [
            "200\n",
            "{'output': {'content': '파이썬(Python)은 배우기 쉽고 강력한 고급 프로그래밍 언어입니다. 1991년 귀도 반 로섬(Guido van Rossum)이 개발하였으며, 명확하고 간결한 문법을 가지고 있어 초보자부터 전문가까지 폭넓게 사용됩니다.\\n\\n파이썬의 주요 특징은 다음과 같습니다:\\n\\n1. **읽기 쉽고 쓰기 쉬운 문법**: 코드가 직관적이고 가독성이 뛰어나서 유지보수와 협업에 유리합니다.\\n2. **다양한 용도**: 웹 개발, 데이터 분석, 인공지능, 과학 계산, 자동화, 게임 개발 등 여러 분야에서 활용됩니다.\\n3. **방대한 표준 라이브러리**: 다양한 기능을 수행하는 모듈과 패키지가 기본 제공되어 개발 생산성을 높여줍니다.\\n4. **인터프리터 언어**: 코드를 한 줄씩 실행하기 때문에 빠른 테스트와 디버깅이 가능합니다.\\n5. **크로스 플랫폼**: 윈도우, 맥, 리눅스 등 여러 운영체제에서 실행할 수 있습니다.\\n6. **오픈 소스**: 누구나 무료로 사용하고 수정할 수 있습니다.\\n\\n예를 들어, 간단한 \"Hello, World!\" 출력 코드는 다음과 같습니다:\\n\\n```python\\nprint(\"Hello, World!\")\\n```\\n\\n파이썬은 그 사용의 용이성과 강력한 기능 덕분에 전 세계적으로 매우 인기 있는 프로그래밍 언어 중 하나입니다.', 'additional_kwargs': {'refusal': None}, 'response_metadata': {'token_usage': {'completion_tokens': 338, 'prompt_tokens': 17, 'total_tokens': 355, 'completion_tokens_details': {'accepted_prediction_tokens': 0, 'audio_tokens': 0, 'reasoning_tokens': 0, 'rejected_prediction_tokens': 0}, 'prompt_tokens_details': {'audio_tokens': 0, 'cached_tokens': 0}}, 'model_name': 'gpt-4.1-mini-2025-04-14', 'system_fingerprint': 'fp_6f2eabb9a5', 'id': 'chatcmpl-Bo1e7sy4Lt5PNd4gSBuEy28HPENB7', 'service_tier': 'default', 'finish_reason': 'stop', 'logprobs': None}, 'type': 'ai', 'name': None, 'id': 'run--ff6f43d3-ff35-4b68-baa8-856bd88e17de-0', 'example': False, 'tool_calls': [], 'invalid_tool_calls': [], 'usage_metadata': {'input_tokens': 17, 'output_tokens': 338, 'total_tokens': 355, 'input_token_details': {'audio': 0, 'cache_read': 0}, 'output_token_details': {'audio': 0, 'reasoning': 0}}}, 'metadata': {'run_id': 'ff6f43d3-ff35-4b68-baa8-856bd88e17de', 'feedback_tokens': []}}\n"
          ]
        }
      ],
      "source": [
        "# - `/openai/invoke`: 동기 호출\n",
        "\n",
        "import requests\n",
        "\n",
        "url = \"http://localhost:8000/openai/invoke\"\n",
        "headers = {\n",
        "    \"Content-Type\": \"application/json\",\n",
        "}\n",
        "\n",
        "data = {\n",
        "    \"input\": \"파이썬이란 무엇인가요?\"\n",
        "}\n",
        "\n",
        "response = requests.post(url, headers=headers, json=data)\n",
        "print(response.status_code)\n",
        "print(response.json())"
      ]
    },
    {
      "cell_type": "markdown",
      "id": "f928d4ef",
      "metadata": {},
      "source": [
        "`(2) Python에서 클라이언트 SDK 사용하기`"
      ]
    },
    {
      "cell_type": "code",
      "execution_count": 4,
      "id": "7fa09280",
      "metadata": {},
      "outputs": [
        {
          "name": "stdout",
          "output_type": "stream",
          "text": [
            "content='파이썬(Python)은 고급 프로그래밍 언어 중 하나로, 1991년 네덜란드의 프로그래머 귀도 반 로섬(Guido van Rossum)이 개발했습니다. 파이썬은 문법이 간결하고 읽기 쉬워 초보자부터 전문가까지 널리 사용되며, 다양한 분야에서 활용되고 있습니다.\\n\\n주요 특징은 다음과 같습니다:\\n\\n1. **쉬운 문법**: 들여쓰기를 통해 코드 블록을 구분하므로 가독성이 뛰어납니다.\\n2. **인터프리터 언어**: 한 줄씩 코드를 실행하기 때문에 개발과 디버깅이 용이합니다.\\n3. **풍부한 라이브러리**: 데이터 분석, 인공지능, 웹 개발 등 다양한 분야에 활용할 수 있는 방대한 표준 및 외부 라이브러리를 제공합니다.\\n4. **다양한 용도**: 웹 개발, 데이터 과학, 인공지능, 자동화, 스크립트 작성 등 여러 분야에서 사용됩니다.\\n5. **크로스 플랫폼**: Windows, macOS, Linux 등 다양한 운영체제에서 실행 가능합니다.\\n\\n예를 들어, 파이썬으로 간단한 인사말을 출력하는 코드는 다음과 같습니다:\\n\\n```python\\nprint(\"안녕하세요, 파이썬!\")\\n```\\n\\n이처럼 파이썬은 배우기 쉽고 강력한 기능을 갖춰 많은 프로그래머들이 선호하는 언어입니다.' additional_kwargs={'refusal': None} response_metadata={'token_usage': {'completion_tokens': 321, 'prompt_tokens': 17, 'total_tokens': 338, 'completion_tokens_details': {'accepted_prediction_tokens': 0, 'audio_tokens': 0, 'reasoning_tokens': 0, 'rejected_prediction_tokens': 0}, 'prompt_tokens_details': {'audio_tokens': 0, 'cached_tokens': 0}}, 'model_name': 'gpt-4.1-mini-2025-04-14', 'system_fingerprint': 'fp_6f2eabb9a5', 'id': 'chatcmpl-Bo1epBgDUousqM11rpcdyOCtTHHsS', 'service_tier': 'default', 'finish_reason': 'stop', 'logprobs': None} id='run--66ab1f4d-3f1f-4a1a-a89d-eaccd9f89463-0' usage_metadata={'input_tokens': 17, 'output_tokens': 321, 'total_tokens': 338, 'input_token_details': {'audio': 0, 'cache_read': 0}, 'output_token_details': {'audio': 0, 'reasoning': 0}}\n"
          ]
        }
      ],
      "source": [
        "from langserve.client import RemoteRunnable\n",
        "\n",
        "# 원격 실행 가능 객체를 생성\n",
        "chain = RemoteRunnable(\"http://localhost:8000/openai\")\n",
        "\n",
        "# API 호출\n",
        "response = chain.invoke(\"파이썬이란 무엇인가요?\")\n",
        "print(response)"
      ]
    },
    {
      "cell_type": "code",
      "execution_count": 5,
      "id": "66fa182f",
      "metadata": {},
      "outputs": [
        {
          "data": {
            "text/plain": [
              "AIMessage(content='파이썬(Python)은 고급 프로그래밍 언어 중 하나로, 1991년 네덜란드의 프로그래머 귀도 반 로섬(Guido van Rossum)이 개발했습니다. 파이썬은 문법이 간결하고 읽기 쉬워 초보자부터 전문가까지 널리 사용되며, 다양한 분야에서 활용되고 있습니다.\\n\\n주요 특징은 다음과 같습니다:\\n\\n1. **쉬운 문법**: 들여쓰기를 통해 코드 블록을 구분하므로 가독성이 뛰어납니다.\\n2. **인터프리터 언어**: 한 줄씩 코드를 실행하기 때문에 개발과 디버깅이 용이합니다.\\n3. **풍부한 라이브러리**: 데이터 분석, 인공지능, 웹 개발 등 다양한 분야에 활용할 수 있는 방대한 표준 및 외부 라이브러리를 제공합니다.\\n4. **다양한 용도**: 웹 개발, 데이터 과학, 인공지능, 자동화, 스크립트 작성 등 여러 분야에서 사용됩니다.\\n5. **크로스 플랫폼**: Windows, macOS, Linux 등 다양한 운영체제에서 실행 가능합니다.\\n\\n예를 들어, 파이썬으로 간단한 인사말을 출력하는 코드는 다음과 같습니다:\\n\\n```python\\nprint(\"안녕하세요, 파이썬!\")\\n```\\n\\n이처럼 파이썬은 배우기 쉽고 강력한 기능을 갖춰 많은 프로그래머들이 선호하는 언어입니다.', additional_kwargs={'refusal': None}, response_metadata={'token_usage': {'completion_tokens': 321, 'prompt_tokens': 17, 'total_tokens': 338, 'completion_tokens_details': {'accepted_prediction_tokens': 0, 'audio_tokens': 0, 'reasoning_tokens': 0, 'rejected_prediction_tokens': 0}, 'prompt_tokens_details': {'audio_tokens': 0, 'cached_tokens': 0}}, 'model_name': 'gpt-4.1-mini-2025-04-14', 'system_fingerprint': 'fp_6f2eabb9a5', 'id': 'chatcmpl-Bo1epBgDUousqM11rpcdyOCtTHHsS', 'service_tier': 'default', 'finish_reason': 'stop', 'logprobs': None}, id='run--66ab1f4d-3f1f-4a1a-a89d-eaccd9f89463-0', usage_metadata={'input_tokens': 17, 'output_tokens': 321, 'total_tokens': 338, 'input_token_details': {'audio': 0, 'cache_read': 0}, 'output_token_details': {'audio': 0, 'reasoning': 0}})"
            ]
          },
          "execution_count": 5,
          "metadata": {},
          "output_type": "execute_result"
        }
      ],
      "source": [
        "response"
      ]
    },
    {
      "cell_type": "code",
      "execution_count": null,
      "id": "7d986891",
      "metadata": {},
      "outputs": [],
      "source": []
    }
  ],
  "metadata": {
    "colab": {
      "provenance": []
    },
    "kernelspec": {
      "display_name": "ktds-llm",
      "language": "python",
      "name": "python3"
    },
    "language_info": {
      "codemirror_mode": {
        "name": "ipython",
        "version": 3
      },
      "file_extension": ".py",
      "mimetype": "text/x-python",
      "name": "python",
      "nbconvert_exporter": "python",
      "pygments_lexer": "ipython3",
      "version": "3.12.10"
    }
  },
  "nbformat": 4,
  "nbformat_minor": 5
}
